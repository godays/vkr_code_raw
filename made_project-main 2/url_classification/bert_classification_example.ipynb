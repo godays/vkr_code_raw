{
  "nbformat": 4,
  "nbformat_minor": 0,
  "metadata": {
    "colab": {
      "provenance": []
    },
    "kernelspec": {
      "name": "python3",
      "display_name": "Python 3"
    },
    "language_info": {
      "name": "python"
    },
    "accelerator": "GPU"
  },
  "cells": [
    {
      "cell_type": "markdown",
      "metadata": {
        "id": "JasJclP8E3qG"
      },
      "source": [
        "Installing Packages"
      ]
    },
    {
      "cell_type": "code",
      "metadata": {
        "colab": {
          "base_uri": "https://localhost:8080/",
          "height": 1000
        },
        "id": "ASlmsIsJE4L2",
        "outputId": "8f68d8d5-006b-4252-bf64-cbce33bc328d"
      },
      "source": [
        "!pip install -r /content/requirements.txt"
      ],
      "execution_count": null,
      "outputs": [
        {
          "output_type": "stream",
          "name": "stdout",
          "text": [
            "Looking in indexes: https://pypi.org/simple, https://us-python.pkg.dev/colab-wheels/public/simple/\n",
            "Collecting torch==1.8.1\n",
            "  Downloading torch-1.8.1-cp38-cp38-manylinux1_x86_64.whl (804.1 MB)\n",
            "\u001b[K     |████████████████████████████████| 804.1 MB 6.5 kB/s \n",
            "\u001b[?25hCollecting sentencepiece==0.1.95\n",
            "  Downloading sentencepiece-0.1.95-cp38-cp38-manylinux2014_x86_64.whl (1.2 MB)\n",
            "\u001b[K     |████████████████████████████████| 1.2 MB 74.1 MB/s \n",
            "\u001b[?25hCollecting transformers==4.5.1\n",
            "  Downloading transformers-4.5.1-py3-none-any.whl (2.1 MB)\n",
            "\u001b[K     |████████████████████████████████| 2.1 MB 63.2 MB/s \n",
            "\u001b[?25hCollecting pandas==1.1.5\n",
            "  Downloading pandas-1.1.5-cp38-cp38-manylinux1_x86_64.whl (9.3 MB)\n",
            "\u001b[K     |████████████████████████████████| 9.3 MB 61.1 MB/s \n",
            "\u001b[?25hCollecting numpy==1.19.5\n",
            "  Downloading numpy-1.19.5-cp38-cp38-manylinux2010_x86_64.whl (14.9 MB)\n",
            "\u001b[K     |████████████████████████████████| 14.9 MB 72.7 MB/s \n",
            "\u001b[?25hCollecting scikit-learn==0.22.2\n",
            "  Downloading scikit_learn-0.22.2-cp38-cp38-manylinux1_x86_64.whl (7.0 MB)\n",
            "\u001b[K     |████████████████████████████████| 7.0 MB 70.4 MB/s \n",
            "\u001b[?25hRequirement already satisfied: typing-extensions in /usr/local/lib/python3.8/dist-packages (from torch==1.8.1->-r /content/requirements.txt (line 1)) (4.4.0)\n",
            "Requirement already satisfied: requests in /usr/local/lib/python3.8/dist-packages (from transformers==4.5.1->-r /content/requirements.txt (line 3)) (2.23.0)\n",
            "Requirement already satisfied: regex!=2019.12.17 in /usr/local/lib/python3.8/dist-packages (from transformers==4.5.1->-r /content/requirements.txt (line 3)) (2022.6.2)\n",
            "Requirement already satisfied: tqdm>=4.27 in /usr/local/lib/python3.8/dist-packages (from transformers==4.5.1->-r /content/requirements.txt (line 3)) (4.64.1)\n",
            "Requirement already satisfied: filelock in /usr/local/lib/python3.8/dist-packages (from transformers==4.5.1->-r /content/requirements.txt (line 3)) (3.8.2)\n",
            "Requirement already satisfied: packaging in /usr/local/lib/python3.8/dist-packages (from transformers==4.5.1->-r /content/requirements.txt (line 3)) (21.3)\n",
            "Collecting sacremoses\n",
            "  Downloading sacremoses-0.0.53.tar.gz (880 kB)\n",
            "\u001b[K     |████████████████████████████████| 880 kB 36.0 MB/s \n",
            "\u001b[?25hCollecting tokenizers<0.11,>=0.10.1\n",
            "  Downloading tokenizers-0.10.3-cp38-cp38-manylinux_2_5_x86_64.manylinux1_x86_64.manylinux_2_12_x86_64.manylinux2010_x86_64.whl (3.3 MB)\n",
            "\u001b[K     |████████████████████████████████| 3.3 MB 55.7 MB/s \n",
            "\u001b[?25hRequirement already satisfied: python-dateutil>=2.7.3 in /usr/local/lib/python3.8/dist-packages (from pandas==1.1.5->-r /content/requirements.txt (line 4)) (2.8.2)\n",
            "Requirement already satisfied: pytz>=2017.2 in /usr/local/lib/python3.8/dist-packages (from pandas==1.1.5->-r /content/requirements.txt (line 4)) (2022.6)\n",
            "Requirement already satisfied: joblib>=0.11 in /usr/local/lib/python3.8/dist-packages (from scikit-learn==0.22.2->-r /content/requirements.txt (line 6)) (1.2.0)\n",
            "Requirement already satisfied: scipy>=0.17.0 in /usr/local/lib/python3.8/dist-packages (from scikit-learn==0.22.2->-r /content/requirements.txt (line 6)) (1.7.3)\n",
            "Requirement already satisfied: six>=1.5 in /usr/local/lib/python3.8/dist-packages (from python-dateutil>=2.7.3->pandas==1.1.5->-r /content/requirements.txt (line 4)) (1.15.0)\n",
            "Requirement already satisfied: pyparsing!=3.0.5,>=2.0.2 in /usr/local/lib/python3.8/dist-packages (from packaging->transformers==4.5.1->-r /content/requirements.txt (line 3)) (3.0.9)\n",
            "Requirement already satisfied: certifi>=2017.4.17 in /usr/local/lib/python3.8/dist-packages (from requests->transformers==4.5.1->-r /content/requirements.txt (line 3)) (2022.12.7)\n",
            "Requirement already satisfied: idna<3,>=2.5 in /usr/local/lib/python3.8/dist-packages (from requests->transformers==4.5.1->-r /content/requirements.txt (line 3)) (2.10)\n",
            "Requirement already satisfied: urllib3!=1.25.0,!=1.25.1,<1.26,>=1.21.1 in /usr/local/lib/python3.8/dist-packages (from requests->transformers==4.5.1->-r /content/requirements.txt (line 3)) (1.24.3)\n",
            "Requirement already satisfied: chardet<4,>=3.0.2 in /usr/local/lib/python3.8/dist-packages (from requests->transformers==4.5.1->-r /content/requirements.txt (line 3)) (3.0.4)\n",
            "Requirement already satisfied: click in /usr/local/lib/python3.8/dist-packages (from sacremoses->transformers==4.5.1->-r /content/requirements.txt (line 3)) (7.1.2)\n",
            "Building wheels for collected packages: sacremoses\n",
            "  Building wheel for sacremoses (setup.py) ... \u001b[?25l\u001b[?25hdone\n",
            "  Created wheel for sacremoses: filename=sacremoses-0.0.53-py3-none-any.whl size=895260 sha256=7e23d632d25cb30c882b4a9c7f81e4909040dd69794e3b60d1b8a941231032f2\n",
            "  Stored in directory: /root/.cache/pip/wheels/82/ab/9b/c15899bf659ba74f623ac776e861cf2eb8608c1825ddec66a4\n",
            "Successfully built sacremoses\n",
            "Installing collected packages: numpy, tokenizers, sacremoses, transformers, torch, sentencepiece, scikit-learn, pandas\n",
            "  Attempting uninstall: numpy\n",
            "    Found existing installation: numpy 1.21.6\n",
            "    Uninstalling numpy-1.21.6:\n",
            "      Successfully uninstalled numpy-1.21.6\n",
            "  Attempting uninstall: torch\n",
            "    Found existing installation: torch 1.13.0+cu116\n",
            "    Uninstalling torch-1.13.0+cu116:\n",
            "      Successfully uninstalled torch-1.13.0+cu116\n",
            "  Attempting uninstall: scikit-learn\n",
            "    Found existing installation: scikit-learn 1.0.2\n",
            "    Uninstalling scikit-learn-1.0.2:\n",
            "      Successfully uninstalled scikit-learn-1.0.2\n",
            "  Attempting uninstall: pandas\n",
            "    Found existing installation: pandas 1.3.5\n",
            "    Uninstalling pandas-1.3.5:\n",
            "      Successfully uninstalled pandas-1.3.5\n",
            "\u001b[31mERROR: pip's dependency resolver does not currently take into account all the packages that are installed. This behaviour is the source of the following dependency conflicts.\n",
            "yellowbrick 1.5 requires scikit-learn>=1.0.0, but you have scikit-learn 0.22.2 which is incompatible.\n",
            "xarray 2022.12.0 requires numpy>=1.20, but you have numpy 1.19.5 which is incompatible.\n",
            "xarray 2022.12.0 requires pandas>=1.3, but you have pandas 1.1.5 which is incompatible.\n",
            "xarray-einstats 0.4.0 requires numpy>=1.20, but you have numpy 1.19.5 which is incompatible.\n",
            "torchvision 0.14.0+cu116 requires torch==1.13.0, but you have torch 1.8.1 which is incompatible.\n",
            "torchtext 0.14.0 requires torch==1.13.0, but you have torch 1.8.1 which is incompatible.\n",
            "torchaudio 0.13.0+cu116 requires torch==1.13.0, but you have torch 1.8.1 which is incompatible.\n",
            "tensorflow 2.9.2 requires numpy>=1.20, but you have numpy 1.19.5 which is incompatible.\n",
            "jaxlib 0.3.25+cuda11.cudnn805 requires numpy>=1.20, but you have numpy 1.19.5 which is incompatible.\n",
            "jax 0.3.25 requires numpy>=1.20, but you have numpy 1.19.5 which is incompatible.\n",
            "imbalanced-learn 0.8.1 requires scikit-learn>=0.24, but you have scikit-learn 0.22.2 which is incompatible.\n",
            "cupy-cuda11x 11.0.0 requires numpy<1.26,>=1.20, but you have numpy 1.19.5 which is incompatible.\n",
            "cmdstanpy 1.0.8 requires numpy>=1.21, but you have numpy 1.19.5 which is incompatible.\u001b[0m\n",
            "Successfully installed numpy-1.19.5 pandas-1.1.5 sacremoses-0.0.53 scikit-learn-0.22.2 sentencepiece-0.1.95 tokenizers-0.10.3 torch-1.8.1 transformers-4.5.1\n"
          ]
        },
        {
          "output_type": "display_data",
          "data": {
            "application/vnd.colab-display-data+json": {
              "pip_warning": {
                "packages": [
                  "numpy"
                ]
              }
            }
          },
          "metadata": {}
        }
      ]
    },
    {
      "cell_type": "code",
      "metadata": {
        "id": "-tsq1G0m7sdr"
      },
      "source": [
        "import pandas as pd"
      ],
      "execution_count": null,
      "outputs": []
    },
    {
      "cell_type": "code",
      "source": [
        "df = pd.read_json('pages.json', lines=True)[['url_text', 'target']]"
      ],
      "metadata": {
        "id": "Cd8IJUJckzvn"
      },
      "execution_count": null,
      "outputs": []
    },
    {
      "cell_type": "code",
      "source": [
        "from sklearn import preprocessing\n",
        "le = preprocessing.LabelEncoder()"
      ],
      "metadata": {
        "id": "KspTHnaiom-A"
      },
      "execution_count": null,
      "outputs": []
    },
    {
      "cell_type": "code",
      "source": [
        "le.fit(df.target)"
      ],
      "metadata": {
        "id": "p2srPjkWoq3H",
        "outputId": "64cb013d-6301-4c18-ce99-db0620fe97de",
        "colab": {
          "base_uri": "https://localhost:8080/"
        }
      },
      "execution_count": null,
      "outputs": [
        {
          "output_type": "execute_result",
          "data": {
            "text/plain": [
              "LabelEncoder()"
            ]
          },
          "metadata": {},
          "execution_count": 25
        }
      ]
    },
    {
      "cell_type": "code",
      "source": [
        "le.classes_"
      ],
      "metadata": {
        "id": "l_gqkWHm3wRI",
        "outputId": "d6c4cf2c-4f72-47aa-f493-863ee357aca9",
        "colab": {
          "base_uri": "https://localhost:8080/"
        }
      },
      "execution_count": null,
      "outputs": [
        {
          "output_type": "execute_result",
          "data": {
            "text/plain": [
              "array(['банкротство', 'казино', 'кредитная карта', 'мотоцикл'],\n",
              "      dtype=object)"
            ]
          },
          "metadata": {},
          "execution_count": 56
        }
      ]
    },
    {
      "cell_type": "code",
      "source": [
        "df.target = le.transform(df.target)"
      ],
      "metadata": {
        "id": "JJi80G7CovIc"
      },
      "execution_count": null,
      "outputs": []
    },
    {
      "cell_type": "code",
      "source": [
        "df.head()"
      ],
      "metadata": {
        "id": "f1kpEqshq3ct",
        "outputId": "09d3b1ac-71fd-46a9-a6b9-48fb296e410f",
        "colab": {
          "base_uri": "https://localhost:8080/",
          "height": 206
        }
      },
      "execution_count": null,
      "outputs": [
        {
          "output_type": "execute_result",
          "data": {
            "text/plain": [
              "                                            url_text  target\n",
              "0  Купить мотоциклы - более 27 281 мотоцикла на А...       3\n",
              "1       Купить новый мотоцикл в мотосалоне Байк Ленд       3\n",
              "2  Мотоцикл купить в Москве, цены, продажа, интер...       3\n",
              "3  Купить мотоцикл! Цены. Фото - Продажа мото - Дром       3\n",
              "4  Купить мотоциклы и мототехнику 🏍 во всех регио...       3"
            ],
            "text/html": [
              "\n",
              "  <div id=\"df-1946d398-7813-409c-8d3b-8d24e6a434a9\">\n",
              "    <div class=\"colab-df-container\">\n",
              "      <div>\n",
              "<style scoped>\n",
              "    .dataframe tbody tr th:only-of-type {\n",
              "        vertical-align: middle;\n",
              "    }\n",
              "\n",
              "    .dataframe tbody tr th {\n",
              "        vertical-align: top;\n",
              "    }\n",
              "\n",
              "    .dataframe thead th {\n",
              "        text-align: right;\n",
              "    }\n",
              "</style>\n",
              "<table border=\"1\" class=\"dataframe\">\n",
              "  <thead>\n",
              "    <tr style=\"text-align: right;\">\n",
              "      <th></th>\n",
              "      <th>url_text</th>\n",
              "      <th>target</th>\n",
              "    </tr>\n",
              "  </thead>\n",
              "  <tbody>\n",
              "    <tr>\n",
              "      <th>0</th>\n",
              "      <td>Купить мотоциклы - более 27 281 мотоцикла на А...</td>\n",
              "      <td>3</td>\n",
              "    </tr>\n",
              "    <tr>\n",
              "      <th>1</th>\n",
              "      <td>Купить новый мотоцикл в мотосалоне Байк Ленд</td>\n",
              "      <td>3</td>\n",
              "    </tr>\n",
              "    <tr>\n",
              "      <th>2</th>\n",
              "      <td>Мотоцикл купить в Москве, цены, продажа, интер...</td>\n",
              "      <td>3</td>\n",
              "    </tr>\n",
              "    <tr>\n",
              "      <th>3</th>\n",
              "      <td>Купить мотоцикл! Цены. Фото - Продажа мото - Дром</td>\n",
              "      <td>3</td>\n",
              "    </tr>\n",
              "    <tr>\n",
              "      <th>4</th>\n",
              "      <td>Купить мотоциклы и мототехнику 🏍 во всех регио...</td>\n",
              "      <td>3</td>\n",
              "    </tr>\n",
              "  </tbody>\n",
              "</table>\n",
              "</div>\n",
              "      <button class=\"colab-df-convert\" onclick=\"convertToInteractive('df-1946d398-7813-409c-8d3b-8d24e6a434a9')\"\n",
              "              title=\"Convert this dataframe to an interactive table.\"\n",
              "              style=\"display:none;\">\n",
              "        \n",
              "  <svg xmlns=\"http://www.w3.org/2000/svg\" height=\"24px\"viewBox=\"0 0 24 24\"\n",
              "       width=\"24px\">\n",
              "    <path d=\"M0 0h24v24H0V0z\" fill=\"none\"/>\n",
              "    <path d=\"M18.56 5.44l.94 2.06.94-2.06 2.06-.94-2.06-.94-.94-2.06-.94 2.06-2.06.94zm-11 1L8.5 8.5l.94-2.06 2.06-.94-2.06-.94L8.5 2.5l-.94 2.06-2.06.94zm10 10l.94 2.06.94-2.06 2.06-.94-2.06-.94-.94-2.06-.94 2.06-2.06.94z\"/><path d=\"M17.41 7.96l-1.37-1.37c-.4-.4-.92-.59-1.43-.59-.52 0-1.04.2-1.43.59L10.3 9.45l-7.72 7.72c-.78.78-.78 2.05 0 2.83L4 21.41c.39.39.9.59 1.41.59.51 0 1.02-.2 1.41-.59l7.78-7.78 2.81-2.81c.8-.78.8-2.07 0-2.86zM5.41 20L4 18.59l7.72-7.72 1.47 1.35L5.41 20z\"/>\n",
              "  </svg>\n",
              "      </button>\n",
              "      \n",
              "  <style>\n",
              "    .colab-df-container {\n",
              "      display:flex;\n",
              "      flex-wrap:wrap;\n",
              "      gap: 12px;\n",
              "    }\n",
              "\n",
              "    .colab-df-convert {\n",
              "      background-color: #E8F0FE;\n",
              "      border: none;\n",
              "      border-radius: 50%;\n",
              "      cursor: pointer;\n",
              "      display: none;\n",
              "      fill: #1967D2;\n",
              "      height: 32px;\n",
              "      padding: 0 0 0 0;\n",
              "      width: 32px;\n",
              "    }\n",
              "\n",
              "    .colab-df-convert:hover {\n",
              "      background-color: #E2EBFA;\n",
              "      box-shadow: 0px 1px 2px rgba(60, 64, 67, 0.3), 0px 1px 3px 1px rgba(60, 64, 67, 0.15);\n",
              "      fill: #174EA6;\n",
              "    }\n",
              "\n",
              "    [theme=dark] .colab-df-convert {\n",
              "      background-color: #3B4455;\n",
              "      fill: #D2E3FC;\n",
              "    }\n",
              "\n",
              "    [theme=dark] .colab-df-convert:hover {\n",
              "      background-color: #434B5C;\n",
              "      box-shadow: 0px 1px 3px 1px rgba(0, 0, 0, 0.15);\n",
              "      filter: drop-shadow(0px 1px 2px rgba(0, 0, 0, 0.3));\n",
              "      fill: #FFFFFF;\n",
              "    }\n",
              "  </style>\n",
              "\n",
              "      <script>\n",
              "        const buttonEl =\n",
              "          document.querySelector('#df-1946d398-7813-409c-8d3b-8d24e6a434a9 button.colab-df-convert');\n",
              "        buttonEl.style.display =\n",
              "          google.colab.kernel.accessAllowed ? 'block' : 'none';\n",
              "\n",
              "        async function convertToInteractive(key) {\n",
              "          const element = document.querySelector('#df-1946d398-7813-409c-8d3b-8d24e6a434a9');\n",
              "          const dataTable =\n",
              "            await google.colab.kernel.invokeFunction('convertToInteractive',\n",
              "                                                     [key], {});\n",
              "          if (!dataTable) return;\n",
              "\n",
              "          const docLinkHtml = 'Like what you see? Visit the ' +\n",
              "            '<a target=\"_blank\" href=https://colab.research.google.com/notebooks/data_table.ipynb>data table notebook</a>'\n",
              "            + ' to learn more about interactive tables.';\n",
              "          element.innerHTML = '';\n",
              "          dataTable['output_type'] = 'display_data';\n",
              "          await google.colab.output.renderOutput(dataTable, element);\n",
              "          const docLink = document.createElement('div');\n",
              "          docLink.innerHTML = docLinkHtml;\n",
              "          element.appendChild(docLink);\n",
              "        }\n",
              "      </script>\n",
              "    </div>\n",
              "  </div>\n",
              "  "
            ]
          },
          "metadata": {},
          "execution_count": 30
        }
      ]
    },
    {
      "cell_type": "code",
      "source": [
        "from sklearn.model_selection import train_test_split"
      ],
      "metadata": {
        "id": "6tt1SaG3m98n"
      },
      "execution_count": null,
      "outputs": []
    },
    {
      "cell_type": "code",
      "metadata": {
        "id": "GDgGKZmU7t3N"
      },
      "source": [
        "train_data, test_data = train_test_split(df, test_size=0.2, random_state=1)\n",
        "train_data, valid_data = train_test_split(train_data, test_size=0.25, random_state=1)"
      ],
      "execution_count": null,
      "outputs": []
    },
    {
      "cell_type": "code",
      "metadata": {
        "id": "jSiGixRy-h2c"
      },
      "source": [
        "from bert_dataset import CustomDataset\n",
        "from bert_classifier import BertClassifier"
      ],
      "execution_count": null,
      "outputs": []
    },
    {
      "cell_type": "markdown",
      "metadata": {
        "id": "xJtu_4PKFAxU"
      },
      "source": [
        "Initialize BERT classifier"
      ]
    },
    {
      "cell_type": "code",
      "metadata": {
        "colab": {
          "base_uri": "https://localhost:8080/"
        },
        "id": "kFHabt8p_IY7",
        "outputId": "8a40613b-ff3f-4873-c378-3719229c6366"
      },
      "source": [
        "classifier = BertClassifier(\n",
        "        model_path='cointegrated/rubert-tiny',\n",
        "        tokenizer_path='cointegrated/rubert-tiny',\n",
        "        n_classes=4,\n",
        "        epochs=20,\n",
        "        model_save_path='/content/bert.pt'\n",
        ")"
      ],
      "execution_count": null,
      "outputs": [
        {
          "output_type": "stream",
          "name": "stderr",
          "text": [
            "Some weights of the model checkpoint at cointegrated/rubert-tiny were not used when initializing BertForSequenceClassification: ['cls.predictions.bias', 'cls.predictions.transform.dense.weight', 'cls.predictions.transform.dense.bias', 'cls.predictions.transform.LayerNorm.weight', 'cls.predictions.transform.LayerNorm.bias', 'cls.predictions.decoder.weight', 'cls.predictions.decoder.bias', 'cls.seq_relationship.weight', 'cls.seq_relationship.bias']\n",
            "- This IS expected if you are initializing BertForSequenceClassification from the checkpoint of a model trained on another task or with another architecture (e.g. initializing a BertForSequenceClassification model from a BertForPreTraining model).\n",
            "- This IS NOT expected if you are initializing BertForSequenceClassification from the checkpoint of a model that you expect to be exactly identical (initializing a BertForSequenceClassification model from a BertForSequenceClassification model).\n",
            "Some weights of BertForSequenceClassification were not initialized from the model checkpoint at cointegrated/rubert-tiny and are newly initialized: ['classifier.weight', 'classifier.bias']\n",
            "You should probably TRAIN this model on a down-stream task to be able to use it for predictions and inference.\n"
          ]
        }
      ]
    },
    {
      "cell_type": "markdown",
      "metadata": {
        "id": "5dc-F_9vFGb1"
      },
      "source": [
        "Prepare data and helpers for train and evlauation"
      ]
    },
    {
      "cell_type": "code",
      "metadata": {
        "id": "KoB7lDv_8AWe"
      },
      "source": [
        "classifier.preparation(\n",
        "        X_train=list(train_data['url_text']),\n",
        "        y_train=list(train_data['target']),\n",
        "        X_valid=list(valid_data['url_text']),\n",
        "        y_valid=list(valid_data['target'])\n",
        "    )"
      ],
      "execution_count": null,
      "outputs": []
    },
    {
      "cell_type": "markdown",
      "metadata": {
        "id": "eUVTfpC5FPsr"
      },
      "source": [
        "Train loop"
      ]
    },
    {
      "cell_type": "code",
      "metadata": {
        "colab": {
          "base_uri": "https://localhost:8080/"
        },
        "id": "Pj_RQTCB9dNJ",
        "outputId": "9a8ca201-a411-4f56-e951-119b6549aadf"
      },
      "source": [
        "classifier.train()"
      ],
      "execution_count": null,
      "outputs": [
        {
          "output_type": "stream",
          "name": "stdout",
          "text": [
            "Epoch 1/20\n",
            "Train loss 0.23683309599326302 accuracy 0.9282273603082851\n",
            "Val loss 0.1372846952142658 accuracy 0.9581529581529582\n",
            "----------\n",
            "Epoch 2/20\n",
            "Train loss 0.0925601670193665 accuracy 0.9725433526011561\n",
            "Val loss 0.11814359792656472 accuracy 0.9682539682539683\n",
            "----------\n",
            "Epoch 3/20\n",
            "Train loss 0.04894840717800738 accuracy 0.98747591522158\n",
            "Val loss 0.09918023512214093 accuracy 0.9783549783549783\n",
            "----------\n",
            "Epoch 4/20\n",
            "Train loss 0.023172833589180968 accuracy 0.9947013487475915\n",
            "Val loss 0.06630253513227971 accuracy 0.9855699855699855\n",
            "----------\n",
            "Epoch 5/20\n",
            "Train loss 0.011744325073376574 accuracy 0.9980732177263969\n",
            "Val loss 0.07026107926786826 accuracy 0.9826839826839827\n",
            "----------\n",
            "Epoch 6/20\n",
            "Train loss 0.004707548786110467 accuracy 0.9985549132947977\n",
            "Val loss 0.08031102789892437 accuracy 0.9826839826839827\n",
            "----------\n",
            "Epoch 7/20\n",
            "Train loss 0.0015400803524370284 accuracy 0.9990366088631984\n",
            "Val loss 0.08052988679561895 accuracy 0.9841269841269841\n",
            "----------\n",
            "Epoch 8/20\n",
            "Train loss 0.0009172562526775178 accuracy 0.9995183044315992\n",
            "Val loss 0.08358843616729547 accuracy 0.9826839826839827\n",
            "----------\n",
            "Epoch 9/20\n",
            "Train loss 7.740297042943047e-05 accuracy 1.0\n",
            "Val loss 0.0921697593817214 accuracy 0.9841269841269841\n",
            "----------\n",
            "Epoch 10/20\n",
            "Train loss 0.0008687116928433909 accuracy 0.9995183044315992\n",
            "Val loss 0.09773084203871078 accuracy 0.9826839826839827\n",
            "----------\n",
            "Epoch 11/20\n",
            "Train loss 1.5410734282018415e-05 accuracy 1.0\n",
            "Val loss 0.10402400716739381 accuracy 0.9812409812409812\n",
            "----------\n",
            "Epoch 12/20\n",
            "Train loss 0.0025388208307122956 accuracy 0.9995183044315992\n",
            "Val loss 0.1290152224366521 accuracy 0.9797979797979798\n",
            "----------\n",
            "Epoch 13/20\n",
            "Train loss 3.2746384283063623e-05 accuracy 1.0\n",
            "Val loss 0.09674759681738657 accuracy 0.9812409812409812\n",
            "----------\n",
            "Epoch 14/20\n",
            "Train loss 0.00018956409006768668 accuracy 1.0\n",
            "Val loss 0.10983205588034106 accuracy 0.9826839826839827\n",
            "----------\n",
            "Epoch 15/20\n",
            "Train loss 5.992992866817714e-06 accuracy 1.0\n",
            "Val loss 0.103695318961741 accuracy 0.9812409812409812\n",
            "----------\n",
            "Epoch 16/20\n",
            "Train loss 5.681051686919939e-06 accuracy 1.0\n",
            "Val loss 0.11620304559806212 accuracy 0.9812409812409812\n",
            "----------\n",
            "Epoch 17/20\n",
            "Train loss 8.518458381280765e-06 accuracy 1.0\n",
            "Val loss 0.10276765917113072 accuracy 0.9797979797979798\n",
            "----------\n",
            "Epoch 18/20\n",
            "Train loss 4.423317057383907e-06 accuracy 1.0\n",
            "Val loss 0.11294903990443327 accuracy 0.9812409812409812\n",
            "----------\n",
            "Epoch 19/20\n",
            "Train loss 0.0013392357512565984 accuracy 0.9995183044315992\n",
            "Val loss 0.10747639477785983 accuracy 0.9812409812409812\n",
            "----------\n",
            "Epoch 20/20\n",
            "Train loss 3.0308711898092155e-06 accuracy 1.0\n",
            "Val loss 0.10766353412537893 accuracy 0.9812409812409812\n",
            "----------\n"
          ]
        }
      ]
    },
    {
      "cell_type": "markdown",
      "metadata": {
        "id": "yPqZPcTmFTSd"
      },
      "source": [
        "Check test data"
      ]
    },
    {
      "cell_type": "code",
      "metadata": {
        "id": "B1jAxkTkBEMv"
      },
      "source": [
        "texts = list(test_data['url_text'])\n",
        "labels = list(test_data['target'])\n",
        "\n",
        "predictions = [classifier.predict(t) for t in texts]"
      ],
      "execution_count": null,
      "outputs": []
    },
    {
      "cell_type": "code",
      "metadata": {
        "id": "xhJosdy6Bn0o",
        "colab": {
          "base_uri": "https://localhost:8080/"
        },
        "outputId": "4faa648c-15bc-423d-c368-11f9a7894005"
      },
      "source": [
        "from sklearn.metrics import precision_recall_fscore_support, accuracy_score\n",
        "\n",
        "precision, recall, f1score = precision_recall_fscore_support(labels, predictions,average='macro')[:3]\n",
        "\n",
        "print(f'precision: {precision}, recall: {recall}, f1score: {f1score}')"
      ],
      "execution_count": null,
      "outputs": [
        {
          "output_type": "stream",
          "name": "stdout",
          "text": [
            "precision: 0.9741866404114867, recall: 0.9762830299097999, f1score: 0.975166296963948\n"
          ]
        }
      ]
    },
    {
      "cell_type": "code",
      "source": [
        "print(accuracy_score(labels, predictions))"
      ],
      "metadata": {
        "id": "agWfFCJ7s2D5",
        "outputId": "c716018d-14bb-4647-a994-219de8c6785e",
        "colab": {
          "base_uri": "https://localhost:8080/"
        }
      },
      "execution_count": null,
      "outputs": [
        {
          "output_type": "stream",
          "name": "stdout",
          "text": [
            "0.9754689754689755\n"
          ]
        }
      ]
    },
    {
      "cell_type": "code",
      "source": [],
      "metadata": {
        "id": "4J7M_R07D2Pm"
      },
      "execution_count": null,
      "outputs": []
    }
  ]
}