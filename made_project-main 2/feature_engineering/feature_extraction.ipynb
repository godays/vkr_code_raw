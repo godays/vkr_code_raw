{
 "cells": [
  {
   "cell_type": "markdown",
   "metadata": {},
   "source": [
    "#### Import libs"
   ]
  },
  {
   "cell_type": "code",
   "execution_count": 1,
   "metadata": {
    "ExecuteTime": {
     "end_time": "2022-11-28T22:36:56.883572Z",
     "start_time": "2022-11-28T22:36:55.979512Z"
    }
   },
   "outputs": [],
   "source": [
    "import pandas as pd\n",
    "import numpy as np\n",
    "import matplotlib.pyplot as plt\n",
    "import seaborn as sns\n",
    "\n",
    "from collections import Counter\n",
    "\n",
    "from pprint import pprint"
   ]
  },
  {
   "cell_type": "markdown",
   "metadata": {},
   "source": [
    "#### Download data + description of data"
   ]
  },
  {
   "cell_type": "code",
   "execution_count": 2,
   "metadata": {
    "ExecuteTime": {
     "end_time": "2022-11-28T22:36:58.776484Z",
     "start_time": "2022-11-28T22:36:58.649757Z"
    }
   },
   "outputs": [
    {
     "data": {
      "text/html": [
       "<div>\n",
       "<style scoped>\n",
       "    .dataframe tbody tr th:only-of-type {\n",
       "        vertical-align: middle;\n",
       "    }\n",
       "\n",
       "    .dataframe tbody tr th {\n",
       "        vertical-align: top;\n",
       "    }\n",
       "\n",
       "    .dataframe thead th {\n",
       "        text-align: right;\n",
       "    }\n",
       "</style>\n",
       "<table border=\"1\" class=\"dataframe\">\n",
       "  <thead>\n",
       "    <tr style=\"text-align: right;\">\n",
       "      <th></th>\n",
       "      <th>user_id</th>\n",
       "      <th>target</th>\n",
       "      <th>retrodate</th>\n",
       "      <th>g1(l1.1)</th>\n",
       "      <th>g2(l2.1)</th>\n",
       "      <th>g2(l2.2)</th>\n",
       "      <th>g2(l2.3)</th>\n",
       "      <th>g2(l2.4)</th>\n",
       "      <th>g2(l2.5)</th>\n",
       "      <th>g2(l2.6)</th>\n",
       "      <th>...</th>\n",
       "      <th>g14(l14.5)</th>\n",
       "      <th>g14(l14.6)</th>\n",
       "      <th>g14(l14.7)</th>\n",
       "      <th>g15(l15.1)</th>\n",
       "      <th>g15(l15.2)</th>\n",
       "      <th>g15(l15.3)</th>\n",
       "      <th>g15(l15.4)</th>\n",
       "      <th>g15(l15.5)</th>\n",
       "      <th>g15(l15.6)</th>\n",
       "      <th>g15(l15.7)</th>\n",
       "    </tr>\n",
       "  </thead>\n",
       "  <tbody>\n",
       "    <tr>\n",
       "      <th>0</th>\n",
       "      <td>0</td>\n",
       "      <td>0</td>\n",
       "      <td>2020/10/27</td>\n",
       "      <td>[[2020/10/17, 1], [2020/10/18, 1], [2020/10/19...</td>\n",
       "      <td>[[2020/10/13, 1], [2020/10/15, 4], [2020/10/18...</td>\n",
       "      <td>[[2020/10/13, 4], [2020/10/16, 1], [2020/10/17...</td>\n",
       "      <td>[[2020/10/13, 4], [2020/10/15, 1], [2020/10/16...</td>\n",
       "      <td>[[2020/10/13, 4], [2020/10/14, 4], [2020/10/15...</td>\n",
       "      <td>[[2020/10/13, 2], [2020/10/16, 4], [2020/10/17...</td>\n",
       "      <td>[[2020/10/14, 1], [2020/10/17, 4], [2020/10/21...</td>\n",
       "      <td>...</td>\n",
       "      <td>[[2020/10/13, 4], [2020/10/14, 4], [2020/10/17...</td>\n",
       "      <td>[[2020/10/13, 2], [2020/10/15, 2], [2020/10/17...</td>\n",
       "      <td>[[2020/10/13, 5], [2020/10/14, 1], [2020/10/20...</td>\n",
       "      <td>[[2020/10/17, 2], [2020/10/20, 2], [2020/10/24...</td>\n",
       "      <td>[[2020/10/15, 5], [2020/10/16, 5], [2020/10/18...</td>\n",
       "      <td>[[2020/10/13, 1], [2020/10/16, 2], [2020/10/19...</td>\n",
       "      <td>[[2020/10/14, 5], [2020/10/16, 3], [2020/10/18...</td>\n",
       "      <td>[[2020/10/16, 2], [2020/10/17, 2], [2020/10/22...</td>\n",
       "      <td>[[2020/10/15, 2], [2020/10/17, 1], [2020/10/19...</td>\n",
       "      <td>[[2020/10/13, 2], [2020/10/16, 5], [2020/10/18...</td>\n",
       "    </tr>\n",
       "    <tr>\n",
       "      <th>1</th>\n",
       "      <td>1</td>\n",
       "      <td>1</td>\n",
       "      <td>2021/2/17</td>\n",
       "      <td>[[2021/2/3, 2], [2021/2/6, 2], [2021/2/7, 5], ...</td>\n",
       "      <td>[[2021/2/3, 2], [2021/2/5, 1], [2021/2/10, 4],...</td>\n",
       "      <td>[[2021/2/4, 4], [2021/2/6, 5], [2021/2/8, 5], ...</td>\n",
       "      <td>[[2021/2/4, 3], [2021/2/5, 1], [2021/2/6, 4], ...</td>\n",
       "      <td>[[2021/2/3, 1], [2021/2/4, 1], [2021/2/6, 1], ...</td>\n",
       "      <td>[[2021/2/3, 1], [2021/2/6, 1], [2021/2/7, 5], ...</td>\n",
       "      <td>[[2021/2/3, 5], [2021/2/5, 4], [2021/2/9, 3], ...</td>\n",
       "      <td>...</td>\n",
       "      <td>[[2021/2/4, 4], [2021/2/6, 4], [2021/2/11, 3],...</td>\n",
       "      <td>[[2021/2/4, 5], [2021/2/6, 4], [2021/2/12, 5],...</td>\n",
       "      <td>[[2021/2/5, 4], [2021/2/6, 1], [2021/2/8, 5], ...</td>\n",
       "      <td>[[2021/2/5, 2], [2021/2/6, 4], [2021/2/8, 2], ...</td>\n",
       "      <td>[[2021/2/3, 5], [2021/2/4, 3], [2021/2/10, 4],...</td>\n",
       "      <td>[[2021/2/3, 1], [2021/2/5, 2], [2021/2/6, 1], ...</td>\n",
       "      <td>[[2021/2/4, 5], [2021/2/5, 1], [2021/2/8, 1], ...</td>\n",
       "      <td>[[2021/2/3, 3], [2021/2/9, 1], [2021/2/10, 1],...</td>\n",
       "      <td>[[2021/2/3, 1], [2021/2/4, 2], [2021/2/6, 2], ...</td>\n",
       "      <td>[[2021/2/3, 3], [2021/2/4, 1], [2021/2/5, 5], ...</td>\n",
       "    </tr>\n",
       "    <tr>\n",
       "      <th>2</th>\n",
       "      <td>2</td>\n",
       "      <td>0</td>\n",
       "      <td>2021/2/24</td>\n",
       "      <td>[[2021/2/12, 5], [2021/2/17, 4]]</td>\n",
       "      <td>[[2021/2/11, 1], [2021/2/13, 2], [2021/2/16, 4...</td>\n",
       "      <td>[[2021/2/13, 5], [2021/2/15, 1], [2021/2/16, 2...</td>\n",
       "      <td>[[2021/2/11, 2], [2021/2/13, 4], [2021/2/15, 5...</td>\n",
       "      <td>[[2021/2/12, 4], [2021/2/13, 3], [2021/2/14, 1...</td>\n",
       "      <td>[[2021/2/10, 5], [2021/2/13, 4], [2021/2/14, 2...</td>\n",
       "      <td>[[2021/2/10, 5], [2021/2/14, 5], [2021/2/15, 3...</td>\n",
       "      <td>...</td>\n",
       "      <td>[[2021/2/10, 3], [2021/2/11, 3], [2021/2/12, 3...</td>\n",
       "      <td>[[2021/2/10, 2], [2021/2/12, 5], [2021/2/14, 5...</td>\n",
       "      <td>[[2021/2/10, 1], [2021/2/11, 3], [2021/2/13, 2...</td>\n",
       "      <td>[[2021/2/11, 4], [2021/2/12, 4], [2021/2/16, 4...</td>\n",
       "      <td>[[2021/2/10, 1], [2021/2/12, 3], [2021/2/14, 1...</td>\n",
       "      <td>[[2021/2/11, 5], [2021/2/12, 1], [2021/2/13, 5...</td>\n",
       "      <td>[[2021/2/12, 5], [2021/2/16, 3]]</td>\n",
       "      <td>[[2021/2/14, 3], [2021/2/15, 5], [2021/2/17, 4...</td>\n",
       "      <td>[[2021/2/10, 5], [2021/2/11, 4], [2021/2/12, 3...</td>\n",
       "      <td>[[2021/2/10, 2], [2021/2/16, 5], [2021/2/22, 4...</td>\n",
       "    </tr>\n",
       "    <tr>\n",
       "      <th>3</th>\n",
       "      <td>3</td>\n",
       "      <td>0</td>\n",
       "      <td>2020/2/21</td>\n",
       "      <td>[[2020/2/7, 1], [2020/2/8, 5], [2020/2/12, 1],...</td>\n",
       "      <td>[[2020/2/10, 4], [2020/2/13, 3], [2020/2/14, 3...</td>\n",
       "      <td>[[2020/2/9, 1], [2020/2/10, 5], [2020/2/11, 5]...</td>\n",
       "      <td>[[2020/2/7, 1], [2020/2/8, 5], [2020/2/10, 3],...</td>\n",
       "      <td>[[2020/2/11, 1], [2020/2/12, 1], [2020/2/13, 2...</td>\n",
       "      <td>[[2020/2/7, 1], [2020/2/10, 1], [2020/2/11, 4]...</td>\n",
       "      <td>[[2020/2/11, 4], [2020/2/12, 2], [2020/2/13, 2...</td>\n",
       "      <td>...</td>\n",
       "      <td>[[2020/2/7, 4], [2020/2/8, 2], [2020/2/9, 4], ...</td>\n",
       "      <td>[[2020/2/9, 5], [2020/2/10, 2], [2020/2/11, 2]...</td>\n",
       "      <td>[[2020/2/7, 1], [2020/2/10, 5], [2020/2/12, 1]...</td>\n",
       "      <td>[[2020/2/9, 1], [2020/2/12, 5], [2020/2/13, 3]...</td>\n",
       "      <td>[[2020/2/7, 4], [2020/2/8, 1], [2020/2/12, 1],...</td>\n",
       "      <td>[[2020/2/10, 5], [2020/2/19, 2]]</td>\n",
       "      <td>[[2020/2/7, 5], [2020/2/8, 5], [2020/2/10, 5],...</td>\n",
       "      <td>[[2020/2/9, 4], [2020/2/11, 5], [2020/2/13, 4]...</td>\n",
       "      <td>[[2020/2/10, 4], [2020/2/13, 1], [2020/2/16, 2...</td>\n",
       "      <td>[[2020/2/7, 2], [2020/2/10, 5], [2020/2/14, 5]...</td>\n",
       "    </tr>\n",
       "    <tr>\n",
       "      <th>4</th>\n",
       "      <td>4</td>\n",
       "      <td>1</td>\n",
       "      <td>2021/3/24</td>\n",
       "      <td>[[2021/3/11, 1], [2021/3/14, 3], [2021/3/15, 3...</td>\n",
       "      <td>[[2021/3/10, 2], [2021/3/11, 1], [2021/3/12, 1...</td>\n",
       "      <td>[[2021/3/10, 4], [2021/3/13, 2], [2021/3/14, 4...</td>\n",
       "      <td>[[2021/3/11, 5], [2021/3/14, 3], [2021/3/16, 5...</td>\n",
       "      <td>[[2021/3/11, 5], [2021/3/12, 4], [2021/3/13, 1...</td>\n",
       "      <td>[[2021/3/11, 4], [2021/3/20, 2]]</td>\n",
       "      <td>[[2021/3/10, 4], [2021/3/11, 4], [2021/3/12, 5...</td>\n",
       "      <td>...</td>\n",
       "      <td>[[2021/3/10, 4], [2021/3/11, 4], [2021/3/12, 2...</td>\n",
       "      <td>[[2021/3/11, 4], [2021/3/13, 3], [2021/3/14, 3...</td>\n",
       "      <td>[[2021/3/10, 4], [2021/3/11, 3], [2021/3/12, 5...</td>\n",
       "      <td>[[2021/3/13, 4], [2021/3/15, 4], [2021/3/18, 3...</td>\n",
       "      <td>[[2021/3/11, 4], [2021/3/12, 4], [2021/3/14, 2...</td>\n",
       "      <td>[[2021/3/10, 2], [2021/3/11, 4], [2021/3/17, 4...</td>\n",
       "      <td>[[2021/3/11, 1], [2021/3/12, 2], [2021/3/13, 3...</td>\n",
       "      <td>[[2021/3/10, 1], [2021/3/11, 2], [2021/3/14, 3...</td>\n",
       "      <td>[[2021/3/10, 1], [2021/3/11, 4], [2021/3/12, 4...</td>\n",
       "      <td>[[2021/3/10, 2], [2021/3/12, 4], [2021/3/14, 2...</td>\n",
       "    </tr>\n",
       "  </tbody>\n",
       "</table>\n",
       "<p>5 rows × 74 columns</p>\n",
       "</div>"
      ],
      "text/plain": [
       "   user_id  target   retrodate  \\\n",
       "0        0       0  2020/10/27   \n",
       "1        1       1   2021/2/17   \n",
       "2        2       0   2021/2/24   \n",
       "3        3       0   2020/2/21   \n",
       "4        4       1   2021/3/24   \n",
       "\n",
       "                                            g1(l1.1)  \\\n",
       "0  [[2020/10/17, 1], [2020/10/18, 1], [2020/10/19...   \n",
       "1  [[2021/2/3, 2], [2021/2/6, 2], [2021/2/7, 5], ...   \n",
       "2                   [[2021/2/12, 5], [2021/2/17, 4]]   \n",
       "3  [[2020/2/7, 1], [2020/2/8, 5], [2020/2/12, 1],...   \n",
       "4  [[2021/3/11, 1], [2021/3/14, 3], [2021/3/15, 3...   \n",
       "\n",
       "                                            g2(l2.1)  \\\n",
       "0  [[2020/10/13, 1], [2020/10/15, 4], [2020/10/18...   \n",
       "1  [[2021/2/3, 2], [2021/2/5, 1], [2021/2/10, 4],...   \n",
       "2  [[2021/2/11, 1], [2021/2/13, 2], [2021/2/16, 4...   \n",
       "3  [[2020/2/10, 4], [2020/2/13, 3], [2020/2/14, 3...   \n",
       "4  [[2021/3/10, 2], [2021/3/11, 1], [2021/3/12, 1...   \n",
       "\n",
       "                                            g2(l2.2)  \\\n",
       "0  [[2020/10/13, 4], [2020/10/16, 1], [2020/10/17...   \n",
       "1  [[2021/2/4, 4], [2021/2/6, 5], [2021/2/8, 5], ...   \n",
       "2  [[2021/2/13, 5], [2021/2/15, 1], [2021/2/16, 2...   \n",
       "3  [[2020/2/9, 1], [2020/2/10, 5], [2020/2/11, 5]...   \n",
       "4  [[2021/3/10, 4], [2021/3/13, 2], [2021/3/14, 4...   \n",
       "\n",
       "                                            g2(l2.3)  \\\n",
       "0  [[2020/10/13, 4], [2020/10/15, 1], [2020/10/16...   \n",
       "1  [[2021/2/4, 3], [2021/2/5, 1], [2021/2/6, 4], ...   \n",
       "2  [[2021/2/11, 2], [2021/2/13, 4], [2021/2/15, 5...   \n",
       "3  [[2020/2/7, 1], [2020/2/8, 5], [2020/2/10, 3],...   \n",
       "4  [[2021/3/11, 5], [2021/3/14, 3], [2021/3/16, 5...   \n",
       "\n",
       "                                            g2(l2.4)  \\\n",
       "0  [[2020/10/13, 4], [2020/10/14, 4], [2020/10/15...   \n",
       "1  [[2021/2/3, 1], [2021/2/4, 1], [2021/2/6, 1], ...   \n",
       "2  [[2021/2/12, 4], [2021/2/13, 3], [2021/2/14, 1...   \n",
       "3  [[2020/2/11, 1], [2020/2/12, 1], [2020/2/13, 2...   \n",
       "4  [[2021/3/11, 5], [2021/3/12, 4], [2021/3/13, 1...   \n",
       "\n",
       "                                            g2(l2.5)  \\\n",
       "0  [[2020/10/13, 2], [2020/10/16, 4], [2020/10/17...   \n",
       "1  [[2021/2/3, 1], [2021/2/6, 1], [2021/2/7, 5], ...   \n",
       "2  [[2021/2/10, 5], [2021/2/13, 4], [2021/2/14, 2...   \n",
       "3  [[2020/2/7, 1], [2020/2/10, 1], [2020/2/11, 4]...   \n",
       "4                   [[2021/3/11, 4], [2021/3/20, 2]]   \n",
       "\n",
       "                                            g2(l2.6)  ...  \\\n",
       "0  [[2020/10/14, 1], [2020/10/17, 4], [2020/10/21...  ...   \n",
       "1  [[2021/2/3, 5], [2021/2/5, 4], [2021/2/9, 3], ...  ...   \n",
       "2  [[2021/2/10, 5], [2021/2/14, 5], [2021/2/15, 3...  ...   \n",
       "3  [[2020/2/11, 4], [2020/2/12, 2], [2020/2/13, 2...  ...   \n",
       "4  [[2021/3/10, 4], [2021/3/11, 4], [2021/3/12, 5...  ...   \n",
       "\n",
       "                                          g14(l14.5)  \\\n",
       "0  [[2020/10/13, 4], [2020/10/14, 4], [2020/10/17...   \n",
       "1  [[2021/2/4, 4], [2021/2/6, 4], [2021/2/11, 3],...   \n",
       "2  [[2021/2/10, 3], [2021/2/11, 3], [2021/2/12, 3...   \n",
       "3  [[2020/2/7, 4], [2020/2/8, 2], [2020/2/9, 4], ...   \n",
       "4  [[2021/3/10, 4], [2021/3/11, 4], [2021/3/12, 2...   \n",
       "\n",
       "                                          g14(l14.6)  \\\n",
       "0  [[2020/10/13, 2], [2020/10/15, 2], [2020/10/17...   \n",
       "1  [[2021/2/4, 5], [2021/2/6, 4], [2021/2/12, 5],...   \n",
       "2  [[2021/2/10, 2], [2021/2/12, 5], [2021/2/14, 5...   \n",
       "3  [[2020/2/9, 5], [2020/2/10, 2], [2020/2/11, 2]...   \n",
       "4  [[2021/3/11, 4], [2021/3/13, 3], [2021/3/14, 3...   \n",
       "\n",
       "                                          g14(l14.7)  \\\n",
       "0  [[2020/10/13, 5], [2020/10/14, 1], [2020/10/20...   \n",
       "1  [[2021/2/5, 4], [2021/2/6, 1], [2021/2/8, 5], ...   \n",
       "2  [[2021/2/10, 1], [2021/2/11, 3], [2021/2/13, 2...   \n",
       "3  [[2020/2/7, 1], [2020/2/10, 5], [2020/2/12, 1]...   \n",
       "4  [[2021/3/10, 4], [2021/3/11, 3], [2021/3/12, 5...   \n",
       "\n",
       "                                          g15(l15.1)  \\\n",
       "0  [[2020/10/17, 2], [2020/10/20, 2], [2020/10/24...   \n",
       "1  [[2021/2/5, 2], [2021/2/6, 4], [2021/2/8, 2], ...   \n",
       "2  [[2021/2/11, 4], [2021/2/12, 4], [2021/2/16, 4...   \n",
       "3  [[2020/2/9, 1], [2020/2/12, 5], [2020/2/13, 3]...   \n",
       "4  [[2021/3/13, 4], [2021/3/15, 4], [2021/3/18, 3...   \n",
       "\n",
       "                                          g15(l15.2)  \\\n",
       "0  [[2020/10/15, 5], [2020/10/16, 5], [2020/10/18...   \n",
       "1  [[2021/2/3, 5], [2021/2/4, 3], [2021/2/10, 4],...   \n",
       "2  [[2021/2/10, 1], [2021/2/12, 3], [2021/2/14, 1...   \n",
       "3  [[2020/2/7, 4], [2020/2/8, 1], [2020/2/12, 1],...   \n",
       "4  [[2021/3/11, 4], [2021/3/12, 4], [2021/3/14, 2...   \n",
       "\n",
       "                                          g15(l15.3)  \\\n",
       "0  [[2020/10/13, 1], [2020/10/16, 2], [2020/10/19...   \n",
       "1  [[2021/2/3, 1], [2021/2/5, 2], [2021/2/6, 1], ...   \n",
       "2  [[2021/2/11, 5], [2021/2/12, 1], [2021/2/13, 5...   \n",
       "3                   [[2020/2/10, 5], [2020/2/19, 2]]   \n",
       "4  [[2021/3/10, 2], [2021/3/11, 4], [2021/3/17, 4...   \n",
       "\n",
       "                                          g15(l15.4)  \\\n",
       "0  [[2020/10/14, 5], [2020/10/16, 3], [2020/10/18...   \n",
       "1  [[2021/2/4, 5], [2021/2/5, 1], [2021/2/8, 1], ...   \n",
       "2                   [[2021/2/12, 5], [2021/2/16, 3]]   \n",
       "3  [[2020/2/7, 5], [2020/2/8, 5], [2020/2/10, 5],...   \n",
       "4  [[2021/3/11, 1], [2021/3/12, 2], [2021/3/13, 3...   \n",
       "\n",
       "                                          g15(l15.5)  \\\n",
       "0  [[2020/10/16, 2], [2020/10/17, 2], [2020/10/22...   \n",
       "1  [[2021/2/3, 3], [2021/2/9, 1], [2021/2/10, 1],...   \n",
       "2  [[2021/2/14, 3], [2021/2/15, 5], [2021/2/17, 4...   \n",
       "3  [[2020/2/9, 4], [2020/2/11, 5], [2020/2/13, 4]...   \n",
       "4  [[2021/3/10, 1], [2021/3/11, 2], [2021/3/14, 3...   \n",
       "\n",
       "                                          g15(l15.6)  \\\n",
       "0  [[2020/10/15, 2], [2020/10/17, 1], [2020/10/19...   \n",
       "1  [[2021/2/3, 1], [2021/2/4, 2], [2021/2/6, 2], ...   \n",
       "2  [[2021/2/10, 5], [2021/2/11, 4], [2021/2/12, 3...   \n",
       "3  [[2020/2/10, 4], [2020/2/13, 1], [2020/2/16, 2...   \n",
       "4  [[2021/3/10, 1], [2021/3/11, 4], [2021/3/12, 4...   \n",
       "\n",
       "                                          g15(l15.7)  \n",
       "0  [[2020/10/13, 2], [2020/10/16, 5], [2020/10/18...  \n",
       "1  [[2021/2/3, 3], [2021/2/4, 1], [2021/2/5, 5], ...  \n",
       "2  [[2021/2/10, 2], [2021/2/16, 5], [2021/2/22, 4...  \n",
       "3  [[2020/2/7, 2], [2020/2/10, 5], [2020/2/14, 5]...  \n",
       "4  [[2021/3/10, 2], [2021/3/12, 4], [2021/3/14, 2...  \n",
       "\n",
       "[5 rows x 74 columns]"
      ]
     },
     "execution_count": 2,
     "metadata": {},
     "output_type": "execute_result"
    }
   ],
   "source": [
    "df = pd.read_csv('sample_data.csv', sep=';')\n",
    "df.head()"
   ]
  },
  {
   "cell_type": "markdown",
   "metadata": {},
   "source": [
    "Структура данных следующая:\n",
    "\n",
    "- id пользователя\n",
    "- target - является ли пользователь заинтересованным в данном товаре в конкретную дату\n",
    "- ретродата - конкретная дата, в которую мы бы хотели уметь предсказывать интерес пользователя\n",
    "- все следующие столбцы описывают поведение пользователя в сети в предыдущие 2 недели.\n",
    "    - каждый столбец соответствует определнной ссылке\n",
    "    - ссылки анонимизированы \n",
    "    - ссылки разбиты на группы, группы определяются по префиксу столбца, в группах может быть разное количество ссылок\n",
    "    - история представляет собой список пар - (дата посещения, количество посещений в эту дату)"
   ]
  },
  {
   "cell_type": "markdown",
   "metadata": {},
   "source": [
    "#### General description of data"
   ]
  },
  {
   "cell_type": "code",
   "execution_count": 3,
   "metadata": {
    "ExecuteTime": {
     "end_time": "2022-11-28T22:37:07.963185Z",
     "start_time": "2022-11-28T22:37:07.953211Z"
    }
   },
   "outputs": [
    {
     "name": "stdout",
     "output_type": "stream",
     "text": [
      "df shape         : (1000, 74)\n",
      "unique users     : 1000\n",
      "number of groups : 15\n"
     ]
    }
   ],
   "source": [
    "# table size\n",
    "print(\"df shape         :\", df.shape)\n",
    "# number of unique users\n",
    "print(\"unique users     :\", df.user_id.nunique())\n",
    "# number of groups\n",
    "groups_columns = df.columns.tolist()[3:]\n",
    "groups_list = list(map(lambda col: col.split('(')[0], groups_columns))\n",
    "groups_set = set(groups_list)\n",
    "print(\"number of groups :\", len(groups_set))"
   ]
  },
  {
   "cell_type": "markdown",
   "metadata": {
    "ExecuteTime": {
     "end_time": "2022-11-28T20:15:00.927334Z",
     "start_time": "2022-11-28T20:15:00.913362Z"
    }
   },
   "source": [
    "Nuber of links in groups:"
   ]
  },
  {
   "cell_type": "code",
   "execution_count": 4,
   "metadata": {
    "ExecuteTime": {
     "end_time": "2022-11-28T22:37:17.238150Z",
     "start_time": "2022-11-28T22:37:17.233164Z"
    }
   },
   "outputs": [
    {
     "name": "stdout",
     "output_type": "stream",
     "text": [
      "g8 9\n",
      "g2 8\n",
      "g7 8\n",
      "g14 7\n",
      "g15 7\n",
      "g3 6\n",
      "g4 5\n",
      "g5 4\n",
      "g6 4\n",
      "g10 4\n",
      "g9 2\n",
      "g11 2\n",
      "g12 2\n",
      "g13 2\n",
      "g1 1\n"
     ]
    }
   ],
   "source": [
    "for group, count in Counter(groups_list).most_common():\n",
    "    print(group, count)"
   ]
  },
  {
   "cell_type": "code",
   "execution_count": 5,
   "metadata": {
    "ExecuteTime": {
     "end_time": "2022-11-28T22:37:26.984621Z",
     "start_time": "2022-11-28T22:37:26.841104Z"
    }
   },
   "outputs": [
    {
     "data": {
      "text/plain": [
       "<matplotlib.axes._subplots.AxesSubplot at 0x2125afc6688>"
      ]
     },
     "execution_count": 5,
     "metadata": {},
     "output_type": "execute_result"
    },
    {
     "data": {
      "image/png": "[encoded data removed]",
      "text/plain": [
       "<Figure size 432x288 with 1 Axes>"
      ]
     },
     "metadata": {
      "needs_background": "light"
     },
     "output_type": "display_data"
    }
   ],
   "source": [
    "sns.countplot(x=groups_list)"
   ]
  },
  {
   "cell_type": "markdown",
   "metadata": {},
   "source": [
    "#### Data processing"
   ]
  },
  {
   "cell_type": "markdown",
   "metadata": {},
   "source": [
    "First of all lets convert lists in cells into real lists (now they are string-lists)."
   ]
  },
  {
   "cell_type": "code",
   "execution_count": 6,
   "metadata": {
    "ExecuteTime": {
     "end_time": "2022-11-28T22:37:36.268780Z",
     "start_time": "2022-11-28T22:37:36.256814Z"
    }
   },
   "outputs": [],
   "source": [
    "def make_normal_list(string_list):\n",
    "    history = string_list.split('], [')\n",
    "    \n",
    "    # if there is at least one normal date with visits\n",
    "    if len(history[0]) > 4:\n",
    "        history[0] = history[0][2:]\n",
    "        history[-1] = history[-1][:-2]\n",
    "    else:\n",
    "        history = []\n",
    "    \n",
    "    day_process = lambda x: (pd.to_datetime(x.split(',')[0], format='%Y/%m/%d').date(), \n",
    "                             int(x.split(',')[1]))\n",
    "    \n",
    "    history = [day_process(day) for day in history]\n",
    "\n",
    "    return history"
   ]
  },
  {
   "cell_type": "code",
   "execution_count": 7,
   "metadata": {
    "ExecuteTime": {
     "end_time": "2022-11-28T22:37:38.768894Z",
     "start_time": "2022-11-28T22:37:38.761883Z"
    }
   },
   "outputs": [],
   "source": [
    "def make_normal_list_series(series):\n",
    "    return series.apply(make_normal_list)"
   ]
  },
  {
   "cell_type": "code",
   "execution_count": 8,
   "metadata": {
    "ExecuteTime": {
     "end_time": "2022-11-28T22:37:39.690160Z",
     "start_time": "2022-11-28T22:37:39.672176Z"
    }
   },
   "outputs": [],
   "source": [
    "df.retrodate = pd.to_datetime(df.retrodate, format='%Y/%m/%d').dt.date"
   ]
  },
  {
   "cell_type": "code",
   "execution_count": 9,
   "metadata": {
    "ExecuteTime": {
     "end_time": "2022-11-28T22:38:30.411662Z",
     "start_time": "2022-11-28T22:37:42.865722Z"
    }
   },
   "outputs": [],
   "source": [
    "df[groups_columns] = df[groups_columns].apply(make_normal_list_series)"
   ]
  },
  {
   "cell_type": "code",
   "execution_count": 10,
   "metadata": {
    "ExecuteTime": {
     "end_time": "2022-11-28T22:38:39.062215Z",
     "start_time": "2022-11-28T22:38:38.912615Z"
    }
   },
   "outputs": [
    {
     "data": {
      "text/html": [
       "<div>\n",
       "<style scoped>\n",
       "    .dataframe tbody tr th:only-of-type {\n",
       "        vertical-align: middle;\n",
       "    }\n",
       "\n",
       "    .dataframe tbody tr th {\n",
       "        vertical-align: top;\n",
       "    }\n",
       "\n",
       "    .dataframe thead th {\n",
       "        text-align: right;\n",
       "    }\n",
       "</style>\n",
       "<table border=\"1\" class=\"dataframe\">\n",
       "  <thead>\n",
       "    <tr style=\"text-align: right;\">\n",
       "      <th></th>\n",
       "      <th>user_id</th>\n",
       "      <th>target</th>\n",
       "      <th>retrodate</th>\n",
       "      <th>g1(l1.1)</th>\n",
       "      <th>g2(l2.1)</th>\n",
       "      <th>g2(l2.2)</th>\n",
       "      <th>g2(l2.3)</th>\n",
       "      <th>g2(l2.4)</th>\n",
       "      <th>g2(l2.5)</th>\n",
       "      <th>g2(l2.6)</th>\n",
       "      <th>...</th>\n",
       "      <th>g14(l14.5)</th>\n",
       "      <th>g14(l14.6)</th>\n",
       "      <th>g14(l14.7)</th>\n",
       "      <th>g15(l15.1)</th>\n",
       "      <th>g15(l15.2)</th>\n",
       "      <th>g15(l15.3)</th>\n",
       "      <th>g15(l15.4)</th>\n",
       "      <th>g15(l15.5)</th>\n",
       "      <th>g15(l15.6)</th>\n",
       "      <th>g15(l15.7)</th>\n",
       "    </tr>\n",
       "  </thead>\n",
       "  <tbody>\n",
       "    <tr>\n",
       "      <th>0</th>\n",
       "      <td>0</td>\n",
       "      <td>0</td>\n",
       "      <td>2020-10-27</td>\n",
       "      <td>[(2020-10-17, 1), (2020-10-18, 1), (2020-10-19...</td>\n",
       "      <td>[(2020-10-13, 1), (2020-10-15, 4), (2020-10-18...</td>\n",
       "      <td>[(2020-10-13, 4), (2020-10-16, 1), (2020-10-17...</td>\n",
       "      <td>[(2020-10-13, 4), (2020-10-15, 1), (2020-10-16...</td>\n",
       "      <td>[(2020-10-13, 4), (2020-10-14, 4), (2020-10-15...</td>\n",
       "      <td>[(2020-10-13, 2), (2020-10-16, 4), (2020-10-17...</td>\n",
       "      <td>[(2020-10-14, 1), (2020-10-17, 4), (2020-10-21...</td>\n",
       "      <td>...</td>\n",
       "      <td>[(2020-10-13, 4), (2020-10-14, 4), (2020-10-17...</td>\n",
       "      <td>[(2020-10-13, 2), (2020-10-15, 2), (2020-10-17...</td>\n",
       "      <td>[(2020-10-13, 5), (2020-10-14, 1), (2020-10-20...</td>\n",
       "      <td>[(2020-10-17, 2), (2020-10-20, 2), (2020-10-24...</td>\n",
       "      <td>[(2020-10-15, 5), (2020-10-16, 5), (2020-10-18...</td>\n",
       "      <td>[(2020-10-13, 1), (2020-10-16, 2), (2020-10-19...</td>\n",
       "      <td>[(2020-10-14, 5), (2020-10-16, 3), (2020-10-18...</td>\n",
       "      <td>[(2020-10-16, 2), (2020-10-17, 2), (2020-10-22...</td>\n",
       "      <td>[(2020-10-15, 2), (2020-10-17, 1), (2020-10-19...</td>\n",
       "      <td>[(2020-10-13, 2), (2020-10-16, 5), (2020-10-18...</td>\n",
       "    </tr>\n",
       "    <tr>\n",
       "      <th>1</th>\n",
       "      <td>1</td>\n",
       "      <td>1</td>\n",
       "      <td>2021-02-17</td>\n",
       "      <td>[(2021-02-03, 2), (2021-02-06, 2), (2021-02-07...</td>\n",
       "      <td>[(2021-02-03, 2), (2021-02-05, 1), (2021-02-10...</td>\n",
       "      <td>[(2021-02-04, 4), (2021-02-06, 5), (2021-02-08...</td>\n",
       "      <td>[(2021-02-04, 3), (2021-02-05, 1), (2021-02-06...</td>\n",
       "      <td>[(2021-02-03, 1), (2021-02-04, 1), (2021-02-06...</td>\n",
       "      <td>[(2021-02-03, 1), (2021-02-06, 1), (2021-02-07...</td>\n",
       "      <td>[(2021-02-03, 5), (2021-02-05, 4), (2021-02-09...</td>\n",
       "      <td>...</td>\n",
       "      <td>[(2021-02-04, 4), (2021-02-06, 4), (2021-02-11...</td>\n",
       "      <td>[(2021-02-04, 5), (2021-02-06, 4), (2021-02-12...</td>\n",
       "      <td>[(2021-02-05, 4), (2021-02-06, 1), (2021-02-08...</td>\n",
       "      <td>[(2021-02-05, 2), (2021-02-06, 4), (2021-02-08...</td>\n",
       "      <td>[(2021-02-03, 5), (2021-02-04, 3), (2021-02-10...</td>\n",
       "      <td>[(2021-02-03, 1), (2021-02-05, 2), (2021-02-06...</td>\n",
       "      <td>[(2021-02-04, 5), (2021-02-05, 1), (2021-02-08...</td>\n",
       "      <td>[(2021-02-03, 3), (2021-02-09, 1), (2021-02-10...</td>\n",
       "      <td>[(2021-02-03, 1), (2021-02-04, 2), (2021-02-06...</td>\n",
       "      <td>[(2021-02-03, 3), (2021-02-04, 1), (2021-02-05...</td>\n",
       "    </tr>\n",
       "    <tr>\n",
       "      <th>2</th>\n",
       "      <td>2</td>\n",
       "      <td>0</td>\n",
       "      <td>2021-02-24</td>\n",
       "      <td>[(2021-02-12, 5), (2021-02-17, 4)]</td>\n",
       "      <td>[(2021-02-11, 1), (2021-02-13, 2), (2021-02-16...</td>\n",
       "      <td>[(2021-02-13, 5), (2021-02-15, 1), (2021-02-16...</td>\n",
       "      <td>[(2021-02-11, 2), (2021-02-13, 4), (2021-02-15...</td>\n",
       "      <td>[(2021-02-12, 4), (2021-02-13, 3), (2021-02-14...</td>\n",
       "      <td>[(2021-02-10, 5), (2021-02-13, 4), (2021-02-14...</td>\n",
       "      <td>[(2021-02-10, 5), (2021-02-14, 5), (2021-02-15...</td>\n",
       "      <td>...</td>\n",
       "      <td>[(2021-02-10, 3), (2021-02-11, 3), (2021-02-12...</td>\n",
       "      <td>[(2021-02-10, 2), (2021-02-12, 5), (2021-02-14...</td>\n",
       "      <td>[(2021-02-10, 1), (2021-02-11, 3), (2021-02-13...</td>\n",
       "      <td>[(2021-02-11, 4), (2021-02-12, 4), (2021-02-16...</td>\n",
       "      <td>[(2021-02-10, 1), (2021-02-12, 3), (2021-02-14...</td>\n",
       "      <td>[(2021-02-11, 5), (2021-02-12, 1), (2021-02-13...</td>\n",
       "      <td>[(2021-02-12, 5), (2021-02-16, 3)]</td>\n",
       "      <td>[(2021-02-14, 3), (2021-02-15, 5), (2021-02-17...</td>\n",
       "      <td>[(2021-02-10, 5), (2021-02-11, 4), (2021-02-12...</td>\n",
       "      <td>[(2021-02-10, 2), (2021-02-16, 5), (2021-02-22...</td>\n",
       "    </tr>\n",
       "    <tr>\n",
       "      <th>3</th>\n",
       "      <td>3</td>\n",
       "      <td>0</td>\n",
       "      <td>2020-02-21</td>\n",
       "      <td>[(2020-02-07, 1), (2020-02-08, 5), (2020-02-12...</td>\n",
       "      <td>[(2020-02-10, 4), (2020-02-13, 3), (2020-02-14...</td>\n",
       "      <td>[(2020-02-09, 1), (2020-02-10, 5), (2020-02-11...</td>\n",
       "      <td>[(2020-02-07, 1), (2020-02-08, 5), (2020-02-10...</td>\n",
       "      <td>[(2020-02-11, 1), (2020-02-12, 1), (2020-02-13...</td>\n",
       "      <td>[(2020-02-07, 1), (2020-02-10, 1), (2020-02-11...</td>\n",
       "      <td>[(2020-02-11, 4), (2020-02-12, 2), (2020-02-13...</td>\n",
       "      <td>...</td>\n",
       "      <td>[(2020-02-07, 4), (2020-02-08, 2), (2020-02-09...</td>\n",
       "      <td>[(2020-02-09, 5), (2020-02-10, 2), (2020-02-11...</td>\n",
       "      <td>[(2020-02-07, 1), (2020-02-10, 5), (2020-02-12...</td>\n",
       "      <td>[(2020-02-09, 1), (2020-02-12, 5), (2020-02-13...</td>\n",
       "      <td>[(2020-02-07, 4), (2020-02-08, 1), (2020-02-12...</td>\n",
       "      <td>[(2020-02-10, 5), (2020-02-19, 2)]</td>\n",
       "      <td>[(2020-02-07, 5), (2020-02-08, 5), (2020-02-10...</td>\n",
       "      <td>[(2020-02-09, 4), (2020-02-11, 5), (2020-02-13...</td>\n",
       "      <td>[(2020-02-10, 4), (2020-02-13, 1), (2020-02-16...</td>\n",
       "      <td>[(2020-02-07, 2), (2020-02-10, 5), (2020-02-14...</td>\n",
       "    </tr>\n",
       "    <tr>\n",
       "      <th>4</th>\n",
       "      <td>4</td>\n",
       "      <td>1</td>\n",
       "      <td>2021-03-24</td>\n",
       "      <td>[(2021-03-11, 1), (2021-03-14, 3), (2021-03-15...</td>\n",
       "      <td>[(2021-03-10, 2), (2021-03-11, 1), (2021-03-12...</td>\n",
       "      <td>[(2021-03-10, 4), (2021-03-13, 2), (2021-03-14...</td>\n",
       "      <td>[(2021-03-11, 5), (2021-03-14, 3), (2021-03-16...</td>\n",
       "      <td>[(2021-03-11, 5), (2021-03-12, 4), (2021-03-13...</td>\n",
       "      <td>[(2021-03-11, 4), (2021-03-20, 2)]</td>\n",
       "      <td>[(2021-03-10, 4), (2021-03-11, 4), (2021-03-12...</td>\n",
       "      <td>...</td>\n",
       "      <td>[(2021-03-10, 4), (2021-03-11, 4), (2021-03-12...</td>\n",
       "      <td>[(2021-03-11, 4), (2021-03-13, 3), (2021-03-14...</td>\n",
       "      <td>[(2021-03-10, 4), (2021-03-11, 3), (2021-03-12...</td>\n",
       "      <td>[(2021-03-13, 4), (2021-03-15, 4), (2021-03-18...</td>\n",
       "      <td>[(2021-03-11, 4), (2021-03-12, 4), (2021-03-14...</td>\n",
       "      <td>[(2021-03-10, 2), (2021-03-11, 4), (2021-03-17...</td>\n",
       "      <td>[(2021-03-11, 1), (2021-03-12, 2), (2021-03-13...</td>\n",
       "      <td>[(2021-03-10, 1), (2021-03-11, 2), (2021-03-14...</td>\n",
       "      <td>[(2021-03-10, 1), (2021-03-11, 4), (2021-03-12...</td>\n",
       "      <td>[(2021-03-10, 2), (2021-03-12, 4), (2021-03-14...</td>\n",
       "    </tr>\n",
       "  </tbody>\n",
       "</table>\n",
       "<p>5 rows × 74 columns</p>\n",
       "</div>"
      ],
      "text/plain": [
       "   user_id  target   retrodate  \\\n",
       "0        0       0  2020-10-27   \n",
       "1        1       1  2021-02-17   \n",
       "2        2       0  2021-02-24   \n",
       "3        3       0  2020-02-21   \n",
       "4        4       1  2021-03-24   \n",
       "\n",
       "                                            g1(l1.1)  \\\n",
       "0  [(2020-10-17, 1), (2020-10-18, 1), (2020-10-19...   \n",
       "1  [(2021-02-03, 2), (2021-02-06, 2), (2021-02-07...   \n",
       "2                 [(2021-02-12, 5), (2021-02-17, 4)]   \n",
       "3  [(2020-02-07, 1), (2020-02-08, 5), (2020-02-12...   \n",
       "4  [(2021-03-11, 1), (2021-03-14, 3), (2021-03-15...   \n",
       "\n",
       "                                            g2(l2.1)  \\\n",
       "0  [(2020-10-13, 1), (2020-10-15, 4), (2020-10-18...   \n",
       "1  [(2021-02-03, 2), (2021-02-05, 1), (2021-02-10...   \n",
       "2  [(2021-02-11, 1), (2021-02-13, 2), (2021-02-16...   \n",
       "3  [(2020-02-10, 4), (2020-02-13, 3), (2020-02-14...   \n",
       "4  [(2021-03-10, 2), (2021-03-11, 1), (2021-03-12...   \n",
       "\n",
       "                                            g2(l2.2)  \\\n",
       "0  [(2020-10-13, 4), (2020-10-16, 1), (2020-10-17...   \n",
       "1  [(2021-02-04, 4), (2021-02-06, 5), (2021-02-08...   \n",
       "2  [(2021-02-13, 5), (2021-02-15, 1), (2021-02-16...   \n",
       "3  [(2020-02-09, 1), (2020-02-10, 5), (2020-02-11...   \n",
       "4  [(2021-03-10, 4), (2021-03-13, 2), (2021-03-14...   \n",
       "\n",
       "                                            g2(l2.3)  \\\n",
       "0  [(2020-10-13, 4), (2020-10-15, 1), (2020-10-16...   \n",
       "1  [(2021-02-04, 3), (2021-02-05, 1), (2021-02-06...   \n",
       "2  [(2021-02-11, 2), (2021-02-13, 4), (2021-02-15...   \n",
       "3  [(2020-02-07, 1), (2020-02-08, 5), (2020-02-10...   \n",
       "4  [(2021-03-11, 5), (2021-03-14, 3), (2021-03-16...   \n",
       "\n",
       "                                            g2(l2.4)  \\\n",
       "0  [(2020-10-13, 4), (2020-10-14, 4), (2020-10-15...   \n",
       "1  [(2021-02-03, 1), (2021-02-04, 1), (2021-02-06...   \n",
       "2  [(2021-02-12, 4), (2021-02-13, 3), (2021-02-14...   \n",
       "3  [(2020-02-11, 1), (2020-02-12, 1), (2020-02-13...   \n",
       "4  [(2021-03-11, 5), (2021-03-12, 4), (2021-03-13...   \n",
       "\n",
       "                                            g2(l2.5)  \\\n",
       "0  [(2020-10-13, 2), (2020-10-16, 4), (2020-10-17...   \n",
       "1  [(2021-02-03, 1), (2021-02-06, 1), (2021-02-07...   \n",
       "2  [(2021-02-10, 5), (2021-02-13, 4), (2021-02-14...   \n",
       "3  [(2020-02-07, 1), (2020-02-10, 1), (2020-02-11...   \n",
       "4                 [(2021-03-11, 4), (2021-03-20, 2)]   \n",
       "\n",
       "                                            g2(l2.6)  ...  \\\n",
       "0  [(2020-10-14, 1), (2020-10-17, 4), (2020-10-21...  ...   \n",
       "1  [(2021-02-03, 5), (2021-02-05, 4), (2021-02-09...  ...   \n",
       "2  [(2021-02-10, 5), (2021-02-14, 5), (2021-02-15...  ...   \n",
       "3  [(2020-02-11, 4), (2020-02-12, 2), (2020-02-13...  ...   \n",
       "4  [(2021-03-10, 4), (2021-03-11, 4), (2021-03-12...  ...   \n",
       "\n",
       "                                          g14(l14.5)  \\\n",
       "0  [(2020-10-13, 4), (2020-10-14, 4), (2020-10-17...   \n",
       "1  [(2021-02-04, 4), (2021-02-06, 4), (2021-02-11...   \n",
       "2  [(2021-02-10, 3), (2021-02-11, 3), (2021-02-12...   \n",
       "3  [(2020-02-07, 4), (2020-02-08, 2), (2020-02-09...   \n",
       "4  [(2021-03-10, 4), (2021-03-11, 4), (2021-03-12...   \n",
       "\n",
       "                                          g14(l14.6)  \\\n",
       "0  [(2020-10-13, 2), (2020-10-15, 2), (2020-10-17...   \n",
       "1  [(2021-02-04, 5), (2021-02-06, 4), (2021-02-12...   \n",
       "2  [(2021-02-10, 2), (2021-02-12, 5), (2021-02-14...   \n",
       "3  [(2020-02-09, 5), (2020-02-10, 2), (2020-02-11...   \n",
       "4  [(2021-03-11, 4), (2021-03-13, 3), (2021-03-14...   \n",
       "\n",
       "                                          g14(l14.7)  \\\n",
       "0  [(2020-10-13, 5), (2020-10-14, 1), (2020-10-20...   \n",
       "1  [(2021-02-05, 4), (2021-02-06, 1), (2021-02-08...   \n",
       "2  [(2021-02-10, 1), (2021-02-11, 3), (2021-02-13...   \n",
       "3  [(2020-02-07, 1), (2020-02-10, 5), (2020-02-12...   \n",
       "4  [(2021-03-10, 4), (2021-03-11, 3), (2021-03-12...   \n",
       "\n",
       "                                          g15(l15.1)  \\\n",
       "0  [(2020-10-17, 2), (2020-10-20, 2), (2020-10-24...   \n",
       "1  [(2021-02-05, 2), (2021-02-06, 4), (2021-02-08...   \n",
       "2  [(2021-02-11, 4), (2021-02-12, 4), (2021-02-16...   \n",
       "3  [(2020-02-09, 1), (2020-02-12, 5), (2020-02-13...   \n",
       "4  [(2021-03-13, 4), (2021-03-15, 4), (2021-03-18...   \n",
       "\n",
       "                                          g15(l15.2)  \\\n",
       "0  [(2020-10-15, 5), (2020-10-16, 5), (2020-10-18...   \n",
       "1  [(2021-02-03, 5), (2021-02-04, 3), (2021-02-10...   \n",
       "2  [(2021-02-10, 1), (2021-02-12, 3), (2021-02-14...   \n",
       "3  [(2020-02-07, 4), (2020-02-08, 1), (2020-02-12...   \n",
       "4  [(2021-03-11, 4), (2021-03-12, 4), (2021-03-14...   \n",
       "\n",
       "                                          g15(l15.3)  \\\n",
       "0  [(2020-10-13, 1), (2020-10-16, 2), (2020-10-19...   \n",
       "1  [(2021-02-03, 1), (2021-02-05, 2), (2021-02-06...   \n",
       "2  [(2021-02-11, 5), (2021-02-12, 1), (2021-02-13...   \n",
       "3                 [(2020-02-10, 5), (2020-02-19, 2)]   \n",
       "4  [(2021-03-10, 2), (2021-03-11, 4), (2021-03-17...   \n",
       "\n",
       "                                          g15(l15.4)  \\\n",
       "0  [(2020-10-14, 5), (2020-10-16, 3), (2020-10-18...   \n",
       "1  [(2021-02-04, 5), (2021-02-05, 1), (2021-02-08...   \n",
       "2                 [(2021-02-12, 5), (2021-02-16, 3)]   \n",
       "3  [(2020-02-07, 5), (2020-02-08, 5), (2020-02-10...   \n",
       "4  [(2021-03-11, 1), (2021-03-12, 2), (2021-03-13...   \n",
       "\n",
       "                                          g15(l15.5)  \\\n",
       "0  [(2020-10-16, 2), (2020-10-17, 2), (2020-10-22...   \n",
       "1  [(2021-02-03, 3), (2021-02-09, 1), (2021-02-10...   \n",
       "2  [(2021-02-14, 3), (2021-02-15, 5), (2021-02-17...   \n",
       "3  [(2020-02-09, 4), (2020-02-11, 5), (2020-02-13...   \n",
       "4  [(2021-03-10, 1), (2021-03-11, 2), (2021-03-14...   \n",
       "\n",
       "                                          g15(l15.6)  \\\n",
       "0  [(2020-10-15, 2), (2020-10-17, 1), (2020-10-19...   \n",
       "1  [(2021-02-03, 1), (2021-02-04, 2), (2021-02-06...   \n",
       "2  [(2021-02-10, 5), (2021-02-11, 4), (2021-02-12...   \n",
       "3  [(2020-02-10, 4), (2020-02-13, 1), (2020-02-16...   \n",
       "4  [(2021-03-10, 1), (2021-03-11, 4), (2021-03-12...   \n",
       "\n",
       "                                          g15(l15.7)  \n",
       "0  [(2020-10-13, 2), (2020-10-16, 5), (2020-10-18...  \n",
       "1  [(2021-02-03, 3), (2021-02-04, 1), (2021-02-05...  \n",
       "2  [(2021-02-10, 2), (2021-02-16, 5), (2021-02-22...  \n",
       "3  [(2020-02-07, 2), (2020-02-10, 5), (2020-02-14...  \n",
       "4  [(2021-03-10, 2), (2021-03-12, 4), (2021-03-14...  \n",
       "\n",
       "[5 rows x 74 columns]"
      ]
     },
     "execution_count": 10,
     "metadata": {},
     "output_type": "execute_result"
    }
   ],
   "source": [
    "df.head()"
   ]
  },
  {
   "cell_type": "markdown",
   "metadata": {},
   "source": [
    "#### Feature engineering"
   ]
  },
  {
   "cell_type": "markdown",
   "metadata": {},
   "source": [
    "- User activities within two previous weeks\n",
    "    - total visits of all sites (inside of domain)\n",
    "    - total visits for every group\n",
    "    - total visits for every link\n",
    "    - number of active days within period (two weeks)\n",
    "    - number of active days for every group\n",
    "    - average visits per active day (for domain and groups)\n",
    "    - number of visits on previous (or 2, 3) day"
   ]
  },
  {
   "cell_type": "markdown",
   "metadata": {},
   "source": [
    "1. total visits of all sites (inside of domain)"
   ]
  },
  {
   "cell_type": "code",
   "execution_count": 11,
   "metadata": {
    "ExecuteTime": {
     "end_time": "2022-11-28T22:38:46.180526Z",
     "start_time": "2022-11-28T22:38:45.242069Z"
    }
   },
   "outputs": [],
   "source": [
    "def get_total_visits(history_list):\n",
    "    return sum(visits for history in history_list for (day, visits) in history)\n",
    "\n",
    "df['total_visits_domain'] = df.apply(lambda x: get_total_visits([x[col] for col in groups_columns]), axis=1)"
   ]
  },
  {
   "cell_type": "markdown",
   "metadata": {},
   "source": [
    "2. total visits for every group"
   ]
  },
  {
   "cell_type": "code",
   "execution_count": 12,
   "metadata": {
    "ExecuteTime": {
     "end_time": "2022-11-28T22:38:48.940712Z",
     "start_time": "2022-11-28T22:38:47.442425Z"
    }
   },
   "outputs": [],
   "source": [
    "for group in groups_set:\n",
    "    df[f'total_visits_{group}'] = df.apply(lambda x: \n",
    "                                                get_total_visits([x[col] \n",
    "                                                             for col in groups_columns \n",
    "                                                             if col.startswith(group)]), axis=1)"
   ]
  },
  {
   "cell_type": "markdown",
   "metadata": {},
   "source": [
    "3. total visits for every link \n",
    "\n",
    "skip because of enormous number of sites(we can add it in the future if it is necessary)"
   ]
  },
  {
   "cell_type": "code",
   "execution_count": 13,
   "metadata": {
    "ExecuteTime": {
     "end_time": "2022-11-28T22:38:51.186933Z",
     "start_time": "2022-11-28T22:38:51.176990Z"
    }
   },
   "outputs": [],
   "source": [
    "pass"
   ]
  },
  {
   "cell_type": "markdown",
   "metadata": {},
   "source": [
    "4. number of active days within period (two weeks) for domain"
   ]
  },
  {
   "cell_type": "code",
   "execution_count": 14,
   "metadata": {
    "ExecuteTime": {
     "end_time": "2022-11-28T22:38:56.190881Z",
     "start_time": "2022-11-28T22:38:53.328992Z"
    }
   },
   "outputs": [],
   "source": [
    "def get_active_days(history_list, activity_thr=1):\n",
    "    # calculate unique days with visits during history\n",
    "    # activity_thr - number of days to make day active\n",
    "    return len(set(day for history in history_list for (day, visits) in history if visits > activity_thr))\n",
    "\n",
    "df['n1_active_days_domain'] = df.apply(lambda x: get_active_days([x[col] for col in groups_columns], 1), axis=1)\n",
    "df['n2_active_days_domain'] = df.apply(lambda x: get_active_days([x[col] for col in groups_columns], 2), axis=1)\n",
    "df['n3_active_days_domain'] = df.apply(lambda x: get_active_days([x[col] for col in groups_columns], 3), axis=1)"
   ]
  },
  {
   "cell_type": "markdown",
   "metadata": {},
   "source": [
    "5. number of active days for every group"
   ]
  },
  {
   "cell_type": "code",
   "execution_count": 15,
   "metadata": {
    "ExecuteTime": {
     "end_time": "2022-11-28T22:39:02.498481Z",
     "start_time": "2022-11-28T22:38:58.218082Z"
    }
   },
   "outputs": [],
   "source": [
    "for group in groups_set:\n",
    "    needed_cols = [col for col in groups_columns if col.startswith(group)]\n",
    "    df[f'n1_active_days_{group}'] = df.apply(lambda x: get_active_days([x[col] for col in needed_cols], 1), axis=1)\n",
    "    df[f'n2_active_days_{group}'] = df.apply(lambda x: get_active_days([x[col] for col in needed_cols], 2), axis=1)\n",
    "    df[f'n3_active_days_{group}'] = df.apply(lambda x: get_active_days([x[col] for col in needed_cols], 3), axis=1)"
   ]
  },
  {
   "cell_type": "markdown",
   "metadata": {},
   "source": [
    "6. average visits per active day (for domain and groups)\n",
    "\n",
    "considering days with at least one visit"
   ]
  },
  {
   "cell_type": "code",
   "execution_count": 16,
   "metadata": {
    "ExecuteTime": {
     "end_time": "2022-11-28T22:39:08.079970Z",
     "start_time": "2022-11-28T22:39:05.313170Z"
    }
   },
   "outputs": [],
   "source": [
    "def get_av_visits_per_active_day(history_list, activity_thr=1):\n",
    "    return np.mean([visits for history in history_list for (day, visits) in history if visits > activity_thr])\n",
    "\n",
    "df['average_visits_per_day_domain'] = df.apply(lambda x: get_av_visits_per_active_day([x[col] for col in groups_columns], 1), axis=1)\n",
    "\n",
    "for group in groups_set:\n",
    "    needed_cols = [col for col in groups_columns if col.startswith(group)]\n",
    "    df[f'average_visits_per_day_{group}'] = df.apply(lambda x: get_av_visits_per_active_day([x[col] for col in needed_cols], 1), axis=1)"
   ]
  },
  {
   "cell_type": "markdown",
   "metadata": {
    "ExecuteTime": {
     "end_time": "2022-11-28T22:14:52.052239Z",
     "start_time": "2022-11-28T22:14:51.970458Z"
    }
   },
   "source": [
    "7. number of visits on previous (or 2, 3) day"
   ]
  },
  {
   "cell_type": "code",
   "execution_count": 17,
   "metadata": {
    "ExecuteTime": {
     "end_time": "2022-11-28T22:39:18.537794Z",
     "start_time": "2022-11-28T22:39:10.449612Z"
    }
   },
   "outputs": [],
   "source": [
    "def get_visits_K_days_ago(history_list, retrodate, lag=1):\n",
    "    return sum(visits for history in history_list for (day, visits) in history if (retrodate - day).days == lag)\n",
    "\n",
    "df['visits_1_day_ago_domain'] = df.apply(lambda x: get_visits_K_days_ago([x[col] for col in groups_columns], x.retrodate, 1), axis=1)\n",
    "df['visits_2_day_ago_domain'] = df.apply(lambda x: get_visits_K_days_ago([x[col] for col in groups_columns], x.retrodate, 2), axis=1)\n",
    "df['visits_3_day_ago_domain'] = df.apply(lambda x: get_visits_K_days_ago([x[col] for col in groups_columns], x.retrodate, 3), axis=1)\n",
    "\n",
    "for group in groups_set:\n",
    "    needed_cols = [col for col in groups_columns if col.startswith(group)]\n",
    "    df[f'visits_1_day_ago_{group}'] = df.apply(lambda x: get_visits_K_days_ago([x[col] for col in needed_cols], x.retrodate, 1), axis=1)\n",
    "    df[f'visits_2_day_ago_{group}'] = df.apply(lambda x: get_visits_K_days_ago([x[col] for col in needed_cols], x.retrodate, 2), axis=1)\n",
    "    df[f'visits_3_day_ago_{group}'] = df.apply(lambda x: get_visits_K_days_ago([x[col] for col in needed_cols], x.retrodate, 3), axis=1)\n",
    "    "
   ]
  },
  {
   "cell_type": "markdown",
   "metadata": {},
   "source": [
    "#### Save data for models"
   ]
  },
  {
   "cell_type": "code",
   "execution_count": 21,
   "metadata": {
    "ExecuteTime": {
     "end_time": "2022-11-28T22:39:54.050135Z",
     "start_time": "2022-11-28T22:39:54.034150Z"
    }
   },
   "outputs": [
    {
     "data": {
      "text/plain": [
       "130"
      ]
     },
     "execution_count": 21,
     "metadata": {},
     "output_type": "execute_result"
    }
   ],
   "source": [
    "ignore_columns = groups_columns + ['retrodate']\n",
    "important_columns = [c for c in df.columns if c not in ignore_columns]\n",
    "len(important_columns)"
   ]
  },
  {
   "cell_type": "code",
   "execution_count": 22,
   "metadata": {
    "ExecuteTime": {
     "end_time": "2022-11-28T22:39:57.499998Z",
     "start_time": "2022-11-28T22:39:57.449002Z"
    }
   },
   "outputs": [],
   "source": [
    "df[important_columns].to_csv('sample_processed.scv', index=False)"
   ]
  },
  {
   "cell_type": "code",
   "execution_count": null,
   "metadata": {},
   "outputs": [],
   "source": []
  },
  {
   "cell_type": "markdown",
   "metadata": {},
   "source": [
    "#### Future work"
   ]
  },
  {
   "cell_type": "markdown",
   "metadata": {},
   "source": [
    "Можно визуализировать посчитанные статистики, должны получаться понятные гистограммы + возможно будут видны отличия по таргету."
   ]
  },
  {
   "cell_type": "markdown",
   "metadata": {},
   "source": [
    "-----"
   ]
  },
  {
   "cell_type": "markdown",
   "metadata": {},
   "source": [
    "что еще можно попробовать"
   ]
  },
  {
   "cell_type": "markdown",
   "metadata": {},
   "source": [
    "Ideas and brainstorming:"
   ]
  },
  {
   "cell_type": "markdown",
   "metadata": {},
   "source": [
    "Нужно придумывать признаки, которые бы коррелировали с типичным поведением пользователя и его мотивами, настроением. Возможно следует посмотреть в сторону поведения пользователя не внутри одного домена, а кросс-доменное поведение. Например, кто-то смотрит объявления про машины, хочет купить авто, значит скоро возьмет кредит. Подсовываем ему кредитную рекламу. \n",
    "\n",
    "Нужно найти такие близкие домены. Возможно опять же нужно кластеризовать домены по поведениям пользователей. Необходимы данные по одним и тем же пользователям в разных доменах в течение +- одного времени. "
   ]
  },
  {
   "cell_type": "markdown",
   "metadata": {},
   "source": [
    "- кластеризация пользователей на группы (возможно есть активные, средние, пассивные, для каждой группы свои модели)\n",
    "- добавить к датам еще время посещения, чтобы можно было учитывать время суток\n",
    "- отсутствие интереса в начале двух недель, появление интереса к концу недель к ретродате\n",
    "- среднее время между соседними посещениями (также для всех сайтов, групп и всего домена)\n",
    "- количество дней между первым и последним заходом\n",
    "- is retrodate the same weekday as one of active days\n",
    "- is retrodate the next (1, 2, 3 days) after active day\n",
    "- increasing of interest within two weeks (number of visits goes up)- "
   ]
  },
  {
   "cell_type": "code",
   "execution_count": null,
   "metadata": {},
   "outputs": [],
   "source": []
  },
  {
   "cell_type": "code",
   "execution_count": null,
   "metadata": {},
   "outputs": [],
   "source": []
  },
  {
   "cell_type": "code",
   "execution_count": null,
   "metadata": {},
   "outputs": [],
   "source": []
  }
 ],
 "metadata": {
  "kernelspec": {
   "display_name": "Python 3",
   "language": "python",
   "name": "python3"
  },
  "language_info": {
   "codemirror_mode": {
    "name": "ipython",
    "version": 3
   },
   "file_extension": ".py",
   "mimetype": "text/x-python",
   "name": "python",
   "nbconvert_exporter": "python",
   "pygments_lexer": "ipython3",
   "version": "3.7.6"
  }
 },
 "nbformat": 4,
 "nbformat_minor": 4
}
