{
 "cells": [
  {
   "cell_type": "markdown",
   "metadata": {},
   "source": [
    "#### Import libs"
   ]
  },
  {
   "cell_type": "code",
   "execution_count": 175,
   "metadata": {
    "ExecuteTime": {
     "end_time": "2022-11-28T22:36:56.883572Z",
     "start_time": "2022-11-28T22:36:55.979512Z"
    }
   },
   "outputs": [],
   "source": [
    "import pandas as pd\n",
    "import numpy as np\n",
    "import matplotlib.pyplot as plt\n",
    "import seaborn as sns\n",
    "\n",
    "from collections import Counter, defaultdict\n",
    "\n",
    "from pprint import pprint\n",
    "import warnings\n",
    "\n",
    "warnings.filterwarnings('ignore')"
   ]
  },
  {
   "cell_type": "markdown",
   "metadata": {},
   "source": [
    "#### Download data + description of data"
   ]
  },
  {
   "cell_type": "code",
   "execution_count": 185,
   "metadata": {
    "ExecuteTime": {
     "end_time": "2022-11-28T22:36:58.776484Z",
     "start_time": "2022-11-28T22:36:58.649757Z"
    }
   },
   "outputs": [
    {
     "name": "stdout",
     "output_type": "stream",
     "text": [
      "(4881, 190)\n"
     ]
    },
    {
     "data": {
      "text/html": [
       "<div>\n",
       "<style scoped>\n",
       "    .dataframe tbody tr th:only-of-type {\n",
       "        vertical-align: middle;\n",
       "    }\n",
       "\n",
       "    .dataframe tbody tr th {\n",
       "        vertical-align: top;\n",
       "    }\n",
       "\n",
       "    .dataframe thead th {\n",
       "        text-align: right;\n",
       "    }\n",
       "</style>\n",
       "<table border=\"1\" class=\"dataframe\">\n",
       "  <thead>\n",
       "    <tr style=\"text-align: right;\">\n",
       "      <th></th>\n",
       "      <th>CLIENT_ID</th>\n",
       "      <th>RETRO_DT</th>\n",
       "      <th>TARGET</th>\n",
       "      <th>002ed5b3f6fdd73d88010863b6a44eeb5930b2eb30c250e3c51d6ae7060f1265256579b81388afc12d66e6e0d65bdf95784e80c86f36bbc8737552762e6d8546</th>\n",
       "      <th>020d725ee4b1f20ab348addb2327ce5a95d44c2f8d203ea08c1aa2df3e733a79c726f7db0db29e6f818988550e3ff34c9b7775bb32d2b5b40aa154eb71262a2c</th>\n",
       "      <th>04026768b6afb8a94c19f0bad0f177bf9987bf9670071880f74f55c8d61e96f93a2948ae697c82a8c834af9d44384edce4cf22af41fe832ed238df8a8fbf7ff5</th>\n",
       "      <th>0695f068e982bfe5dee07ea539a4da087982b2bdbcc3cdd3ebe03cf3ad638c81274faff0eaed8017f3027efc81c6bd2c7074a8e0b8eebe447060116ba1b0491e</th>\n",
       "      <th>0984a18dbd5f79e5ea1308f407cfdb217f8ac458a683c2006263d62e347cd52ae0bde62f9449fc4e4b5f5ece7481baaef2bac3f396e0f6ab823352c292d005fc</th>\n",
       "      <th>0af62b1064a44c5487c1df1dfa9a15b956f4b4edf55616dd9ff57666fe805ee2b5da9ba8ab542b6a8bef0f15d0bc482c8462a6fbefefb91290997181db6b2755</th>\n",
       "      <th>0b144de606729cc8609aefc2643861e9fece40a3a8e8498982728528833d4f38cc032ccb6bd6ad52e276c8aae4e94ef908b47f1340b4b6d14c71758e763ccef3</th>\n",
       "      <th>...</th>\n",
       "      <th>e877b3779a786d81cd70cc9a1df8a29c9d2921564289c9e79b395b3de85a965fd191080d6513c3a4a67ba32a1ffba360de64be2b3ed3adf10b393ed7249b9ee9</th>\n",
       "      <th>eac98b80015e56e12d7a751704c280dcf4468607934fe5a29e583c6fef83c87a054e72d7339bea0979debf3f24b93516b04837efaba8877ced10952f653e42e6</th>\n",
       "      <th>eb5ce7195f41816aac0cd98c0a664eb8a836d83be2490ee9c210f32e3928efa058e439401b30edf0c1b71d5186740ba346575a7888623e1eeeb6845c2a3384e6</th>\n",
       "      <th>ed758be23f6afe74cd4f866a160f8bdbcde53cbe6c4f59972fcac0e2c4467b21c41fb410b42c9e7cbfa8ab4b8c3669e3e89c5082a87bb78936c645fcd280ce4d</th>\n",
       "      <th>edff22e5a7af320dfe00b7f680ed6eb875453510b35c942de83cfd70a64609f6df72f02b1cf64d6bdb6bca4dcba4981809557c48b601b66e5d4410cd5b23e48a</th>\n",
       "      <th>f21124c671a0066a7f3fec869c74486d16d5be50d93e5597ce2317a57b46ad0fd9428bda4c89810177c8ae37bfc53191a25b8c72810534f9964b5aaf339ede11</th>\n",
       "      <th>f356d3b5543d5e309546e81cfc186fb1adc0f020d891ca9504521aebb52a560e9e0aa99978bbaa52976416311374aa1c17baa140e362e61ad8627aa260fb3d29</th>\n",
       "      <th>f870f88895544c5fb953fec2098f1de172b02481c11e44a38a8be5799120638d4717d5cfb140c069f705477f81268e9e0060ca413df8023d9f118f70e559259a</th>\n",
       "      <th>f9b55fc5107dba0b1829df86d80905e673ca809870b4e868f185bb865295f8db1522907d3bee4d87c0bfce42c315aa3af9a402a3bf0d2f3abb3bfe3098830549</th>\n",
       "      <th>faf8a241498398dbbfac4e1fb71aa658202d5ad93e95198da259db5a5b2acdb7aadcd331aeb7d7ef9b0b73631e6f4a7e48f6d5168461d35892d2ac76793578ab</th>\n",
       "    </tr>\n",
       "  </thead>\n",
       "  <tbody>\n",
       "    <tr>\n",
       "      <th>0</th>\n",
       "      <td>cdc794dc2b22260172cbda76b2268fc1a4a05a64f22dd2...</td>\n",
       "      <td>20220612</td>\n",
       "      <td>0</td>\n",
       "      <td>NaN</td>\n",
       "      <td>NaN</td>\n",
       "      <td>NaN</td>\n",
       "      <td>NaN</td>\n",
       "      <td>NaN</td>\n",
       "      <td>NaN</td>\n",
       "      <td>NaN</td>\n",
       "      <td>...</td>\n",
       "      <td>NaN</td>\n",
       "      <td>NaN</td>\n",
       "      <td>NaN</td>\n",
       "      <td>NaN</td>\n",
       "      <td>NaN</td>\n",
       "      <td>NaN</td>\n",
       "      <td>NaN</td>\n",
       "      <td>NaN</td>\n",
       "      <td>NaN</td>\n",
       "      <td>NaN</td>\n",
       "    </tr>\n",
       "    <tr>\n",
       "      <th>1</th>\n",
       "      <td>9d7e302d591925ca1f49c79540a1ad52ea4b97982e9abe...</td>\n",
       "      <td>20220602</td>\n",
       "      <td>0</td>\n",
       "      <td>NaN</td>\n",
       "      <td>NaN</td>\n",
       "      <td>NaN</td>\n",
       "      <td>NaN</td>\n",
       "      <td>NaN</td>\n",
       "      <td>NaN</td>\n",
       "      <td>NaN</td>\n",
       "      <td>...</td>\n",
       "      <td>NaN</td>\n",
       "      <td>NaN</td>\n",
       "      <td>NaN</td>\n",
       "      <td>NaN</td>\n",
       "      <td>NaN</td>\n",
       "      <td>NaN</td>\n",
       "      <td>NaN</td>\n",
       "      <td>NaN</td>\n",
       "      <td>NaN</td>\n",
       "      <td>NaN</td>\n",
       "    </tr>\n",
       "    <tr>\n",
       "      <th>2</th>\n",
       "      <td>8a5c3393374511a8af1dfc4a649879fc0cf8cc288d5f20...</td>\n",
       "      <td>20220602</td>\n",
       "      <td>0</td>\n",
       "      <td>NaN</td>\n",
       "      <td>NaN</td>\n",
       "      <td>NaN</td>\n",
       "      <td>NaN</td>\n",
       "      <td>NaN</td>\n",
       "      <td>NaN</td>\n",
       "      <td>NaN</td>\n",
       "      <td>...</td>\n",
       "      <td>NaN</td>\n",
       "      <td>NaN</td>\n",
       "      <td>NaN</td>\n",
       "      <td>NaN</td>\n",
       "      <td>NaN</td>\n",
       "      <td>NaN</td>\n",
       "      <td>NaN</td>\n",
       "      <td>NaN</td>\n",
       "      <td>NaN</td>\n",
       "      <td>NaN</td>\n",
       "    </tr>\n",
       "    <tr>\n",
       "      <th>3</th>\n",
       "      <td>dc4a89723fdbfa6336247fbcbdedb66d424d625a19243d...</td>\n",
       "      <td>20220627</td>\n",
       "      <td>0</td>\n",
       "      <td>NaN</td>\n",
       "      <td>NaN</td>\n",
       "      <td>NaN</td>\n",
       "      <td>NaN</td>\n",
       "      <td>NaN</td>\n",
       "      <td>NaN</td>\n",
       "      <td>NaN</td>\n",
       "      <td>...</td>\n",
       "      <td>NaN</td>\n",
       "      <td>NaN</td>\n",
       "      <td>NaN</td>\n",
       "      <td>NaN</td>\n",
       "      <td>NaN</td>\n",
       "      <td>NaN</td>\n",
       "      <td>NaN</td>\n",
       "      <td>NaN</td>\n",
       "      <td>NaN</td>\n",
       "      <td>NaN</td>\n",
       "    </tr>\n",
       "    <tr>\n",
       "      <th>4</th>\n",
       "      <td>6dcfdde737b2c41fe1ca0dfee521d2de053976069ba1e1...</td>\n",
       "      <td>20220629</td>\n",
       "      <td>0</td>\n",
       "      <td>NaN</td>\n",
       "      <td>NaN</td>\n",
       "      <td>NaN</td>\n",
       "      <td>NaN</td>\n",
       "      <td>NaN</td>\n",
       "      <td>NaN</td>\n",
       "      <td>NaN</td>\n",
       "      <td>...</td>\n",
       "      <td>NaN</td>\n",
       "      <td>NaN</td>\n",
       "      <td>NaN</td>\n",
       "      <td>NaN</td>\n",
       "      <td>NaN</td>\n",
       "      <td>NaN</td>\n",
       "      <td>NaN</td>\n",
       "      <td>NaN</td>\n",
       "      <td>NaN</td>\n",
       "      <td>NaN</td>\n",
       "    </tr>\n",
       "  </tbody>\n",
       "</table>\n",
       "<p>5 rows × 190 columns</p>\n",
       "</div>"
      ],
      "text/plain": [
       "                                           CLIENT_ID  RETRO_DT TARGET  \\\n",
       "0  cdc794dc2b22260172cbda76b2268fc1a4a05a64f22dd2...  20220612      0   \n",
       "1  9d7e302d591925ca1f49c79540a1ad52ea4b97982e9abe...  20220602      0   \n",
       "2  8a5c3393374511a8af1dfc4a649879fc0cf8cc288d5f20...  20220602      0   \n",
       "3  dc4a89723fdbfa6336247fbcbdedb66d424d625a19243d...  20220627      0   \n",
       "4  6dcfdde737b2c41fe1ca0dfee521d2de053976069ba1e1...  20220629      0   \n",
       "\n",
       "  002ed5b3f6fdd73d88010863b6a44eeb5930b2eb30c250e3c51d6ae7060f1265256579b81388afc12d66e6e0d65bdf95784e80c86f36bbc8737552762e6d8546  \\\n",
       "0                                                NaN                                                                                 \n",
       "1                                                NaN                                                                                 \n",
       "2                                                NaN                                                                                 \n",
       "3                                                NaN                                                                                 \n",
       "4                                                NaN                                                                                 \n",
       "\n",
       "  020d725ee4b1f20ab348addb2327ce5a95d44c2f8d203ea08c1aa2df3e733a79c726f7db0db29e6f818988550e3ff34c9b7775bb32d2b5b40aa154eb71262a2c  \\\n",
       "0                                                NaN                                                                                 \n",
       "1                                                NaN                                                                                 \n",
       "2                                                NaN                                                                                 \n",
       "3                                                NaN                                                                                 \n",
       "4                                                NaN                                                                                 \n",
       "\n",
       "  04026768b6afb8a94c19f0bad0f177bf9987bf9670071880f74f55c8d61e96f93a2948ae697c82a8c834af9d44384edce4cf22af41fe832ed238df8a8fbf7ff5  \\\n",
       "0                                                NaN                                                                                 \n",
       "1                                                NaN                                                                                 \n",
       "2                                                NaN                                                                                 \n",
       "3                                                NaN                                                                                 \n",
       "4                                                NaN                                                                                 \n",
       "\n",
       "  0695f068e982bfe5dee07ea539a4da087982b2bdbcc3cdd3ebe03cf3ad638c81274faff0eaed8017f3027efc81c6bd2c7074a8e0b8eebe447060116ba1b0491e  \\\n",
       "0                                                NaN                                                                                 \n",
       "1                                                NaN                                                                                 \n",
       "2                                                NaN                                                                                 \n",
       "3                                                NaN                                                                                 \n",
       "4                                                NaN                                                                                 \n",
       "\n",
       "  0984a18dbd5f79e5ea1308f407cfdb217f8ac458a683c2006263d62e347cd52ae0bde62f9449fc4e4b5f5ece7481baaef2bac3f396e0f6ab823352c292d005fc  \\\n",
       "0                                                NaN                                                                                 \n",
       "1                                                NaN                                                                                 \n",
       "2                                                NaN                                                                                 \n",
       "3                                                NaN                                                                                 \n",
       "4                                                NaN                                                                                 \n",
       "\n",
       "  0af62b1064a44c5487c1df1dfa9a15b956f4b4edf55616dd9ff57666fe805ee2b5da9ba8ab542b6a8bef0f15d0bc482c8462a6fbefefb91290997181db6b2755  \\\n",
       "0                                                NaN                                                                                 \n",
       "1                                                NaN                                                                                 \n",
       "2                                                NaN                                                                                 \n",
       "3                                                NaN                                                                                 \n",
       "4                                                NaN                                                                                 \n",
       "\n",
       "  0b144de606729cc8609aefc2643861e9fece40a3a8e8498982728528833d4f38cc032ccb6bd6ad52e276c8aae4e94ef908b47f1340b4b6d14c71758e763ccef3  \\\n",
       "0                                                NaN                                                                                 \n",
       "1                                                NaN                                                                                 \n",
       "2                                                NaN                                                                                 \n",
       "3                                                NaN                                                                                 \n",
       "4                                                NaN                                                                                 \n",
       "\n",
       "   ...  \\\n",
       "0  ...   \n",
       "1  ...   \n",
       "2  ...   \n",
       "3  ...   \n",
       "4  ...   \n",
       "\n",
       "  e877b3779a786d81cd70cc9a1df8a29c9d2921564289c9e79b395b3de85a965fd191080d6513c3a4a67ba32a1ffba360de64be2b3ed3adf10b393ed7249b9ee9  \\\n",
       "0                                                NaN                                                                                 \n",
       "1                                                NaN                                                                                 \n",
       "2                                                NaN                                                                                 \n",
       "3                                                NaN                                                                                 \n",
       "4                                                NaN                                                                                 \n",
       "\n",
       "  eac98b80015e56e12d7a751704c280dcf4468607934fe5a29e583c6fef83c87a054e72d7339bea0979debf3f24b93516b04837efaba8877ced10952f653e42e6  \\\n",
       "0                                                NaN                                                                                 \n",
       "1                                                NaN                                                                                 \n",
       "2                                                NaN                                                                                 \n",
       "3                                                NaN                                                                                 \n",
       "4                                                NaN                                                                                 \n",
       "\n",
       "  eb5ce7195f41816aac0cd98c0a664eb8a836d83be2490ee9c210f32e3928efa058e439401b30edf0c1b71d5186740ba346575a7888623e1eeeb6845c2a3384e6  \\\n",
       "0                                                NaN                                                                                 \n",
       "1                                                NaN                                                                                 \n",
       "2                                                NaN                                                                                 \n",
       "3                                                NaN                                                                                 \n",
       "4                                                NaN                                                                                 \n",
       "\n",
       "  ed758be23f6afe74cd4f866a160f8bdbcde53cbe6c4f59972fcac0e2c4467b21c41fb410b42c9e7cbfa8ab4b8c3669e3e89c5082a87bb78936c645fcd280ce4d  \\\n",
       "0                                                NaN                                                                                 \n",
       "1                                                NaN                                                                                 \n",
       "2                                                NaN                                                                                 \n",
       "3                                                NaN                                                                                 \n",
       "4                                                NaN                                                                                 \n",
       "\n",
       "  edff22e5a7af320dfe00b7f680ed6eb875453510b35c942de83cfd70a64609f6df72f02b1cf64d6bdb6bca4dcba4981809557c48b601b66e5d4410cd5b23e48a  \\\n",
       "0                                                NaN                                                                                 \n",
       "1                                                NaN                                                                                 \n",
       "2                                                NaN                                                                                 \n",
       "3                                                NaN                                                                                 \n",
       "4                                                NaN                                                                                 \n",
       "\n",
       "  f21124c671a0066a7f3fec869c74486d16d5be50d93e5597ce2317a57b46ad0fd9428bda4c89810177c8ae37bfc53191a25b8c72810534f9964b5aaf339ede11  \\\n",
       "0                                                NaN                                                                                 \n",
       "1                                                NaN                                                                                 \n",
       "2                                                NaN                                                                                 \n",
       "3                                                NaN                                                                                 \n",
       "4                                                NaN                                                                                 \n",
       "\n",
       "  f356d3b5543d5e309546e81cfc186fb1adc0f020d891ca9504521aebb52a560e9e0aa99978bbaa52976416311374aa1c17baa140e362e61ad8627aa260fb3d29  \\\n",
       "0                                                NaN                                                                                 \n",
       "1                                                NaN                                                                                 \n",
       "2                                                NaN                                                                                 \n",
       "3                                                NaN                                                                                 \n",
       "4                                                NaN                                                                                 \n",
       "\n",
       "  f870f88895544c5fb953fec2098f1de172b02481c11e44a38a8be5799120638d4717d5cfb140c069f705477f81268e9e0060ca413df8023d9f118f70e559259a  \\\n",
       "0                                                NaN                                                                                 \n",
       "1                                                NaN                                                                                 \n",
       "2                                                NaN                                                                                 \n",
       "3                                                NaN                                                                                 \n",
       "4                                                NaN                                                                                 \n",
       "\n",
       "  f9b55fc5107dba0b1829df86d80905e673ca809870b4e868f185bb865295f8db1522907d3bee4d87c0bfce42c315aa3af9a402a3bf0d2f3abb3bfe3098830549  \\\n",
       "0                                                NaN                                                                                 \n",
       "1                                                NaN                                                                                 \n",
       "2                                                NaN                                                                                 \n",
       "3                                                NaN                                                                                 \n",
       "4                                                NaN                                                                                 \n",
       "\n",
       "  faf8a241498398dbbfac4e1fb71aa658202d5ad93e95198da259db5a5b2acdb7aadcd331aeb7d7ef9b0b73631e6f4a7e48f6d5168461d35892d2ac76793578ab  \n",
       "0                                                NaN                                                                                \n",
       "1                                                NaN                                                                                \n",
       "2                                                NaN                                                                                \n",
       "3                                                NaN                                                                                \n",
       "4                                                NaN                                                                                \n",
       "\n",
       "[5 rows x 190 columns]"
      ]
     },
     "execution_count": 185,
     "metadata": {},
     "output_type": "execute_result"
    }
   ],
   "source": [
    "df = pd.read_pickle('MADE_sample_191222_v2.pickle')\n",
    "print(df.shape)\n",
    "df.head()"
   ]
  },
  {
   "cell_type": "code",
   "execution_count": 186,
   "metadata": {},
   "outputs": [
    {
     "data": {
      "text/plain": [
       "Index(['CLIENT_ID', 'RETRO_DT', 'TARGET',\n",
       "       '002ed5b3f6fdd73d88010863b6a44eeb5930b2eb30c250e3c51d6ae7060f1265256579b81388afc12d66e6e0d65bdf95784e80c86f36bbc8737552762e6d8546',\n",
       "       '020d725ee4b1f20ab348addb2327ce5a95d44c2f8d203ea08c1aa2df3e733a79c726f7db0db29e6f818988550e3ff34c9b7775bb32d2b5b40aa154eb71262a2c',\n",
       "       '04026768b6afb8a94c19f0bad0f177bf9987bf9670071880f74f55c8d61e96f93a2948ae697c82a8c834af9d44384edce4cf22af41fe832ed238df8a8fbf7ff5',\n",
       "       '0695f068e982bfe5dee07ea539a4da087982b2bdbcc3cdd3ebe03cf3ad638c81274faff0eaed8017f3027efc81c6bd2c7074a8e0b8eebe447060116ba1b0491e',\n",
       "       '0984a18dbd5f79e5ea1308f407cfdb217f8ac458a683c2006263d62e347cd52ae0bde62f9449fc4e4b5f5ece7481baaef2bac3f396e0f6ab823352c292d005fc',\n",
       "       '0af62b1064a44c5487c1df1dfa9a15b956f4b4edf55616dd9ff57666fe805ee2b5da9ba8ab542b6a8bef0f15d0bc482c8462a6fbefefb91290997181db6b2755',\n",
       "       '0b144de606729cc8609aefc2643861e9fece40a3a8e8498982728528833d4f38cc032ccb6bd6ad52e276c8aae4e94ef908b47f1340b4b6d14c71758e763ccef3'],\n",
       "      dtype='object')"
      ]
     },
     "execution_count": 186,
     "metadata": {},
     "output_type": "execute_result"
    }
   ],
   "source": [
    "df.columns[:10]"
   ]
  },
  {
   "cell_type": "markdown",
   "metadata": {},
   "source": [
    "Переименовываем столбцы."
   ]
  },
  {
   "cell_type": "code",
   "execution_count": 187,
   "metadata": {},
   "outputs": [],
   "source": [
    "columns_dict = {c: f'l_{i}' for i, c in enumerate(df.columns[3:], 1)}\n",
    "df.rename(columns=columns_dict, inplace=True)"
   ]
  },
  {
   "cell_type": "code",
   "execution_count": 188,
   "metadata": {},
   "outputs": [
    {
     "data": {
      "text/html": [
       "<div>\n",
       "<style scoped>\n",
       "    .dataframe tbody tr th:only-of-type {\n",
       "        vertical-align: middle;\n",
       "    }\n",
       "\n",
       "    .dataframe tbody tr th {\n",
       "        vertical-align: top;\n",
       "    }\n",
       "\n",
       "    .dataframe thead th {\n",
       "        text-align: right;\n",
       "    }\n",
       "</style>\n",
       "<table border=\"1\" class=\"dataframe\">\n",
       "  <thead>\n",
       "    <tr style=\"text-align: right;\">\n",
       "      <th></th>\n",
       "      <th>CLIENT_ID</th>\n",
       "      <th>RETRO_DT</th>\n",
       "      <th>TARGET</th>\n",
       "      <th>l_1</th>\n",
       "      <th>l_2</th>\n",
       "      <th>l_3</th>\n",
       "      <th>l_4</th>\n",
       "      <th>l_5</th>\n",
       "      <th>l_6</th>\n",
       "      <th>l_7</th>\n",
       "      <th>...</th>\n",
       "      <th>l_178</th>\n",
       "      <th>l_179</th>\n",
       "      <th>l_180</th>\n",
       "      <th>l_181</th>\n",
       "      <th>l_182</th>\n",
       "      <th>l_183</th>\n",
       "      <th>l_184</th>\n",
       "      <th>l_185</th>\n",
       "      <th>l_186</th>\n",
       "      <th>l_187</th>\n",
       "    </tr>\n",
       "  </thead>\n",
       "  <tbody>\n",
       "    <tr>\n",
       "      <th>0</th>\n",
       "      <td>cdc794dc2b22260172cbda76b2268fc1a4a05a64f22dd2...</td>\n",
       "      <td>20220612</td>\n",
       "      <td>0</td>\n",
       "      <td>NaN</td>\n",
       "      <td>NaN</td>\n",
       "      <td>NaN</td>\n",
       "      <td>NaN</td>\n",
       "      <td>NaN</td>\n",
       "      <td>NaN</td>\n",
       "      <td>NaN</td>\n",
       "      <td>...</td>\n",
       "      <td>NaN</td>\n",
       "      <td>NaN</td>\n",
       "      <td>NaN</td>\n",
       "      <td>NaN</td>\n",
       "      <td>NaN</td>\n",
       "      <td>NaN</td>\n",
       "      <td>NaN</td>\n",
       "      <td>NaN</td>\n",
       "      <td>NaN</td>\n",
       "      <td>NaN</td>\n",
       "    </tr>\n",
       "    <tr>\n",
       "      <th>1</th>\n",
       "      <td>9d7e302d591925ca1f49c79540a1ad52ea4b97982e9abe...</td>\n",
       "      <td>20220602</td>\n",
       "      <td>0</td>\n",
       "      <td>NaN</td>\n",
       "      <td>NaN</td>\n",
       "      <td>NaN</td>\n",
       "      <td>NaN</td>\n",
       "      <td>NaN</td>\n",
       "      <td>NaN</td>\n",
       "      <td>NaN</td>\n",
       "      <td>...</td>\n",
       "      <td>NaN</td>\n",
       "      <td>NaN</td>\n",
       "      <td>NaN</td>\n",
       "      <td>NaN</td>\n",
       "      <td>NaN</td>\n",
       "      <td>NaN</td>\n",
       "      <td>NaN</td>\n",
       "      <td>NaN</td>\n",
       "      <td>NaN</td>\n",
       "      <td>NaN</td>\n",
       "    </tr>\n",
       "    <tr>\n",
       "      <th>2</th>\n",
       "      <td>8a5c3393374511a8af1dfc4a649879fc0cf8cc288d5f20...</td>\n",
       "      <td>20220602</td>\n",
       "      <td>0</td>\n",
       "      <td>NaN</td>\n",
       "      <td>NaN</td>\n",
       "      <td>NaN</td>\n",
       "      <td>NaN</td>\n",
       "      <td>NaN</td>\n",
       "      <td>NaN</td>\n",
       "      <td>NaN</td>\n",
       "      <td>...</td>\n",
       "      <td>NaN</td>\n",
       "      <td>NaN</td>\n",
       "      <td>NaN</td>\n",
       "      <td>NaN</td>\n",
       "      <td>NaN</td>\n",
       "      <td>NaN</td>\n",
       "      <td>NaN</td>\n",
       "      <td>NaN</td>\n",
       "      <td>NaN</td>\n",
       "      <td>NaN</td>\n",
       "    </tr>\n",
       "    <tr>\n",
       "      <th>3</th>\n",
       "      <td>dc4a89723fdbfa6336247fbcbdedb66d424d625a19243d...</td>\n",
       "      <td>20220627</td>\n",
       "      <td>0</td>\n",
       "      <td>NaN</td>\n",
       "      <td>NaN</td>\n",
       "      <td>NaN</td>\n",
       "      <td>NaN</td>\n",
       "      <td>NaN</td>\n",
       "      <td>NaN</td>\n",
       "      <td>NaN</td>\n",
       "      <td>...</td>\n",
       "      <td>NaN</td>\n",
       "      <td>NaN</td>\n",
       "      <td>NaN</td>\n",
       "      <td>NaN</td>\n",
       "      <td>NaN</td>\n",
       "      <td>NaN</td>\n",
       "      <td>NaN</td>\n",
       "      <td>NaN</td>\n",
       "      <td>NaN</td>\n",
       "      <td>NaN</td>\n",
       "    </tr>\n",
       "    <tr>\n",
       "      <th>4</th>\n",
       "      <td>6dcfdde737b2c41fe1ca0dfee521d2de053976069ba1e1...</td>\n",
       "      <td>20220629</td>\n",
       "      <td>0</td>\n",
       "      <td>NaN</td>\n",
       "      <td>NaN</td>\n",
       "      <td>NaN</td>\n",
       "      <td>NaN</td>\n",
       "      <td>NaN</td>\n",
       "      <td>NaN</td>\n",
       "      <td>NaN</td>\n",
       "      <td>...</td>\n",
       "      <td>NaN</td>\n",
       "      <td>NaN</td>\n",
       "      <td>NaN</td>\n",
       "      <td>NaN</td>\n",
       "      <td>NaN</td>\n",
       "      <td>NaN</td>\n",
       "      <td>NaN</td>\n",
       "      <td>NaN</td>\n",
       "      <td>NaN</td>\n",
       "      <td>NaN</td>\n",
       "    </tr>\n",
       "  </tbody>\n",
       "</table>\n",
       "<p>5 rows × 190 columns</p>\n",
       "</div>"
      ],
      "text/plain": [
       "                                           CLIENT_ID  RETRO_DT TARGET  l_1  \\\n",
       "0  cdc794dc2b22260172cbda76b2268fc1a4a05a64f22dd2...  20220612      0  NaN   \n",
       "1  9d7e302d591925ca1f49c79540a1ad52ea4b97982e9abe...  20220602      0  NaN   \n",
       "2  8a5c3393374511a8af1dfc4a649879fc0cf8cc288d5f20...  20220602      0  NaN   \n",
       "3  dc4a89723fdbfa6336247fbcbdedb66d424d625a19243d...  20220627      0  NaN   \n",
       "4  6dcfdde737b2c41fe1ca0dfee521d2de053976069ba1e1...  20220629      0  NaN   \n",
       "\n",
       "   l_2  l_3  l_4  l_5  l_6  l_7  ... l_178 l_179 l_180 l_181 l_182 l_183  \\\n",
       "0  NaN  NaN  NaN  NaN  NaN  NaN  ...   NaN   NaN   NaN   NaN   NaN   NaN   \n",
       "1  NaN  NaN  NaN  NaN  NaN  NaN  ...   NaN   NaN   NaN   NaN   NaN   NaN   \n",
       "2  NaN  NaN  NaN  NaN  NaN  NaN  ...   NaN   NaN   NaN   NaN   NaN   NaN   \n",
       "3  NaN  NaN  NaN  NaN  NaN  NaN  ...   NaN   NaN   NaN   NaN   NaN   NaN   \n",
       "4  NaN  NaN  NaN  NaN  NaN  NaN  ...   NaN   NaN   NaN   NaN   NaN   NaN   \n",
       "\n",
       "  l_184 l_185 l_186 l_187  \n",
       "0   NaN   NaN   NaN   NaN  \n",
       "1   NaN   NaN   NaN   NaN  \n",
       "2   NaN   NaN   NaN   NaN  \n",
       "3   NaN   NaN   NaN   NaN  \n",
       "4   NaN   NaN   NaN   NaN  \n",
       "\n",
       "[5 rows x 190 columns]"
      ]
     },
     "execution_count": 188,
     "metadata": {},
     "output_type": "execute_result"
    }
   ],
   "source": [
    "df.head()"
   ]
  },
  {
   "cell_type": "markdown",
   "metadata": {},
   "source": [
    "Видим большое число NaNов"
   ]
  },
  {
   "cell_type": "code",
   "execution_count": 189,
   "metadata": {},
   "outputs": [
    {
     "data": {
      "text/plain": [
       "0    4773\n",
       "1     108\n",
       "Name: TARGET, dtype: int64"
      ]
     },
     "execution_count": 189,
     "metadata": {},
     "output_type": "execute_result"
    }
   ],
   "source": [
    "df['TARGET'].value_counts()"
   ]
  },
  {
   "cell_type": "markdown",
   "metadata": {},
   "source": [
    "Структура данных следующая:\n",
    "\n",
    "- id пользователя\n",
    "- target - является ли пользователь заинтересованным в данном товаре в конкретную дату\n",
    "- ретродата - конкретная дата, в которую мы бы хотели уметь предсказывать интерес пользователя\n",
    "- все следующие столбцы описывают поведение пользователя в сети в предыдущие 2 недели.\n",
    "    - каждый столбец соответствует определнной ссылке\n",
    "    - ссылки анонимизированы \n",
    "    - ссылки разбиты на группы, группы определяются по префиксу столбца, в группах может быть разное количество ссылок\n",
    "    - история представляет собой список пар - (дата посещения, количество посещений в эту дату)"
   ]
  },
  {
   "cell_type": "markdown",
   "metadata": {},
   "source": [
    "#### General description of data"
   ]
  },
  {
   "cell_type": "code",
   "execution_count": 190,
   "metadata": {
    "ExecuteTime": {
     "end_time": "2022-11-28T22:37:07.963185Z",
     "start_time": "2022-11-28T22:37:07.953211Z"
    }
   },
   "outputs": [
    {
     "name": "stdout",
     "output_type": "stream",
     "text": [
      "df shape         : (4881, 190)\n",
      "unique users     : 4881\n"
     ]
    }
   ],
   "source": [
    "# table size\n",
    "print(\"df shape         :\", df.shape)\n",
    "# number of unique users\n",
    "print(\"unique users     :\", df.CLIENT_ID.nunique())\n",
    "# number of groups\n",
    "groups_columns = df.columns.tolist()[3:]"
   ]
  },
  {
   "cell_type": "code",
   "execution_count": 191,
   "metadata": {},
   "outputs": [],
   "source": [
    "df.CLIENT_ID = [f'u_{i}' for i, u in enumerate(range(df.shape[0]), 1)]"
   ]
  },
  {
   "cell_type": "code",
   "execution_count": 192,
   "metadata": {},
   "outputs": [
    {
     "data": {
      "text/html": [
       "<div>\n",
       "<style scoped>\n",
       "    .dataframe tbody tr th:only-of-type {\n",
       "        vertical-align: middle;\n",
       "    }\n",
       "\n",
       "    .dataframe tbody tr th {\n",
       "        vertical-align: top;\n",
       "    }\n",
       "\n",
       "    .dataframe thead th {\n",
       "        text-align: right;\n",
       "    }\n",
       "</style>\n",
       "<table border=\"1\" class=\"dataframe\">\n",
       "  <thead>\n",
       "    <tr style=\"text-align: right;\">\n",
       "      <th></th>\n",
       "      <th>CLIENT_ID</th>\n",
       "      <th>RETRO_DT</th>\n",
       "      <th>TARGET</th>\n",
       "      <th>l_1</th>\n",
       "      <th>l_2</th>\n",
       "      <th>l_3</th>\n",
       "      <th>l_4</th>\n",
       "      <th>l_5</th>\n",
       "      <th>l_6</th>\n",
       "      <th>l_7</th>\n",
       "      <th>...</th>\n",
       "      <th>l_178</th>\n",
       "      <th>l_179</th>\n",
       "      <th>l_180</th>\n",
       "      <th>l_181</th>\n",
       "      <th>l_182</th>\n",
       "      <th>l_183</th>\n",
       "      <th>l_184</th>\n",
       "      <th>l_185</th>\n",
       "      <th>l_186</th>\n",
       "      <th>l_187</th>\n",
       "    </tr>\n",
       "  </thead>\n",
       "  <tbody>\n",
       "    <tr>\n",
       "      <th>0</th>\n",
       "      <td>u_1</td>\n",
       "      <td>20220612</td>\n",
       "      <td>0</td>\n",
       "      <td>NaN</td>\n",
       "      <td>NaN</td>\n",
       "      <td>NaN</td>\n",
       "      <td>NaN</td>\n",
       "      <td>NaN</td>\n",
       "      <td>NaN</td>\n",
       "      <td>NaN</td>\n",
       "      <td>...</td>\n",
       "      <td>NaN</td>\n",
       "      <td>NaN</td>\n",
       "      <td>NaN</td>\n",
       "      <td>NaN</td>\n",
       "      <td>NaN</td>\n",
       "      <td>NaN</td>\n",
       "      <td>NaN</td>\n",
       "      <td>NaN</td>\n",
       "      <td>NaN</td>\n",
       "      <td>NaN</td>\n",
       "    </tr>\n",
       "    <tr>\n",
       "      <th>1</th>\n",
       "      <td>u_2</td>\n",
       "      <td>20220602</td>\n",
       "      <td>0</td>\n",
       "      <td>NaN</td>\n",
       "      <td>NaN</td>\n",
       "      <td>NaN</td>\n",
       "      <td>NaN</td>\n",
       "      <td>NaN</td>\n",
       "      <td>NaN</td>\n",
       "      <td>NaN</td>\n",
       "      <td>...</td>\n",
       "      <td>NaN</td>\n",
       "      <td>NaN</td>\n",
       "      <td>NaN</td>\n",
       "      <td>NaN</td>\n",
       "      <td>NaN</td>\n",
       "      <td>NaN</td>\n",
       "      <td>NaN</td>\n",
       "      <td>NaN</td>\n",
       "      <td>NaN</td>\n",
       "      <td>NaN</td>\n",
       "    </tr>\n",
       "    <tr>\n",
       "      <th>2</th>\n",
       "      <td>u_3</td>\n",
       "      <td>20220602</td>\n",
       "      <td>0</td>\n",
       "      <td>NaN</td>\n",
       "      <td>NaN</td>\n",
       "      <td>NaN</td>\n",
       "      <td>NaN</td>\n",
       "      <td>NaN</td>\n",
       "      <td>NaN</td>\n",
       "      <td>NaN</td>\n",
       "      <td>...</td>\n",
       "      <td>NaN</td>\n",
       "      <td>NaN</td>\n",
       "      <td>NaN</td>\n",
       "      <td>NaN</td>\n",
       "      <td>NaN</td>\n",
       "      <td>NaN</td>\n",
       "      <td>NaN</td>\n",
       "      <td>NaN</td>\n",
       "      <td>NaN</td>\n",
       "      <td>NaN</td>\n",
       "    </tr>\n",
       "    <tr>\n",
       "      <th>3</th>\n",
       "      <td>u_4</td>\n",
       "      <td>20220627</td>\n",
       "      <td>0</td>\n",
       "      <td>NaN</td>\n",
       "      <td>NaN</td>\n",
       "      <td>NaN</td>\n",
       "      <td>NaN</td>\n",
       "      <td>NaN</td>\n",
       "      <td>NaN</td>\n",
       "      <td>NaN</td>\n",
       "      <td>...</td>\n",
       "      <td>NaN</td>\n",
       "      <td>NaN</td>\n",
       "      <td>NaN</td>\n",
       "      <td>NaN</td>\n",
       "      <td>NaN</td>\n",
       "      <td>NaN</td>\n",
       "      <td>NaN</td>\n",
       "      <td>NaN</td>\n",
       "      <td>NaN</td>\n",
       "      <td>NaN</td>\n",
       "    </tr>\n",
       "    <tr>\n",
       "      <th>4</th>\n",
       "      <td>u_5</td>\n",
       "      <td>20220629</td>\n",
       "      <td>0</td>\n",
       "      <td>NaN</td>\n",
       "      <td>NaN</td>\n",
       "      <td>NaN</td>\n",
       "      <td>NaN</td>\n",
       "      <td>NaN</td>\n",
       "      <td>NaN</td>\n",
       "      <td>NaN</td>\n",
       "      <td>...</td>\n",
       "      <td>NaN</td>\n",
       "      <td>NaN</td>\n",
       "      <td>NaN</td>\n",
       "      <td>NaN</td>\n",
       "      <td>NaN</td>\n",
       "      <td>NaN</td>\n",
       "      <td>NaN</td>\n",
       "      <td>NaN</td>\n",
       "      <td>NaN</td>\n",
       "      <td>NaN</td>\n",
       "    </tr>\n",
       "    <tr>\n",
       "      <th>...</th>\n",
       "      <td>...</td>\n",
       "      <td>...</td>\n",
       "      <td>...</td>\n",
       "      <td>...</td>\n",
       "      <td>...</td>\n",
       "      <td>...</td>\n",
       "      <td>...</td>\n",
       "      <td>...</td>\n",
       "      <td>...</td>\n",
       "      <td>...</td>\n",
       "      <td>...</td>\n",
       "      <td>...</td>\n",
       "      <td>...</td>\n",
       "      <td>...</td>\n",
       "      <td>...</td>\n",
       "      <td>...</td>\n",
       "      <td>...</td>\n",
       "      <td>...</td>\n",
       "      <td>...</td>\n",
       "      <td>...</td>\n",
       "      <td>...</td>\n",
       "    </tr>\n",
       "    <tr>\n",
       "      <th>4876</th>\n",
       "      <td>u_4877</td>\n",
       "      <td>20220608</td>\n",
       "      <td>0</td>\n",
       "      <td>NaN</td>\n",
       "      <td>NaN</td>\n",
       "      <td>NaN</td>\n",
       "      <td>NaN</td>\n",
       "      <td>NaN</td>\n",
       "      <td>NaN</td>\n",
       "      <td>NaN</td>\n",
       "      <td>...</td>\n",
       "      <td>NaN</td>\n",
       "      <td>NaN</td>\n",
       "      <td>NaN</td>\n",
       "      <td>NaN</td>\n",
       "      <td>NaN</td>\n",
       "      <td>NaN</td>\n",
       "      <td>NaN</td>\n",
       "      <td>NaN</td>\n",
       "      <td>NaN</td>\n",
       "      <td>NaN</td>\n",
       "    </tr>\n",
       "    <tr>\n",
       "      <th>4877</th>\n",
       "      <td>u_4878</td>\n",
       "      <td>20220628</td>\n",
       "      <td>0</td>\n",
       "      <td>NaN</td>\n",
       "      <td>NaN</td>\n",
       "      <td>NaN</td>\n",
       "      <td>NaN</td>\n",
       "      <td>NaN</td>\n",
       "      <td>NaN</td>\n",
       "      <td>NaN</td>\n",
       "      <td>...</td>\n",
       "      <td>NaN</td>\n",
       "      <td>NaN</td>\n",
       "      <td>NaN</td>\n",
       "      <td>NaN</td>\n",
       "      <td>NaN</td>\n",
       "      <td>NaN</td>\n",
       "      <td>NaN</td>\n",
       "      <td>NaN</td>\n",
       "      <td>NaN</td>\n",
       "      <td>NaN</td>\n",
       "    </tr>\n",
       "    <tr>\n",
       "      <th>4878</th>\n",
       "      <td>u_4879</td>\n",
       "      <td>20220622</td>\n",
       "      <td>0</td>\n",
       "      <td>NaN</td>\n",
       "      <td>NaN</td>\n",
       "      <td>NaN</td>\n",
       "      <td>NaN</td>\n",
       "      <td>NaN</td>\n",
       "      <td>NaN</td>\n",
       "      <td>NaN</td>\n",
       "      <td>...</td>\n",
       "      <td>NaN</td>\n",
       "      <td>NaN</td>\n",
       "      <td>NaN</td>\n",
       "      <td>NaN</td>\n",
       "      <td>[[2022-06-19, 1], [2022-06-20, 1]]</td>\n",
       "      <td>NaN</td>\n",
       "      <td>NaN</td>\n",
       "      <td>NaN</td>\n",
       "      <td>NaN</td>\n",
       "      <td>NaN</td>\n",
       "    </tr>\n",
       "    <tr>\n",
       "      <th>4879</th>\n",
       "      <td>u_4880</td>\n",
       "      <td>20220601</td>\n",
       "      <td>0</td>\n",
       "      <td>NaN</td>\n",
       "      <td>NaN</td>\n",
       "      <td>NaN</td>\n",
       "      <td>NaN</td>\n",
       "      <td>NaN</td>\n",
       "      <td>NaN</td>\n",
       "      <td>NaN</td>\n",
       "      <td>...</td>\n",
       "      <td>NaN</td>\n",
       "      <td>NaN</td>\n",
       "      <td>NaN</td>\n",
       "      <td>NaN</td>\n",
       "      <td>NaN</td>\n",
       "      <td>NaN</td>\n",
       "      <td>NaN</td>\n",
       "      <td>NaN</td>\n",
       "      <td>NaN</td>\n",
       "      <td>NaN</td>\n",
       "    </tr>\n",
       "    <tr>\n",
       "      <th>4880</th>\n",
       "      <td>u_4881</td>\n",
       "      <td>20220623</td>\n",
       "      <td>0</td>\n",
       "      <td>NaN</td>\n",
       "      <td>NaN</td>\n",
       "      <td>NaN</td>\n",
       "      <td>NaN</td>\n",
       "      <td>NaN</td>\n",
       "      <td>NaN</td>\n",
       "      <td>NaN</td>\n",
       "      <td>...</td>\n",
       "      <td>NaN</td>\n",
       "      <td>NaN</td>\n",
       "      <td>NaN</td>\n",
       "      <td>NaN</td>\n",
       "      <td>NaN</td>\n",
       "      <td>NaN</td>\n",
       "      <td>NaN</td>\n",
       "      <td>NaN</td>\n",
       "      <td>NaN</td>\n",
       "      <td>NaN</td>\n",
       "    </tr>\n",
       "  </tbody>\n",
       "</table>\n",
       "<p>4881 rows × 190 columns</p>\n",
       "</div>"
      ],
      "text/plain": [
       "     CLIENT_ID  RETRO_DT TARGET  l_1  l_2  l_3  l_4  l_5  l_6  l_7  ... l_178  \\\n",
       "0          u_1  20220612      0  NaN  NaN  NaN  NaN  NaN  NaN  NaN  ...   NaN   \n",
       "1          u_2  20220602      0  NaN  NaN  NaN  NaN  NaN  NaN  NaN  ...   NaN   \n",
       "2          u_3  20220602      0  NaN  NaN  NaN  NaN  NaN  NaN  NaN  ...   NaN   \n",
       "3          u_4  20220627      0  NaN  NaN  NaN  NaN  NaN  NaN  NaN  ...   NaN   \n",
       "4          u_5  20220629      0  NaN  NaN  NaN  NaN  NaN  NaN  NaN  ...   NaN   \n",
       "...        ...       ...    ...  ...  ...  ...  ...  ...  ...  ...  ...   ...   \n",
       "4876    u_4877  20220608      0  NaN  NaN  NaN  NaN  NaN  NaN  NaN  ...   NaN   \n",
       "4877    u_4878  20220628      0  NaN  NaN  NaN  NaN  NaN  NaN  NaN  ...   NaN   \n",
       "4878    u_4879  20220622      0  NaN  NaN  NaN  NaN  NaN  NaN  NaN  ...   NaN   \n",
       "4879    u_4880  20220601      0  NaN  NaN  NaN  NaN  NaN  NaN  NaN  ...   NaN   \n",
       "4880    u_4881  20220623      0  NaN  NaN  NaN  NaN  NaN  NaN  NaN  ...   NaN   \n",
       "\n",
       "     l_179 l_180 l_181                               l_182 l_183 l_184 l_185  \\\n",
       "0      NaN   NaN   NaN                                 NaN   NaN   NaN   NaN   \n",
       "1      NaN   NaN   NaN                                 NaN   NaN   NaN   NaN   \n",
       "2      NaN   NaN   NaN                                 NaN   NaN   NaN   NaN   \n",
       "3      NaN   NaN   NaN                                 NaN   NaN   NaN   NaN   \n",
       "4      NaN   NaN   NaN                                 NaN   NaN   NaN   NaN   \n",
       "...    ...   ...   ...                                 ...   ...   ...   ...   \n",
       "4876   NaN   NaN   NaN                                 NaN   NaN   NaN   NaN   \n",
       "4877   NaN   NaN   NaN                                 NaN   NaN   NaN   NaN   \n",
       "4878   NaN   NaN   NaN  [[2022-06-19, 1], [2022-06-20, 1]]   NaN   NaN   NaN   \n",
       "4879   NaN   NaN   NaN                                 NaN   NaN   NaN   NaN   \n",
       "4880   NaN   NaN   NaN                                 NaN   NaN   NaN   NaN   \n",
       "\n",
       "     l_186 l_187  \n",
       "0      NaN   NaN  \n",
       "1      NaN   NaN  \n",
       "2      NaN   NaN  \n",
       "3      NaN   NaN  \n",
       "4      NaN   NaN  \n",
       "...    ...   ...  \n",
       "4876   NaN   NaN  \n",
       "4877   NaN   NaN  \n",
       "4878   NaN   NaN  \n",
       "4879   NaN   NaN  \n",
       "4880   NaN   NaN  \n",
       "\n",
       "[4881 rows x 190 columns]"
      ]
     },
     "execution_count": 192,
     "metadata": {},
     "output_type": "execute_result"
    }
   ],
   "source": [
    "df"
   ]
  },
  {
   "cell_type": "markdown",
   "metadata": {},
   "source": [
    "#### Data processing"
   ]
  },
  {
   "cell_type": "markdown",
   "metadata": {},
   "source": [
    "First of all lets convert lists in cells into real lists (now they are string-lists)."
   ]
  },
  {
   "cell_type": "code",
   "execution_count": 193,
   "metadata": {
    "ExecuteTime": {
     "end_time": "2022-11-28T22:37:36.268780Z",
     "start_time": "2022-11-28T22:37:36.256814Z"
    }
   },
   "outputs": [],
   "source": [
    "def make_normal_list(string_list):\n",
    "    if isinstance(string_list, float):\n",
    "        return None\n",
    "    day_process = lambda x: (pd.to_datetime(x[0], format='%Y-%m-%d').date(), x[1])\n",
    "    \n",
    "    history = [day_process(day) for day in string_list]\n",
    "    return history"
   ]
  },
  {
   "cell_type": "code",
   "execution_count": 194,
   "metadata": {
    "ExecuteTime": {
     "end_time": "2022-11-28T22:37:38.768894Z",
     "start_time": "2022-11-28T22:37:38.761883Z"
    }
   },
   "outputs": [],
   "source": [
    "def make_normal_list_series(series):\n",
    "    return series.apply(make_normal_list)"
   ]
  },
  {
   "cell_type": "code",
   "execution_count": 195,
   "metadata": {
    "ExecuteTime": {
     "end_time": "2022-11-28T22:37:39.690160Z",
     "start_time": "2022-11-28T22:37:39.672176Z"
    }
   },
   "outputs": [],
   "source": [
    "df.RETRO_DT = pd.to_datetime(df.RETRO_DT, format='%Y%m%d').dt.date"
   ]
  },
  {
   "cell_type": "code",
   "execution_count": 196,
   "metadata": {
    "ExecuteTime": {
     "end_time": "2022-11-28T22:38:30.411662Z",
     "start_time": "2022-11-28T22:37:42.865722Z"
    }
   },
   "outputs": [],
   "source": [
    "df[groups_columns] = df[groups_columns].apply(make_normal_list_series)"
   ]
  },
  {
   "cell_type": "code",
   "execution_count": 197,
   "metadata": {},
   "outputs": [
    {
     "data": {
      "text/html": [
       "<div>\n",
       "<style scoped>\n",
       "    .dataframe tbody tr th:only-of-type {\n",
       "        vertical-align: middle;\n",
       "    }\n",
       "\n",
       "    .dataframe tbody tr th {\n",
       "        vertical-align: top;\n",
       "    }\n",
       "\n",
       "    .dataframe thead th {\n",
       "        text-align: right;\n",
       "    }\n",
       "</style>\n",
       "<table border=\"1\" class=\"dataframe\">\n",
       "  <thead>\n",
       "    <tr style=\"text-align: right;\">\n",
       "      <th></th>\n",
       "      <th>CLIENT_ID</th>\n",
       "      <th>RETRO_DT</th>\n",
       "      <th>TARGET</th>\n",
       "      <th>l_1</th>\n",
       "      <th>l_2</th>\n",
       "      <th>l_3</th>\n",
       "      <th>l_4</th>\n",
       "      <th>l_5</th>\n",
       "      <th>l_6</th>\n",
       "      <th>l_7</th>\n",
       "      <th>...</th>\n",
       "      <th>l_178</th>\n",
       "      <th>l_179</th>\n",
       "      <th>l_180</th>\n",
       "      <th>l_181</th>\n",
       "      <th>l_182</th>\n",
       "      <th>l_183</th>\n",
       "      <th>l_184</th>\n",
       "      <th>l_185</th>\n",
       "      <th>l_186</th>\n",
       "      <th>l_187</th>\n",
       "    </tr>\n",
       "  </thead>\n",
       "  <tbody>\n",
       "    <tr>\n",
       "      <th>0</th>\n",
       "      <td>u_1</td>\n",
       "      <td>2022-06-12</td>\n",
       "      <td>0</td>\n",
       "      <td>None</td>\n",
       "      <td>None</td>\n",
       "      <td>None</td>\n",
       "      <td>None</td>\n",
       "      <td>None</td>\n",
       "      <td>None</td>\n",
       "      <td>None</td>\n",
       "      <td>...</td>\n",
       "      <td>None</td>\n",
       "      <td>None</td>\n",
       "      <td>None</td>\n",
       "      <td>None</td>\n",
       "      <td>None</td>\n",
       "      <td>None</td>\n",
       "      <td>None</td>\n",
       "      <td>None</td>\n",
       "      <td>None</td>\n",
       "      <td>None</td>\n",
       "    </tr>\n",
       "    <tr>\n",
       "      <th>1</th>\n",
       "      <td>u_2</td>\n",
       "      <td>2022-06-02</td>\n",
       "      <td>0</td>\n",
       "      <td>None</td>\n",
       "      <td>None</td>\n",
       "      <td>None</td>\n",
       "      <td>None</td>\n",
       "      <td>None</td>\n",
       "      <td>None</td>\n",
       "      <td>None</td>\n",
       "      <td>...</td>\n",
       "      <td>None</td>\n",
       "      <td>None</td>\n",
       "      <td>None</td>\n",
       "      <td>None</td>\n",
       "      <td>None</td>\n",
       "      <td>None</td>\n",
       "      <td>None</td>\n",
       "      <td>None</td>\n",
       "      <td>None</td>\n",
       "      <td>None</td>\n",
       "    </tr>\n",
       "    <tr>\n",
       "      <th>2</th>\n",
       "      <td>u_3</td>\n",
       "      <td>2022-06-02</td>\n",
       "      <td>0</td>\n",
       "      <td>None</td>\n",
       "      <td>None</td>\n",
       "      <td>None</td>\n",
       "      <td>None</td>\n",
       "      <td>None</td>\n",
       "      <td>None</td>\n",
       "      <td>None</td>\n",
       "      <td>...</td>\n",
       "      <td>None</td>\n",
       "      <td>None</td>\n",
       "      <td>None</td>\n",
       "      <td>None</td>\n",
       "      <td>None</td>\n",
       "      <td>None</td>\n",
       "      <td>None</td>\n",
       "      <td>None</td>\n",
       "      <td>None</td>\n",
       "      <td>None</td>\n",
       "    </tr>\n",
       "    <tr>\n",
       "      <th>3</th>\n",
       "      <td>u_4</td>\n",
       "      <td>2022-06-27</td>\n",
       "      <td>0</td>\n",
       "      <td>None</td>\n",
       "      <td>None</td>\n",
       "      <td>None</td>\n",
       "      <td>None</td>\n",
       "      <td>None</td>\n",
       "      <td>None</td>\n",
       "      <td>None</td>\n",
       "      <td>...</td>\n",
       "      <td>None</td>\n",
       "      <td>None</td>\n",
       "      <td>None</td>\n",
       "      <td>None</td>\n",
       "      <td>None</td>\n",
       "      <td>None</td>\n",
       "      <td>None</td>\n",
       "      <td>None</td>\n",
       "      <td>None</td>\n",
       "      <td>None</td>\n",
       "    </tr>\n",
       "    <tr>\n",
       "      <th>4</th>\n",
       "      <td>u_5</td>\n",
       "      <td>2022-06-29</td>\n",
       "      <td>0</td>\n",
       "      <td>None</td>\n",
       "      <td>None</td>\n",
       "      <td>None</td>\n",
       "      <td>None</td>\n",
       "      <td>None</td>\n",
       "      <td>None</td>\n",
       "      <td>None</td>\n",
       "      <td>...</td>\n",
       "      <td>None</td>\n",
       "      <td>None</td>\n",
       "      <td>None</td>\n",
       "      <td>None</td>\n",
       "      <td>None</td>\n",
       "      <td>None</td>\n",
       "      <td>None</td>\n",
       "      <td>None</td>\n",
       "      <td>None</td>\n",
       "      <td>None</td>\n",
       "    </tr>\n",
       "  </tbody>\n",
       "</table>\n",
       "<p>5 rows × 190 columns</p>\n",
       "</div>"
      ],
      "text/plain": [
       "  CLIENT_ID    RETRO_DT TARGET   l_1   l_2   l_3   l_4   l_5   l_6   l_7  ...  \\\n",
       "0       u_1  2022-06-12      0  None  None  None  None  None  None  None  ...   \n",
       "1       u_2  2022-06-02      0  None  None  None  None  None  None  None  ...   \n",
       "2       u_3  2022-06-02      0  None  None  None  None  None  None  None  ...   \n",
       "3       u_4  2022-06-27      0  None  None  None  None  None  None  None  ...   \n",
       "4       u_5  2022-06-29      0  None  None  None  None  None  None  None  ...   \n",
       "\n",
       "  l_178 l_179 l_180 l_181 l_182 l_183 l_184 l_185 l_186 l_187  \n",
       "0  None  None  None  None  None  None  None  None  None  None  \n",
       "1  None  None  None  None  None  None  None  None  None  None  \n",
       "2  None  None  None  None  None  None  None  None  None  None  \n",
       "3  None  None  None  None  None  None  None  None  None  None  \n",
       "4  None  None  None  None  None  None  None  None  None  None  \n",
       "\n",
       "[5 rows x 190 columns]"
      ]
     },
     "execution_count": 197,
     "metadata": {},
     "output_type": "execute_result"
    }
   ],
   "source": [
    "df.head()"
   ]
  },
  {
   "cell_type": "markdown",
   "metadata": {},
   "source": [
    "#### Feature engineering"
   ]
  },
  {
   "cell_type": "markdown",
   "metadata": {},
   "source": [
    "- User activities within two previous weeks\n",
    "    - total visits of all sites (inside of domain)\n",
    "    - total visits for every group\n",
    "    - total visits for every link\n",
    "    - number of active days within period (two weeks)\n",
    "    - number of active days for every group\n",
    "    - average visits per active day (for domain and groups)\n",
    "    - number of visits on previous (or 2, 3) day"
   ]
  },
  {
   "cell_type": "markdown",
   "metadata": {},
   "source": [
    "1. total visits of all sites (inside of domain)"
   ]
  },
  {
   "cell_type": "code",
   "execution_count": 198,
   "metadata": {
    "ExecuteTime": {
     "end_time": "2022-11-28T22:38:46.180526Z",
     "start_time": "2022-11-28T22:38:45.242069Z"
    }
   },
   "outputs": [],
   "source": [
    "def get_total_visits(history_list):\n",
    "    all_sum = 0\n",
    "    for history in history_list:\n",
    "        if isinstance(history, list):\n",
    "            all_sum += sum(info[1] for info in history)\n",
    "    return all_sum\n",
    "    \n",
    "\n",
    "df['total_visits_domain'] = df.apply(lambda x: get_total_visits([x[col] for col in groups_columns]), axis=1)"
   ]
  },
  {
   "cell_type": "code",
   "execution_count": 199,
   "metadata": {},
   "outputs": [
    {
     "data": {
      "text/plain": [
       "0     2\n",
       "1    92\n",
       "2     3\n",
       "3     1\n",
       "4     3\n",
       "Name: total_visits_domain, dtype: int64"
      ]
     },
     "execution_count": 199,
     "metadata": {},
     "output_type": "execute_result"
    }
   ],
   "source": [
    "df['total_visits_domain'].head()"
   ]
  },
  {
   "cell_type": "code",
   "execution_count": 200,
   "metadata": {},
   "outputs": [],
   "source": [
    "def get_visits(history):\n",
    "    all_sum = 0\n",
    "    if isinstance(history, list):\n",
    "        all_sum += sum(info[1] for info in history)\n",
    "    return all_sum\n",
    "    \n",
    "for col in groups_columns:\n",
    "    df[f'total_visits_{col}'] = df[col].map(lambda x: get_visits(x))"
   ]
  },
  {
   "cell_type": "code",
   "execution_count": 201,
   "metadata": {},
   "outputs": [
    {
     "data": {
      "text/plain": [
       "75      1\n",
       "79      1\n",
       "730     1\n",
       "1082    1\n",
       "4592    1\n",
       "Name: total_visits_l_1, dtype: int64"
      ]
     },
     "execution_count": 201,
     "metadata": {},
     "output_type": "execute_result"
    }
   ],
   "source": [
    "df['total_visits_l_1'][df['total_visits_l_1'] > 0].head()"
   ]
  },
  {
   "cell_type": "markdown",
   "metadata": {},
   "source": [
    "4. number of active days within period (two weeks) for domain"
   ]
  },
  {
   "cell_type": "code",
   "execution_count": 202,
   "metadata": {
    "ExecuteTime": {
     "end_time": "2022-11-28T22:38:56.190881Z",
     "start_time": "2022-11-28T22:38:53.328992Z"
    }
   },
   "outputs": [],
   "source": [
    "def get_total_active_days(history_list, activity_thr=1):\n",
    "    # calculate unique days with visits during history\n",
    "    # activity_thr - number of days to make day active\n",
    "    all_sum = 0\n",
    "    for history in history_list:\n",
    "        if isinstance(history, list):\n",
    "            all_sum += len(set(day for (day, visits) in history if visits >= activity_thr))\n",
    "    return all_sum\n",
    "\n",
    "            \n",
    "df['n1_active_days_domain'] = df.apply(lambda x: get_total_active_days([x[col] for col in groups_columns], 1), axis=1)\n",
    "df['n2_active_days_domain'] = df.apply(lambda x: get_total_active_days([x[col] for col in groups_columns], 2), axis=1)\n",
    "df['n3_active_days_domain'] = df.apply(lambda x: get_total_active_days([x[col] for col in groups_columns], 3), axis=1)"
   ]
  },
  {
   "cell_type": "code",
   "execution_count": 203,
   "metadata": {},
   "outputs": [
    {
     "data": {
      "text/html": [
       "<div>\n",
       "<style scoped>\n",
       "    .dataframe tbody tr th:only-of-type {\n",
       "        vertical-align: middle;\n",
       "    }\n",
       "\n",
       "    .dataframe tbody tr th {\n",
       "        vertical-align: top;\n",
       "    }\n",
       "\n",
       "    .dataframe thead th {\n",
       "        text-align: right;\n",
       "    }\n",
       "</style>\n",
       "<table border=\"1\" class=\"dataframe\">\n",
       "  <thead>\n",
       "    <tr style=\"text-align: right;\">\n",
       "      <th></th>\n",
       "      <th>n1_active_days_domain</th>\n",
       "      <th>n2_active_days_domain</th>\n",
       "      <th>n3_active_days_domain</th>\n",
       "    </tr>\n",
       "  </thead>\n",
       "  <tbody>\n",
       "    <tr>\n",
       "      <th>0</th>\n",
       "      <td>2</td>\n",
       "      <td>0</td>\n",
       "      <td>0</td>\n",
       "    </tr>\n",
       "    <tr>\n",
       "      <th>1</th>\n",
       "      <td>9</td>\n",
       "      <td>7</td>\n",
       "      <td>6</td>\n",
       "    </tr>\n",
       "    <tr>\n",
       "      <th>2</th>\n",
       "      <td>1</td>\n",
       "      <td>1</td>\n",
       "      <td>1</td>\n",
       "    </tr>\n",
       "    <tr>\n",
       "      <th>3</th>\n",
       "      <td>1</td>\n",
       "      <td>0</td>\n",
       "      <td>0</td>\n",
       "    </tr>\n",
       "    <tr>\n",
       "      <th>4</th>\n",
       "      <td>2</td>\n",
       "      <td>1</td>\n",
       "      <td>0</td>\n",
       "    </tr>\n",
       "  </tbody>\n",
       "</table>\n",
       "</div>"
      ],
      "text/plain": [
       "   n1_active_days_domain  n2_active_days_domain  n3_active_days_domain\n",
       "0                      2                      0                      0\n",
       "1                      9                      7                      6\n",
       "2                      1                      1                      1\n",
       "3                      1                      0                      0\n",
       "4                      2                      1                      0"
      ]
     },
     "execution_count": 203,
     "metadata": {},
     "output_type": "execute_result"
    }
   ],
   "source": [
    "df[['n1_active_days_domain', 'n2_active_days_domain', 'n3_active_days_domain']].head()"
   ]
  },
  {
   "cell_type": "markdown",
   "metadata": {},
   "source": [
    "6. average visits per active day (for domain and groups)\n",
    "\n",
    "considering days with at least one visit"
   ]
  },
  {
   "cell_type": "code",
   "execution_count": 204,
   "metadata": {},
   "outputs": [],
   "source": [
    "def get_active_days(history, activity_thr=1):\n",
    "    all_sum = 0\n",
    "    if isinstance(history, list):\n",
    "        all_sum += len(set(day for (day, visits) in history if visits >= activity_thr))\n",
    "    return all_sum\n",
    "\n",
    "            \n",
    "for col in groups_columns:\n",
    "    df[f'n1_active_days_{col}'] = df[col].map(lambda x: get_active_days(x))"
   ]
  },
  {
   "cell_type": "code",
   "execution_count": 205,
   "metadata": {},
   "outputs": [
    {
     "data": {
      "text/plain": [
       "75      1\n",
       "79      1\n",
       "730     1\n",
       "1082    1\n",
       "4592    1\n",
       "Name: n1_active_days_l_1, dtype: int64"
      ]
     },
     "execution_count": 205,
     "metadata": {},
     "output_type": "execute_result"
    }
   ],
   "source": [
    "df['n1_active_days_l_1'][df['n1_active_days_l_1'] > 0].head()"
   ]
  },
  {
   "cell_type": "code",
   "execution_count": 206,
   "metadata": {
    "ExecuteTime": {
     "end_time": "2022-11-28T22:39:08.079970Z",
     "start_time": "2022-11-28T22:39:05.313170Z"
    }
   },
   "outputs": [],
   "source": [
    "def get_total_av_visits(history_list, activity_thr=1):\n",
    "    visits = list()\n",
    "    for history in history_list:\n",
    "        if isinstance(history, list):\n",
    "            visits.extend([visits for (day, visits) in history if visits >= activity_thr])\n",
    "    return np.mean(visits)\n",
    "\n",
    "df['average_visits_domain'] = df.apply(lambda x: get_total_av_visits([x[col] for col in groups_columns], 1), axis=1)"
   ]
  },
  {
   "cell_type": "code",
   "execution_count": 207,
   "metadata": {},
   "outputs": [
    {
     "data": {
      "text/plain": [
       "0     1.000000\n",
       "1    10.222222\n",
       "2     3.000000\n",
       "3     1.000000\n",
       "4     1.500000\n",
       "Name: average_visits_domain, dtype: float64"
      ]
     },
     "execution_count": 207,
     "metadata": {},
     "output_type": "execute_result"
    }
   ],
   "source": [
    "df['average_visits_domain'].head()"
   ]
  },
  {
   "cell_type": "code",
   "execution_count": 208,
   "metadata": {},
   "outputs": [],
   "source": [
    "def get_total_av_visits_per_active_day(history_list):\n",
    "    date_visit = defaultdict(int)\n",
    "    for history in history_list:\n",
    "        if isinstance(history, list):\n",
    "            for (day, visits) in history:\n",
    "                date_visit[day] += visits\n",
    "    return np.mean(list(date_visit.values()))\n",
    "\n",
    "df['average_visits_per_day_domain'] = df.apply(lambda x: get_total_av_visits_per_active_day([x[col] for col in groups_columns]), axis=1)"
   ]
  },
  {
   "cell_type": "code",
   "execution_count": 209,
   "metadata": {},
   "outputs": [
    {
     "data": {
      "text/plain": [
       "0     2.000000\n",
       "1    15.333333\n",
       "2     3.000000\n",
       "3     1.000000\n",
       "4     1.500000\n",
       "Name: average_visits_per_day_domain, dtype: float64"
      ]
     },
     "execution_count": 209,
     "metadata": {},
     "output_type": "execute_result"
    }
   ],
   "source": [
    "df['average_visits_per_day_domain'].head()"
   ]
  },
  {
   "cell_type": "code",
   "execution_count": 210,
   "metadata": {},
   "outputs": [],
   "source": [
    "def get_av_visits(history, activity_thr=1):\n",
    "    visits = list()\n",
    "    if isinstance(history, list):\n",
    "        visits.extend([visits for (day, visits) in history if visits >= activity_thr])\n",
    "    return np.mean(visits)\n",
    "\n",
    "            \n",
    "for col in groups_columns:\n",
    "    df[f'average_visits_{col}'] = df[col].map(lambda x: get_av_visits(x))"
   ]
  },
  {
   "cell_type": "code",
   "execution_count": 211,
   "metadata": {},
   "outputs": [
    {
     "data": {
      "text/plain": [
       "75      1.0\n",
       "79      1.0\n",
       "730     1.0\n",
       "1082    1.0\n",
       "4592    1.0\n",
       "Name: average_visits_l_1, dtype: float64"
      ]
     },
     "execution_count": 211,
     "metadata": {},
     "output_type": "execute_result"
    }
   ],
   "source": [
    "df['average_visits_l_1'][df['average_visits_l_1'] > 0].head()"
   ]
  },
  {
   "cell_type": "markdown",
   "metadata": {
    "ExecuteTime": {
     "end_time": "2022-11-28T22:14:52.052239Z",
     "start_time": "2022-11-28T22:14:51.970458Z"
    }
   },
   "source": [
    "7. number of visits on previous (or 2, 3) day"
   ]
  },
  {
   "cell_type": "code",
   "execution_count": 212,
   "metadata": {
    "ExecuteTime": {
     "end_time": "2022-11-28T22:39:18.537794Z",
     "start_time": "2022-11-28T22:39:10.449612Z"
    }
   },
   "outputs": [],
   "source": [
    "def get_visits_K_days_ago(history_list, retrodate, lag=1):\n",
    "    visits = list()\n",
    "    for history in history_list:\n",
    "        if isinstance(history, list):\n",
    "            visits.extend(visits for (day, visits) in history if (retrodate - day).days == lag)\n",
    "    return sum(visits)\n",
    "\n",
    "df['visits_1_day_ago_domain'] = df.apply(lambda x: get_visits_K_days_ago([x[col] for col in groups_columns], x.RETRO_DT, 1), axis=1)\n",
    "df['visits_2_day_ago_domain'] = df.apply(lambda x: get_visits_K_days_ago([x[col] for col in groups_columns], x.RETRO_DT, 2), axis=1)\n",
    "df['visits_3_day_ago_domain'] = df.apply(lambda x: get_visits_K_days_ago([x[col] for col in groups_columns], x.RETRO_DT, 3), axis=1)"
   ]
  },
  {
   "cell_type": "code",
   "execution_count": 213,
   "metadata": {},
   "outputs": [
    {
     "data": {
      "text/html": [
       "<div>\n",
       "<style scoped>\n",
       "    .dataframe tbody tr th:only-of-type {\n",
       "        vertical-align: middle;\n",
       "    }\n",
       "\n",
       "    .dataframe tbody tr th {\n",
       "        vertical-align: top;\n",
       "    }\n",
       "\n",
       "    .dataframe thead th {\n",
       "        text-align: right;\n",
       "    }\n",
       "</style>\n",
       "<table border=\"1\" class=\"dataframe\">\n",
       "  <thead>\n",
       "    <tr style=\"text-align: right;\">\n",
       "      <th></th>\n",
       "      <th>visits_1_day_ago_domain</th>\n",
       "      <th>visits_2_day_ago_domain</th>\n",
       "      <th>visits_3_day_ago_domain</th>\n",
       "    </tr>\n",
       "  </thead>\n",
       "  <tbody>\n",
       "    <tr>\n",
       "      <th>0</th>\n",
       "      <td>0</td>\n",
       "      <td>0</td>\n",
       "      <td>2</td>\n",
       "    </tr>\n",
       "    <tr>\n",
       "      <th>1</th>\n",
       "      <td>15</td>\n",
       "      <td>17</td>\n",
       "      <td>2</td>\n",
       "    </tr>\n",
       "    <tr>\n",
       "      <th>2</th>\n",
       "      <td>0</td>\n",
       "      <td>0</td>\n",
       "      <td>3</td>\n",
       "    </tr>\n",
       "    <tr>\n",
       "      <th>3</th>\n",
       "      <td>1</td>\n",
       "      <td>0</td>\n",
       "      <td>0</td>\n",
       "    </tr>\n",
       "    <tr>\n",
       "      <th>4</th>\n",
       "      <td>0</td>\n",
       "      <td>2</td>\n",
       "      <td>0</td>\n",
       "    </tr>\n",
       "  </tbody>\n",
       "</table>\n",
       "</div>"
      ],
      "text/plain": [
       "   visits_1_day_ago_domain  visits_2_day_ago_domain  visits_3_day_ago_domain\n",
       "0                        0                        0                        2\n",
       "1                       15                       17                        2\n",
       "2                        0                        0                        3\n",
       "3                        1                        0                        0\n",
       "4                        0                        2                        0"
      ]
     },
     "execution_count": 213,
     "metadata": {},
     "output_type": "execute_result"
    }
   ],
   "source": [
    "df[['visits_1_day_ago_domain', 'visits_2_day_ago_domain', 'visits_3_day_ago_domain']].head()"
   ]
  },
  {
   "cell_type": "code",
   "execution_count": 214,
   "metadata": {},
   "outputs": [],
   "source": [
    "def get_total_last_visit(history_list, retrodate):\n",
    "    visits = list()\n",
    "    for history in history_list:\n",
    "        if isinstance(history, list):\n",
    "            visits.extend((retrodate - day).days for (day, visits) in history)\n",
    "    return min(visits)\n",
    "\n",
    "df['last_visit_domain'] = df.apply(lambda x: get_total_last_visit([x[col] for col in groups_columns], x.RETRO_DT), axis=1)"
   ]
  },
  {
   "cell_type": "code",
   "execution_count": 215,
   "metadata": {},
   "outputs": [
    {
     "data": {
      "text/plain": [
       "0    3\n",
       "1    0\n",
       "2    3\n",
       "3    1\n",
       "4    0\n",
       "Name: last_visit_domain, dtype: int64"
      ]
     },
     "execution_count": 215,
     "metadata": {},
     "output_type": "execute_result"
    }
   ],
   "source": [
    "df['last_visit_domain'].head()"
   ]
  },
  {
   "cell_type": "code",
   "execution_count": 216,
   "metadata": {},
   "outputs": [],
   "source": [
    "def get_last_visit(history, retrodate):\n",
    "    last_visit = 8\n",
    "    if isinstance(history, list):\n",
    "        last_visit = min((retrodate - day).days for (day, visits) in history)\n",
    "    return last_visit\n",
    "\n",
    "            \n",
    "for col in groups_columns:\n",
    "    df[f'last_visit_{col}'] = df.apply(lambda x: get_last_visit(x[col], x.RETRO_DT), axis=1)"
   ]
  },
  {
   "cell_type": "code",
   "execution_count": 217,
   "metadata": {},
   "outputs": [
    {
     "data": {
      "text/plain": [
       "75      1\n",
       "79      6\n",
       "730     5\n",
       "1082    1\n",
       "4592    3\n",
       "Name: last_visit_l_1, dtype: int64"
      ]
     },
     "execution_count": 217,
     "metadata": {},
     "output_type": "execute_result"
    }
   ],
   "source": [
    "df['last_visit_l_1'][df['last_visit_l_1'] < 8].head()"
   ]
  },
  {
   "cell_type": "code",
   "execution_count": 225,
   "metadata": {},
   "outputs": [],
   "source": [
    "def get_total_av_diff_visit(history_list):\n",
    "    visits_set = set()\n",
    "    for history in history_list:\n",
    "        if isinstance(history, list):\n",
    "            visits_set = visits_set | set(day for (day, visits) in history)\n",
    "    visits = sorted(list(visits_set), reverse=True)\n",
    "    diff = list()\n",
    "    for d2, d1 in zip(visits[:-1], visits[1:]):\n",
    "        diff.append((d2 - d1).days)\n",
    "    \n",
    "    if len(diff) == 0:\n",
    "        return 8\n",
    "    return np.mean(diff)\n",
    "\n",
    "df['av_diff_visit_domain'] = df.apply(lambda x: get_total_av_diff_visit([x[col] for col in groups_columns]), axis=1)"
   ]
  },
  {
   "cell_type": "code",
   "execution_count": 227,
   "metadata": {},
   "outputs": [
    {
     "data": {
      "text/plain": [
       "0    8.0\n",
       "1    1.4\n",
       "2    8.0\n",
       "3    8.0\n",
       "4    2.0\n",
       "Name: av_diff_visit_domain, dtype: float64"
      ]
     },
     "execution_count": 227,
     "metadata": {},
     "output_type": "execute_result"
    }
   ],
   "source": [
    "df['av_diff_visit_domain'].head()"
   ]
  },
  {
   "cell_type": "code",
   "execution_count": 234,
   "metadata": {},
   "outputs": [],
   "source": [
    "def get_av_diff_visit(history):\n",
    "    visits_list = list()\n",
    "    if isinstance(history, list):\n",
    "        visits_list.extend([day for (day, visits) in history])\n",
    "    visits = sorted(visits_list, reverse=True)\n",
    "    diff = list()\n",
    "    for d2, d1 in zip(visits[:-1], visits[1:]):\n",
    "        diff.append((d2 - d1).days)\n",
    "    \n",
    "    if len(diff) == 0:\n",
    "        return 8\n",
    "    return np.mean(diff)\n",
    "\n",
    "for col in groups_columns:\n",
    "    df[f'av_diff_visit_{col}'] = df[col].map(lambda x: get_av_diff_visit(x))"
   ]
  },
  {
   "cell_type": "code",
   "execution_count": 238,
   "metadata": {},
   "outputs": [
    {
     "data": {
      "text/plain": [
       "4244    1.0\n",
       "Name: av_diff_visit_l_4, dtype: float64"
      ]
     },
     "execution_count": 238,
     "metadata": {},
     "output_type": "execute_result"
    }
   ],
   "source": [
    "df['av_diff_visit_l_4'][df['av_diff_visit_l_4'] < 8].head()"
   ]
  },
  {
   "cell_type": "code",
   "execution_count": 242,
   "metadata": {},
   "outputs": [],
   "source": [
    "def get_total_weekday_visit(history_list, weekday):\n",
    "    visits_sum = 0\n",
    "    for history in history_list:\n",
    "        if isinstance(history, list):\n",
    "            visits_sum += sum([visits for (day, visits) in history if day.weekday() == weekday])\n",
    "    return visits_sum\n",
    "\n",
    "df['weekday_0_visit_domain'] = df.apply(lambda x: get_total_weekday_visit([x[col] for col in groups_columns], 0), axis=1)\n",
    "df['weekday_1_visit_domain'] = df.apply(lambda x: get_total_weekday_visit([x[col] for col in groups_columns], 1), axis=1)\n",
    "df['weekday_2_visit_domain'] = df.apply(lambda x: get_total_weekday_visit([x[col] for col in groups_columns], 2), axis=1)\n",
    "df['weekday_3_visit_domain'] = df.apply(lambda x: get_total_weekday_visit([x[col] for col in groups_columns], 3), axis=1)\n",
    "df['weekday_4_visit_domain'] = df.apply(lambda x: get_total_weekday_visit([x[col] for col in groups_columns], 4), axis=1)\n",
    "df['weekday_5_visit_domain'] = df.apply(lambda x: get_total_weekday_visit([x[col] for col in groups_columns], 5), axis=1)\n",
    "df['weekday_6_visit_domain'] = df.apply(lambda x: get_total_weekday_visit([x[col] for col in groups_columns], 6), axis=1)"
   ]
  },
  {
   "cell_type": "code",
   "execution_count": 243,
   "metadata": {},
   "outputs": [
    {
     "data": {
      "text/html": [
       "<div>\n",
       "<style scoped>\n",
       "    .dataframe tbody tr th:only-of-type {\n",
       "        vertical-align: middle;\n",
       "    }\n",
       "\n",
       "    .dataframe tbody tr th {\n",
       "        vertical-align: top;\n",
       "    }\n",
       "\n",
       "    .dataframe thead th {\n",
       "        text-align: right;\n",
       "    }\n",
       "</style>\n",
       "<table border=\"1\" class=\"dataframe\">\n",
       "  <thead>\n",
       "    <tr style=\"text-align: right;\">\n",
       "      <th></th>\n",
       "      <th>weekday_0_visit_domain</th>\n",
       "      <th>weekday_1_visit_domain</th>\n",
       "      <th>weekday_2_visit_domain</th>\n",
       "      <th>weekday_3_visit_domain</th>\n",
       "      <th>weekday_4_visit_domain</th>\n",
       "      <th>weekday_5_visit_domain</th>\n",
       "      <th>weekday_6_visit_domain</th>\n",
       "    </tr>\n",
       "  </thead>\n",
       "  <tbody>\n",
       "    <tr>\n",
       "      <th>0</th>\n",
       "      <td>0</td>\n",
       "      <td>0</td>\n",
       "      <td>0</td>\n",
       "      <td>2</td>\n",
       "      <td>0</td>\n",
       "      <td>0</td>\n",
       "      <td>0</td>\n",
       "    </tr>\n",
       "    <tr>\n",
       "      <th>1</th>\n",
       "      <td>2</td>\n",
       "      <td>17</td>\n",
       "      <td>15</td>\n",
       "      <td>25</td>\n",
       "      <td>33</td>\n",
       "      <td>0</td>\n",
       "      <td>0</td>\n",
       "    </tr>\n",
       "    <tr>\n",
       "      <th>2</th>\n",
       "      <td>3</td>\n",
       "      <td>0</td>\n",
       "      <td>0</td>\n",
       "      <td>0</td>\n",
       "      <td>0</td>\n",
       "      <td>0</td>\n",
       "      <td>0</td>\n",
       "    </tr>\n",
       "    <tr>\n",
       "      <th>3</th>\n",
       "      <td>0</td>\n",
       "      <td>0</td>\n",
       "      <td>0</td>\n",
       "      <td>0</td>\n",
       "      <td>0</td>\n",
       "      <td>0</td>\n",
       "      <td>1</td>\n",
       "    </tr>\n",
       "    <tr>\n",
       "      <th>4</th>\n",
       "      <td>2</td>\n",
       "      <td>0</td>\n",
       "      <td>1</td>\n",
       "      <td>0</td>\n",
       "      <td>0</td>\n",
       "      <td>0</td>\n",
       "      <td>0</td>\n",
       "    </tr>\n",
       "  </tbody>\n",
       "</table>\n",
       "</div>"
      ],
      "text/plain": [
       "   weekday_0_visit_domain  weekday_1_visit_domain  weekday_2_visit_domain  \\\n",
       "0                       0                       0                       0   \n",
       "1                       2                      17                      15   \n",
       "2                       3                       0                       0   \n",
       "3                       0                       0                       0   \n",
       "4                       2                       0                       1   \n",
       "\n",
       "   weekday_3_visit_domain  weekday_4_visit_domain  weekday_5_visit_domain  \\\n",
       "0                       2                       0                       0   \n",
       "1                      25                      33                       0   \n",
       "2                       0                       0                       0   \n",
       "3                       0                       0                       0   \n",
       "4                       0                       0                       0   \n",
       "\n",
       "   weekday_6_visit_domain  \n",
       "0                       0  \n",
       "1                       0  \n",
       "2                       0  \n",
       "3                       1  \n",
       "4                       0  "
      ]
     },
     "execution_count": 243,
     "metadata": {},
     "output_type": "execute_result"
    }
   ],
   "source": [
    "df[['weekday_0_visit_domain', 'weekday_1_visit_domain', 'weekday_2_visit_domain', 'weekday_3_visit_domain', \n",
    "    'weekday_4_visit_domain', 'weekday_5_visit_domain', 'weekday_6_visit_domain']].head()"
   ]
  },
  {
   "cell_type": "code",
   "execution_count": 244,
   "metadata": {},
   "outputs": [],
   "source": [
    "def get_url_visits(history_list):\n",
    "    all_url_sum = 0\n",
    "    for history in history_list:\n",
    "        if isinstance(history, list):\n",
    "            all_url_sum += 1\n",
    "    return all_url_sum\n",
    "    \n",
    "\n",
    "df['url_visits_domain'] = df.apply(lambda x: get_url_visits([x[col] for col in groups_columns]), axis=1)"
   ]
  },
  {
   "cell_type": "code",
   "execution_count": 245,
   "metadata": {},
   "outputs": [
    {
     "data": {
      "text/plain": [
       "0    2\n",
       "1    3\n",
       "2    1\n",
       "3    1\n",
       "4    1\n",
       "Name: url_visits_domain, dtype: int64"
      ]
     },
     "execution_count": 245,
     "metadata": {},
     "output_type": "execute_result"
    }
   ],
   "source": [
    "df['url_visits_domain'].head()"
   ]
  },
  {
   "cell_type": "markdown",
   "metadata": {},
   "source": [
    "#### Save data for models"
   ]
  },
  {
   "cell_type": "code",
   "execution_count": 246,
   "metadata": {
    "ExecuteTime": {
     "end_time": "2022-11-28T22:39:54.050135Z",
     "start_time": "2022-11-28T22:39:54.034150Z"
    }
   },
   "outputs": [
    {
     "data": {
      "text/plain": [
       "1143"
      ]
     },
     "execution_count": 246,
     "metadata": {},
     "output_type": "execute_result"
    }
   ],
   "source": [
    "ignore_columns = ['RETRO_DT']\n",
    "data = df.copy()\n",
    "data[groups_columns] = 1 - data[groups_columns].isna().astype(int)\n",
    "important_columns = [c for c in data.columns if c not in ignore_columns]\n",
    "len(important_columns)"
   ]
  },
  {
   "cell_type": "code",
   "execution_count": 247,
   "metadata": {},
   "outputs": [
    {
     "data": {
      "text/html": [
       "<div>\n",
       "<style scoped>\n",
       "    .dataframe tbody tr th:only-of-type {\n",
       "        vertical-align: middle;\n",
       "    }\n",
       "\n",
       "    .dataframe tbody tr th {\n",
       "        vertical-align: top;\n",
       "    }\n",
       "\n",
       "    .dataframe thead th {\n",
       "        text-align: right;\n",
       "    }\n",
       "</style>\n",
       "<table border=\"1\" class=\"dataframe\">\n",
       "  <thead>\n",
       "    <tr style=\"text-align: right;\">\n",
       "      <th></th>\n",
       "      <th>CLIENT_ID</th>\n",
       "      <th>RETRO_DT</th>\n",
       "      <th>TARGET</th>\n",
       "      <th>l_1</th>\n",
       "      <th>l_2</th>\n",
       "      <th>l_3</th>\n",
       "      <th>l_4</th>\n",
       "      <th>l_5</th>\n",
       "      <th>l_6</th>\n",
       "      <th>l_7</th>\n",
       "      <th>...</th>\n",
       "      <th>av_diff_visit_l_185</th>\n",
       "      <th>av_diff_visit_l_186</th>\n",
       "      <th>av_diff_visit_l_187</th>\n",
       "      <th>weekday_0_visit_domain</th>\n",
       "      <th>weekday_1_visit_domain</th>\n",
       "      <th>weekday_2_visit_domain</th>\n",
       "      <th>weekday_3_visit_domain</th>\n",
       "      <th>weekday_4_visit_domain</th>\n",
       "      <th>weekday_5_visit_domain</th>\n",
       "      <th>weekday_6_visit_domain</th>\n",
       "    </tr>\n",
       "  </thead>\n",
       "  <tbody>\n",
       "    <tr>\n",
       "      <th>0</th>\n",
       "      <td>u_1</td>\n",
       "      <td>2022-06-12</td>\n",
       "      <td>0</td>\n",
       "      <td>0</td>\n",
       "      <td>0</td>\n",
       "      <td>0</td>\n",
       "      <td>0</td>\n",
       "      <td>0</td>\n",
       "      <td>0</td>\n",
       "      <td>0</td>\n",
       "      <td>...</td>\n",
       "      <td>8</td>\n",
       "      <td>8</td>\n",
       "      <td>8.0</td>\n",
       "      <td>0</td>\n",
       "      <td>0</td>\n",
       "      <td>0</td>\n",
       "      <td>2</td>\n",
       "      <td>0</td>\n",
       "      <td>0</td>\n",
       "      <td>0</td>\n",
       "    </tr>\n",
       "    <tr>\n",
       "      <th>1</th>\n",
       "      <td>u_2</td>\n",
       "      <td>2022-06-02</td>\n",
       "      <td>0</td>\n",
       "      <td>0</td>\n",
       "      <td>0</td>\n",
       "      <td>0</td>\n",
       "      <td>0</td>\n",
       "      <td>0</td>\n",
       "      <td>0</td>\n",
       "      <td>0</td>\n",
       "      <td>...</td>\n",
       "      <td>8</td>\n",
       "      <td>8</td>\n",
       "      <td>8.0</td>\n",
       "      <td>2</td>\n",
       "      <td>17</td>\n",
       "      <td>15</td>\n",
       "      <td>25</td>\n",
       "      <td>33</td>\n",
       "      <td>0</td>\n",
       "      <td>0</td>\n",
       "    </tr>\n",
       "    <tr>\n",
       "      <th>2</th>\n",
       "      <td>u_3</td>\n",
       "      <td>2022-06-02</td>\n",
       "      <td>0</td>\n",
       "      <td>0</td>\n",
       "      <td>0</td>\n",
       "      <td>0</td>\n",
       "      <td>0</td>\n",
       "      <td>0</td>\n",
       "      <td>0</td>\n",
       "      <td>0</td>\n",
       "      <td>...</td>\n",
       "      <td>8</td>\n",
       "      <td>8</td>\n",
       "      <td>8.0</td>\n",
       "      <td>3</td>\n",
       "      <td>0</td>\n",
       "      <td>0</td>\n",
       "      <td>0</td>\n",
       "      <td>0</td>\n",
       "      <td>0</td>\n",
       "      <td>0</td>\n",
       "    </tr>\n",
       "    <tr>\n",
       "      <th>3</th>\n",
       "      <td>u_4</td>\n",
       "      <td>2022-06-27</td>\n",
       "      <td>0</td>\n",
       "      <td>0</td>\n",
       "      <td>0</td>\n",
       "      <td>0</td>\n",
       "      <td>0</td>\n",
       "      <td>0</td>\n",
       "      <td>0</td>\n",
       "      <td>0</td>\n",
       "      <td>...</td>\n",
       "      <td>8</td>\n",
       "      <td>8</td>\n",
       "      <td>8.0</td>\n",
       "      <td>0</td>\n",
       "      <td>0</td>\n",
       "      <td>0</td>\n",
       "      <td>0</td>\n",
       "      <td>0</td>\n",
       "      <td>0</td>\n",
       "      <td>1</td>\n",
       "    </tr>\n",
       "    <tr>\n",
       "      <th>4</th>\n",
       "      <td>u_5</td>\n",
       "      <td>2022-06-29</td>\n",
       "      <td>0</td>\n",
       "      <td>0</td>\n",
       "      <td>0</td>\n",
       "      <td>0</td>\n",
       "      <td>0</td>\n",
       "      <td>0</td>\n",
       "      <td>0</td>\n",
       "      <td>0</td>\n",
       "      <td>...</td>\n",
       "      <td>8</td>\n",
       "      <td>8</td>\n",
       "      <td>8.0</td>\n",
       "      <td>2</td>\n",
       "      <td>0</td>\n",
       "      <td>1</td>\n",
       "      <td>0</td>\n",
       "      <td>0</td>\n",
       "      <td>0</td>\n",
       "      <td>0</td>\n",
       "    </tr>\n",
       "  </tbody>\n",
       "</table>\n",
       "<p>5 rows × 1144 columns</p>\n",
       "</div>"
      ],
      "text/plain": [
       "  CLIENT_ID    RETRO_DT TARGET  l_1  l_2  l_3  l_4  l_5  l_6  l_7  ...  \\\n",
       "0       u_1  2022-06-12      0    0    0    0    0    0    0    0  ...   \n",
       "1       u_2  2022-06-02      0    0    0    0    0    0    0    0  ...   \n",
       "2       u_3  2022-06-02      0    0    0    0    0    0    0    0  ...   \n",
       "3       u_4  2022-06-27      0    0    0    0    0    0    0    0  ...   \n",
       "4       u_5  2022-06-29      0    0    0    0    0    0    0    0  ...   \n",
       "\n",
       "   av_diff_visit_l_185  av_diff_visit_l_186  av_diff_visit_l_187  \\\n",
       "0                    8                    8                  8.0   \n",
       "1                    8                    8                  8.0   \n",
       "2                    8                    8                  8.0   \n",
       "3                    8                    8                  8.0   \n",
       "4                    8                    8                  8.0   \n",
       "\n",
       "   weekday_0_visit_domain  weekday_1_visit_domain  weekday_2_visit_domain  \\\n",
       "0                       0                       0                       0   \n",
       "1                       2                      17                      15   \n",
       "2                       3                       0                       0   \n",
       "3                       0                       0                       0   \n",
       "4                       2                       0                       1   \n",
       "\n",
       "   weekday_3_visit_domain  weekday_4_visit_domain  weekday_5_visit_domain  \\\n",
       "0                       2                       0                       0   \n",
       "1                      25                      33                       0   \n",
       "2                       0                       0                       0   \n",
       "3                       0                       0                       0   \n",
       "4                       0                       0                       0   \n",
       "\n",
       "   weekday_6_visit_domain  \n",
       "0                       0  \n",
       "1                       0  \n",
       "2                       0  \n",
       "3                       1  \n",
       "4                       0  \n",
       "\n",
       "[5 rows x 1144 columns]"
      ]
     },
     "execution_count": 247,
     "metadata": {},
     "output_type": "execute_result"
    }
   ],
   "source": [
    "data.head()"
   ]
  },
  {
   "cell_type": "code",
   "execution_count": 57,
   "metadata": {
    "ExecuteTime": {
     "end_time": "2022-11-28T22:39:57.499998Z",
     "start_time": "2022-11-28T22:39:57.449002Z"
    }
   },
   "outputs": [],
   "source": [
    "data[important_columns].to_csv('sample_processed.csv', index=False)"
   ]
  },
  {
   "cell_type": "code",
   "execution_count": null,
   "metadata": {},
   "outputs": [],
   "source": []
  },
  {
   "cell_type": "code",
   "execution_count": null,
   "metadata": {},
   "outputs": [],
   "source": []
  },
  {
   "cell_type": "code",
   "execution_count": null,
   "metadata": {},
   "outputs": [],
   "source": []
  },
  {
   "cell_type": "code",
   "execution_count": null,
   "metadata": {},
   "outputs": [],
   "source": []
  },
  {
   "cell_type": "markdown",
   "metadata": {},
   "source": [
    "#### Future work"
   ]
  },
  {
   "cell_type": "markdown",
   "metadata": {},
   "source": [
    "Можно визуализировать посчитанные статистики, должны получаться понятные гистограммы + возможно будут видны отличия по таргету."
   ]
  },
  {
   "cell_type": "markdown",
   "metadata": {},
   "source": [
    "-----"
   ]
  },
  {
   "cell_type": "markdown",
   "metadata": {},
   "source": [
    "что еще можно попробовать"
   ]
  },
  {
   "cell_type": "markdown",
   "metadata": {},
   "source": [
    "Ideas and brainstorming:"
   ]
  },
  {
   "cell_type": "markdown",
   "metadata": {},
   "source": [
    "Нужно придумывать признаки, которые бы коррелировали с типичным поведением пользователя и его мотивами, настроением. Возможно следует посмотреть в сторону поведения пользователя не внутри одного домена, а кросс-доменное поведение. Например, кто-то смотрит объявления про машины, хочет купить авто, значит скоро возьмет кредит. Подсовываем ему кредитную рекламу. \n",
    "\n",
    "Нужно найти такие близкие домены. Возможно опять же нужно кластеризовать домены по поведениям пользователей. Необходимы данные по одним и тем же пользователям в разных доменах в течение +- одного времени. "
   ]
  },
  {
   "cell_type": "markdown",
   "metadata": {},
   "source": [
    "- кластеризация пользователей на группы (возможно есть активные, средние, пассивные, для каждой группы свои модели)\n",
    "- добавить к датам еще время посещения, чтобы можно было учитывать время суток\n",
    "- отсутствие интереса в начале двух недель, появление интереса к концу недель к ретродате\n",
    "- среднее время между соседними посещениями (также для всех сайтов, групп и всего домена)\n",
    "- количество дней между первым и последним заходом\n",
    "- is retrodate the same weekday as one of active days\n",
    "- is retrodate the next (1, 2, 3 days) after active day\n",
    "- increasing of interest within two weeks (number of visits goes up)- "
   ]
  },
  {
   "cell_type": "code",
   "execution_count": null,
   "metadata": {},
   "outputs": [],
   "source": []
  },
  {
   "cell_type": "code",
   "execution_count": null,
   "metadata": {},
   "outputs": [],
   "source": []
  },
  {
   "cell_type": "code",
   "execution_count": null,
   "metadata": {},
   "outputs": [],
   "source": []
  }
 ],
 "metadata": {
  "kernelspec": {
   "display_name": "made_project",
   "language": "python",
   "name": "made_project"
  },
  "language_info": {
   "codemirror_mode": {
    "name": "ipython",
    "version": 3
   },
   "file_extension": ".py",
   "mimetype": "text/x-python",
   "name": "python",
   "nbconvert_exporter": "python",
   "pygments_lexer": "ipython3",
   "version": "3.9.15"
  }
 },
 "nbformat": 4,
 "nbformat_minor": 4
}
