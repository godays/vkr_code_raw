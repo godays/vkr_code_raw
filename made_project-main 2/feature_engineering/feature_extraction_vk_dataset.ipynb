{
 "cells": [
  {
   "cell_type": "markdown",
   "metadata": {},
   "source": [
    "#### Import libs"
   ]
  },
  {
   "cell_type": "code",
   "execution_count": 1,
   "metadata": {
    "ExecuteTime": {
     "end_time": "2022-11-28T22:36:56.883572Z",
     "start_time": "2022-11-28T22:36:55.979512Z"
    }
   },
   "outputs": [],
   "source": [
    "import pandas as pd\n",
    "import numpy as np\n",
    "import matplotlib.pyplot as plt\n",
    "import seaborn as sns\n",
    "\n",
    "from collections import Counter\n",
    "\n",
    "from pprint import pprint"
   ]
  },
  {
   "cell_type": "markdown",
   "metadata": {},
   "source": [
    "#### Download data + description of data"
   ]
  },
  {
   "cell_type": "code",
   "execution_count": 176,
   "metadata": {
    "ExecuteTime": {
     "end_time": "2022-11-28T22:36:58.776484Z",
     "start_time": "2022-11-28T22:36:58.649757Z"
    }
   },
   "outputs": [
    {
     "data": {
      "text/html": [
       "<div>\n",
       "<style scoped>\n",
       "    .dataframe tbody tr th:only-of-type {\n",
       "        vertical-align: middle;\n",
       "    }\n",
       "\n",
       "    .dataframe tbody tr th {\n",
       "        vertical-align: top;\n",
       "    }\n",
       "\n",
       "    .dataframe thead th {\n",
       "        text-align: right;\n",
       "    }\n",
       "</style>\n",
       "<table border=\"1\" class=\"dataframe\">\n",
       "  <thead>\n",
       "    <tr style=\"text-align: right;\">\n",
       "      <th></th>\n",
       "      <th>CLIENT_ID</th>\n",
       "      <th>RETRO_DT</th>\n",
       "      <th>TARGET</th>\n",
       "      <th>000f55134facf53934419b254d274058d8d94f1237a7af8d47b3f40e888f437a6a83fd05e9fb4dac30515ddd740b5654c3d7b1b064f53699a59783ee93184730</th>\n",
       "      <th>036e1e790ff6f9461a0672ade8a70fd7a203b12891926838999f635bd1196ebdf728f5a92b6eebe3e0f8c263baa0ce81136cb2bbc9721b51b175904ca46c5b27</th>\n",
       "      <th>04e31da877871578755e676b9745affa310c376a6868a853fc5f3dfe8996dbaa61769bcae224fff029cc68ba97e7c8e476356508315e8e8fd58a90b919e5bf8d</th>\n",
       "      <th>09057f3e555f5b813f5ee380c8f1c1df831a6cf05007a909124f75391dd30fb098902dddd9e1b9c5631484ce30d4d6732ef75207930958e52dc592228410fa58</th>\n",
       "      <th>0aa9967667c60276babfcf1611af29c0fb5d445c3f66fec2f1c4d2515b9a94fd375e45e49137e9948712ce02c56a86b3b66dc60e819c083a24bab4877b2eda60</th>\n",
       "      <th>0d2ca31598f751eb5f1fae2457093fb542e1f8472bf602319f4614fa4f9879592c48888b943d3c35aaf4ad81822ad53f1d744eb6bebc47bd1f8d51a51822a5aa</th>\n",
       "      <th>0fd23397f0534cad0fb85ce4a48ec423e50ec597b70b66447fdad6695096dbda4f2ddc10746aab9b697387aa6c04de1aff6aa70196f132e9b51154eff857e899</th>\n",
       "      <th>...</th>\n",
       "      <th>b21180b5b5a42dbe7fa7615f95fcba885c20f0056f09d4a71dd8ec4b7a68a7b54af6340cdf8ec5006273872dbb3138ed64811ef8a81a965482bc32339f58d4ed</th>\n",
       "      <th>b3c0ef119fea1d559c5f57108af1e15c7856c03d1a37eadc66ea5cc5e1c59d258489136bed7ade7a6cf7f94d354bda76a2ed08c8dbeea1744137090bd6efa765</th>\n",
       "      <th>cf32d63dc7331321a191273099b6926e0779140433f5bd0d98974ae2344fdcf922822ebb67dd55a43a2e5d6ea9a204a556006012ac53cfce9da9780db7620d59</th>\n",
       "      <th>d07c71360870cebc65faf350e0496e799608e1ae6d107ce90e620c8051cb4910d97880185195c3690b7c8b2930e10b345fc7ed33b1bcdd92ca6eabd761cdfbcb</th>\n",
       "      <th>d1f037027b080c90d1d1de622e5407ac505df55888940d5581d2cb39ab0f73ffd1b076e65a1e2994e43ec3d6436f9d1137119d6cf139cc0d3649498ec484da39</th>\n",
       "      <th>d47be1154b5742dae83fe5c1035390c82cf3798ea7da18a2f5e503135727fd61288335aef23bf72f85dd15d77e99f6505a111154e115c83ab3a984b037f54df3</th>\n",
       "      <th>e03f20932bb3d1c2ea9cc8c05d7e6fe5fb50423d25e9827a6f849bf19b0a0e30b4c8ae81689bf9160d97a498b30a5763571506c552b9bde7c10cc8d277e4d1e4</th>\n",
       "      <th>e1e88068bae32c3b5e4a645c87fa7197ec6b839224fba1617879be7a12e69356e12b2c5b6c39dbf3aba86c7d6d561a2c11bcf44f73550d878665227dc40b1a55</th>\n",
       "      <th>e628a14912374ee53d7afe882c9b8733cc49aba9734f003ad7bdd99cfb0d9a10331997d44f3367d0db1c62e64f6fd791eda4cecd218d6280d9747b6b0ebc7237</th>\n",
       "      <th>ede52319edec5da370f89f2358deac0f33330d64a40e019fc0846d5447491a9ba1503171593c7a15323ae94e4cde1b5ae2f29dcabf2b7a24eb76963b2143f925</th>\n",
       "    </tr>\n",
       "  </thead>\n",
       "  <tbody>\n",
       "    <tr>\n",
       "      <th>0</th>\n",
       "      <td>a05e38874bb65b229ac14a942b0422418e473df1000cb0...</td>\n",
       "      <td>20220612</td>\n",
       "      <td>0</td>\n",
       "      <td>NaN</td>\n",
       "      <td>NaN</td>\n",
       "      <td>NaN</td>\n",
       "      <td>NaN</td>\n",
       "      <td>NaN</td>\n",
       "      <td>NaN</td>\n",
       "      <td>NaN</td>\n",
       "      <td>...</td>\n",
       "      <td>NaN</td>\n",
       "      <td>NaN</td>\n",
       "      <td>NaN</td>\n",
       "      <td>NaN</td>\n",
       "      <td>NaN</td>\n",
       "      <td>NaN</td>\n",
       "      <td>NaN</td>\n",
       "      <td>NaN</td>\n",
       "      <td>NaN</td>\n",
       "      <td>[[2022-06-09, 1]]</td>\n",
       "    </tr>\n",
       "    <tr>\n",
       "      <th>1</th>\n",
       "      <td>b71999a9bf0cbc3c950b541f9b9ca7e9cb14bba0476a5f...</td>\n",
       "      <td>20220627</td>\n",
       "      <td>0</td>\n",
       "      <td>NaN</td>\n",
       "      <td>NaN</td>\n",
       "      <td>NaN</td>\n",
       "      <td>NaN</td>\n",
       "      <td>NaN</td>\n",
       "      <td>NaN</td>\n",
       "      <td>NaN</td>\n",
       "      <td>...</td>\n",
       "      <td>NaN</td>\n",
       "      <td>NaN</td>\n",
       "      <td>NaN</td>\n",
       "      <td>NaN</td>\n",
       "      <td>NaN</td>\n",
       "      <td>NaN</td>\n",
       "      <td>NaN</td>\n",
       "      <td>NaN</td>\n",
       "      <td>NaN</td>\n",
       "      <td>NaN</td>\n",
       "    </tr>\n",
       "    <tr>\n",
       "      <th>2</th>\n",
       "      <td>c524b01ee39955a75528cbbebab3d2dc92263bde5a835d...</td>\n",
       "      <td>20220629</td>\n",
       "      <td>0</td>\n",
       "      <td>NaN</td>\n",
       "      <td>NaN</td>\n",
       "      <td>NaN</td>\n",
       "      <td>NaN</td>\n",
       "      <td>NaN</td>\n",
       "      <td>NaN</td>\n",
       "      <td>NaN</td>\n",
       "      <td>...</td>\n",
       "      <td>NaN</td>\n",
       "      <td>NaN</td>\n",
       "      <td>NaN</td>\n",
       "      <td>NaN</td>\n",
       "      <td>NaN</td>\n",
       "      <td>NaN</td>\n",
       "      <td>NaN</td>\n",
       "      <td>NaN</td>\n",
       "      <td>NaN</td>\n",
       "      <td>NaN</td>\n",
       "    </tr>\n",
       "    <tr>\n",
       "      <th>3</th>\n",
       "      <td>63f6393fb1fc2de80416777e9cd70d887958af32933aa9...</td>\n",
       "      <td>20220615</td>\n",
       "      <td>0</td>\n",
       "      <td>NaN</td>\n",
       "      <td>NaN</td>\n",
       "      <td>NaN</td>\n",
       "      <td>NaN</td>\n",
       "      <td>NaN</td>\n",
       "      <td>NaN</td>\n",
       "      <td>NaN</td>\n",
       "      <td>...</td>\n",
       "      <td>NaN</td>\n",
       "      <td>NaN</td>\n",
       "      <td>NaN</td>\n",
       "      <td>NaN</td>\n",
       "      <td>NaN</td>\n",
       "      <td>NaN</td>\n",
       "      <td>NaN</td>\n",
       "      <td>NaN</td>\n",
       "      <td>NaN</td>\n",
       "      <td>NaN</td>\n",
       "    </tr>\n",
       "    <tr>\n",
       "      <th>4</th>\n",
       "      <td>600e77d16212d6760ef9e78b7e77252973a29bef5590b4...</td>\n",
       "      <td>20220629</td>\n",
       "      <td>0</td>\n",
       "      <td>NaN</td>\n",
       "      <td>NaN</td>\n",
       "      <td>NaN</td>\n",
       "      <td>NaN</td>\n",
       "      <td>NaN</td>\n",
       "      <td>NaN</td>\n",
       "      <td>NaN</td>\n",
       "      <td>...</td>\n",
       "      <td>NaN</td>\n",
       "      <td>NaN</td>\n",
       "      <td>NaN</td>\n",
       "      <td>NaN</td>\n",
       "      <td>NaN</td>\n",
       "      <td>NaN</td>\n",
       "      <td>NaN</td>\n",
       "      <td>NaN</td>\n",
       "      <td>NaN</td>\n",
       "      <td>NaN</td>\n",
       "    </tr>\n",
       "  </tbody>\n",
       "</table>\n",
       "<p>5 rows × 50 columns</p>\n",
       "</div>"
      ],
      "text/plain": [
       "                                           CLIENT_ID  RETRO_DT TARGET  \\\n",
       "0  a05e38874bb65b229ac14a942b0422418e473df1000cb0...  20220612      0   \n",
       "1  b71999a9bf0cbc3c950b541f9b9ca7e9cb14bba0476a5f...  20220627      0   \n",
       "2  c524b01ee39955a75528cbbebab3d2dc92263bde5a835d...  20220629      0   \n",
       "3  63f6393fb1fc2de80416777e9cd70d887958af32933aa9...  20220615      0   \n",
       "4  600e77d16212d6760ef9e78b7e77252973a29bef5590b4...  20220629      0   \n",
       "\n",
       "  000f55134facf53934419b254d274058d8d94f1237a7af8d47b3f40e888f437a6a83fd05e9fb4dac30515ddd740b5654c3d7b1b064f53699a59783ee93184730  \\\n",
       "0                                                NaN                                                                                 \n",
       "1                                                NaN                                                                                 \n",
       "2                                                NaN                                                                                 \n",
       "3                                                NaN                                                                                 \n",
       "4                                                NaN                                                                                 \n",
       "\n",
       "  036e1e790ff6f9461a0672ade8a70fd7a203b12891926838999f635bd1196ebdf728f5a92b6eebe3e0f8c263baa0ce81136cb2bbc9721b51b175904ca46c5b27  \\\n",
       "0                                                NaN                                                                                 \n",
       "1                                                NaN                                                                                 \n",
       "2                                                NaN                                                                                 \n",
       "3                                                NaN                                                                                 \n",
       "4                                                NaN                                                                                 \n",
       "\n",
       "  04e31da877871578755e676b9745affa310c376a6868a853fc5f3dfe8996dbaa61769bcae224fff029cc68ba97e7c8e476356508315e8e8fd58a90b919e5bf8d  \\\n",
       "0                                                NaN                                                                                 \n",
       "1                                                NaN                                                                                 \n",
       "2                                                NaN                                                                                 \n",
       "3                                                NaN                                                                                 \n",
       "4                                                NaN                                                                                 \n",
       "\n",
       "  09057f3e555f5b813f5ee380c8f1c1df831a6cf05007a909124f75391dd30fb098902dddd9e1b9c5631484ce30d4d6732ef75207930958e52dc592228410fa58  \\\n",
       "0                                                NaN                                                                                 \n",
       "1                                                NaN                                                                                 \n",
       "2                                                NaN                                                                                 \n",
       "3                                                NaN                                                                                 \n",
       "4                                                NaN                                                                                 \n",
       "\n",
       "  0aa9967667c60276babfcf1611af29c0fb5d445c3f66fec2f1c4d2515b9a94fd375e45e49137e9948712ce02c56a86b3b66dc60e819c083a24bab4877b2eda60  \\\n",
       "0                                                NaN                                                                                 \n",
       "1                                                NaN                                                                                 \n",
       "2                                                NaN                                                                                 \n",
       "3                                                NaN                                                                                 \n",
       "4                                                NaN                                                                                 \n",
       "\n",
       "  0d2ca31598f751eb5f1fae2457093fb542e1f8472bf602319f4614fa4f9879592c48888b943d3c35aaf4ad81822ad53f1d744eb6bebc47bd1f8d51a51822a5aa  \\\n",
       "0                                                NaN                                                                                 \n",
       "1                                                NaN                                                                                 \n",
       "2                                                NaN                                                                                 \n",
       "3                                                NaN                                                                                 \n",
       "4                                                NaN                                                                                 \n",
       "\n",
       "  0fd23397f0534cad0fb85ce4a48ec423e50ec597b70b66447fdad6695096dbda4f2ddc10746aab9b697387aa6c04de1aff6aa70196f132e9b51154eff857e899  \\\n",
       "0                                                NaN                                                                                 \n",
       "1                                                NaN                                                                                 \n",
       "2                                                NaN                                                                                 \n",
       "3                                                NaN                                                                                 \n",
       "4                                                NaN                                                                                 \n",
       "\n",
       "   ...  \\\n",
       "0  ...   \n",
       "1  ...   \n",
       "2  ...   \n",
       "3  ...   \n",
       "4  ...   \n",
       "\n",
       "  b21180b5b5a42dbe7fa7615f95fcba885c20f0056f09d4a71dd8ec4b7a68a7b54af6340cdf8ec5006273872dbb3138ed64811ef8a81a965482bc32339f58d4ed  \\\n",
       "0                                                NaN                                                                                 \n",
       "1                                                NaN                                                                                 \n",
       "2                                                NaN                                                                                 \n",
       "3                                                NaN                                                                                 \n",
       "4                                                NaN                                                                                 \n",
       "\n",
       "  b3c0ef119fea1d559c5f57108af1e15c7856c03d1a37eadc66ea5cc5e1c59d258489136bed7ade7a6cf7f94d354bda76a2ed08c8dbeea1744137090bd6efa765  \\\n",
       "0                                                NaN                                                                                 \n",
       "1                                                NaN                                                                                 \n",
       "2                                                NaN                                                                                 \n",
       "3                                                NaN                                                                                 \n",
       "4                                                NaN                                                                                 \n",
       "\n",
       "  cf32d63dc7331321a191273099b6926e0779140433f5bd0d98974ae2344fdcf922822ebb67dd55a43a2e5d6ea9a204a556006012ac53cfce9da9780db7620d59  \\\n",
       "0                                                NaN                                                                                 \n",
       "1                                                NaN                                                                                 \n",
       "2                                                NaN                                                                                 \n",
       "3                                                NaN                                                                                 \n",
       "4                                                NaN                                                                                 \n",
       "\n",
       "  d07c71360870cebc65faf350e0496e799608e1ae6d107ce90e620c8051cb4910d97880185195c3690b7c8b2930e10b345fc7ed33b1bcdd92ca6eabd761cdfbcb  \\\n",
       "0                                                NaN                                                                                 \n",
       "1                                                NaN                                                                                 \n",
       "2                                                NaN                                                                                 \n",
       "3                                                NaN                                                                                 \n",
       "4                                                NaN                                                                                 \n",
       "\n",
       "  d1f037027b080c90d1d1de622e5407ac505df55888940d5581d2cb39ab0f73ffd1b076e65a1e2994e43ec3d6436f9d1137119d6cf139cc0d3649498ec484da39  \\\n",
       "0                                                NaN                                                                                 \n",
       "1                                                NaN                                                                                 \n",
       "2                                                NaN                                                                                 \n",
       "3                                                NaN                                                                                 \n",
       "4                                                NaN                                                                                 \n",
       "\n",
       "  d47be1154b5742dae83fe5c1035390c82cf3798ea7da18a2f5e503135727fd61288335aef23bf72f85dd15d77e99f6505a111154e115c83ab3a984b037f54df3  \\\n",
       "0                                                NaN                                                                                 \n",
       "1                                                NaN                                                                                 \n",
       "2                                                NaN                                                                                 \n",
       "3                                                NaN                                                                                 \n",
       "4                                                NaN                                                                                 \n",
       "\n",
       "  e03f20932bb3d1c2ea9cc8c05d7e6fe5fb50423d25e9827a6f849bf19b0a0e30b4c8ae81689bf9160d97a498b30a5763571506c552b9bde7c10cc8d277e4d1e4  \\\n",
       "0                                                NaN                                                                                 \n",
       "1                                                NaN                                                                                 \n",
       "2                                                NaN                                                                                 \n",
       "3                                                NaN                                                                                 \n",
       "4                                                NaN                                                                                 \n",
       "\n",
       "  e1e88068bae32c3b5e4a645c87fa7197ec6b839224fba1617879be7a12e69356e12b2c5b6c39dbf3aba86c7d6d561a2c11bcf44f73550d878665227dc40b1a55  \\\n",
       "0                                                NaN                                                                                 \n",
       "1                                                NaN                                                                                 \n",
       "2                                                NaN                                                                                 \n",
       "3                                                NaN                                                                                 \n",
       "4                                                NaN                                                                                 \n",
       "\n",
       "  e628a14912374ee53d7afe882c9b8733cc49aba9734f003ad7bdd99cfb0d9a10331997d44f3367d0db1c62e64f6fd791eda4cecd218d6280d9747b6b0ebc7237  \\\n",
       "0                                                NaN                                                                                 \n",
       "1                                                NaN                                                                                 \n",
       "2                                                NaN                                                                                 \n",
       "3                                                NaN                                                                                 \n",
       "4                                                NaN                                                                                 \n",
       "\n",
       "  ede52319edec5da370f89f2358deac0f33330d64a40e019fc0846d5447491a9ba1503171593c7a15323ae94e4cde1b5ae2f29dcabf2b7a24eb76963b2143f925  \n",
       "0                                  [[2022-06-09, 1]]                                                                                \n",
       "1                                                NaN                                                                                \n",
       "2                                                NaN                                                                                \n",
       "3                                                NaN                                                                                \n",
       "4                                                NaN                                                                                \n",
       "\n",
       "[5 rows x 50 columns]"
      ]
     },
     "execution_count": 176,
     "metadata": {},
     "output_type": "execute_result"
    }
   ],
   "source": [
    "df = pd.read_pickle('MADE_sample_final_011222.pickle')\n",
    "df.head()"
   ]
  },
  {
   "cell_type": "code",
   "execution_count": 177,
   "metadata": {},
   "outputs": [
    {
     "name": "stdout",
     "output_type": "stream",
     "text": [
      "<class 'pandas.core.frame.DataFrame'>\n",
      "Int64Index: 2905 entries, 0 to 2904\n",
      "Data columns (total 50 columns):\n",
      " #   Column                                                                                                                            Non-Null Count  Dtype \n",
      "---  ------                                                                                                                            --------------  ----- \n",
      " 0   CLIENT_ID                                                                                                                         2905 non-null   object\n",
      " 1   RETRO_DT                                                                                                                          2905 non-null   int64 \n",
      " 2   TARGET                                                                                                                            2905 non-null   object\n",
      " 3   000f55134facf53934419b254d274058d8d94f1237a7af8d47b3f40e888f437a6a83fd05e9fb4dac30515ddd740b5654c3d7b1b064f53699a59783ee93184730  1 non-null      object\n",
      " 4   036e1e790ff6f9461a0672ade8a70fd7a203b12891926838999f635bd1196ebdf728f5a92b6eebe3e0f8c263baa0ce81136cb2bbc9721b51b175904ca46c5b27  6 non-null      object\n",
      " 5   04e31da877871578755e676b9745affa310c376a6868a853fc5f3dfe8996dbaa61769bcae224fff029cc68ba97e7c8e476356508315e8e8fd58a90b919e5bf8d  15 non-null     object\n",
      " 6   09057f3e555f5b813f5ee380c8f1c1df831a6cf05007a909124f75391dd30fb098902dddd9e1b9c5631484ce30d4d6732ef75207930958e52dc592228410fa58  9 non-null      object\n",
      " 7   0aa9967667c60276babfcf1611af29c0fb5d445c3f66fec2f1c4d2515b9a94fd375e45e49137e9948712ce02c56a86b3b66dc60e819c083a24bab4877b2eda60  4 non-null      object\n",
      " 8   0d2ca31598f751eb5f1fae2457093fb542e1f8472bf602319f4614fa4f9879592c48888b943d3c35aaf4ad81822ad53f1d744eb6bebc47bd1f8d51a51822a5aa  133 non-null    object\n",
      " 9   0fd23397f0534cad0fb85ce4a48ec423e50ec597b70b66447fdad6695096dbda4f2ddc10746aab9b697387aa6c04de1aff6aa70196f132e9b51154eff857e899  198 non-null    object\n",
      " 10  116a17455c05523250a629b44eb0ba939168daa86103505dcaf35eee6edbd6852ddd16776bc52d2d637653fc8183231d4eb274137feb2efba23a5b7706ef2bb8  7 non-null      object\n",
      " 11  13bbf54ef5e283e1217f8d39238c3dfdcf0fb228c7cbd76fad0d8ea6195a071530aa107fad6544fdf57a2f76713a80329c1085f54eeb3e0da2df313d4f534820  42 non-null     object\n",
      " 12  140f477c9e8eef47621d90a2fb6097899e609d7ae1d21a787ae97a46faf5cf145de82815a6074462ba891498d1de4d32b5eb8cb640d26d9bfa2bb793e5efe4fc  27 non-null     object\n",
      " 13  1844502b9e6f1aec0696122c69deeead2e48c313c19bbca21a99ddd6995da04f7a88bfdb190713f8b00561421d2631bc7757c91c9f0c7a2939c53868854e3c4f  45 non-null     object\n",
      " 14  1de58d710ba441dadd9a611c587ee3f6135ccdc219e01d825895a130cea9231d773f84bde674b44faf9a92d96313c9a72d31f5bb2ea772ac9eed5914bbee9143  20 non-null     object\n",
      " 15  239780896a2f3fdd0175568950ec0fe22b0cccf41ff66136821f4a445eb46734edb07286eab90f21309a494a416a1bc97e8c8c0a353a98e87fc112c983b7b260  2 non-null      object\n",
      " 16  27cdfbd2e69a1d8474dc0da204701fcf468665c6b180b6c1a8572d5aecc9ff885ea3dadcb483b64fcc4fa01822fbf2a56429cda3725b672a00cad7fd8f55c5d6  192 non-null    object\n",
      " 17  334277389368562d8b608e294eaad7161c3d13a63e8568acde9c759f6a07ad10e1465688f61ba2a1e4e598e9fa918f564d21f68681534fd9bfe0c4d4c2a7707e  1 non-null      object\n",
      " 18  37488a539da18694d3d307fe54405b3ee8772f58e29f117c928396bf1850f519c9b1db0bdcb95221dd4e78a8adaf21f07fe8a69391e564627fb492261f226700  390 non-null    object\n",
      " 19  38965f2ed008384ef06128d437896c1a0d92cfe3e86f5264e195314ee079f8fc5d5b78735dc0b4631d3573093438e404f7c161f63115a96a9ce936c52a08edd2  62 non-null     object\n",
      " 20  3ca5f859e36a54b0ab9e6f00926dd05246a587d6ba24291f89134165b6ba63258f3ee03a4f61b2631a8ff7d495a8c74ff11ea2cd13f7b96d0c026882d2ba3141  98 non-null     object\n",
      " 21  3ff8a62a9463a1fcf96ca0996dcee65e25f6eaf93e997fe10684d82f31883fc56b3d02f2a169e8768437fc15dde7f784430606cd9a69edb635a2defcedd48086  99 non-null     object\n",
      " 22  4b63649a1c103fea9f5d210cd9adf707647eef05cfe805afb2c14ed5ad75ee422b8464da3f610f0f0f6e41e4f4abf7928bef718a6eab1b200962903def1dd8e6  101 non-null    object\n",
      " 23  4bcc1cbbead0a0e0e5b9e90509c0ba9d63acc313edb687a3135dedd03f7b94c6c8488cc0b4127c013e915ec76105eb498c93f25b895605489d20065d1242238e  681 non-null    object\n",
      " 24  5bf1ec04b98cfeadbb510770e7c7588fc1f135363cccd6b7562b7c89b38c44c1276df9c6516193be69f85e36b75be4f30b793f22b6c2a6c8d2aad6aa04966d40  2 non-null      object\n",
      " 25  64017b57acd0a648be5a55c5bc8fb7330952087bb0d634256f0d5c1616f73823a591ea6ca4c7c75842836362f5cdacbd1379e6edcce8dff1a347f883c971f1be  314 non-null    object\n",
      " 26  69fa984d60671ac726e9cfdc046afc9157fb12cdb24fecfbdcbe60000445c71c05027b2c03be274e5720aa03388602f35167916b5a04b0f654f8e1fa8cde877b  15 non-null     object\n",
      " 27  6b13b6b4d96b6294f223f3e5b354088105fe5dd1f5b873f18bae84d16e9b17fd9e3dbb35e233400826da78dcd2cd5833f712a5e12d6f4af8b21b529b4631cba4  4 non-null      object\n",
      " 28  6c5584cb510a7527805322f9cb2620f12ab8a615063cfefeedba014f9be3a117de0af623b1d1069a10136fbf224a338b896052dc5a26d9df230b6a2cc85f3b28  42 non-null     object\n",
      " 29  7208244b47443d89938b540b4b9e5aca0f8fc55f823dd5e640ab66f3a8facb4714725577a4d486a39ac45a0612f5f14cd6944e1bba6510bce75504754f8c8dff  3 non-null      object\n",
      " 30  7a13a6000df9ebd6c39faf9c513165c7837bd49e8481398919f9603c33316b30afe385a1313a46142e784c56a984919d2aa068be9a92d5069cc7d564cb7d53d6  10 non-null     object\n",
      " 31  7ed2b06abba055859db70ca0cedd1470a04f5126a4e34fcf64df9cbb334da1699eda2361f142aaaf4f2c2558073480d819b3197e7fdbd418e031905e8060e642  33 non-null     object\n",
      " 32  7fc7247ee09e0f194e24910f91dc35933a6c1ec75b239f1bb4154df8e9c18f36313ac935ab88e1374d7243404b2c38f7306b8aa355bc2637af960e76f957ccdc  15 non-null     object\n",
      " 33  8b8b6816f92d2439ca6c98f1aabc5cec9749c038af61c068f331599719f4638e2920ee793a42efaad47a31866b26c732c0015c69658e03e00d83b8a0d5229b04  1 non-null      object\n",
      " 34  8c645d148f711cdb2cae4536e92fde102d5dc042d66befb1aa1ce0a3a48476e58f8b21e48c7de9951e8a6a013a8ca547338e996d33b3f5d6c53d7f55028d01ee  319 non-null    object\n",
      " 35  97089744c4bd1deaa35159f4b3418598569b2cf348925532d805bd1d76b36ca587d6e5a351d12a2d05d19a9cba054ae02dbeb3a636129afb25b0efbebe638da2  1096 non-null   object\n",
      " 36  a017266cf9e616850de4fd3d1c6e7107a120eeafe477e890cd521fb05c5d9cfea03b99a9818c1a81dfba91273bf22d22e7cf9065a57105a9b1396c9cbccf27e3  104 non-null    object\n",
      " 37  a572516970622b2e3035510aba65d131ce2559a8ebf4731cc8bd592445fb9b0a35a99b68bef1a783ae2e1ba428c54e0f6c7037c92c3a2383e86b947960b51659  28 non-null     object\n",
      " 38  a5c8043cae0d666cd81f7d9196a5dad81d0c0950e227f4effe0e0320e55c326206a01ee5571415661de9650c5de7f7cf02f4a1205812811f1d0ad2450a01a598  1 non-null      object\n",
      " 39  a8184f3a3404a003cd741d64b31150b10ff5f81182403e123d4856bb16ac524384a249bb052959ae536177600c44ef8010ea9947dfb800196d356eaf3f5354fc  3 non-null      object\n",
      " 40  b21180b5b5a42dbe7fa7615f95fcba885c20f0056f09d4a71dd8ec4b7a68a7b54af6340cdf8ec5006273872dbb3138ed64811ef8a81a965482bc32339f58d4ed  4 non-null      object\n",
      " 41  b3c0ef119fea1d559c5f57108af1e15c7856c03d1a37eadc66ea5cc5e1c59d258489136bed7ade7a6cf7f94d354bda76a2ed08c8dbeea1744137090bd6efa765  3 non-null      object\n",
      " 42  cf32d63dc7331321a191273099b6926e0779140433f5bd0d98974ae2344fdcf922822ebb67dd55a43a2e5d6ea9a204a556006012ac53cfce9da9780db7620d59  2 non-null      object\n",
      " 43  d07c71360870cebc65faf350e0496e799608e1ae6d107ce90e620c8051cb4910d97880185195c3690b7c8b2930e10b345fc7ed33b1bcdd92ca6eabd761cdfbcb  300 non-null    object\n",
      " 44  d1f037027b080c90d1d1de622e5407ac505df55888940d5581d2cb39ab0f73ffd1b076e65a1e2994e43ec3d6436f9d1137119d6cf139cc0d3649498ec484da39  1 non-null      object\n",
      " 45  d47be1154b5742dae83fe5c1035390c82cf3798ea7da18a2f5e503135727fd61288335aef23bf72f85dd15d77e99f6505a111154e115c83ab3a984b037f54df3  6 non-null      object\n",
      " 46  e03f20932bb3d1c2ea9cc8c05d7e6fe5fb50423d25e9827a6f849bf19b0a0e30b4c8ae81689bf9160d97a498b30a5763571506c552b9bde7c10cc8d277e4d1e4  148 non-null    object\n",
      " 47  e1e88068bae32c3b5e4a645c87fa7197ec6b839224fba1617879be7a12e69356e12b2c5b6c39dbf3aba86c7d6d561a2c11bcf44f73550d878665227dc40b1a55  19 non-null     object\n",
      " 48  e628a14912374ee53d7afe882c9b8733cc49aba9734f003ad7bdd99cfb0d9a10331997d44f3367d0db1c62e64f6fd791eda4cecd218d6280d9747b6b0ebc7237  7 non-null      object\n",
      " 49  ede52319edec5da370f89f2358deac0f33330d64a40e019fc0846d5447491a9ba1503171593c7a15323ae94e4cde1b5ae2f29dcabf2b7a24eb76963b2143f925  176 non-null    object\n",
      "dtypes: int64(1), object(49)\n",
      "memory usage: 1.1+ MB\n"
     ]
    }
   ],
   "source": [
    "df.info()"
   ]
  },
  {
   "cell_type": "code",
   "execution_count": 178,
   "metadata": {},
   "outputs": [
    {
     "data": {
      "text/plain": [
       "0    2849\n",
       "1      56\n",
       "Name: TARGET, dtype: int64"
      ]
     },
     "execution_count": 178,
     "metadata": {},
     "output_type": "execute_result"
    }
   ],
   "source": [
    "df['TARGET'].value_counts()"
   ]
  },
  {
   "cell_type": "markdown",
   "metadata": {},
   "source": [
    "Структура данных следующая:\n",
    "\n",
    "- id пользователя\n",
    "- target - является ли пользователь заинтересованным в данном товаре в конкретную дату\n",
    "- ретродата - конкретная дата, в которую мы бы хотели уметь предсказывать интерес пользователя\n",
    "- все следующие столбцы описывают поведение пользователя в сети в предыдущие 2 недели.\n",
    "    - каждый столбец соответствует определнной ссылке\n",
    "    - ссылки анонимизированы \n",
    "    - ссылки разбиты на группы, группы определяются по префиксу столбца, в группах может быть разное количество ссылок\n",
    "    - история представляет собой список пар - (дата посещения, количество посещений в эту дату)"
   ]
  },
  {
   "cell_type": "markdown",
   "metadata": {},
   "source": [
    "#### General description of data"
   ]
  },
  {
   "cell_type": "code",
   "execution_count": 179,
   "metadata": {
    "ExecuteTime": {
     "end_time": "2022-11-28T22:37:07.963185Z",
     "start_time": "2022-11-28T22:37:07.953211Z"
    }
   },
   "outputs": [
    {
     "name": "stdout",
     "output_type": "stream",
     "text": [
      "df shape         : (2905, 50)\n",
      "unique users     : 2905\n"
     ]
    }
   ],
   "source": [
    "# table size\n",
    "print(\"df shape         :\", df.shape)\n",
    "# number of unique users\n",
    "print(\"unique users     :\", df.CLIENT_ID.nunique())\n",
    "# number of groups\n",
    "groups_columns = df.columns.tolist()[3:]"
   ]
  },
  {
   "cell_type": "markdown",
   "metadata": {},
   "source": [
    "#### Data processing"
   ]
  },
  {
   "cell_type": "markdown",
   "metadata": {},
   "source": [
    "First of all lets convert lists in cells into real lists (now they are string-lists)."
   ]
  },
  {
   "cell_type": "code",
   "execution_count": 180,
   "metadata": {
    "ExecuteTime": {
     "end_time": "2022-11-28T22:37:36.268780Z",
     "start_time": "2022-11-28T22:37:36.256814Z"
    }
   },
   "outputs": [],
   "source": [
    "def make_normal_list(string_list):\n",
    "    if isinstance(string_list, float):\n",
    "        return None\n",
    "    day_process = lambda x: (pd.to_datetime(x[0], format='%Y/%m/%d').date(), x[1])\n",
    "    \n",
    "    history = [day_process(day) for day in string_list]\n",
    "    return history"
   ]
  },
  {
   "cell_type": "code",
   "execution_count": 181,
   "metadata": {
    "ExecuteTime": {
     "end_time": "2022-11-28T22:37:38.768894Z",
     "start_time": "2022-11-28T22:37:38.761883Z"
    }
   },
   "outputs": [],
   "source": [
    "def make_normal_list_series(series):\n",
    "    return series.apply(make_normal_list)"
   ]
  },
  {
   "cell_type": "code",
   "execution_count": 182,
   "metadata": {
    "ExecuteTime": {
     "end_time": "2022-11-28T22:37:39.690160Z",
     "start_time": "2022-11-28T22:37:39.672176Z"
    }
   },
   "outputs": [],
   "source": [
    "df.RETRO_DT = pd.to_datetime(df.RETRO_DT, format='%Y%m%d').dt.date"
   ]
  },
  {
   "cell_type": "code",
   "execution_count": 183,
   "metadata": {},
   "outputs": [
    {
     "data": {
      "text/plain": [
       "0    2022-06-12\n",
       "1    2022-06-27\n",
       "2    2022-06-29\n",
       "3    2022-06-15\n",
       "4    2022-06-29\n",
       "Name: RETRO_DT, dtype: object"
      ]
     },
     "execution_count": 183,
     "metadata": {},
     "output_type": "execute_result"
    }
   ],
   "source": [
    "df.RETRO_DT.head()"
   ]
  },
  {
   "cell_type": "code",
   "execution_count": 184,
   "metadata": {
    "ExecuteTime": {
     "end_time": "2022-11-28T22:38:30.411662Z",
     "start_time": "2022-11-28T22:37:42.865722Z"
    }
   },
   "outputs": [],
   "source": [
    "df[groups_columns] = df[groups_columns].apply(make_normal_list_series)"
   ]
  },
  {
   "cell_type": "code",
   "execution_count": 185,
   "metadata": {
    "ExecuteTime": {
     "end_time": "2022-11-28T22:38:39.062215Z",
     "start_time": "2022-11-28T22:38:38.912615Z"
    }
   },
   "outputs": [
    {
     "data": {
      "text/html": [
       "<div>\n",
       "<style scoped>\n",
       "    .dataframe tbody tr th:only-of-type {\n",
       "        vertical-align: middle;\n",
       "    }\n",
       "\n",
       "    .dataframe tbody tr th {\n",
       "        vertical-align: top;\n",
       "    }\n",
       "\n",
       "    .dataframe thead th {\n",
       "        text-align: right;\n",
       "    }\n",
       "</style>\n",
       "<table border=\"1\" class=\"dataframe\">\n",
       "  <thead>\n",
       "    <tr style=\"text-align: right;\">\n",
       "      <th></th>\n",
       "      <th>CLIENT_ID</th>\n",
       "      <th>RETRO_DT</th>\n",
       "      <th>TARGET</th>\n",
       "      <th>000f55134facf53934419b254d274058d8d94f1237a7af8d47b3f40e888f437a6a83fd05e9fb4dac30515ddd740b5654c3d7b1b064f53699a59783ee93184730</th>\n",
       "      <th>036e1e790ff6f9461a0672ade8a70fd7a203b12891926838999f635bd1196ebdf728f5a92b6eebe3e0f8c263baa0ce81136cb2bbc9721b51b175904ca46c5b27</th>\n",
       "      <th>04e31da877871578755e676b9745affa310c376a6868a853fc5f3dfe8996dbaa61769bcae224fff029cc68ba97e7c8e476356508315e8e8fd58a90b919e5bf8d</th>\n",
       "      <th>09057f3e555f5b813f5ee380c8f1c1df831a6cf05007a909124f75391dd30fb098902dddd9e1b9c5631484ce30d4d6732ef75207930958e52dc592228410fa58</th>\n",
       "      <th>0aa9967667c60276babfcf1611af29c0fb5d445c3f66fec2f1c4d2515b9a94fd375e45e49137e9948712ce02c56a86b3b66dc60e819c083a24bab4877b2eda60</th>\n",
       "      <th>0d2ca31598f751eb5f1fae2457093fb542e1f8472bf602319f4614fa4f9879592c48888b943d3c35aaf4ad81822ad53f1d744eb6bebc47bd1f8d51a51822a5aa</th>\n",
       "      <th>0fd23397f0534cad0fb85ce4a48ec423e50ec597b70b66447fdad6695096dbda4f2ddc10746aab9b697387aa6c04de1aff6aa70196f132e9b51154eff857e899</th>\n",
       "      <th>...</th>\n",
       "      <th>b21180b5b5a42dbe7fa7615f95fcba885c20f0056f09d4a71dd8ec4b7a68a7b54af6340cdf8ec5006273872dbb3138ed64811ef8a81a965482bc32339f58d4ed</th>\n",
       "      <th>b3c0ef119fea1d559c5f57108af1e15c7856c03d1a37eadc66ea5cc5e1c59d258489136bed7ade7a6cf7f94d354bda76a2ed08c8dbeea1744137090bd6efa765</th>\n",
       "      <th>cf32d63dc7331321a191273099b6926e0779140433f5bd0d98974ae2344fdcf922822ebb67dd55a43a2e5d6ea9a204a556006012ac53cfce9da9780db7620d59</th>\n",
       "      <th>d07c71360870cebc65faf350e0496e799608e1ae6d107ce90e620c8051cb4910d97880185195c3690b7c8b2930e10b345fc7ed33b1bcdd92ca6eabd761cdfbcb</th>\n",
       "      <th>d1f037027b080c90d1d1de622e5407ac505df55888940d5581d2cb39ab0f73ffd1b076e65a1e2994e43ec3d6436f9d1137119d6cf139cc0d3649498ec484da39</th>\n",
       "      <th>d47be1154b5742dae83fe5c1035390c82cf3798ea7da18a2f5e503135727fd61288335aef23bf72f85dd15d77e99f6505a111154e115c83ab3a984b037f54df3</th>\n",
       "      <th>e03f20932bb3d1c2ea9cc8c05d7e6fe5fb50423d25e9827a6f849bf19b0a0e30b4c8ae81689bf9160d97a498b30a5763571506c552b9bde7c10cc8d277e4d1e4</th>\n",
       "      <th>e1e88068bae32c3b5e4a645c87fa7197ec6b839224fba1617879be7a12e69356e12b2c5b6c39dbf3aba86c7d6d561a2c11bcf44f73550d878665227dc40b1a55</th>\n",
       "      <th>e628a14912374ee53d7afe882c9b8733cc49aba9734f003ad7bdd99cfb0d9a10331997d44f3367d0db1c62e64f6fd791eda4cecd218d6280d9747b6b0ebc7237</th>\n",
       "      <th>ede52319edec5da370f89f2358deac0f33330d64a40e019fc0846d5447491a9ba1503171593c7a15323ae94e4cde1b5ae2f29dcabf2b7a24eb76963b2143f925</th>\n",
       "    </tr>\n",
       "  </thead>\n",
       "  <tbody>\n",
       "    <tr>\n",
       "      <th>0</th>\n",
       "      <td>a05e38874bb65b229ac14a942b0422418e473df1000cb0...</td>\n",
       "      <td>2022-06-12</td>\n",
       "      <td>0</td>\n",
       "      <td>None</td>\n",
       "      <td>None</td>\n",
       "      <td>None</td>\n",
       "      <td>None</td>\n",
       "      <td>None</td>\n",
       "      <td>None</td>\n",
       "      <td>None</td>\n",
       "      <td>...</td>\n",
       "      <td>None</td>\n",
       "      <td>None</td>\n",
       "      <td>None</td>\n",
       "      <td>None</td>\n",
       "      <td>None</td>\n",
       "      <td>None</td>\n",
       "      <td>None</td>\n",
       "      <td>None</td>\n",
       "      <td>None</td>\n",
       "      <td>[(2022-06-09, 1)]</td>\n",
       "    </tr>\n",
       "    <tr>\n",
       "      <th>1</th>\n",
       "      <td>b71999a9bf0cbc3c950b541f9b9ca7e9cb14bba0476a5f...</td>\n",
       "      <td>2022-06-27</td>\n",
       "      <td>0</td>\n",
       "      <td>None</td>\n",
       "      <td>None</td>\n",
       "      <td>None</td>\n",
       "      <td>None</td>\n",
       "      <td>None</td>\n",
       "      <td>None</td>\n",
       "      <td>None</td>\n",
       "      <td>...</td>\n",
       "      <td>None</td>\n",
       "      <td>None</td>\n",
       "      <td>None</td>\n",
       "      <td>None</td>\n",
       "      <td>None</td>\n",
       "      <td>None</td>\n",
       "      <td>None</td>\n",
       "      <td>None</td>\n",
       "      <td>None</td>\n",
       "      <td>None</td>\n",
       "    </tr>\n",
       "    <tr>\n",
       "      <th>2</th>\n",
       "      <td>c524b01ee39955a75528cbbebab3d2dc92263bde5a835d...</td>\n",
       "      <td>2022-06-29</td>\n",
       "      <td>0</td>\n",
       "      <td>None</td>\n",
       "      <td>None</td>\n",
       "      <td>None</td>\n",
       "      <td>None</td>\n",
       "      <td>None</td>\n",
       "      <td>None</td>\n",
       "      <td>None</td>\n",
       "      <td>...</td>\n",
       "      <td>None</td>\n",
       "      <td>None</td>\n",
       "      <td>None</td>\n",
       "      <td>None</td>\n",
       "      <td>None</td>\n",
       "      <td>None</td>\n",
       "      <td>None</td>\n",
       "      <td>None</td>\n",
       "      <td>None</td>\n",
       "      <td>None</td>\n",
       "    </tr>\n",
       "    <tr>\n",
       "      <th>3</th>\n",
       "      <td>63f6393fb1fc2de80416777e9cd70d887958af32933aa9...</td>\n",
       "      <td>2022-06-15</td>\n",
       "      <td>0</td>\n",
       "      <td>None</td>\n",
       "      <td>None</td>\n",
       "      <td>None</td>\n",
       "      <td>None</td>\n",
       "      <td>None</td>\n",
       "      <td>None</td>\n",
       "      <td>None</td>\n",
       "      <td>...</td>\n",
       "      <td>None</td>\n",
       "      <td>None</td>\n",
       "      <td>None</td>\n",
       "      <td>None</td>\n",
       "      <td>None</td>\n",
       "      <td>None</td>\n",
       "      <td>None</td>\n",
       "      <td>None</td>\n",
       "      <td>None</td>\n",
       "      <td>None</td>\n",
       "    </tr>\n",
       "    <tr>\n",
       "      <th>4</th>\n",
       "      <td>600e77d16212d6760ef9e78b7e77252973a29bef5590b4...</td>\n",
       "      <td>2022-06-29</td>\n",
       "      <td>0</td>\n",
       "      <td>None</td>\n",
       "      <td>None</td>\n",
       "      <td>None</td>\n",
       "      <td>None</td>\n",
       "      <td>None</td>\n",
       "      <td>None</td>\n",
       "      <td>None</td>\n",
       "      <td>...</td>\n",
       "      <td>None</td>\n",
       "      <td>None</td>\n",
       "      <td>None</td>\n",
       "      <td>None</td>\n",
       "      <td>None</td>\n",
       "      <td>None</td>\n",
       "      <td>None</td>\n",
       "      <td>None</td>\n",
       "      <td>None</td>\n",
       "      <td>None</td>\n",
       "    </tr>\n",
       "  </tbody>\n",
       "</table>\n",
       "<p>5 rows × 50 columns</p>\n",
       "</div>"
      ],
      "text/plain": [
       "                                           CLIENT_ID    RETRO_DT TARGET  \\\n",
       "0  a05e38874bb65b229ac14a942b0422418e473df1000cb0...  2022-06-12      0   \n",
       "1  b71999a9bf0cbc3c950b541f9b9ca7e9cb14bba0476a5f...  2022-06-27      0   \n",
       "2  c524b01ee39955a75528cbbebab3d2dc92263bde5a835d...  2022-06-29      0   \n",
       "3  63f6393fb1fc2de80416777e9cd70d887958af32933aa9...  2022-06-15      0   \n",
       "4  600e77d16212d6760ef9e78b7e77252973a29bef5590b4...  2022-06-29      0   \n",
       "\n",
       "  000f55134facf53934419b254d274058d8d94f1237a7af8d47b3f40e888f437a6a83fd05e9fb4dac30515ddd740b5654c3d7b1b064f53699a59783ee93184730  \\\n",
       "0                                               None                                                                                 \n",
       "1                                               None                                                                                 \n",
       "2                                               None                                                                                 \n",
       "3                                               None                                                                                 \n",
       "4                                               None                                                                                 \n",
       "\n",
       "  036e1e790ff6f9461a0672ade8a70fd7a203b12891926838999f635bd1196ebdf728f5a92b6eebe3e0f8c263baa0ce81136cb2bbc9721b51b175904ca46c5b27  \\\n",
       "0                                               None                                                                                 \n",
       "1                                               None                                                                                 \n",
       "2                                               None                                                                                 \n",
       "3                                               None                                                                                 \n",
       "4                                               None                                                                                 \n",
       "\n",
       "  04e31da877871578755e676b9745affa310c376a6868a853fc5f3dfe8996dbaa61769bcae224fff029cc68ba97e7c8e476356508315e8e8fd58a90b919e5bf8d  \\\n",
       "0                                               None                                                                                 \n",
       "1                                               None                                                                                 \n",
       "2                                               None                                                                                 \n",
       "3                                               None                                                                                 \n",
       "4                                               None                                                                                 \n",
       "\n",
       "  09057f3e555f5b813f5ee380c8f1c1df831a6cf05007a909124f75391dd30fb098902dddd9e1b9c5631484ce30d4d6732ef75207930958e52dc592228410fa58  \\\n",
       "0                                               None                                                                                 \n",
       "1                                               None                                                                                 \n",
       "2                                               None                                                                                 \n",
       "3                                               None                                                                                 \n",
       "4                                               None                                                                                 \n",
       "\n",
       "  0aa9967667c60276babfcf1611af29c0fb5d445c3f66fec2f1c4d2515b9a94fd375e45e49137e9948712ce02c56a86b3b66dc60e819c083a24bab4877b2eda60  \\\n",
       "0                                               None                                                                                 \n",
       "1                                               None                                                                                 \n",
       "2                                               None                                                                                 \n",
       "3                                               None                                                                                 \n",
       "4                                               None                                                                                 \n",
       "\n",
       "  0d2ca31598f751eb5f1fae2457093fb542e1f8472bf602319f4614fa4f9879592c48888b943d3c35aaf4ad81822ad53f1d744eb6bebc47bd1f8d51a51822a5aa  \\\n",
       "0                                               None                                                                                 \n",
       "1                                               None                                                                                 \n",
       "2                                               None                                                                                 \n",
       "3                                               None                                                                                 \n",
       "4                                               None                                                                                 \n",
       "\n",
       "  0fd23397f0534cad0fb85ce4a48ec423e50ec597b70b66447fdad6695096dbda4f2ddc10746aab9b697387aa6c04de1aff6aa70196f132e9b51154eff857e899  \\\n",
       "0                                               None                                                                                 \n",
       "1                                               None                                                                                 \n",
       "2                                               None                                                                                 \n",
       "3                                               None                                                                                 \n",
       "4                                               None                                                                                 \n",
       "\n",
       "   ...  \\\n",
       "0  ...   \n",
       "1  ...   \n",
       "2  ...   \n",
       "3  ...   \n",
       "4  ...   \n",
       "\n",
       "  b21180b5b5a42dbe7fa7615f95fcba885c20f0056f09d4a71dd8ec4b7a68a7b54af6340cdf8ec5006273872dbb3138ed64811ef8a81a965482bc32339f58d4ed  \\\n",
       "0                                               None                                                                                 \n",
       "1                                               None                                                                                 \n",
       "2                                               None                                                                                 \n",
       "3                                               None                                                                                 \n",
       "4                                               None                                                                                 \n",
       "\n",
       "  b3c0ef119fea1d559c5f57108af1e15c7856c03d1a37eadc66ea5cc5e1c59d258489136bed7ade7a6cf7f94d354bda76a2ed08c8dbeea1744137090bd6efa765  \\\n",
       "0                                               None                                                                                 \n",
       "1                                               None                                                                                 \n",
       "2                                               None                                                                                 \n",
       "3                                               None                                                                                 \n",
       "4                                               None                                                                                 \n",
       "\n",
       "  cf32d63dc7331321a191273099b6926e0779140433f5bd0d98974ae2344fdcf922822ebb67dd55a43a2e5d6ea9a204a556006012ac53cfce9da9780db7620d59  \\\n",
       "0                                               None                                                                                 \n",
       "1                                               None                                                                                 \n",
       "2                                               None                                                                                 \n",
       "3                                               None                                                                                 \n",
       "4                                               None                                                                                 \n",
       "\n",
       "  d07c71360870cebc65faf350e0496e799608e1ae6d107ce90e620c8051cb4910d97880185195c3690b7c8b2930e10b345fc7ed33b1bcdd92ca6eabd761cdfbcb  \\\n",
       "0                                               None                                                                                 \n",
       "1                                               None                                                                                 \n",
       "2                                               None                                                                                 \n",
       "3                                               None                                                                                 \n",
       "4                                               None                                                                                 \n",
       "\n",
       "  d1f037027b080c90d1d1de622e5407ac505df55888940d5581d2cb39ab0f73ffd1b076e65a1e2994e43ec3d6436f9d1137119d6cf139cc0d3649498ec484da39  \\\n",
       "0                                               None                                                                                 \n",
       "1                                               None                                                                                 \n",
       "2                                               None                                                                                 \n",
       "3                                               None                                                                                 \n",
       "4                                               None                                                                                 \n",
       "\n",
       "  d47be1154b5742dae83fe5c1035390c82cf3798ea7da18a2f5e503135727fd61288335aef23bf72f85dd15d77e99f6505a111154e115c83ab3a984b037f54df3  \\\n",
       "0                                               None                                                                                 \n",
       "1                                               None                                                                                 \n",
       "2                                               None                                                                                 \n",
       "3                                               None                                                                                 \n",
       "4                                               None                                                                                 \n",
       "\n",
       "  e03f20932bb3d1c2ea9cc8c05d7e6fe5fb50423d25e9827a6f849bf19b0a0e30b4c8ae81689bf9160d97a498b30a5763571506c552b9bde7c10cc8d277e4d1e4  \\\n",
       "0                                               None                                                                                 \n",
       "1                                               None                                                                                 \n",
       "2                                               None                                                                                 \n",
       "3                                               None                                                                                 \n",
       "4                                               None                                                                                 \n",
       "\n",
       "  e1e88068bae32c3b5e4a645c87fa7197ec6b839224fba1617879be7a12e69356e12b2c5b6c39dbf3aba86c7d6d561a2c11bcf44f73550d878665227dc40b1a55  \\\n",
       "0                                               None                                                                                 \n",
       "1                                               None                                                                                 \n",
       "2                                               None                                                                                 \n",
       "3                                               None                                                                                 \n",
       "4                                               None                                                                                 \n",
       "\n",
       "  e628a14912374ee53d7afe882c9b8733cc49aba9734f003ad7bdd99cfb0d9a10331997d44f3367d0db1c62e64f6fd791eda4cecd218d6280d9747b6b0ebc7237  \\\n",
       "0                                               None                                                                                 \n",
       "1                                               None                                                                                 \n",
       "2                                               None                                                                                 \n",
       "3                                               None                                                                                 \n",
       "4                                               None                                                                                 \n",
       "\n",
       "  ede52319edec5da370f89f2358deac0f33330d64a40e019fc0846d5447491a9ba1503171593c7a15323ae94e4cde1b5ae2f29dcabf2b7a24eb76963b2143f925  \n",
       "0                                  [(2022-06-09, 1)]                                                                                \n",
       "1                                               None                                                                                \n",
       "2                                               None                                                                                \n",
       "3                                               None                                                                                \n",
       "4                                               None                                                                                \n",
       "\n",
       "[5 rows x 50 columns]"
      ]
     },
     "execution_count": 185,
     "metadata": {},
     "output_type": "execute_result"
    }
   ],
   "source": [
    "df.head()"
   ]
  },
  {
   "cell_type": "markdown",
   "metadata": {},
   "source": [
    "#### Feature engineering"
   ]
  },
  {
   "cell_type": "markdown",
   "metadata": {},
   "source": [
    "- User activities within two previous weeks\n",
    "    - total visits of all sites (inside of domain)\n",
    "    - total visits for every group\n",
    "    - total visits for every link\n",
    "    - number of active days within period (two weeks)\n",
    "    - number of active days for every group\n",
    "    - average visits per active day (for domain and groups)\n",
    "    - number of visits on previous (or 2, 3) day"
   ]
  },
  {
   "cell_type": "markdown",
   "metadata": {},
   "source": [
    "1. total visits of all sites (inside of domain)"
   ]
  },
  {
   "cell_type": "code",
   "execution_count": 186,
   "metadata": {
    "ExecuteTime": {
     "end_time": "2022-11-28T22:38:46.180526Z",
     "start_time": "2022-11-28T22:38:45.242069Z"
    }
   },
   "outputs": [],
   "source": [
    "def get_total_visits(history_list):\n",
    "    all_sum = 0\n",
    "    for history in history_list:\n",
    "        if isinstance(history, list):\n",
    "            all_sum += sum(info[1] for info in history)\n",
    "    return all_sum\n",
    "    \n",
    "\n",
    "df['total_visits_domain'] = df.apply(lambda x: get_total_visits([x[col] for col in groups_columns]), axis=1)"
   ]
  },
  {
   "cell_type": "code",
   "execution_count": 187,
   "metadata": {},
   "outputs": [
    {
     "data": {
      "text/plain": [
       "0     1\n",
       "1     5\n",
       "2     3\n",
       "3    13\n",
       "4     1\n",
       "Name: total_visits_domain, dtype: int64"
      ]
     },
     "execution_count": 187,
     "metadata": {},
     "output_type": "execute_result"
    }
   ],
   "source": [
    "df['total_visits_domain'].head()"
   ]
  },
  {
   "cell_type": "markdown",
   "metadata": {},
   "source": [
    "4. number of active days within period (two weeks) for domain"
   ]
  },
  {
   "cell_type": "code",
   "execution_count": 188,
   "metadata": {
    "ExecuteTime": {
     "end_time": "2022-11-28T22:38:56.190881Z",
     "start_time": "2022-11-28T22:38:53.328992Z"
    }
   },
   "outputs": [],
   "source": [
    "def get_active_days(history_list, activity_thr=1):\n",
    "    # calculate unique days with visits during history\n",
    "    # activity_thr - number of days to make day active\n",
    "    all_sum = 0\n",
    "    for history in history_list:\n",
    "        if isinstance(history, list):\n",
    "            all_sum += len(set(day for (day, visits) in history if visits > activity_thr))\n",
    "    return all_sum\n",
    "\n",
    "            \n",
    "df['n1_active_days_domain'] = df.apply(lambda x: get_active_days([x[col] for col in groups_columns], 1), axis=1)\n",
    "df['n2_active_days_domain'] = df.apply(lambda x: get_active_days([x[col] for col in groups_columns], 2), axis=1)\n",
    "df['n3_active_days_domain'] = df.apply(lambda x: get_active_days([x[col] for col in groups_columns], 3), axis=1)"
   ]
  },
  {
   "cell_type": "code",
   "execution_count": 189,
   "metadata": {},
   "outputs": [
    {
     "data": {
      "text/html": [
       "<div>\n",
       "<style scoped>\n",
       "    .dataframe tbody tr th:only-of-type {\n",
       "        vertical-align: middle;\n",
       "    }\n",
       "\n",
       "    .dataframe tbody tr th {\n",
       "        vertical-align: top;\n",
       "    }\n",
       "\n",
       "    .dataframe thead th {\n",
       "        text-align: right;\n",
       "    }\n",
       "</style>\n",
       "<table border=\"1\" class=\"dataframe\">\n",
       "  <thead>\n",
       "    <tr style=\"text-align: right;\">\n",
       "      <th></th>\n",
       "      <th>n1_active_days_domain</th>\n",
       "      <th>n2_active_days_domain</th>\n",
       "      <th>n3_active_days_domain</th>\n",
       "    </tr>\n",
       "  </thead>\n",
       "  <tbody>\n",
       "    <tr>\n",
       "      <th>0</th>\n",
       "      <td>0</td>\n",
       "      <td>0</td>\n",
       "      <td>0</td>\n",
       "    </tr>\n",
       "    <tr>\n",
       "      <th>1</th>\n",
       "      <td>2</td>\n",
       "      <td>1</td>\n",
       "      <td>0</td>\n",
       "    </tr>\n",
       "    <tr>\n",
       "      <th>2</th>\n",
       "      <td>1</td>\n",
       "      <td>0</td>\n",
       "      <td>0</td>\n",
       "    </tr>\n",
       "    <tr>\n",
       "      <th>3</th>\n",
       "      <td>2</td>\n",
       "      <td>1</td>\n",
       "      <td>1</td>\n",
       "    </tr>\n",
       "    <tr>\n",
       "      <th>4</th>\n",
       "      <td>0</td>\n",
       "      <td>0</td>\n",
       "      <td>0</td>\n",
       "    </tr>\n",
       "  </tbody>\n",
       "</table>\n",
       "</div>"
      ],
      "text/plain": [
       "   n1_active_days_domain  n2_active_days_domain  n3_active_days_domain\n",
       "0                      0                      0                      0\n",
       "1                      2                      1                      0\n",
       "2                      1                      0                      0\n",
       "3                      2                      1                      1\n",
       "4                      0                      0                      0"
      ]
     },
     "execution_count": 189,
     "metadata": {},
     "output_type": "execute_result"
    }
   ],
   "source": [
    "df[['n1_active_days_domain', 'n2_active_days_domain', 'n3_active_days_domain']].head()"
   ]
  },
  {
   "cell_type": "markdown",
   "metadata": {},
   "source": [
    "6. average visits per active day (for domain and groups)\n",
    "\n",
    "considering days with at least one visit"
   ]
  },
  {
   "cell_type": "code",
   "execution_count": 190,
   "metadata": {
    "ExecuteTime": {
     "end_time": "2022-11-28T22:39:08.079970Z",
     "start_time": "2022-11-28T22:39:05.313170Z"
    }
   },
   "outputs": [
    {
     "name": "stderr",
     "output_type": "stream",
     "text": [
      "/Users/margaritaulitina/opt/anaconda3/lib/python3.8/site-packages/numpy/core/fromnumeric.py:3474: RuntimeWarning: Mean of empty slice.\n",
      "  return _methods._mean(a, axis=axis, dtype=dtype,\n",
      "/Users/margaritaulitina/opt/anaconda3/lib/python3.8/site-packages/numpy/core/_methods.py:189: RuntimeWarning: invalid value encountered in double_scalars\n",
      "  ret = ret.dtype.type(ret / rcount)\n"
     ]
    }
   ],
   "source": [
    "def get_av_visits_per_active_day(history_list, activity_thr=1):\n",
    "    visits = list()\n",
    "    for history in history_list:\n",
    "        if isinstance(history, list):\n",
    "            visits.extend([visits for (day, visits) in history if visits > activity_thr])\n",
    "    return np.mean(visits)\n",
    "\n",
    "df['average_visits_per_day_domain'] = df.apply(lambda x: get_av_visits_per_active_day([x[col] for col in groups_columns], 1), axis=1)"
   ]
  },
  {
   "cell_type": "code",
   "execution_count": 191,
   "metadata": {},
   "outputs": [
    {
     "data": {
      "text/plain": [
       "0    NaN\n",
       "1    2.5\n",
       "2    2.0\n",
       "3    5.0\n",
       "4    NaN\n",
       "Name: average_visits_per_day_domain, dtype: float64"
      ]
     },
     "execution_count": 191,
     "metadata": {},
     "output_type": "execute_result"
    }
   ],
   "source": [
    "df['average_visits_per_day_domain'].head()"
   ]
  },
  {
   "cell_type": "markdown",
   "metadata": {
    "ExecuteTime": {
     "end_time": "2022-11-28T22:14:52.052239Z",
     "start_time": "2022-11-28T22:14:51.970458Z"
    }
   },
   "source": [
    "7. number of visits on previous (or 2, 3) day"
   ]
  },
  {
   "cell_type": "code",
   "execution_count": 192,
   "metadata": {
    "ExecuteTime": {
     "end_time": "2022-11-28T22:39:18.537794Z",
     "start_time": "2022-11-28T22:39:10.449612Z"
    }
   },
   "outputs": [],
   "source": [
    "def get_visits_K_days_ago(history_list, retrodate, lag=1):\n",
    "    visits = list()\n",
    "    for history in history_list:\n",
    "        if isinstance(history, list):\n",
    "            visits.extend(visits for (day, visits) in history if (retrodate - day).days == lag)\n",
    "    return sum(visits)\n",
    "\n",
    "df['visits_1_day_ago_domain'] = df.apply(lambda x: get_visits_K_days_ago([x[col] for col in groups_columns], x.RETRO_DT, 1), axis=1)\n",
    "df['visits_2_day_ago_domain'] = df.apply(lambda x: get_visits_K_days_ago([x[col] for col in groups_columns], x.RETRO_DT, 2), axis=1)\n",
    "df['visits_3_day_ago_domain'] = df.apply(lambda x: get_visits_K_days_ago([x[col] for col in groups_columns], x.RETRO_DT, 3), axis=1)"
   ]
  },
  {
   "cell_type": "code",
   "execution_count": 194,
   "metadata": {},
   "outputs": [
    {
     "data": {
      "text/html": [
       "<div>\n",
       "<style scoped>\n",
       "    .dataframe tbody tr th:only-of-type {\n",
       "        vertical-align: middle;\n",
       "    }\n",
       "\n",
       "    .dataframe tbody tr th {\n",
       "        vertical-align: top;\n",
       "    }\n",
       "\n",
       "    .dataframe thead th {\n",
       "        text-align: right;\n",
       "    }\n",
       "</style>\n",
       "<table border=\"1\" class=\"dataframe\">\n",
       "  <thead>\n",
       "    <tr style=\"text-align: right;\">\n",
       "      <th></th>\n",
       "      <th>visits_1_day_ago_domain</th>\n",
       "      <th>visits_2_day_ago_domain</th>\n",
       "      <th>visits_3_day_ago_domain</th>\n",
       "    </tr>\n",
       "  </thead>\n",
       "  <tbody>\n",
       "    <tr>\n",
       "      <th>0</th>\n",
       "      <td>0</td>\n",
       "      <td>0</td>\n",
       "      <td>1</td>\n",
       "    </tr>\n",
       "    <tr>\n",
       "      <th>1</th>\n",
       "      <td>2</td>\n",
       "      <td>0</td>\n",
       "      <td>0</td>\n",
       "    </tr>\n",
       "    <tr>\n",
       "      <th>2</th>\n",
       "      <td>0</td>\n",
       "      <td>2</td>\n",
       "      <td>0</td>\n",
       "    </tr>\n",
       "    <tr>\n",
       "      <th>3</th>\n",
       "      <td>0</td>\n",
       "      <td>1</td>\n",
       "      <td>0</td>\n",
       "    </tr>\n",
       "    <tr>\n",
       "      <th>4</th>\n",
       "      <td>0</td>\n",
       "      <td>0</td>\n",
       "      <td>0</td>\n",
       "    </tr>\n",
       "  </tbody>\n",
       "</table>\n",
       "</div>"
      ],
      "text/plain": [
       "   visits_1_day_ago_domain  visits_2_day_ago_domain  visits_3_day_ago_domain\n",
       "0                        0                        0                        1\n",
       "1                        2                        0                        0\n",
       "2                        0                        2                        0\n",
       "3                        0                        1                        0\n",
       "4                        0                        0                        0"
      ]
     },
     "execution_count": 194,
     "metadata": {},
     "output_type": "execute_result"
    }
   ],
   "source": [
    "df[['visits_1_day_ago_domain', 'visits_2_day_ago_domain', 'visits_3_day_ago_domain']].head()"
   ]
  },
  {
   "cell_type": "markdown",
   "metadata": {},
   "source": [
    "#### Save data for models"
   ]
  },
  {
   "cell_type": "code",
   "execution_count": 195,
   "metadata": {
    "ExecuteTime": {
     "end_time": "2022-11-28T22:39:54.050135Z",
     "start_time": "2022-11-28T22:39:54.034150Z"
    }
   },
   "outputs": [
    {
     "data": {
      "text/plain": [
       "10"
      ]
     },
     "execution_count": 195,
     "metadata": {},
     "output_type": "execute_result"
    }
   ],
   "source": [
    "ignore_columns = groups_columns + ['RETRO_DT']\n",
    "important_columns = [c for c in df.columns if c not in ignore_columns]\n",
    "len(important_columns)"
   ]
  },
  {
   "cell_type": "code",
   "execution_count": 22,
   "metadata": {
    "ExecuteTime": {
     "end_time": "2022-11-28T22:39:57.499998Z",
     "start_time": "2022-11-28T22:39:57.449002Z"
    }
   },
   "outputs": [],
   "source": [
    "df[important_columns].to_csv('sample_processed.scv', index=False)"
   ]
  },
  {
   "cell_type": "code",
   "execution_count": null,
   "metadata": {},
   "outputs": [],
   "source": []
  },
  {
   "cell_type": "markdown",
   "metadata": {},
   "source": [
    "#### Future work"
   ]
  },
  {
   "cell_type": "markdown",
   "metadata": {},
   "source": [
    "Можно визуализировать посчитанные статистики, должны получаться понятные гистограммы + возможно будут видны отличия по таргету."
   ]
  },
  {
   "cell_type": "markdown",
   "metadata": {},
   "source": [
    "-----"
   ]
  },
  {
   "cell_type": "markdown",
   "metadata": {},
   "source": [
    "что еще можно попробовать"
   ]
  },
  {
   "cell_type": "markdown",
   "metadata": {},
   "source": [
    "Ideas and brainstorming:"
   ]
  },
  {
   "cell_type": "markdown",
   "metadata": {},
   "source": [
    "Нужно придумывать признаки, которые бы коррелировали с типичным поведением пользователя и его мотивами, настроением. Возможно следует посмотреть в сторону поведения пользователя не внутри одного домена, а кросс-доменное поведение. Например, кто-то смотрит объявления про машины, хочет купить авто, значит скоро возьмет кредит. Подсовываем ему кредитную рекламу. \n",
    "\n",
    "Нужно найти такие близкие домены. Возможно опять же нужно кластеризовать домены по поведениям пользователей. Необходимы данные по одним и тем же пользователям в разных доменах в течение +- одного времени. "
   ]
  },
  {
   "cell_type": "markdown",
   "metadata": {},
   "source": [
    "- кластеризация пользователей на группы (возможно есть активные, средние, пассивные, для каждой группы свои модели)\n",
    "- добавить к датам еще время посещения, чтобы можно было учитывать время суток\n",
    "- отсутствие интереса в начале двух недель, появление интереса к концу недель к ретродате\n",
    "- среднее время между соседними посещениями (также для всех сайтов, групп и всего домена)\n",
    "- количество дней между первым и последним заходом\n",
    "- is retrodate the same weekday as one of active days\n",
    "- is retrodate the next (1, 2, 3 days) after active day\n",
    "- increasing of interest within two weeks (number of visits goes up)- "
   ]
  },
  {
   "cell_type": "code",
   "execution_count": null,
   "metadata": {},
   "outputs": [],
   "source": []
  },
  {
   "cell_type": "code",
   "execution_count": null,
   "metadata": {},
   "outputs": [],
   "source": []
  },
  {
   "cell_type": "code",
   "execution_count": null,
   "metadata": {},
   "outputs": [],
   "source": []
  }
 ],
 "metadata": {
  "kernelspec": {
   "display_name": "Python 3 (ipykernel)",
   "language": "python",
   "name": "python3"
  },
  "language_info": {
   "codemirror_mode": {
    "name": "ipython",
    "version": 3
   },
   "file_extension": ".py",
   "mimetype": "text/x-python",
   "name": "python",
   "nbconvert_exporter": "python",
   "pygments_lexer": "ipython3",
   "version": "3.8.8"
  }
 },
 "nbformat": 4,
 "nbformat_minor": 4
}
