{
  "cells": [
    {
      "cell_type": "markdown",
      "metadata": {
        "id": "emTKfUHISu_I"
      },
      "source": [
        "#### Import libs"
      ]
    },
    {
      "cell_type": "code",
      "execution_count": 1,
      "metadata": {
        "ExecuteTime": {
          "end_time": "2022-11-28T22:36:56.883572Z",
          "start_time": "2022-11-28T22:36:55.979512Z"
        },
        "id": "76_Rx7QCSu_N"
      },
      "outputs": [],
      "source": [
        "import pandas as pd\n",
        "import numpy as np\n",
        "import matplotlib.pyplot as plt\n",
        "import seaborn as sns\n",
        "\n",
        "from collections import Counter\n",
        "\n",
        "from pprint import pprint\n",
        "\n",
        "SEED = 42"
      ]
    },
    {
      "cell_type": "code",
      "execution_count": null,
      "metadata": {},
      "outputs": [],
      "source": []
    },
    {
      "cell_type": "markdown",
      "metadata": {
        "id": "pP33HBzFSu_Q"
      },
      "source": [
        "#### Download data + description of data"
      ]
    },
    {
      "cell_type": "code",
      "execution_count": 421,
      "metadata": {
        "id": "gPqhaFHZSu_n"
      },
      "outputs": [],
      "source": [
        "df = pd.read_csv('sample_processed.csv')"
      ]
    },
    {
      "cell_type": "code",
      "execution_count": 422,
      "metadata": {
        "colab": {
          "base_uri": "https://localhost:8080/",
          "height": 300
        },
        "id": "5T8Yb7tmSu_n",
        "outputId": "0844342d-b13e-44fd-d352-22ba8b297faa"
      },
      "outputs": [
        {
          "data": {
            "text/html": [
              "\n",
              "  <div id=\"df-f3ffcc24-ffc4-45a5-9cb4-ca4009ee7932\">\n",
              "    <div class=\"colab-df-container\">\n",
              "      <div>\n",
              "<style scoped>\n",
              "    .dataframe tbody tr th:only-of-type {\n",
              "        vertical-align: middle;\n",
              "    }\n",
              "\n",
              "    .dataframe tbody tr th {\n",
              "        vertical-align: top;\n",
              "    }\n",
              "\n",
              "    .dataframe thead th {\n",
              "        text-align: right;\n",
              "    }\n",
              "</style>\n",
              "<table border=\"1\" class=\"dataframe\">\n",
              "  <thead>\n",
              "    <tr style=\"text-align: right;\">\n",
              "      <th></th>\n",
              "      <th>CLIENT_ID</th>\n",
              "      <th>TARGET</th>\n",
              "      <th>l_1</th>\n",
              "      <th>l_2</th>\n",
              "      <th>l_3</th>\n",
              "      <th>l_4</th>\n",
              "      <th>l_5</th>\n",
              "      <th>l_6</th>\n",
              "      <th>l_7</th>\n",
              "      <th>l_8</th>\n",
              "      <th>...</th>\n",
              "      <th>av_diff_visit_l_186</th>\n",
              "      <th>av_diff_visit_l_187</th>\n",
              "      <th>weekday_0_visit_domain</th>\n",
              "      <th>weekday_1_visit_domain</th>\n",
              "      <th>weekday_2_visit_domain</th>\n",
              "      <th>weekday_3_visit_domain</th>\n",
              "      <th>weekday_4_visit_domain</th>\n",
              "      <th>weekday_5_visit_domain</th>\n",
              "      <th>weekday_6_visit_domain</th>\n",
              "      <th>url_visits_domain</th>\n",
              "    </tr>\n",
              "  </thead>\n",
              "  <tbody>\n",
              "    <tr>\n",
              "      <th>0</th>\n",
              "      <td>u_1</td>\n",
              "      <td>0</td>\n",
              "      <td>0</td>\n",
              "      <td>0</td>\n",
              "      <td>0</td>\n",
              "      <td>0</td>\n",
              "      <td>0</td>\n",
              "      <td>0</td>\n",
              "      <td>0</td>\n",
              "      <td>0</td>\n",
              "      <td>...</td>\n",
              "      <td>8</td>\n",
              "      <td>8.0</td>\n",
              "      <td>0</td>\n",
              "      <td>0</td>\n",
              "      <td>0</td>\n",
              "      <td>2</td>\n",
              "      <td>0</td>\n",
              "      <td>0</td>\n",
              "      <td>0</td>\n",
              "      <td>2</td>\n",
              "    </tr>\n",
              "    <tr>\n",
              "      <th>1</th>\n",
              "      <td>u_2</td>\n",
              "      <td>0</td>\n",
              "      <td>0</td>\n",
              "      <td>0</td>\n",
              "      <td>0</td>\n",
              "      <td>0</td>\n",
              "      <td>0</td>\n",
              "      <td>0</td>\n",
              "      <td>0</td>\n",
              "      <td>0</td>\n",
              "      <td>...</td>\n",
              "      <td>8</td>\n",
              "      <td>8.0</td>\n",
              "      <td>2</td>\n",
              "      <td>17</td>\n",
              "      <td>15</td>\n",
              "      <td>25</td>\n",
              "      <td>33</td>\n",
              "      <td>0</td>\n",
              "      <td>0</td>\n",
              "      <td>3</td>\n",
              "    </tr>\n",
              "    <tr>\n",
              "      <th>2</th>\n",
              "      <td>u_3</td>\n",
              "      <td>0</td>\n",
              "      <td>0</td>\n",
              "      <td>0</td>\n",
              "      <td>0</td>\n",
              "      <td>0</td>\n",
              "      <td>0</td>\n",
              "      <td>0</td>\n",
              "      <td>0</td>\n",
              "      <td>0</td>\n",
              "      <td>...</td>\n",
              "      <td>8</td>\n",
              "      <td>8.0</td>\n",
              "      <td>3</td>\n",
              "      <td>0</td>\n",
              "      <td>0</td>\n",
              "      <td>0</td>\n",
              "      <td>0</td>\n",
              "      <td>0</td>\n",
              "      <td>0</td>\n",
              "      <td>1</td>\n",
              "    </tr>\n",
              "    <tr>\n",
              "      <th>3</th>\n",
              "      <td>u_4</td>\n",
              "      <td>0</td>\n",
              "      <td>0</td>\n",
              "      <td>0</td>\n",
              "      <td>0</td>\n",
              "      <td>0</td>\n",
              "      <td>0</td>\n",
              "      <td>0</td>\n",
              "      <td>0</td>\n",
              "      <td>0</td>\n",
              "      <td>...</td>\n",
              "      <td>8</td>\n",
              "      <td>8.0</td>\n",
              "      <td>0</td>\n",
              "      <td>0</td>\n",
              "      <td>0</td>\n",
              "      <td>0</td>\n",
              "      <td>0</td>\n",
              "      <td>0</td>\n",
              "      <td>1</td>\n",
              "      <td>1</td>\n",
              "    </tr>\n",
              "    <tr>\n",
              "      <th>4</th>\n",
              "      <td>u_5</td>\n",
              "      <td>0</td>\n",
              "      <td>0</td>\n",
              "      <td>0</td>\n",
              "      <td>0</td>\n",
              "      <td>0</td>\n",
              "      <td>0</td>\n",
              "      <td>0</td>\n",
              "      <td>0</td>\n",
              "      <td>0</td>\n",
              "      <td>...</td>\n",
              "      <td>8</td>\n",
              "      <td>8.0</td>\n",
              "      <td>2</td>\n",
              "      <td>0</td>\n",
              "      <td>1</td>\n",
              "      <td>0</td>\n",
              "      <td>0</td>\n",
              "      <td>0</td>\n",
              "      <td>0</td>\n",
              "      <td>1</td>\n",
              "    </tr>\n",
              "  </tbody>\n",
              "</table>\n",
              "<p>5 rows × 1143 columns</p>\n",
              "</div>\n",
              "      <button class=\"colab-df-convert\" onclick=\"convertToInteractive('df-f3ffcc24-ffc4-45a5-9cb4-ca4009ee7932')\"\n",
              "              title=\"Convert this dataframe to an interactive table.\"\n",
              "              style=\"display:none;\">\n",
              "        \n",
              "  <svg xmlns=\"http://www.w3.org/2000/svg\" height=\"24px\"viewBox=\"0 0 24 24\"\n",
              "       width=\"24px\">\n",
              "    <path d=\"M0 0h24v24H0V0z\" fill=\"none\"/>\n",
              "    <path d=\"M18.56 5.44l.94 2.06.94-2.06 2.06-.94-2.06-.94-.94-2.06-.94 2.06-2.06.94zm-11 1L8.5 8.5l.94-2.06 2.06-.94-2.06-.94L8.5 2.5l-.94 2.06-2.06.94zm10 10l.94 2.06.94-2.06 2.06-.94-2.06-.94-.94-2.06-.94 2.06-2.06.94z\"/><path d=\"M17.41 7.96l-1.37-1.37c-.4-.4-.92-.59-1.43-.59-.52 0-1.04.2-1.43.59L10.3 9.45l-7.72 7.72c-.78.78-.78 2.05 0 2.83L4 21.41c.39.39.9.59 1.41.59.51 0 1.02-.2 1.41-.59l7.78-7.78 2.81-2.81c.8-.78.8-2.07 0-2.86zM5.41 20L4 18.59l7.72-7.72 1.47 1.35L5.41 20z\"/>\n",
              "  </svg>\n",
              "      </button>\n",
              "      \n",
              "  <style>\n",
              "    .colab-df-container {\n",
              "      display:flex;\n",
              "      flex-wrap:wrap;\n",
              "      gap: 12px;\n",
              "    }\n",
              "\n",
              "    .colab-df-convert {\n",
              "      background-color: #E8F0FE;\n",
              "      border: none;\n",
              "      border-radius: 50%;\n",
              "      cursor: pointer;\n",
              "      display: none;\n",
              "      fill: #1967D2;\n",
              "      height: 32px;\n",
              "      padding: 0 0 0 0;\n",
              "      width: 32px;\n",
              "    }\n",
              "\n",
              "    .colab-df-convert:hover {\n",
              "      background-color: #E2EBFA;\n",
              "      box-shadow: 0px 1px 2px rgba(60, 64, 67, 0.3), 0px 1px 3px 1px rgba(60, 64, 67, 0.15);\n",
              "      fill: #174EA6;\n",
              "    }\n",
              "\n",
              "    [theme=dark] .colab-df-convert {\n",
              "      background-color: #3B4455;\n",
              "      fill: #D2E3FC;\n",
              "    }\n",
              "\n",
              "    [theme=dark] .colab-df-convert:hover {\n",
              "      background-color: #434B5C;\n",
              "      box-shadow: 0px 1px 3px 1px rgba(0, 0, 0, 0.15);\n",
              "      filter: drop-shadow(0px 1px 2px rgba(0, 0, 0, 0.3));\n",
              "      fill: #FFFFFF;\n",
              "    }\n",
              "  </style>\n",
              "\n",
              "      <script>\n",
              "        const buttonEl =\n",
              "          document.querySelector('#df-f3ffcc24-ffc4-45a5-9cb4-ca4009ee7932 button.colab-df-convert');\n",
              "        buttonEl.style.display =\n",
              "          google.colab.kernel.accessAllowed ? 'block' : 'none';\n",
              "\n",
              "        async function convertToInteractive(key) {\n",
              "          const element = document.querySelector('#df-f3ffcc24-ffc4-45a5-9cb4-ca4009ee7932');\n",
              "          const dataTable =\n",
              "            await google.colab.kernel.invokeFunction('convertToInteractive',\n",
              "                                                     [key], {});\n",
              "          if (!dataTable) return;\n",
              "\n",
              "          const docLinkHtml = 'Like what you see? Visit the ' +\n",
              "            '<a target=\"_blank\" href=https://colab.research.google.com/notebooks/data_table.ipynb>data table notebook</a>'\n",
              "            + ' to learn more about interactive tables.';\n",
              "          element.innerHTML = '';\n",
              "          dataTable['output_type'] = 'display_data';\n",
              "          await google.colab.output.renderOutput(dataTable, element);\n",
              "          const docLink = document.createElement('div');\n",
              "          docLink.innerHTML = docLinkHtml;\n",
              "          element.appendChild(docLink);\n",
              "        }\n",
              "      </script>\n",
              "    </div>\n",
              "  </div>\n",
              "  "
            ],
            "text/plain": [
              "  CLIENT_ID  TARGET  l_1  l_2  l_3  l_4  l_5  l_6  l_7  l_8  ...  \\\n",
              "0       u_1       0    0    0    0    0    0    0    0    0  ...   \n",
              "1       u_2       0    0    0    0    0    0    0    0    0  ...   \n",
              "2       u_3       0    0    0    0    0    0    0    0    0  ...   \n",
              "3       u_4       0    0    0    0    0    0    0    0    0  ...   \n",
              "4       u_5       0    0    0    0    0    0    0    0    0  ...   \n",
              "\n",
              "   av_diff_visit_l_186  av_diff_visit_l_187  weekday_0_visit_domain  \\\n",
              "0                    8                  8.0                       0   \n",
              "1                    8                  8.0                       2   \n",
              "2                    8                  8.0                       3   \n",
              "3                    8                  8.0                       0   \n",
              "4                    8                  8.0                       2   \n",
              "\n",
              "   weekday_1_visit_domain  weekday_2_visit_domain  weekday_3_visit_domain  \\\n",
              "0                       0                       0                       2   \n",
              "1                      17                      15                      25   \n",
              "2                       0                       0                       0   \n",
              "3                       0                       0                       0   \n",
              "4                       0                       1                       0   \n",
              "\n",
              "   weekday_4_visit_domain  weekday_5_visit_domain  weekday_6_visit_domain  \\\n",
              "0                       0                       0                       0   \n",
              "1                      33                       0                       0   \n",
              "2                       0                       0                       0   \n",
              "3                       0                       0                       1   \n",
              "4                       0                       0                       0   \n",
              "\n",
              "   url_visits_domain  \n",
              "0                  2  \n",
              "1                  3  \n",
              "2                  1  \n",
              "3                  1  \n",
              "4                  1  \n",
              "\n",
              "[5 rows x 1143 columns]"
            ]
          },
          "execution_count": 422,
          "metadata": {},
          "output_type": "execute_result"
        }
      ],
      "source": [
        "df.head()"
      ]
    },
    {
      "cell_type": "code",
      "execution_count": 654,
      "metadata": {
        "id": "goWRj2HaUa67"
      },
      "outputs": [],
      "source": [
        "X = df.drop(['CLIENT_ID', 'TARGET'], axis=1)\n",
        "y = df.TARGET"
      ]
    },
    {
      "cell_type": "code",
      "execution_count": 655,
      "metadata": {
        "colab": {
          "base_uri": "https://localhost:8080/"
        },
        "id": "2mVnzM-adB2w",
        "outputId": "cd819f27-9bd6-48a9-8614-37dc283086a9"
      },
      "outputs": [
        {
          "data": {
            "text/plain": [
              "(4881, 1141)"
            ]
          },
          "execution_count": 655,
          "metadata": {},
          "output_type": "execute_result"
        }
      ],
      "source": [
        "X.shape"
      ]
    },
    {
      "cell_type": "code",
      "execution_count": 656,
      "metadata": {
        "id": "bnAADK_Nit5y"
      },
      "outputs": [],
      "source": [
        "from sklearn.model_selection import train_test_split\n",
        "\n",
        "# Split the data into a training set and a test set\n",
        "X_train, X_test, y_train, y_test = train_test_split(X, y, stratify=y, test_size=0.2, random_state=SEED)\n"
      ]
    },
    {
      "cell_type": "markdown",
      "metadata": {
        "id": "AxvjdMiPRLIQ"
      },
      "source": [
        "Отбор фичей"
      ]
    },
    {
      "cell_type": "code",
      "execution_count": 657,
      "metadata": {
        "id": "jpSl8pinSu_n"
      },
      "outputs": [],
      "source": [
        "from sklearn.feature_selection import RFE\n",
        "from sklearn.linear_model import LogisticRegression"
      ]
    },
    {
      "cell_type": "code",
      "execution_count": 662,
      "metadata": {
        "id": "IWW4lGlfUJse"
      },
      "outputs": [],
      "source": [
        "from sklearn.feature_selection import SelectFromModel\n",
        "\n",
        "def cb_feature_importance(X, y, k=None):\n",
        "    if not k:\n",
        "        k = len(list(X.columns))\n",
        "    # Build a random forest classifier\n",
        "    model = CatBoostClassifier(iterations=500, auto_class_weights='Balanced', verbose=False, random_state=SEED)\n",
        "\n",
        "    model.fit(X_train, y_train)\n",
        "    # Get the feature importances\n",
        "    importances = model.get_feature_importance()\n",
        "\n",
        "    # Sort the importances in descending order\n",
        "    sorted_indexes = np.argsort(importances)[::-1]\n",
        "\n",
        "    # Get the names of the features\n",
        "    feature_names = list(X.columns)\n",
        "\n",
        "    # Select the top k features\n",
        "    top_k_features = [feature_names[i] for i in sorted_indexes[:k] if importances[i] > 0]\n",
        "    k = len(top_k_features)\n",
        "\n",
        "    # Print the top k features\n",
        "    print(f'Top {k} features: {top_k_features}')\n",
        "\n",
        "    # Plot the feature importances\n",
        "    plt.figure(figsize=(10, 5))\n",
        "    plt.bar(range(k), importances[sorted_indexes[:k]])\n",
        "    plt.xticks(range(k), top_k_features, rotation=90)\n",
        "    plt.show()\n",
        "    return top_k_features\n",
        "\n"
      ]
    },
    {
      "cell_type": "code",
      "execution_count": 663,
      "metadata": {
        "colab": {
          "base_uri": "https://localhost:8080/",
          "height": 506
        },
        "id": "tdC5s_4q-ao_",
        "outputId": "3cc4d720-5174-4e0d-977c-9afcf3774357"
      },
      "outputs": [
        {
          "name": "stdout",
          "output_type": "stream",
          "text": [
            "Top 50 features: ['last_visit_domain', 'total_visits_domain', 'last_visit_l_130', 'weekday_3_visit_domain', 'weekday_4_visit_domain', 'weekday_0_visit_domain', 'average_visits_per_day_domain', 'visits_2_day_ago_domain', 'weekday_5_visit_domain', 'weekday_6_visit_domain', 'last_visit_l_80', 'weekday_1_visit_domain', 'av_diff_visit_domain', 'average_visits_domain', 'visits_1_day_ago_domain', 'visits_3_day_ago_domain', 'url_visits_domain', 'last_visit_l_182', 'weekday_2_visit_domain', 'n1_active_days_domain', 'total_visits_l_130', 'last_visit_l_136', 'average_visits_l_182', 'average_visits_l_136', 'last_visit_l_129', 'n1_active_days_l_130', 'last_visit_l_47', 'last_visit_l_100', 'average_visits_l_130', 'last_visit_l_67', 'last_visit_l_50', 'l_109', 'av_diff_visit_l_100', 'last_visit_l_109', 'l_130', 'average_visits_l_100', 'last_visit_l_12', 'n1_active_days_l_109', 'total_visits_l_182', 'n1_active_days_l_12', 'av_diff_visit_l_130', 'n3_active_days_domain', 'average_visits_l_109', 'n2_active_days_domain', 'l_47', 'n1_active_days_l_136', 'last_visit_l_134', 'total_visits_l_80', 'n1_active_days_l_80', 'total_visits_l_47']\n"
          ]
        },
        {
          "data": {
            "image/png": "[encoded data removed]",
            "text/plain": [
              "<Figure size 720x360 with 1 Axes>"
            ]
          },
          "metadata": {
            "needs_background": "light"
          },
          "output_type": "display_data"
        }
      ],
      "source": [
        "top_k_features = cb_feature_importance(X_train, y_train, 50)"
      ]
    },
    {
      "cell_type": "code",
      "execution_count": 664,
      "metadata": {
        "colab": {
          "base_uri": "https://localhost:8080/"
        },
        "id": "KdiQjmq-_BVD",
        "outputId": "3161f7ed-216a-47d0-d5da-cfba8f48f95b"
      },
      "outputs": [
        {
          "data": {
            "text/plain": [
              "['last_visit_domain',\n",
              " 'total_visits_domain',\n",
              " 'last_visit_l_130',\n",
              " 'weekday_3_visit_domain',\n",
              " 'weekday_4_visit_domain',\n",
              " 'weekday_0_visit_domain',\n",
              " 'average_visits_per_day_domain',\n",
              " 'visits_2_day_ago_domain',\n",
              " 'weekday_5_visit_domain',\n",
              " 'weekday_6_visit_domain',\n",
              " 'last_visit_l_80',\n",
              " 'weekday_1_visit_domain',\n",
              " 'av_diff_visit_domain',\n",
              " 'average_visits_domain',\n",
              " 'visits_1_day_ago_domain',\n",
              " 'visits_3_day_ago_domain',\n",
              " 'url_visits_domain',\n",
              " 'last_visit_l_182',\n",
              " 'weekday_2_visit_domain',\n",
              " 'n1_active_days_domain',\n",
              " 'total_visits_l_130',\n",
              " 'last_visit_l_136',\n",
              " 'average_visits_l_182',\n",
              " 'average_visits_l_136',\n",
              " 'last_visit_l_129',\n",
              " 'n1_active_days_l_130',\n",
              " 'last_visit_l_47',\n",
              " 'last_visit_l_100',\n",
              " 'average_visits_l_130',\n",
              " 'last_visit_l_67',\n",
              " 'last_visit_l_50',\n",
              " 'l_109',\n",
              " 'av_diff_visit_l_100',\n",
              " 'last_visit_l_109',\n",
              " 'l_130',\n",
              " 'average_visits_l_100',\n",
              " 'last_visit_l_12',\n",
              " 'n1_active_days_l_109',\n",
              " 'total_visits_l_182',\n",
              " 'n1_active_days_l_12',\n",
              " 'av_diff_visit_l_130',\n",
              " 'n3_active_days_domain',\n",
              " 'average_visits_l_109',\n",
              " 'n2_active_days_domain',\n",
              " 'l_47',\n",
              " 'n1_active_days_l_136',\n",
              " 'last_visit_l_134',\n",
              " 'total_visits_l_80',\n",
              " 'n1_active_days_l_80',\n",
              " 'total_visits_l_47']"
            ]
          },
          "execution_count": 664,
          "metadata": {},
          "output_type": "execute_result"
        }
      ],
      "source": [
        "top_k_features"
      ]
    },
    {
      "cell_type": "code",
      "execution_count": 665,
      "metadata": {
        "id": "LGk9LaHw5Ryi"
      },
      "outputs": [],
      "source": [
        "from catboost import CatBoostClassifier, Pool\n",
        "from sklearn.feature_selection import RFE"
      ]
    },
    {
      "cell_type": "code",
      "execution_count": 666,
      "metadata": {
        "id": "QZjmTXHLUFl1"
      },
      "outputs": [],
      "source": [
        "def select_features_rfe(X, y, num_features):\n",
        "    # Create an RFE selector\n",
        "    model = CatBoostClassifier(iterations=200, auto_class_weights='Balanced', verbose=False, random_state=SEED)\n",
        "    selector = RFE(estimator=model, n_features_to_select=num_features)\n",
        "    # Fit the selector to the data\n",
        "    selector.fit(X, y)\n",
        "    # Get the selected features\n",
        "\n",
        "    return selector"
      ]
    },
    {
      "cell_type": "code",
      "execution_count": 667,
      "metadata": {
        "id": "vfE_YlSEWhjg"
      },
      "outputs": [],
      "source": [
        "selec_rfe = select_features_rfe(X_train[top_k_features], y_train, 30)"
      ]
    },
    {
      "cell_type": "code",
      "execution_count": 669,
      "metadata": {
        "id": "cieLMaZZXIPR"
      },
      "outputs": [],
      "source": [
        "best_features = list(X[top_k_features].iloc[:,selec_rfe.support_].columns)\n",
        "#best_features = list(X[top_k_features].columns)"
      ]
    },
    {
      "cell_type": "code",
      "execution_count": 670,
      "metadata": {
        "id": "DG0L-jZ7r_39"
      },
      "outputs": [],
      "source": [
        "# logreg = make_pipeline(StandardScaler(), LogisticRegression()).set_params(**log_reg_params)\n",
        "# brf = BalancedRandomForestClassifier().set_params(**brf_params)\n",
        "# rusb = RUSBoostClassifier().set_params(**rusboost_params)\n",
        "# xgbrf = XGBRFClassifier().set_params(**xgbrf_params)\n",
        "# catb = CatBoostClassifier().set_params(**cb_params)"
      ]
    },
    {
      "cell_type": "code",
      "execution_count": 671,
      "metadata": {
        "colab": {
          "base_uri": "https://localhost:8080/"
        },
        "id": "5w7QH3dPAeW0",
        "outputId": "dcd67939-9209-4aa7-ca3c-0218e59122a4"
      },
      "outputs": [
        {
          "data": {
            "text/plain": [
              "['last_visit_domain',\n",
              " 'total_visits_domain',\n",
              " 'last_visit_l_130',\n",
              " 'weekday_3_visit_domain',\n",
              " 'weekday_4_visit_domain',\n",
              " 'weekday_0_visit_domain',\n",
              " 'average_visits_per_day_domain',\n",
              " 'visits_2_day_ago_domain',\n",
              " 'weekday_5_visit_domain',\n",
              " 'weekday_6_visit_domain',\n",
              " 'last_visit_l_80',\n",
              " 'weekday_1_visit_domain',\n",
              " 'av_diff_visit_domain',\n",
              " 'average_visits_domain',\n",
              " 'visits_1_day_ago_domain',\n",
              " 'visits_3_day_ago_domain',\n",
              " 'url_visits_domain',\n",
              " 'last_visit_l_182',\n",
              " 'weekday_2_visit_domain',\n",
              " 'n1_active_days_domain',\n",
              " 'total_visits_l_130',\n",
              " 'last_visit_l_136',\n",
              " 'average_visits_l_182',\n",
              " 'average_visits_l_136',\n",
              " 'last_visit_l_129',\n",
              " 'last_visit_l_47',\n",
              " 'last_visit_l_100',\n",
              " 'last_visit_l_50',\n",
              " 'last_visit_l_109',\n",
              " 'total_visits_l_80']"
            ]
          },
          "execution_count": 671,
          "metadata": {},
          "output_type": "execute_result"
        }
      ],
      "source": [
        "best_features"
      ]
    },
    {
      "cell_type": "code",
      "execution_count": 672,
      "metadata": {
        "id": "D7KhhM4dzP16"
      },
      "outputs": [],
      "source": [
        "X_train = X_train[best_features]\n",
        "X_test = X_test[best_features]"
      ]
    },
    {
      "cell_type": "code",
      "execution_count": 673,
      "metadata": {
        "id": "ySqyZWnGZ_hl"
      },
      "outputs": [],
      "source": [
        "param_distributions_lr = {'logisticregression__C': np.logspace(-3, 3, 7),\n",
        "                       'logisticregression__penalty': ['l1', 'l2'],\n",
        "                       'logisticregression__class_weight': ['balanced', 'None'],\n",
        "                       'logisticregression__random_state': [42],\n",
        "                       'logisticregression__solver': ['lbfgs', 'liblinear']\n",
        "                        }\n",
        "param_distributions_brf = {'n_estimators': np.arange(50, 201, 50),\n",
        "                       'max_depth': [None, 5, 10, 15],\n",
        "                       'class_weight': ['balanced', 'balanced_subsample'],\n",
        "                       'random_state': [42]\n",
        "                       }\n",
        "param_distributions_xgb = {'max_depth': np.arange(3, 10, 2),\n",
        "                       'learning_rate': np.linspace(0.1, 1, 5),\n",
        "                       'n_estimators': np.arange(50, 201, 50),\n",
        "                       'class_weight': ['balanced', 'None'],\n",
        "                       'random_state': [42]}\n",
        "param_distributions_rusboost = {'n_estimators': np.arange(50, 201, 50),\n",
        "                       'learning_rate': np.linspace(0.1, 1, 5),\n",
        "                       'random_state': [42]}\n",
        "\n",
        "param_grid_cb = {\n",
        "    'learning_rate': [0.01, 0.1, 0.001],\n",
        "    'depth': [3, 6, 7],\n",
        "    'l2_leaf_reg': [3, 5, 7],\n",
        "    #'iterations': [100, 500, 1000, 2000],\n",
        "    'iterations': [100, 200, 500],\n",
        "    'auto_class_weights': ['Balanced'],\n",
        "    'random_state': [42]\n",
        "}"
      ]
    },
    {
      "cell_type": "code",
      "execution_count": 674,
      "metadata": {
        "id": "mtxJUgaQcGBy"
      },
      "outputs": [],
      "source": [
        "from sklearn.model_selection import GridSearchCV\n",
        "from sklearn.model_selection import StratifiedKFold\n",
        "import numpy as np\n",
        "\n",
        "def select_hyperparameters(model, X, y, param_distributions):\n",
        "    # Create a random search object\n",
        "    random_search = GridSearchCV(model, param_distributions, cv=StratifiedKFold(n_splits=3, shuffle=True), n_jobs=-1, verbose=2, scoring='roc_auc')\n",
        "\n",
        "    # Fit the random search object to the data\n",
        "    random_search.fit(X, y)\n",
        "\n",
        "    # Return the best hyperparameters\n",
        "    return random_search.best_params_"
      ]
    },
    {
      "cell_type": "code",
      "execution_count": 675,
      "metadata": {
        "id": "VXWjH8a5cH7e"
      },
      "outputs": [],
      "source": [
        "from sklearn.linear_model import LogisticRegression\n",
        "from imblearn.ensemble import BalancedRandomForestClassifier\n",
        "from xgboost import XGBRFClassifier\n",
        "from imblearn.ensemble import RUSBoostClassifier\n",
        "\n",
        "from sklearn.pipeline import make_pipeline\n",
        "from sklearn.preprocessing import StandardScaler\n",
        "import sklearn\n"
      ]
    },
    {
      "cell_type": "code",
      "execution_count": null,
      "metadata": {
        "id": "MYXvMn9BdHE4"
      },
      "outputs": [],
      "source": [
        "pipe = make_pipeline(StandardScaler(), LogisticRegression())\n",
        "log_reg_params = select_hyperparameters(pipe, X_train.fillna(0), y_train, param_distributions_lr)"
      ]
    },
    {
      "cell_type": "code",
      "execution_count": 677,
      "metadata": {
        "colab": {
          "base_uri": "https://localhost:8080/"
        },
        "id": "v-JWzP1eTbUZ",
        "outputId": "561261f3-117c-4494-a24b-aa2a7b317d31"
      },
      "outputs": [
        {
          "data": {
            "text/plain": [
              "{'logisticregression__C': 0.1,\n",
              " 'logisticregression__class_weight': 'balanced',\n",
              " 'logisticregression__penalty': 'l2',\n",
              " 'logisticregression__random_state': 42,\n",
              " 'logisticregression__solver': 'liblinear'}"
            ]
          },
          "execution_count": 677,
          "metadata": {},
          "output_type": "execute_result"
        }
      ],
      "source": [
        "log_reg_params"
      ]
    },
    {
      "cell_type": "code",
      "execution_count": 678,
      "metadata": {
        "colab": {
          "base_uri": "https://localhost:8080/"
        },
        "id": "4_Clx60kdRSS",
        "outputId": "aa44e9c7-854e-4282-fb71-248657febdb8"
      },
      "outputs": [
        {
          "name": "stdout",
          "output_type": "stream",
          "text": [
            "Fitting 3 folds for each of 32 candidates, totalling 96 fits\n"
          ]
        }
      ],
      "source": [
        "brf_params = select_hyperparameters(BalancedRandomForestClassifier(), X_train.fillna(0), y_train, param_distributions_brf)"
      ]
    },
    {
      "cell_type": "code",
      "execution_count": 679,
      "metadata": {
        "colab": {
          "base_uri": "https://localhost:8080/"
        },
        "id": "qIzuEOeHTfA9",
        "outputId": "02d1fe46-50d3-4701-bc09-60a14ffaf82f"
      },
      "outputs": [
        {
          "data": {
            "text/plain": [
              "{'class_weight': 'balanced_subsample',\n",
              " 'max_depth': 5,\n",
              " 'n_estimators': 150,\n",
              " 'random_state': 42}"
            ]
          },
          "execution_count": 679,
          "metadata": {},
          "output_type": "execute_result"
        }
      ],
      "source": [
        "brf_params"
      ]
    },
    {
      "cell_type": "code",
      "execution_count": 680,
      "metadata": {
        "colab": {
          "base_uri": "https://localhost:8080/"
        },
        "id": "7HMSzxhId06M",
        "outputId": "7a5b6047-6252-4def-9937-76c9bb2eba7e"
      },
      "outputs": [
        {
          "name": "stdout",
          "output_type": "stream",
          "text": [
            "Fitting 3 folds for each of 160 candidates, totalling 480 fits\n"
          ]
        }
      ],
      "source": [
        "xgbrf_params = select_hyperparameters(XGBRFClassifier(), X_train, y_train, param_distributions_xgb)"
      ]
    },
    {
      "cell_type": "code",
      "execution_count": 681,
      "metadata": {
        "colab": {
          "base_uri": "https://localhost:8080/"
        },
        "id": "pcvfQ-XJTjbJ",
        "outputId": "d446d865-9df1-4d98-83b0-06420d18e925"
      },
      "outputs": [
        {
          "data": {
            "text/plain": [
              "{'class_weight': 'balanced',\n",
              " 'learning_rate': 0.1,\n",
              " 'max_depth': 3,\n",
              " 'n_estimators': 50,\n",
              " 'random_state': 42}"
            ]
          },
          "execution_count": 681,
          "metadata": {},
          "output_type": "execute_result"
        }
      ],
      "source": [
        "xgbrf_params"
      ]
    },
    {
      "cell_type": "code",
      "execution_count": 682,
      "metadata": {
        "colab": {
          "base_uri": "https://localhost:8080/"
        },
        "id": "e-CzcsfNd_On",
        "outputId": "718bcb75-27fd-4eb4-f071-526e1b235456"
      },
      "outputs": [
        {
          "name": "stdout",
          "output_type": "stream",
          "text": [
            "Fitting 3 folds for each of 20 candidates, totalling 60 fits\n"
          ]
        }
      ],
      "source": [
        "rusboost_params = select_hyperparameters(RUSBoostClassifier(), X_train.fillna(0), y_train, param_distributions_rusboost)"
      ]
    },
    {
      "cell_type": "code",
      "execution_count": 683,
      "metadata": {
        "colab": {
          "base_uri": "https://localhost:8080/"
        },
        "id": "UGp7rQHSTmXU",
        "outputId": "a2c47c75-3e63-4ea1-b6e9-419efc34b958"
      },
      "outputs": [
        {
          "data": {
            "text/plain": [
              "{'learning_rate': 0.1, 'n_estimators': 200, 'random_state': 42}"
            ]
          },
          "execution_count": 683,
          "metadata": {},
          "output_type": "execute_result"
        }
      ],
      "source": [
        "rusboost_params"
      ]
    },
    {
      "cell_type": "code",
      "execution_count": 684,
      "metadata": {
        "id": "s8fLtnoeU_6Y"
      },
      "outputs": [],
      "source": [
        "# pip install catboost"
      ]
    },
    {
      "cell_type": "code",
      "execution_count": 685,
      "metadata": {
        "id": "zwQMy-ulW2yV"
      },
      "outputs": [],
      "source": [
        "from catboost import CatBoostClassifier"
      ]
    },
    {
      "cell_type": "code",
      "execution_count": 687,
      "metadata": {
        "colab": {
          "base_uri": "https://localhost:8080/"
        },
        "id": "HUd0aVBUhYls",
        "outputId": "a917d35d-618a-40ad-8cce-855a11aba9f8"
      },
      "outputs": [
        {
          "name": "stdout",
          "output_type": "stream",
          "text": [
            "Fitting 3 folds for each of 81 candidates, totalling 243 fits\n"
          ]
        }
      ],
      "source": [
        "cb_params = select_hyperparameters(CatBoostClassifier(verbose=False), X_train, y_train, param_grid_cb)"
      ]
    },
    {
      "cell_type": "code",
      "execution_count": 688,
      "metadata": {
        "colab": {
          "base_uri": "https://localhost:8080/"
        },
        "id": "Y43jo_WyhfXs",
        "outputId": "691f3866-9c6e-40b1-abcd-da9d8eb5b5a5"
      },
      "outputs": [
        {
          "data": {
            "text/plain": [
              "{'auto_class_weights': 'Balanced',\n",
              " 'depth': 7,\n",
              " 'iterations': 100,\n",
              " 'l2_leaf_reg': 7,\n",
              " 'learning_rate': 0.001,\n",
              " 'random_state': 42}"
            ]
          },
          "execution_count": 688,
          "metadata": {},
          "output_type": "execute_result"
        }
      ],
      "source": [
        "cb_params"
      ]
    },
    {
      "cell_type": "code",
      "execution_count": 688,
      "metadata": {
        "id": "zKwHEWKozMBq"
      },
      "outputs": [],
      "source": []
    },
    {
      "cell_type": "code",
      "execution_count": 689,
      "metadata": {
        "id": "utrtT4S3zdld"
      },
      "outputs": [],
      "source": [
        "import matplotlib.pyplot as plt\n",
        "import seaborn as sns\n",
        "\n",
        "from sklearn.model_selection import train_test_split\n",
        "from sklearn.metrics import classification_report, confusion_matrix, roc_curve, precision_recall_curve, roc_auc_score"
      ]
    },
    {
      "cell_type": "code",
      "execution_count": 690,
      "metadata": {
        "colab": {
          "base_uri": "https://localhost:8080/",
          "height": 473
        },
        "id": "8z34hd0lzonm",
        "outputId": "7b10ec2f-c4ec-45c7-aa49-89080c73dc9d"
      },
      "outputs": [
        {
          "name": "stdout",
          "output_type": "stream",
          "text": [
            "********************\n",
            "Logistic Regression\n",
            "********************\n",
            "              precision    recall  f1-score   support\n",
            "\n",
            "           0       0.99      0.62      0.76       955\n",
            "           1       0.03      0.59      0.07        22\n",
            "\n",
            "    accuracy                           0.62       977\n",
            "   macro avg       0.51      0.61      0.41       977\n",
            "weighted avg       0.96      0.62      0.75       977\n",
            "\n"
          ]
        },
        {
          "data": {
            "image/png": "[encoded data removed]",
            "text/plain": [
              "<Figure size 432x288 with 1 Axes>"
            ]
          },
          "metadata": {
            "needs_background": "light"
          },
          "output_type": "display_data"
        }
      ],
      "source": [
        "model_LR = make_pipeline(StandardScaler(), LogisticRegression()).set_params(**log_reg_params).fit(X_train.fillna(0), y_train)\n",
        "preds_LR = model_LR.predict(X_test.fillna(0))\n",
        "prob_preds_LR = model_LR.predict_proba(X_test.fillna(0))[::,1]\n",
        "\n",
        "print('*'*20)\n",
        "print(\"Logistic Regression\")\n",
        "print('*'*20)\n",
        "print(classification_report(y_test, preds_LR,zero_division=1))\n",
        "sns.heatmap(confusion_matrix(y_test, preds_LR), annot=True, annot_kws={\"size\": 12}, fmt='g', cbar=False);"
      ]
    },
    {
      "cell_type": "code",
      "execution_count": 690,
      "metadata": {
        "id": "Bj0xAu2N3TwU"
      },
      "outputs": [],
      "source": []
    },
    {
      "cell_type": "code",
      "execution_count": 691,
      "metadata": {
        "colab": {
          "base_uri": "https://localhost:8080/",
          "height": 491
        },
        "id": "A7ZvdPxs0BRQ",
        "outputId": "67c2e238-e70c-4c10-fc83-d0748bcadf2b"
      },
      "outputs": [
        {
          "name": "stdout",
          "output_type": "stream",
          "text": [
            "********************\n",
            "Balanced Random Forest\n",
            "********************\n",
            "              precision    recall  f1-score   support\n",
            "\n",
            "           0       0.99      0.54      0.70       955\n",
            "           1       0.03      0.68      0.06        22\n",
            "\n",
            "    accuracy                           0.54       977\n",
            "   macro avg       0.51      0.61      0.38       977\n",
            "weighted avg       0.97      0.54      0.68       977\n",
            "\n"
          ]
        },
        {
          "data": {
            "text/plain": [
              "<matplotlib.axes._subplots.AxesSubplot at 0x7efec4c8c9d0>"
            ]
          },
          "execution_count": 691,
          "metadata": {},
          "output_type": "execute_result"
        },
        {
          "data": {
            "image/png": "[encoded data removed]",
            "text/plain": [
              "<Figure size 432x288 with 1 Axes>"
            ]
          },
          "metadata": {
            "needs_background": "light"
          },
          "output_type": "display_data"
        }
      ],
      "source": [
        "model_BRF = BalancedRandomForestClassifier().set_params(**brf_params).fit(X_train.fillna(0), y_train)\n",
        "preds_BRF = model_BRF.predict(X_test.fillna(0))\n",
        "prob_preds_BRF = model_BRF.predict_proba(X_test.fillna(0))[::,1]\n",
        "\n",
        "print('*'*20)\n",
        "print(\"Balanced Random Forest\")\n",
        "print('*'*20)\n",
        "print(classification_report(y_test, preds_BRF, zero_division=1))\n",
        "sns.heatmap(confusion_matrix(y_test, preds_BRF), annot=True, annot_kws={\"size\": 12}, fmt='g', cbar=False)"
      ]
    },
    {
      "cell_type": "code",
      "execution_count": 691,
      "metadata": {
        "id": "ofipG9XA3W6P"
      },
      "outputs": [],
      "source": []
    },
    {
      "cell_type": "code",
      "execution_count": 692,
      "metadata": {
        "colab": {
          "base_uri": "https://localhost:8080/",
          "height": 473
        },
        "id": "ywIvF8g-0Kfl",
        "outputId": "7fc50223-12d1-4e2f-9512-2c2bb49ec36e"
      },
      "outputs": [
        {
          "name": "stdout",
          "output_type": "stream",
          "text": [
            "********************\n",
            "Imblearn RUSBoost\n",
            "********************\n",
            "              precision    recall  f1-score   support\n",
            "\n",
            "           0       0.98      0.74      0.85       955\n",
            "           1       0.04      0.45      0.07        22\n",
            "\n",
            "    accuracy                           0.73       977\n",
            "   macro avg       0.51      0.60      0.46       977\n",
            "weighted avg       0.96      0.73      0.83       977\n",
            "\n"
          ]
        },
        {
          "data": {
            "image/png": "[encoded data removed]",
            "text/plain": [
              "<Figure size 432x288 with 1 Axes>"
            ]
          },
          "metadata": {
            "needs_background": "light"
          },
          "output_type": "display_data"
        }
      ],
      "source": [
        "model_RUSBoost = RUSBoostClassifier(n_estimators=200, algorithm='SAMME.R',\n",
        "                                    random_state=0).set_params(**rusboost_params).fit(X_train.fillna(0), y_train)\n",
        "\n",
        "preds_RUSBoost = model_RUSBoost.predict(X_test.fillna(0))\n",
        "prob_preds_RUSBoost = model_RUSBoost.predict_proba(X_test.fillna(0))[::,1]\n",
        "\n",
        "print('*'*20)\n",
        "print(\"Imblearn RUSBoost\")\n",
        "print('*'*20)\n",
        "print(classification_report(y_test, preds_RUSBoost, zero_division=1))\n",
        "sns.heatmap(confusion_matrix(y_test, preds_RUSBoost), annot=True, annot_kws={\"size\": 12}, fmt='g', cbar=False);"
      ]
    },
    {
      "cell_type": "code",
      "execution_count": 692,
      "metadata": {
        "id": "tgcWqGsv3Yxr"
      },
      "outputs": [],
      "source": []
    },
    {
      "cell_type": "code",
      "execution_count": 693,
      "metadata": {
        "colab": {
          "base_uri": "https://localhost:8080/",
          "height": 473
        },
        "id": "Kmy2OmIe0c0G",
        "outputId": "efb5ee38-60b6-488b-e40f-6860d610ecd3"
      },
      "outputs": [
        {
          "name": "stdout",
          "output_type": "stream",
          "text": [
            "********************\n",
            "XGB Classifier\n",
            "********************\n",
            "              precision    recall  f1-score   support\n",
            "\n",
            "           0       0.98      0.43      0.59       955\n",
            "           1       0.03      0.68      0.05        22\n",
            "\n",
            "    accuracy                           0.43       977\n",
            "   macro avg       0.50      0.55      0.32       977\n",
            "weighted avg       0.96      0.43      0.58       977\n",
            "\n"
          ]
        },
        {
          "data": {
            "image/png": "[encoded data removed]",
            "text/plain": [
              "<Figure size 432x288 with 1 Axes>"
            ]
          },
          "metadata": {
            "needs_background": "light"
          },
          "output_type": "display_data"
        }
      ],
      "source": [
        "model_XGB = XGBRFClassifier(scale_pos_weight=50, use_label_encoder=False).set_params(**xgbrf_params).fit(X_train, y_train)\n",
        "preds_XGB = model_XGB.predict(X_test)\n",
        "prob_preds_XGB = model_XGB.predict_proba(X_test)[::,1]\n",
        "\n",
        "print('*'*20)\n",
        "print(\"XGB Classifier\")\n",
        "print('*'*20)\n",
        "print(classification_report(y_test, preds_XGB, zero_division=1))\n",
        "sns.heatmap(confusion_matrix(y_test, preds_XGB), annot=True, annot_kws={\"size\": 12}, fmt='g', cbar=False);"
      ]
    },
    {
      "cell_type": "code",
      "execution_count": 693,
      "metadata": {
        "id": "i3cMCYMg3auN"
      },
      "outputs": [],
      "source": []
    },
    {
      "cell_type": "code",
      "execution_count": 694,
      "metadata": {
        "colab": {
          "base_uri": "https://localhost:8080/",
          "height": 1000
        },
        "id": "HVyNoZNy0oQG",
        "outputId": "fa959b52-1a6c-42fc-b455-5d119b66acf6"
      },
      "outputs": [
        {
          "name": "stdout",
          "output_type": "stream",
          "text": [
            "0:\tlearn: 0.6930991\ttotal: 3.99ms\tremaining: 395ms\n",
            "1:\tlearn: 0.6930417\ttotal: 8.11ms\tremaining: 397ms\n",
            "2:\tlearn: 0.6929541\ttotal: 11.7ms\tremaining: 379ms\n",
            "3:\tlearn: 0.6928317\ttotal: 15.6ms\tremaining: 375ms\n",
            "4:\tlearn: 0.6926963\ttotal: 19.7ms\tremaining: 375ms\n",
            "5:\tlearn: 0.6926482\ttotal: 23.1ms\tremaining: 362ms\n",
            "6:\tlearn: 0.6925774\ttotal: 26.8ms\tremaining: 357ms\n",
            "7:\tlearn: 0.6925152\ttotal: 30.4ms\tremaining: 349ms\n",
            "8:\tlearn: 0.6924054\ttotal: 34.2ms\tremaining: 346ms\n",
            "9:\tlearn: 0.6922410\ttotal: 41.6ms\tremaining: 374ms\n",
            "10:\tlearn: 0.6920529\ttotal: 45.2ms\tremaining: 366ms\n",
            "11:\tlearn: 0.6919097\ttotal: 49ms\tremaining: 360ms\n",
            "12:\tlearn: 0.6917914\ttotal: 52.7ms\tremaining: 353ms\n",
            "13:\tlearn: 0.6916818\ttotal: 56.5ms\tremaining: 347ms\n",
            "14:\tlearn: 0.6915582\ttotal: 60.2ms\tremaining: 341ms\n",
            "15:\tlearn: 0.6915052\ttotal: 63.7ms\tremaining: 334ms\n",
            "16:\tlearn: 0.6913257\ttotal: 67.3ms\tremaining: 329ms\n",
            "17:\tlearn: 0.6912443\ttotal: 70.9ms\tremaining: 323ms\n",
            "18:\tlearn: 0.6911220\ttotal: 74.5ms\tremaining: 318ms\n",
            "19:\tlearn: 0.6910833\ttotal: 78ms\tremaining: 312ms\n",
            "20:\tlearn: 0.6909650\ttotal: 81.6ms\tremaining: 307ms\n",
            "21:\tlearn: 0.6909040\ttotal: 85.1ms\tremaining: 302ms\n",
            "22:\tlearn: 0.6908044\ttotal: 88.8ms\tremaining: 297ms\n",
            "23:\tlearn: 0.6907056\ttotal: 92.3ms\tremaining: 292ms\n",
            "24:\tlearn: 0.6905491\ttotal: 95.9ms\tremaining: 288ms\n",
            "25:\tlearn: 0.6904263\ttotal: 99.5ms\tremaining: 283ms\n",
            "26:\tlearn: 0.6903255\ttotal: 103ms\tremaining: 279ms\n",
            "27:\tlearn: 0.6901988\ttotal: 107ms\tremaining: 275ms\n",
            "28:\tlearn: 0.6900134\ttotal: 110ms\tremaining: 270ms\n",
            "29:\tlearn: 0.6899226\ttotal: 114ms\tremaining: 266ms\n",
            "30:\tlearn: 0.6898591\ttotal: 117ms\tremaining: 261ms\n",
            "31:\tlearn: 0.6897389\ttotal: 121ms\tremaining: 257ms\n",
            "32:\tlearn: 0.6897040\ttotal: 128ms\tremaining: 261ms\n",
            "33:\tlearn: 0.6895782\ttotal: 132ms\tremaining: 256ms\n",
            "34:\tlearn: 0.6894214\ttotal: 136ms\tremaining: 252ms\n",
            "35:\tlearn: 0.6892021\ttotal: 139ms\tremaining: 248ms\n",
            "36:\tlearn: 0.6890650\ttotal: 145ms\tremaining: 246ms\n",
            "37:\tlearn: 0.6889694\ttotal: 154ms\tremaining: 252ms\n",
            "38:\tlearn: 0.6887704\ttotal: 158ms\tremaining: 247ms\n",
            "39:\tlearn: 0.6887094\ttotal: 162ms\tremaining: 243ms\n",
            "40:\tlearn: 0.6886062\ttotal: 165ms\tremaining: 238ms\n",
            "41:\tlearn: 0.6884959\ttotal: 169ms\tremaining: 233ms\n",
            "42:\tlearn: 0.6884069\ttotal: 173ms\tremaining: 229ms\n",
            "43:\tlearn: 0.6883112\ttotal: 176ms\tremaining: 224ms\n",
            "44:\tlearn: 0.6882768\ttotal: 179ms\tremaining: 219ms\n",
            "45:\tlearn: 0.6881972\ttotal: 183ms\tremaining: 215ms\n",
            "46:\tlearn: 0.6880675\ttotal: 186ms\tremaining: 210ms\n",
            "47:\tlearn: 0.6879677\ttotal: 190ms\tremaining: 206ms\n",
            "48:\tlearn: 0.6878606\ttotal: 193ms\tremaining: 201ms\n",
            "49:\tlearn: 0.6877472\ttotal: 197ms\tremaining: 197ms\n",
            "50:\tlearn: 0.6876655\ttotal: 207ms\tremaining: 198ms\n",
            "51:\tlearn: 0.6875499\ttotal: 211ms\tremaining: 195ms\n",
            "52:\tlearn: 0.6874685\ttotal: 215ms\tremaining: 191ms\n",
            "53:\tlearn: 0.6873956\ttotal: 219ms\tremaining: 186ms\n",
            "54:\tlearn: 0.6872262\ttotal: 222ms\tremaining: 182ms\n",
            "55:\tlearn: 0.6871552\ttotal: 226ms\tremaining: 178ms\n",
            "56:\tlearn: 0.6870693\ttotal: 230ms\tremaining: 174ms\n",
            "57:\tlearn: 0.6869453\ttotal: 234ms\tremaining: 169ms\n",
            "58:\tlearn: 0.6869247\ttotal: 238ms\tremaining: 166ms\n",
            "59:\tlearn: 0.6868603\ttotal: 242ms\tremaining: 161ms\n",
            "60:\tlearn: 0.6867569\ttotal: 246ms\tremaining: 157ms\n",
            "61:\tlearn: 0.6867295\ttotal: 251ms\tremaining: 154ms\n",
            "62:\tlearn: 0.6866547\ttotal: 257ms\tremaining: 151ms\n",
            "63:\tlearn: 0.6865883\ttotal: 263ms\tremaining: 148ms\n",
            "64:\tlearn: 0.6865209\ttotal: 266ms\tremaining: 143ms\n",
            "65:\tlearn: 0.6864277\ttotal: 270ms\tremaining: 139ms\n",
            "66:\tlearn: 0.6862862\ttotal: 277ms\tremaining: 136ms\n",
            "67:\tlearn: 0.6861681\ttotal: 282ms\tremaining: 133ms\n",
            "68:\tlearn: 0.6861217\ttotal: 296ms\tremaining: 133ms\n",
            "69:\tlearn: 0.6860322\ttotal: 303ms\tremaining: 130ms\n",
            "70:\tlearn: 0.6859610\ttotal: 307ms\tremaining: 125ms\n",
            "71:\tlearn: 0.6858950\ttotal: 310ms\tremaining: 121ms\n",
            "72:\tlearn: 0.6858270\ttotal: 314ms\tremaining: 116ms\n",
            "73:\tlearn: 0.6857304\ttotal: 318ms\tremaining: 112ms\n",
            "74:\tlearn: 0.6856176\ttotal: 321ms\tremaining: 107ms\n",
            "75:\tlearn: 0.6855107\ttotal: 325ms\tremaining: 103ms\n",
            "76:\tlearn: 0.6854444\ttotal: 329ms\tremaining: 98.2ms\n",
            "77:\tlearn: 0.6853763\ttotal: 333ms\tremaining: 93.9ms\n",
            "78:\tlearn: 0.6853236\ttotal: 336ms\tremaining: 89.4ms\n",
            "79:\tlearn: 0.6851763\ttotal: 340ms\tremaining: 85ms\n",
            "80:\tlearn: 0.6850750\ttotal: 344ms\tremaining: 80.7ms\n",
            "81:\tlearn: 0.6849029\ttotal: 348ms\tremaining: 76.3ms\n",
            "82:\tlearn: 0.6848022\ttotal: 351ms\tremaining: 72ms\n",
            "83:\tlearn: 0.6847028\ttotal: 355ms\tremaining: 67.6ms\n",
            "84:\tlearn: 0.6846031\ttotal: 359ms\tremaining: 63.3ms\n",
            "85:\tlearn: 0.6845191\ttotal: 362ms\tremaining: 59ms\n",
            "86:\tlearn: 0.6844165\ttotal: 366ms\tremaining: 54.7ms\n",
            "87:\tlearn: 0.6842958\ttotal: 370ms\tremaining: 50.5ms\n",
            "88:\tlearn: 0.6842537\ttotal: 374ms\tremaining: 46.2ms\n",
            "89:\tlearn: 0.6841689\ttotal: 377ms\tremaining: 41.9ms\n",
            "90:\tlearn: 0.6841200\ttotal: 381ms\tremaining: 37.7ms\n",
            "91:\tlearn: 0.6840732\ttotal: 384ms\tremaining: 33.4ms\n",
            "92:\tlearn: 0.6839134\ttotal: 388ms\tremaining: 29.2ms\n",
            "93:\tlearn: 0.6838135\ttotal: 392ms\tremaining: 25ms\n",
            "94:\tlearn: 0.6837375\ttotal: 396ms\tremaining: 20.8ms\n",
            "95:\tlearn: 0.6836696\ttotal: 402ms\tremaining: 16.7ms\n",
            "96:\tlearn: 0.6836095\ttotal: 405ms\tremaining: 12.5ms\n",
            "97:\tlearn: 0.6835445\ttotal: 409ms\tremaining: 8.35ms\n",
            "98:\tlearn: 0.6834734\ttotal: 416ms\tremaining: 4.2ms\n",
            "99:\tlearn: 0.6833122\ttotal: 419ms\tremaining: 0us\n",
            "********************\n",
            "CatBoost classifier\n",
            "********************\n",
            "              precision    recall  f1-score   support\n",
            "\n",
            "           0       0.99      0.63      0.77       955\n",
            "           1       0.04      0.64      0.07        22\n",
            "\n",
            "    accuracy                           0.63       977\n",
            "   macro avg       0.51      0.63      0.42       977\n",
            "weighted avg       0.97      0.63      0.75       977\n",
            "\n"
          ]
        },
        {
          "data": {
            "image/png": "[encoded data removed]",
            "text/plain": [
              "<Figure size 432x288 with 1 Axes>"
            ]
          },
          "metadata": {
            "needs_background": "light"
          },
          "output_type": "display_data"
        }
      ],
      "source": [
        "model_catb = CatBoostClassifier().set_params(**cb_params).fit(X_train, y_train)\n",
        "#model_catb = CatBoostClassifier().fit(X_train, y_train)\n",
        "preds_catb = model_catb.predict(X_test)\n",
        "prob_preds_catb = model_catb.predict_proba(X_test)[::,1]\n",
        "\n",
        "print('*'*20)\n",
        "print(\"CatBoost classifier\")\n",
        "print('*'*20)\n",
        "print(classification_report(y_test, preds_catb, zero_division=1))\n",
        "sns.heatmap(confusion_matrix(y_test, preds_catb), annot=True, annot_kws={\"size\": 12}, fmt='g', cbar=False);"
      ]
    },
    {
      "cell_type": "code",
      "execution_count": 695,
      "metadata": {
        "colab": {
          "base_uri": "https://localhost:8080/",
          "height": 456
        },
        "id": "giDVHh8O04gw",
        "outputId": "c285458d-f874-4620-bac8-7b432f203363"
      },
      "outputs": [
        {
          "name": "stdout",
          "output_type": "stream",
          "text": [
            "               model ROC_AUC\n",
            "    LinearRegression 0.6842217991432651\n",
            "BalancedRandomForest 0.6207282246549263\n",
            "             XGBoost 0.611470728224655\n",
            " Imbalanced RUSBoost 0.6232032365540219\n",
            "            CatBoost 0.6735364112327463\n"
          ]
        },
        {
          "data": {
            "text/plain": [
              "<matplotlib.legend.Legend at 0x7efec3eda7c0>"
            ]
          },
          "execution_count": 695,
          "metadata": {},
          "output_type": "execute_result"
        },
        {
          "data": {
            "image/png": "[encoded data removed]",
            "text/plain": [
              "<Figure size 1152x360 with 2 Axes>"
            ]
          },
          "metadata": {
            "needs_background": "light"
          },
          "output_type": "display_data"
        }
      ],
      "source": [
        "_, ax = plt.subplots(1, 2, figsize=(16, 5))\n",
        "\n",
        "models = ['LinearRegression', 'BalancedRandomForest', 'XGBoost', 'Imbalanced RUSBoost', 'CatBoost']\n",
        "#models = ['LinearRegression', 'BalancedRandomForest', 'XGBoost', 'Imbalanced RUSBoost']\n",
        "preds = [prob_preds_LR, prob_preds_BRF, prob_preds_XGB, prob_preds_RUSBoost, prob_preds_catb]\n",
        "#preds = [prob_preds_LR, prob_preds_BRF, prob_preds_XGB, prob_preds_RUSBoost]\n",
        "colors = 'rcbgm'\n",
        "\n",
        "ax[0].plot([0, 1], [0, 1], ls='--', label='Random', c='k')\n",
        "\n",
        "print(f\"{'model':>20} {'ROC_AUC'}\")\n",
        "for model, pred, c in zip(models, preds, colors):\n",
        "    print(f\"{model:>20} {roc_auc_score(y_test, pred)}\")\n",
        "    fpr, tpr, _ = roc_curve(y_test, pred)\n",
        "    ax[0].plot(fpr, tpr, label=model, c=c)\n",
        "    \n",
        "    precision, recall, thresholds = precision_recall_curve(y_test, pred)\n",
        "    ax[1].plot(recall, precision, label=model, c=c)\n",
        "\n",
        "\n",
        "ax[0].set_ylabel('True Positive Rate')\n",
        "ax[0].set_xlabel('False Positive Rate')\n",
        "ax[1].set_ylabel('Precision')\n",
        "ax[1].set_xlabel('Recall')\n",
        "\n",
        "ax[0].legend(ncol=2)\n",
        "ax[1].legend()"
      ]
    },
    {
      "cell_type": "code",
      "execution_count": 696,
      "metadata": {
        "id": "Ijxym1QY-epM"
      },
      "outputs": [],
      "source": [
        "from sklearn.metrics import classification_report, confusion_matrix, roc_curve, precision_recall_curve, roc_auc_score, balanced_accuracy_score, recall_score, precision_score, f1_score"
      ]
    },
    {
      "cell_type": "code",
      "execution_count": 697,
      "metadata": {
        "id": "_bXaRfCD-UVt"
      },
      "outputs": [],
      "source": [
        "thrs = np.linspace(0, 1, 100)"
      ]
    },
    {
      "cell_type": "code",
      "execution_count": 698,
      "metadata": {
        "id": "owPUKm121W5T"
      },
      "outputs": [],
      "source": [
        "def plot_thr_prf(prob_preds):\n",
        "    plt.plot(thrs, [balanced_accuracy_score(y_test, (prob_preds > thr).astype(int)) for thr in thrs], label=\"Balanced Accuracy\")\n",
        "    plt.plot(thrs, [recall_score(y_test, (prob_preds > thr).astype(int)) for thr in thrs], label=\"Recall\")\n",
        "    plt.plot(thrs, [precision_score(y_test, (prob_preds > thr).astype(int), zero_division=0) for thr in thrs], label=\"Precision\")\n",
        "    plt.plot(thrs, [f1_score(y_test, (prob_preds > thr).astype(int), zero_division=0) for thr in thrs], label=\"F1-score\")\n",
        "    plt.xlabel('Threshold', fontsize=12)\n",
        "    plt.ylabel('Value', fontsize=12)\n",
        "    plt.legend()\n",
        "    plt.show()"
      ]
    },
    {
      "cell_type": "code",
      "execution_count": 698,
      "metadata": {
        "id": "fP16LbYP_NQ9"
      },
      "outputs": [],
      "source": []
    },
    {
      "cell_type": "code",
      "execution_count": 698,
      "metadata": {
        "id": "792rwoQJ-k49"
      },
      "outputs": [],
      "source": []
    },
    {
      "cell_type": "code",
      "execution_count": 699,
      "metadata": {
        "id": "bx1VMahD2RWo"
      },
      "outputs": [],
      "source": [
        "models = [model_LR, model_BRF, model_RUSBoost, model_XGB, model_catb]\n",
        "name_models = ['model_LR', 'model_BRF', 'model_RUSBoost', 'model_XGB', 'model_catb']"
      ]
    },
    {
      "cell_type": "code",
      "execution_count": 700,
      "metadata": {
        "colab": {
          "base_uri": "https://localhost:8080/",
          "height": 1000
        },
        "id": "0JNF_pEPXItk",
        "outputId": "cae86f4f-ccac-41d7-b688-9adfcde77260"
      },
      "outputs": [
        {
          "name": "stdout",
          "output_type": "stream",
          "text": [
            "model_LR\n"
          ]
        },
        {
          "data": {
            "image/png": "[encoded data removed]",
            "text/plain": [
              "<Figure size 432x288 with 1 Axes>"
            ]
          },
          "metadata": {
            "needs_background": "light"
          },
          "output_type": "display_data"
        },
        {
          "name": "stdout",
          "output_type": "stream",
          "text": [
            "model_BRF\n"
          ]
        },
        {
          "data": {
            "image/png": "[encoded data removed]",
            "text/plain": [
              "<Figure size 432x288 with 1 Axes>"
            ]
          },
          "metadata": {
            "needs_background": "light"
          },
          "output_type": "display_data"
        },
        {
          "name": "stdout",
          "output_type": "stream",
          "text": [
            "model_RUSBoost\n"
          ]
        },
        {
          "data": {
            "image/png": "[encoded data removed]",
            "text/plain": [
              "<Figure size 432x288 with 1 Axes>"
            ]
          },
          "metadata": {
            "needs_background": "light"
          },
          "output_type": "display_data"
        },
        {
          "name": "stdout",
          "output_type": "stream",
          "text": [
            "model_XGB\n"
          ]
        },
        {
          "data": {
            "image/png": "[encoded data removed]",
            "text/plain": [
              "<Figure size 432x288 with 1 Axes>"
            ]
          },
          "metadata": {
            "needs_background": "light"
          },
          "output_type": "display_data"
        },
        {
          "name": "stdout",
          "output_type": "stream",
          "text": [
            "model_catb\n"
          ]
        },
        {
          "data": {
            "image/png": "[encoded data removed]",
            "text/plain": [
              "<Figure size 432x288 with 1 Axes>"
            ]
          },
          "metadata": {
            "needs_background": "light"
          },
          "output_type": "display_data"
        }
      ],
      "source": [
        "for name, model in zip(name_models, models):\n",
        "    print(name)\n",
        "    try:\n",
        "        plot_thr_prf(model.predict_proba(X_test)[::,1])\n",
        "    except ValueError:\n",
        "        plot_thr_prf(model.predict_proba(X_test.fillna(0))[::,1])"
      ]
    },
    {
      "cell_type": "code",
      "execution_count": null,
      "metadata": {
        "id": "g22N7ggJ_cAC"
      },
      "outputs": [],
      "source": [
        "thr=0.02\n",
        "print(recall_score(y_test, (prob_preds_LR > thr).astype(int)))\n",
        "print(precision_score(y_test, (prob_preds_LR > thr).astype(int)))"
      ]
    }
  ],
  "metadata": {
    "colab": {
      "provenance": []
    },
    "kernelspec": {
      "display_name": "base",
      "language": "python",
      "name": "python3"
    },
    "language_info": {
      "codemirror_mode": {
        "name": "ipython",
        "version": 3
      },
      "file_extension": ".py",
      "mimetype": "text/x-python",
      "name": "python",
      "nbconvert_exporter": "python",
      "pygments_lexer": "ipython3",
      "version": "3.9.12"
    },
    "vscode": {
      "interpreter": {
        "hash": "c0aceb6647fb8c973cbc290e2962448191508f8bb4d424c1b693aad6ec4337a8"
      }
    }
  },
  "nbformat": 4,
  "nbformat_minor": 0
}
