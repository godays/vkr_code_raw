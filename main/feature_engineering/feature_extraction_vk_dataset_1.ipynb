{
 "cells": [
  {
   "cell_type": "markdown",
   "metadata": {},
   "source": [
    "#### Import libs"
   ]
  },
  {
   "cell_type": "code",
   "execution_count": 226,
   "metadata": {
    "ExecuteTime": {
     "end_time": "2022-11-28T22:36:56.883572Z",
     "start_time": "2022-11-28T22:36:55.979512Z"
    }
   },
   "outputs": [],
   "source": [
    "import pandas as pd\n",
    "import numpy as np\n",
    "import matplotlib.pyplot as plt\n",
    "import seaborn as sns\n",
    "\n",
    "from collections import Counter\n",
    "\n",
    "from pprint import pprint"
   ]
  },
  {
   "cell_type": "markdown",
   "metadata": {},
   "source": [
    "#### Download data + description of data"
   ]
  },
  {
   "cell_type": "code",
   "execution_count": 227,
   "metadata": {
    "ExecuteTime": {
     "end_time": "2022-11-28T22:36:58.776484Z",
     "start_time": "2022-11-28T22:36:58.649757Z"
    }
   },
   "outputs": [
    {
     "name": "stdout",
     "output_type": "stream",
     "text": [
      "(2905, 50)\n"
     ]
    },
    {
     "data": {
      "text/html": [
       "<div>\n",
       "<style scoped>\n",
       "    .dataframe tbody tr th:only-of-type {\n",
       "        vertical-align: middle;\n",
       "    }\n",
       "\n",
       "    .dataframe tbody tr th {\n",
       "        vertical-align: top;\n",
       "    }\n",
       "\n",
       "    .dataframe thead th {\n",
       "        text-align: right;\n",
       "    }\n",
       "</style>\n",
       "<table border=\"1\" class=\"dataframe\">\n",
       "  <thead>\n",
       "    <tr style=\"text-align: right;\">\n",
       "      <th></th>\n",
       "      <th>CLIENT_ID</th>\n",
       "      <th>RETRO_DT</th>\n",
       "      <th>TARGET</th>\n",
       "      <th>000f55134facf53934419b254d274058d8d94f1237a7af8d47b3f40e888f437a6a83fd05e9fb4dac30515ddd740b5654c3d7b1b064f53699a59783ee93184730</th>\n",
       "      <th>036e1e790ff6f9461a0672ade8a70fd7a203b12891926838999f635bd1196ebdf728f5a92b6eebe3e0f8c263baa0ce81136cb2bbc9721b51b175904ca46c5b27</th>\n",
       "      <th>04e31da877871578755e676b9745affa310c376a6868a853fc5f3dfe8996dbaa61769bcae224fff029cc68ba97e7c8e476356508315e8e8fd58a90b919e5bf8d</th>\n",
       "      <th>09057f3e555f5b813f5ee380c8f1c1df831a6cf05007a909124f75391dd30fb098902dddd9e1b9c5631484ce30d4d6732ef75207930958e52dc592228410fa58</th>\n",
       "      <th>0aa9967667c60276babfcf1611af29c0fb5d445c3f66fec2f1c4d2515b9a94fd375e45e49137e9948712ce02c56a86b3b66dc60e819c083a24bab4877b2eda60</th>\n",
       "      <th>0d2ca31598f751eb5f1fae2457093fb542e1f8472bf602319f4614fa4f9879592c48888b943d3c35aaf4ad81822ad53f1d744eb6bebc47bd1f8d51a51822a5aa</th>\n",
       "      <th>0fd23397f0534cad0fb85ce4a48ec423e50ec597b70b66447fdad6695096dbda4f2ddc10746aab9b697387aa6c04de1aff6aa70196f132e9b51154eff857e899</th>\n",
       "      <th>...</th>\n",
       "      <th>b21180b5b5a42dbe7fa7615f95fcba885c20f0056f09d4a71dd8ec4b7a68a7b54af6340cdf8ec5006273872dbb3138ed64811ef8a81a965482bc32339f58d4ed</th>\n",
       "      <th>b3c0ef119fea1d559c5f57108af1e15c7856c03d1a37eadc66ea5cc5e1c59d258489136bed7ade7a6cf7f94d354bda76a2ed08c8dbeea1744137090bd6efa765</th>\n",
       "      <th>cf32d63dc7331321a191273099b6926e0779140433f5bd0d98974ae2344fdcf922822ebb67dd55a43a2e5d6ea9a204a556006012ac53cfce9da9780db7620d59</th>\n",
       "      <th>d07c71360870cebc65faf350e0496e799608e1ae6d107ce90e620c8051cb4910d97880185195c3690b7c8b2930e10b345fc7ed33b1bcdd92ca6eabd761cdfbcb</th>\n",
       "      <th>d1f037027b080c90d1d1de622e5407ac505df55888940d5581d2cb39ab0f73ffd1b076e65a1e2994e43ec3d6436f9d1137119d6cf139cc0d3649498ec484da39</th>\n",
       "      <th>d47be1154b5742dae83fe5c1035390c82cf3798ea7da18a2f5e503135727fd61288335aef23bf72f85dd15d77e99f6505a111154e115c83ab3a984b037f54df3</th>\n",
       "      <th>e03f20932bb3d1c2ea9cc8c05d7e6fe5fb50423d25e9827a6f849bf19b0a0e30b4c8ae81689bf9160d97a498b30a5763571506c552b9bde7c10cc8d277e4d1e4</th>\n",
       "      <th>e1e88068bae32c3b5e4a645c87fa7197ec6b839224fba1617879be7a12e69356e12b2c5b6c39dbf3aba86c7d6d561a2c11bcf44f73550d878665227dc40b1a55</th>\n",
       "      <th>e628a14912374ee53d7afe882c9b8733cc49aba9734f003ad7bdd99cfb0d9a10331997d44f3367d0db1c62e64f6fd791eda4cecd218d6280d9747b6b0ebc7237</th>\n",
       "      <th>ede52319edec5da370f89f2358deac0f33330d64a40e019fc0846d5447491a9ba1503171593c7a15323ae94e4cde1b5ae2f29dcabf2b7a24eb76963b2143f925</th>\n",
       "    </tr>\n",
       "  </thead>\n",
       "  <tbody>\n",
       "    <tr>\n",
       "      <th>0</th>\n",
       "      <td>a05e38874bb65b229ac14a942b0422418e473df1000cb0...</td>\n",
       "      <td>20220612</td>\n",
       "      <td>0</td>\n",
       "      <td>NaN</td>\n",
       "      <td>NaN</td>\n",
       "      <td>NaN</td>\n",
       "      <td>NaN</td>\n",
       "      <td>NaN</td>\n",
       "      <td>NaN</td>\n",
       "      <td>NaN</td>\n",
       "      <td>...</td>\n",
       "      <td>NaN</td>\n",
       "      <td>NaN</td>\n",
       "      <td>NaN</td>\n",
       "      <td>NaN</td>\n",
       "      <td>NaN</td>\n",
       "      <td>NaN</td>\n",
       "      <td>NaN</td>\n",
       "      <td>NaN</td>\n",
       "      <td>NaN</td>\n",
       "      <td>[[2022-06-09, 1]]</td>\n",
       "    </tr>\n",
       "    <tr>\n",
       "      <th>1</th>\n",
       "      <td>b71999a9bf0cbc3c950b541f9b9ca7e9cb14bba0476a5f...</td>\n",
       "      <td>20220627</td>\n",
       "      <td>0</td>\n",
       "      <td>NaN</td>\n",
       "      <td>NaN</td>\n",
       "      <td>NaN</td>\n",
       "      <td>NaN</td>\n",
       "      <td>NaN</td>\n",
       "      <td>NaN</td>\n",
       "      <td>NaN</td>\n",
       "      <td>...</td>\n",
       "      <td>NaN</td>\n",
       "      <td>NaN</td>\n",
       "      <td>NaN</td>\n",
       "      <td>NaN</td>\n",
       "      <td>NaN</td>\n",
       "      <td>NaN</td>\n",
       "      <td>NaN</td>\n",
       "      <td>NaN</td>\n",
       "      <td>NaN</td>\n",
       "      <td>NaN</td>\n",
       "    </tr>\n",
       "    <tr>\n",
       "      <th>2</th>\n",
       "      <td>c524b01ee39955a75528cbbebab3d2dc92263bde5a835d...</td>\n",
       "      <td>20220629</td>\n",
       "      <td>0</td>\n",
       "      <td>NaN</td>\n",
       "      <td>NaN</td>\n",
       "      <td>NaN</td>\n",
       "      <td>NaN</td>\n",
       "      <td>NaN</td>\n",
       "      <td>NaN</td>\n",
       "      <td>NaN</td>\n",
       "      <td>...</td>\n",
       "      <td>NaN</td>\n",
       "      <td>NaN</td>\n",
       "      <td>NaN</td>\n",
       "      <td>NaN</td>\n",
       "      <td>NaN</td>\n",
       "      <td>NaN</td>\n",
       "      <td>NaN</td>\n",
       "      <td>NaN</td>\n",
       "      <td>NaN</td>\n",
       "      <td>NaN</td>\n",
       "    </tr>\n",
       "    <tr>\n",
       "      <th>3</th>\n",
       "      <td>63f6393fb1fc2de80416777e9cd70d887958af32933aa9...</td>\n",
       "      <td>20220615</td>\n",
       "      <td>0</td>\n",
       "      <td>NaN</td>\n",
       "      <td>NaN</td>\n",
       "      <td>NaN</td>\n",
       "      <td>NaN</td>\n",
       "      <td>NaN</td>\n",
       "      <td>NaN</td>\n",
       "      <td>NaN</td>\n",
       "      <td>...</td>\n",
       "      <td>NaN</td>\n",
       "      <td>NaN</td>\n",
       "      <td>NaN</td>\n",
       "      <td>NaN</td>\n",
       "      <td>NaN</td>\n",
       "      <td>NaN</td>\n",
       "      <td>NaN</td>\n",
       "      <td>NaN</td>\n",
       "      <td>NaN</td>\n",
       "      <td>NaN</td>\n",
       "    </tr>\n",
       "    <tr>\n",
       "      <th>4</th>\n",
       "      <td>600e77d16212d6760ef9e78b7e77252973a29bef5590b4...</td>\n",
       "      <td>20220629</td>\n",
       "      <td>0</td>\n",
       "      <td>NaN</td>\n",
       "      <td>NaN</td>\n",
       "      <td>NaN</td>\n",
       "      <td>NaN</td>\n",
       "      <td>NaN</td>\n",
       "      <td>NaN</td>\n",
       "      <td>NaN</td>\n",
       "      <td>...</td>\n",
       "      <td>NaN</td>\n",
       "      <td>NaN</td>\n",
       "      <td>NaN</td>\n",
       "      <td>NaN</td>\n",
       "      <td>NaN</td>\n",
       "      <td>NaN</td>\n",
       "      <td>NaN</td>\n",
       "      <td>NaN</td>\n",
       "      <td>NaN</td>\n",
       "      <td>NaN</td>\n",
       "    </tr>\n",
       "  </tbody>\n",
       "</table>\n",
       "<p>5 rows × 50 columns</p>\n",
       "</div>"
      ],
      "text/plain": [
       "                                           CLIENT_ID  RETRO_DT TARGET  \\\n",
       "0  a05e38874bb65b229ac14a942b0422418e473df1000cb0...  20220612      0   \n",
       "1  b71999a9bf0cbc3c950b541f9b9ca7e9cb14bba0476a5f...  20220627      0   \n",
       "2  c524b01ee39955a75528cbbebab3d2dc92263bde5a835d...  20220629      0   \n",
       "3  63f6393fb1fc2de80416777e9cd70d887958af32933aa9...  20220615      0   \n",
       "4  600e77d16212d6760ef9e78b7e77252973a29bef5590b4...  20220629      0   \n",
       "\n",
       "  000f55134facf53934419b254d274058d8d94f1237a7af8d47b3f40e888f437a6a83fd05e9fb4dac30515ddd740b5654c3d7b1b064f53699a59783ee93184730  \\\n",
       "0                                                NaN                                                                                 \n",
       "1                                                NaN                                                                                 \n",
       "2                                                NaN                                                                                 \n",
       "3                                                NaN                                                                                 \n",
       "4                                                NaN                                                                                 \n",
       "\n",
       "  036e1e790ff6f9461a0672ade8a70fd7a203b12891926838999f635bd1196ebdf728f5a92b6eebe3e0f8c263baa0ce81136cb2bbc9721b51b175904ca46c5b27  \\\n",
       "0                                                NaN                                                                                 \n",
       "1                                                NaN                                                                                 \n",
       "2                                                NaN                                                                                 \n",
       "3                                                NaN                                                                                 \n",
       "4                                                NaN                                                                                 \n",
       "\n",
       "  04e31da877871578755e676b9745affa310c376a6868a853fc5f3dfe8996dbaa61769bcae224fff029cc68ba97e7c8e476356508315e8e8fd58a90b919e5bf8d  \\\n",
       "0                                                NaN                                                                                 \n",
       "1                                                NaN                                                                                 \n",
       "2                                                NaN                                                                                 \n",
       "3                                                NaN                                                                                 \n",
       "4                                                NaN                                                                                 \n",
       "\n",
       "  09057f3e555f5b813f5ee380c8f1c1df831a6cf05007a909124f75391dd30fb098902dddd9e1b9c5631484ce30d4d6732ef75207930958e52dc592228410fa58  \\\n",
       "0                                                NaN                                                                                 \n",
       "1                                                NaN                                                                                 \n",
       "2                                                NaN                                                                                 \n",
       "3                                                NaN                                                                                 \n",
       "4                                                NaN                                                                                 \n",
       "\n",
       "  0aa9967667c60276babfcf1611af29c0fb5d445c3f66fec2f1c4d2515b9a94fd375e45e49137e9948712ce02c56a86b3b66dc60e819c083a24bab4877b2eda60  \\\n",
       "0                                                NaN                                                                                 \n",
       "1                                                NaN                                                                                 \n",
       "2                                                NaN                                                                                 \n",
       "3                                                NaN                                                                                 \n",
       "4                                                NaN                                                                                 \n",
       "\n",
       "  0d2ca31598f751eb5f1fae2457093fb542e1f8472bf602319f4614fa4f9879592c48888b943d3c35aaf4ad81822ad53f1d744eb6bebc47bd1f8d51a51822a5aa  \\\n",
       "0                                                NaN                                                                                 \n",
       "1                                                NaN                                                                                 \n",
       "2                                                NaN                                                                                 \n",
       "3                                                NaN                                                                                 \n",
       "4                                                NaN                                                                                 \n",
       "\n",
       "  0fd23397f0534cad0fb85ce4a48ec423e50ec597b70b66447fdad6695096dbda4f2ddc10746aab9b697387aa6c04de1aff6aa70196f132e9b51154eff857e899  \\\n",
       "0                                                NaN                                                                                 \n",
       "1                                                NaN                                                                                 \n",
       "2                                                NaN                                                                                 \n",
       "3                                                NaN                                                                                 \n",
       "4                                                NaN                                                                                 \n",
       "\n",
       "   ...  \\\n",
       "0  ...   \n",
       "1  ...   \n",
       "2  ...   \n",
       "3  ...   \n",
       "4  ...   \n",
       "\n",
       "  b21180b5b5a42dbe7fa7615f95fcba885c20f0056f09d4a71dd8ec4b7a68a7b54af6340cdf8ec5006273872dbb3138ed64811ef8a81a965482bc32339f58d4ed  \\\n",
       "0                                                NaN                                                                                 \n",
       "1                                                NaN                                                                                 \n",
       "2                                                NaN                                                                                 \n",
       "3                                                NaN                                                                                 \n",
       "4                                                NaN                                                                                 \n",
       "\n",
       "  b3c0ef119fea1d559c5f57108af1e15c7856c03d1a37eadc66ea5cc5e1c59d258489136bed7ade7a6cf7f94d354bda76a2ed08c8dbeea1744137090bd6efa765  \\\n",
       "0                                                NaN                                                                                 \n",
       "1                                                NaN                                                                                 \n",
       "2                                                NaN                                                                                 \n",
       "3                                                NaN                                                                                 \n",
       "4                                                NaN                                                                                 \n",
       "\n",
       "  cf32d63dc7331321a191273099b6926e0779140433f5bd0d98974ae2344fdcf922822ebb67dd55a43a2e5d6ea9a204a556006012ac53cfce9da9780db7620d59  \\\n",
       "0                                                NaN                                                                                 \n",
       "1                                                NaN                                                                                 \n",
       "2                                                NaN                                                                                 \n",
       "3                                                NaN                                                                                 \n",
       "4                                                NaN                                                                                 \n",
       "\n",
       "  d07c71360870cebc65faf350e0496e799608e1ae6d107ce90e620c8051cb4910d97880185195c3690b7c8b2930e10b345fc7ed33b1bcdd92ca6eabd761cdfbcb  \\\n",
       "0                                                NaN                                                                                 \n",
       "1                                                NaN                                                                                 \n",
       "2                                                NaN                                                                                 \n",
       "3                                                NaN                                                                                 \n",
       "4                                                NaN                                                                                 \n",
       "\n",
       "  d1f037027b080c90d1d1de622e5407ac505df55888940d5581d2cb39ab0f73ffd1b076e65a1e2994e43ec3d6436f9d1137119d6cf139cc0d3649498ec484da39  \\\n",
       "0                                                NaN                                                                                 \n",
       "1                                                NaN                                                                                 \n",
       "2                                                NaN                                                                                 \n",
       "3                                                NaN                                                                                 \n",
       "4                                                NaN                                                                                 \n",
       "\n",
       "  d47be1154b5742dae83fe5c1035390c82cf3798ea7da18a2f5e503135727fd61288335aef23bf72f85dd15d77e99f6505a111154e115c83ab3a984b037f54df3  \\\n",
       "0                                                NaN                                                                                 \n",
       "1                                                NaN                                                                                 \n",
       "2                                                NaN                                                                                 \n",
       "3                                                NaN                                                                                 \n",
       "4                                                NaN                                                                                 \n",
       "\n",
       "  e03f20932bb3d1c2ea9cc8c05d7e6fe5fb50423d25e9827a6f849bf19b0a0e30b4c8ae81689bf9160d97a498b30a5763571506c552b9bde7c10cc8d277e4d1e4  \\\n",
       "0                                                NaN                                                                                 \n",
       "1                                                NaN                                                                                 \n",
       "2                                                NaN                                                                                 \n",
       "3                                                NaN                                                                                 \n",
       "4                                                NaN                                                                                 \n",
       "\n",
       "  e1e88068bae32c3b5e4a645c87fa7197ec6b839224fba1617879be7a12e69356e12b2c5b6c39dbf3aba86c7d6d561a2c11bcf44f73550d878665227dc40b1a55  \\\n",
       "0                                                NaN                                                                                 \n",
       "1                                                NaN                                                                                 \n",
       "2                                                NaN                                                                                 \n",
       "3                                                NaN                                                                                 \n",
       "4                                                NaN                                                                                 \n",
       "\n",
       "  e628a14912374ee53d7afe882c9b8733cc49aba9734f003ad7bdd99cfb0d9a10331997d44f3367d0db1c62e64f6fd791eda4cecd218d6280d9747b6b0ebc7237  \\\n",
       "0                                                NaN                                                                                 \n",
       "1                                                NaN                                                                                 \n",
       "2                                                NaN                                                                                 \n",
       "3                                                NaN                                                                                 \n",
       "4                                                NaN                                                                                 \n",
       "\n",
       "  ede52319edec5da370f89f2358deac0f33330d64a40e019fc0846d5447491a9ba1503171593c7a15323ae94e4cde1b5ae2f29dcabf2b7a24eb76963b2143f925  \n",
       "0                                  [[2022-06-09, 1]]                                                                                \n",
       "1                                                NaN                                                                                \n",
       "2                                                NaN                                                                                \n",
       "3                                                NaN                                                                                \n",
       "4                                                NaN                                                                                \n",
       "\n",
       "[5 rows x 50 columns]"
      ]
     },
     "execution_count": 227,
     "metadata": {},
     "output_type": "execute_result"
    }
   ],
   "source": [
    "df = pd.read_pickle('MADE_sample_final_011222.pickle')\n",
    "print(df.shape)\n",
    "df.head()"
   ]
  },
  {
   "cell_type": "code",
   "execution_count": 228,
   "metadata": {},
   "outputs": [
    {
     "data": {
      "text/plain": [
       "Index(['CLIENT_ID', 'RETRO_DT', 'TARGET',\n",
       "       '000f55134facf53934419b254d274058d8d94f1237a7af8d47b3f40e888f437a6a83fd05e9fb4dac30515ddd740b5654c3d7b1b064f53699a59783ee93184730',\n",
       "       '036e1e790ff6f9461a0672ade8a70fd7a203b12891926838999f635bd1196ebdf728f5a92b6eebe3e0f8c263baa0ce81136cb2bbc9721b51b175904ca46c5b27',\n",
       "       '04e31da877871578755e676b9745affa310c376a6868a853fc5f3dfe8996dbaa61769bcae224fff029cc68ba97e7c8e476356508315e8e8fd58a90b919e5bf8d',\n",
       "       '09057f3e555f5b813f5ee380c8f1c1df831a6cf05007a909124f75391dd30fb098902dddd9e1b9c5631484ce30d4d6732ef75207930958e52dc592228410fa58',\n",
       "       '0aa9967667c60276babfcf1611af29c0fb5d445c3f66fec2f1c4d2515b9a94fd375e45e49137e9948712ce02c56a86b3b66dc60e819c083a24bab4877b2eda60',\n",
       "       '0d2ca31598f751eb5f1fae2457093fb542e1f8472bf602319f4614fa4f9879592c48888b943d3c35aaf4ad81822ad53f1d744eb6bebc47bd1f8d51a51822a5aa',\n",
       "       '0fd23397f0534cad0fb85ce4a48ec423e50ec597b70b66447fdad6695096dbda4f2ddc10746aab9b697387aa6c04de1aff6aa70196f132e9b51154eff857e899'],\n",
       "      dtype='object')"
      ]
     },
     "execution_count": 228,
     "metadata": {},
     "output_type": "execute_result"
    }
   ],
   "source": [
    "df.columns[:10]"
   ]
  },
  {
   "cell_type": "markdown",
   "metadata": {},
   "source": [
    "Переименовываем столбцы."
   ]
  },
  {
   "cell_type": "code",
   "execution_count": 229,
   "metadata": {},
   "outputs": [],
   "source": [
    "columns_dict = {c: f'l_{i}' for i, c in enumerate(df.columns[3:], 1)}\n",
    "df.rename(columns=columns_dict, inplace=True)"
   ]
  },
  {
   "cell_type": "code",
   "execution_count": 230,
   "metadata": {},
   "outputs": [
    {
     "data": {
      "text/html": [
       "<div>\n",
       "<style scoped>\n",
       "    .dataframe tbody tr th:only-of-type {\n",
       "        vertical-align: middle;\n",
       "    }\n",
       "\n",
       "    .dataframe tbody tr th {\n",
       "        vertical-align: top;\n",
       "    }\n",
       "\n",
       "    .dataframe thead th {\n",
       "        text-align: right;\n",
       "    }\n",
       "</style>\n",
       "<table border=\"1\" class=\"dataframe\">\n",
       "  <thead>\n",
       "    <tr style=\"text-align: right;\">\n",
       "      <th></th>\n",
       "      <th>CLIENT_ID</th>\n",
       "      <th>RETRO_DT</th>\n",
       "      <th>TARGET</th>\n",
       "      <th>l_1</th>\n",
       "      <th>l_2</th>\n",
       "      <th>l_3</th>\n",
       "      <th>l_4</th>\n",
       "      <th>l_5</th>\n",
       "      <th>l_6</th>\n",
       "      <th>l_7</th>\n",
       "      <th>...</th>\n",
       "      <th>l_38</th>\n",
       "      <th>l_39</th>\n",
       "      <th>l_40</th>\n",
       "      <th>l_41</th>\n",
       "      <th>l_42</th>\n",
       "      <th>l_43</th>\n",
       "      <th>l_44</th>\n",
       "      <th>l_45</th>\n",
       "      <th>l_46</th>\n",
       "      <th>l_47</th>\n",
       "    </tr>\n",
       "  </thead>\n",
       "  <tbody>\n",
       "    <tr>\n",
       "      <th>0</th>\n",
       "      <td>a05e38874bb65b229ac14a942b0422418e473df1000cb0...</td>\n",
       "      <td>20220612</td>\n",
       "      <td>0</td>\n",
       "      <td>NaN</td>\n",
       "      <td>NaN</td>\n",
       "      <td>NaN</td>\n",
       "      <td>NaN</td>\n",
       "      <td>NaN</td>\n",
       "      <td>NaN</td>\n",
       "      <td>NaN</td>\n",
       "      <td>...</td>\n",
       "      <td>NaN</td>\n",
       "      <td>NaN</td>\n",
       "      <td>NaN</td>\n",
       "      <td>NaN</td>\n",
       "      <td>NaN</td>\n",
       "      <td>NaN</td>\n",
       "      <td>NaN</td>\n",
       "      <td>NaN</td>\n",
       "      <td>NaN</td>\n",
       "      <td>[[2022-06-09, 1]]</td>\n",
       "    </tr>\n",
       "    <tr>\n",
       "      <th>1</th>\n",
       "      <td>b71999a9bf0cbc3c950b541f9b9ca7e9cb14bba0476a5f...</td>\n",
       "      <td>20220627</td>\n",
       "      <td>0</td>\n",
       "      <td>NaN</td>\n",
       "      <td>NaN</td>\n",
       "      <td>NaN</td>\n",
       "      <td>NaN</td>\n",
       "      <td>NaN</td>\n",
       "      <td>NaN</td>\n",
       "      <td>NaN</td>\n",
       "      <td>...</td>\n",
       "      <td>NaN</td>\n",
       "      <td>NaN</td>\n",
       "      <td>NaN</td>\n",
       "      <td>NaN</td>\n",
       "      <td>NaN</td>\n",
       "      <td>NaN</td>\n",
       "      <td>NaN</td>\n",
       "      <td>NaN</td>\n",
       "      <td>NaN</td>\n",
       "      <td>NaN</td>\n",
       "    </tr>\n",
       "    <tr>\n",
       "      <th>2</th>\n",
       "      <td>c524b01ee39955a75528cbbebab3d2dc92263bde5a835d...</td>\n",
       "      <td>20220629</td>\n",
       "      <td>0</td>\n",
       "      <td>NaN</td>\n",
       "      <td>NaN</td>\n",
       "      <td>NaN</td>\n",
       "      <td>NaN</td>\n",
       "      <td>NaN</td>\n",
       "      <td>NaN</td>\n",
       "      <td>NaN</td>\n",
       "      <td>...</td>\n",
       "      <td>NaN</td>\n",
       "      <td>NaN</td>\n",
       "      <td>NaN</td>\n",
       "      <td>NaN</td>\n",
       "      <td>NaN</td>\n",
       "      <td>NaN</td>\n",
       "      <td>NaN</td>\n",
       "      <td>NaN</td>\n",
       "      <td>NaN</td>\n",
       "      <td>NaN</td>\n",
       "    </tr>\n",
       "    <tr>\n",
       "      <th>3</th>\n",
       "      <td>63f6393fb1fc2de80416777e9cd70d887958af32933aa9...</td>\n",
       "      <td>20220615</td>\n",
       "      <td>0</td>\n",
       "      <td>NaN</td>\n",
       "      <td>NaN</td>\n",
       "      <td>NaN</td>\n",
       "      <td>NaN</td>\n",
       "      <td>NaN</td>\n",
       "      <td>NaN</td>\n",
       "      <td>NaN</td>\n",
       "      <td>...</td>\n",
       "      <td>NaN</td>\n",
       "      <td>NaN</td>\n",
       "      <td>NaN</td>\n",
       "      <td>NaN</td>\n",
       "      <td>NaN</td>\n",
       "      <td>NaN</td>\n",
       "      <td>NaN</td>\n",
       "      <td>NaN</td>\n",
       "      <td>NaN</td>\n",
       "      <td>NaN</td>\n",
       "    </tr>\n",
       "    <tr>\n",
       "      <th>4</th>\n",
       "      <td>600e77d16212d6760ef9e78b7e77252973a29bef5590b4...</td>\n",
       "      <td>20220629</td>\n",
       "      <td>0</td>\n",
       "      <td>NaN</td>\n",
       "      <td>NaN</td>\n",
       "      <td>NaN</td>\n",
       "      <td>NaN</td>\n",
       "      <td>NaN</td>\n",
       "      <td>NaN</td>\n",
       "      <td>NaN</td>\n",
       "      <td>...</td>\n",
       "      <td>NaN</td>\n",
       "      <td>NaN</td>\n",
       "      <td>NaN</td>\n",
       "      <td>NaN</td>\n",
       "      <td>NaN</td>\n",
       "      <td>NaN</td>\n",
       "      <td>NaN</td>\n",
       "      <td>NaN</td>\n",
       "      <td>NaN</td>\n",
       "      <td>NaN</td>\n",
       "    </tr>\n",
       "  </tbody>\n",
       "</table>\n",
       "<p>5 rows × 50 columns</p>\n",
       "</div>"
      ],
      "text/plain": [
       "                                           CLIENT_ID  RETRO_DT TARGET  l_1  \\\n",
       "0  a05e38874bb65b229ac14a942b0422418e473df1000cb0...  20220612      0  NaN   \n",
       "1  b71999a9bf0cbc3c950b541f9b9ca7e9cb14bba0476a5f...  20220627      0  NaN   \n",
       "2  c524b01ee39955a75528cbbebab3d2dc92263bde5a835d...  20220629      0  NaN   \n",
       "3  63f6393fb1fc2de80416777e9cd70d887958af32933aa9...  20220615      0  NaN   \n",
       "4  600e77d16212d6760ef9e78b7e77252973a29bef5590b4...  20220629      0  NaN   \n",
       "\n",
       "   l_2  l_3  l_4  l_5  l_6  l_7  ... l_38 l_39 l_40 l_41 l_42 l_43 l_44 l_45  \\\n",
       "0  NaN  NaN  NaN  NaN  NaN  NaN  ...  NaN  NaN  NaN  NaN  NaN  NaN  NaN  NaN   \n",
       "1  NaN  NaN  NaN  NaN  NaN  NaN  ...  NaN  NaN  NaN  NaN  NaN  NaN  NaN  NaN   \n",
       "2  NaN  NaN  NaN  NaN  NaN  NaN  ...  NaN  NaN  NaN  NaN  NaN  NaN  NaN  NaN   \n",
       "3  NaN  NaN  NaN  NaN  NaN  NaN  ...  NaN  NaN  NaN  NaN  NaN  NaN  NaN  NaN   \n",
       "4  NaN  NaN  NaN  NaN  NaN  NaN  ...  NaN  NaN  NaN  NaN  NaN  NaN  NaN  NaN   \n",
       "\n",
       "  l_46               l_47  \n",
       "0  NaN  [[2022-06-09, 1]]  \n",
       "1  NaN                NaN  \n",
       "2  NaN                NaN  \n",
       "3  NaN                NaN  \n",
       "4  NaN                NaN  \n",
       "\n",
       "[5 rows x 50 columns]"
      ]
     },
     "execution_count": 230,
     "metadata": {},
     "output_type": "execute_result"
    }
   ],
   "source": [
    "df.head()"
   ]
  },
  {
   "cell_type": "markdown",
   "metadata": {},
   "source": [
    "Видим большое число NaNов"
   ]
  },
  {
   "cell_type": "code",
   "execution_count": 231,
   "metadata": {},
   "outputs": [
    {
     "data": {
      "text/plain": [
       "<AxesSubplot:>"
      ]
     },
     "execution_count": 231,
     "metadata": {},
     "output_type": "execute_result"
    },
    {
     "data": {
      "image/png": "[encoded data removed]",
      "text/plain": [
       "<Figure size 864x504 with 1 Axes>"
      ]
     },
     "metadata": {
      "needs_background": "light"
     },
     "output_type": "display_data"
    }
   ],
   "source": [
    "plt.figure(figsize=(12, 7))\n",
    "sns.heatmap(df.isna(), cbar=False)"
   ]
  },
  {
   "cell_type": "code",
   "execution_count": 232,
   "metadata": {},
   "outputs": [
    {
     "data": {
      "text/plain": [
       "0    2849\n",
       "1      56\n",
       "Name: TARGET, dtype: int64"
      ]
     },
     "execution_count": 232,
     "metadata": {},
     "output_type": "execute_result"
    }
   ],
   "source": [
    "df['TARGET'].value_counts()"
   ]
  },
  {
   "cell_type": "markdown",
   "metadata": {},
   "source": [
    "Структура данных следующая:\n",
    "\n",
    "- id пользователя\n",
    "- target - является ли пользователь заинтересованным в данном товаре в конкретную дату\n",
    "- ретродата - конкретная дата, в которую мы бы хотели уметь предсказывать интерес пользователя\n",
    "- все следующие столбцы описывают поведение пользователя в сети в предыдущие 2 недели.\n",
    "    - каждый столбец соответствует определнной ссылке\n",
    "    - ссылки анонимизированы \n",
    "    - ссылки разбиты на группы, группы определяются по префиксу столбца, в группах может быть разное количество ссылок\n",
    "    - история представляет собой список пар - (дата посещения, количество посещений в эту дату)"
   ]
  },
  {
   "cell_type": "markdown",
   "metadata": {},
   "source": [
    "#### General description of data"
   ]
  },
  {
   "cell_type": "code",
   "execution_count": 233,
   "metadata": {
    "ExecuteTime": {
     "end_time": "2022-11-28T22:37:07.963185Z",
     "start_time": "2022-11-28T22:37:07.953211Z"
    }
   },
   "outputs": [
    {
     "name": "stdout",
     "output_type": "stream",
     "text": [
      "df shape         : (2905, 50)\n",
      "unique users     : 2905\n"
     ]
    }
   ],
   "source": [
    "# table size\n",
    "print(\"df shape         :\", df.shape)\n",
    "# number of unique users\n",
    "print(\"unique users     :\", df.CLIENT_ID.nunique())\n",
    "# number of groups\n",
    "groups_columns = df.columns.tolist()[3:]"
   ]
  },
  {
   "cell_type": "code",
   "execution_count": 234,
   "metadata": {},
   "outputs": [],
   "source": [
    "df.CLIENT_ID = [f'u_{i}' for i, u in enumerate(range(df.shape[0]), 1)]"
   ]
  },
  {
   "cell_type": "code",
   "execution_count": 235,
   "metadata": {},
   "outputs": [
    {
     "data": {
      "text/html": [
       "<div>\n",
       "<style scoped>\n",
       "    .dataframe tbody tr th:only-of-type {\n",
       "        vertical-align: middle;\n",
       "    }\n",
       "\n",
       "    .dataframe tbody tr th {\n",
       "        vertical-align: top;\n",
       "    }\n",
       "\n",
       "    .dataframe thead th {\n",
       "        text-align: right;\n",
       "    }\n",
       "</style>\n",
       "<table border=\"1\" class=\"dataframe\">\n",
       "  <thead>\n",
       "    <tr style=\"text-align: right;\">\n",
       "      <th></th>\n",
       "      <th>CLIENT_ID</th>\n",
       "      <th>RETRO_DT</th>\n",
       "      <th>TARGET</th>\n",
       "      <th>l_1</th>\n",
       "      <th>l_2</th>\n",
       "      <th>l_3</th>\n",
       "      <th>l_4</th>\n",
       "      <th>l_5</th>\n",
       "      <th>l_6</th>\n",
       "      <th>l_7</th>\n",
       "      <th>...</th>\n",
       "      <th>l_38</th>\n",
       "      <th>l_39</th>\n",
       "      <th>l_40</th>\n",
       "      <th>l_41</th>\n",
       "      <th>l_42</th>\n",
       "      <th>l_43</th>\n",
       "      <th>l_44</th>\n",
       "      <th>l_45</th>\n",
       "      <th>l_46</th>\n",
       "      <th>l_47</th>\n",
       "    </tr>\n",
       "  </thead>\n",
       "  <tbody>\n",
       "    <tr>\n",
       "      <th>0</th>\n",
       "      <td>u_1</td>\n",
       "      <td>20220612</td>\n",
       "      <td>0</td>\n",
       "      <td>NaN</td>\n",
       "      <td>NaN</td>\n",
       "      <td>NaN</td>\n",
       "      <td>NaN</td>\n",
       "      <td>NaN</td>\n",
       "      <td>NaN</td>\n",
       "      <td>NaN</td>\n",
       "      <td>...</td>\n",
       "      <td>NaN</td>\n",
       "      <td>NaN</td>\n",
       "      <td>NaN</td>\n",
       "      <td>NaN</td>\n",
       "      <td>NaN</td>\n",
       "      <td>NaN</td>\n",
       "      <td>NaN</td>\n",
       "      <td>NaN</td>\n",
       "      <td>NaN</td>\n",
       "      <td>[[2022-06-09, 1]]</td>\n",
       "    </tr>\n",
       "    <tr>\n",
       "      <th>1</th>\n",
       "      <td>u_2</td>\n",
       "      <td>20220627</td>\n",
       "      <td>0</td>\n",
       "      <td>NaN</td>\n",
       "      <td>NaN</td>\n",
       "      <td>NaN</td>\n",
       "      <td>NaN</td>\n",
       "      <td>NaN</td>\n",
       "      <td>NaN</td>\n",
       "      <td>NaN</td>\n",
       "      <td>...</td>\n",
       "      <td>NaN</td>\n",
       "      <td>NaN</td>\n",
       "      <td>NaN</td>\n",
       "      <td>NaN</td>\n",
       "      <td>NaN</td>\n",
       "      <td>NaN</td>\n",
       "      <td>NaN</td>\n",
       "      <td>NaN</td>\n",
       "      <td>NaN</td>\n",
       "      <td>NaN</td>\n",
       "    </tr>\n",
       "    <tr>\n",
       "      <th>2</th>\n",
       "      <td>u_3</td>\n",
       "      <td>20220629</td>\n",
       "      <td>0</td>\n",
       "      <td>NaN</td>\n",
       "      <td>NaN</td>\n",
       "      <td>NaN</td>\n",
       "      <td>NaN</td>\n",
       "      <td>NaN</td>\n",
       "      <td>NaN</td>\n",
       "      <td>NaN</td>\n",
       "      <td>...</td>\n",
       "      <td>NaN</td>\n",
       "      <td>NaN</td>\n",
       "      <td>NaN</td>\n",
       "      <td>NaN</td>\n",
       "      <td>NaN</td>\n",
       "      <td>NaN</td>\n",
       "      <td>NaN</td>\n",
       "      <td>NaN</td>\n",
       "      <td>NaN</td>\n",
       "      <td>NaN</td>\n",
       "    </tr>\n",
       "    <tr>\n",
       "      <th>3</th>\n",
       "      <td>u_4</td>\n",
       "      <td>20220615</td>\n",
       "      <td>0</td>\n",
       "      <td>NaN</td>\n",
       "      <td>NaN</td>\n",
       "      <td>NaN</td>\n",
       "      <td>NaN</td>\n",
       "      <td>NaN</td>\n",
       "      <td>NaN</td>\n",
       "      <td>NaN</td>\n",
       "      <td>...</td>\n",
       "      <td>NaN</td>\n",
       "      <td>NaN</td>\n",
       "      <td>NaN</td>\n",
       "      <td>NaN</td>\n",
       "      <td>NaN</td>\n",
       "      <td>NaN</td>\n",
       "      <td>NaN</td>\n",
       "      <td>NaN</td>\n",
       "      <td>NaN</td>\n",
       "      <td>NaN</td>\n",
       "    </tr>\n",
       "    <tr>\n",
       "      <th>4</th>\n",
       "      <td>u_5</td>\n",
       "      <td>20220629</td>\n",
       "      <td>0</td>\n",
       "      <td>NaN</td>\n",
       "      <td>NaN</td>\n",
       "      <td>NaN</td>\n",
       "      <td>NaN</td>\n",
       "      <td>NaN</td>\n",
       "      <td>NaN</td>\n",
       "      <td>NaN</td>\n",
       "      <td>...</td>\n",
       "      <td>NaN</td>\n",
       "      <td>NaN</td>\n",
       "      <td>NaN</td>\n",
       "      <td>NaN</td>\n",
       "      <td>NaN</td>\n",
       "      <td>NaN</td>\n",
       "      <td>NaN</td>\n",
       "      <td>NaN</td>\n",
       "      <td>NaN</td>\n",
       "      <td>NaN</td>\n",
       "    </tr>\n",
       "    <tr>\n",
       "      <th>...</th>\n",
       "      <td>...</td>\n",
       "      <td>...</td>\n",
       "      <td>...</td>\n",
       "      <td>...</td>\n",
       "      <td>...</td>\n",
       "      <td>...</td>\n",
       "      <td>...</td>\n",
       "      <td>...</td>\n",
       "      <td>...</td>\n",
       "      <td>...</td>\n",
       "      <td>...</td>\n",
       "      <td>...</td>\n",
       "      <td>...</td>\n",
       "      <td>...</td>\n",
       "      <td>...</td>\n",
       "      <td>...</td>\n",
       "      <td>...</td>\n",
       "      <td>...</td>\n",
       "      <td>...</td>\n",
       "      <td>...</td>\n",
       "      <td>...</td>\n",
       "    </tr>\n",
       "    <tr>\n",
       "      <th>2900</th>\n",
       "      <td>u_2901</td>\n",
       "      <td>20220628</td>\n",
       "      <td>0</td>\n",
       "      <td>NaN</td>\n",
       "      <td>NaN</td>\n",
       "      <td>NaN</td>\n",
       "      <td>NaN</td>\n",
       "      <td>NaN</td>\n",
       "      <td>NaN</td>\n",
       "      <td>NaN</td>\n",
       "      <td>...</td>\n",
       "      <td>NaN</td>\n",
       "      <td>NaN</td>\n",
       "      <td>NaN</td>\n",
       "      <td>NaN</td>\n",
       "      <td>NaN</td>\n",
       "      <td>NaN</td>\n",
       "      <td>NaN</td>\n",
       "      <td>NaN</td>\n",
       "      <td>NaN</td>\n",
       "      <td>NaN</td>\n",
       "    </tr>\n",
       "    <tr>\n",
       "      <th>2901</th>\n",
       "      <td>u_2902</td>\n",
       "      <td>20220606</td>\n",
       "      <td>0</td>\n",
       "      <td>NaN</td>\n",
       "      <td>NaN</td>\n",
       "      <td>NaN</td>\n",
       "      <td>NaN</td>\n",
       "      <td>NaN</td>\n",
       "      <td>NaN</td>\n",
       "      <td>NaN</td>\n",
       "      <td>...</td>\n",
       "      <td>NaN</td>\n",
       "      <td>NaN</td>\n",
       "      <td>NaN</td>\n",
       "      <td>NaN</td>\n",
       "      <td>NaN</td>\n",
       "      <td>NaN</td>\n",
       "      <td>NaN</td>\n",
       "      <td>NaN</td>\n",
       "      <td>NaN</td>\n",
       "      <td>NaN</td>\n",
       "    </tr>\n",
       "    <tr>\n",
       "      <th>2902</th>\n",
       "      <td>u_2903</td>\n",
       "      <td>20220628</td>\n",
       "      <td>0</td>\n",
       "      <td>NaN</td>\n",
       "      <td>NaN</td>\n",
       "      <td>NaN</td>\n",
       "      <td>NaN</td>\n",
       "      <td>NaN</td>\n",
       "      <td>[[2022-06-26, 1]]</td>\n",
       "      <td>NaN</td>\n",
       "      <td>...</td>\n",
       "      <td>NaN</td>\n",
       "      <td>NaN</td>\n",
       "      <td>NaN</td>\n",
       "      <td>NaN</td>\n",
       "      <td>NaN</td>\n",
       "      <td>NaN</td>\n",
       "      <td>NaN</td>\n",
       "      <td>NaN</td>\n",
       "      <td>NaN</td>\n",
       "      <td>NaN</td>\n",
       "    </tr>\n",
       "    <tr>\n",
       "      <th>2903</th>\n",
       "      <td>u_2904</td>\n",
       "      <td>20220607</td>\n",
       "      <td>0</td>\n",
       "      <td>NaN</td>\n",
       "      <td>NaN</td>\n",
       "      <td>NaN</td>\n",
       "      <td>NaN</td>\n",
       "      <td>NaN</td>\n",
       "      <td>NaN</td>\n",
       "      <td>NaN</td>\n",
       "      <td>...</td>\n",
       "      <td>NaN</td>\n",
       "      <td>NaN</td>\n",
       "      <td>NaN</td>\n",
       "      <td>[[2022-06-05, 1]]</td>\n",
       "      <td>NaN</td>\n",
       "      <td>NaN</td>\n",
       "      <td>NaN</td>\n",
       "      <td>NaN</td>\n",
       "      <td>NaN</td>\n",
       "      <td>NaN</td>\n",
       "    </tr>\n",
       "    <tr>\n",
       "      <th>2904</th>\n",
       "      <td>u_2905</td>\n",
       "      <td>20220601</td>\n",
       "      <td>0</td>\n",
       "      <td>NaN</td>\n",
       "      <td>NaN</td>\n",
       "      <td>NaN</td>\n",
       "      <td>NaN</td>\n",
       "      <td>NaN</td>\n",
       "      <td>NaN</td>\n",
       "      <td>NaN</td>\n",
       "      <td>...</td>\n",
       "      <td>NaN</td>\n",
       "      <td>NaN</td>\n",
       "      <td>NaN</td>\n",
       "      <td>NaN</td>\n",
       "      <td>NaN</td>\n",
       "      <td>NaN</td>\n",
       "      <td>NaN</td>\n",
       "      <td>NaN</td>\n",
       "      <td>NaN</td>\n",
       "      <td>NaN</td>\n",
       "    </tr>\n",
       "  </tbody>\n",
       "</table>\n",
       "<p>2905 rows × 50 columns</p>\n",
       "</div>"
      ],
      "text/plain": [
       "     CLIENT_ID  RETRO_DT TARGET  l_1  l_2  l_3  l_4  l_5                l_6  \\\n",
       "0          u_1  20220612      0  NaN  NaN  NaN  NaN  NaN                NaN   \n",
       "1          u_2  20220627      0  NaN  NaN  NaN  NaN  NaN                NaN   \n",
       "2          u_3  20220629      0  NaN  NaN  NaN  NaN  NaN                NaN   \n",
       "3          u_4  20220615      0  NaN  NaN  NaN  NaN  NaN                NaN   \n",
       "4          u_5  20220629      0  NaN  NaN  NaN  NaN  NaN                NaN   \n",
       "...        ...       ...    ...  ...  ...  ...  ...  ...                ...   \n",
       "2900    u_2901  20220628      0  NaN  NaN  NaN  NaN  NaN                NaN   \n",
       "2901    u_2902  20220606      0  NaN  NaN  NaN  NaN  NaN                NaN   \n",
       "2902    u_2903  20220628      0  NaN  NaN  NaN  NaN  NaN  [[2022-06-26, 1]]   \n",
       "2903    u_2904  20220607      0  NaN  NaN  NaN  NaN  NaN                NaN   \n",
       "2904    u_2905  20220601      0  NaN  NaN  NaN  NaN  NaN                NaN   \n",
       "\n",
       "      l_7  ... l_38 l_39 l_40               l_41 l_42 l_43 l_44 l_45 l_46  \\\n",
       "0     NaN  ...  NaN  NaN  NaN                NaN  NaN  NaN  NaN  NaN  NaN   \n",
       "1     NaN  ...  NaN  NaN  NaN                NaN  NaN  NaN  NaN  NaN  NaN   \n",
       "2     NaN  ...  NaN  NaN  NaN                NaN  NaN  NaN  NaN  NaN  NaN   \n",
       "3     NaN  ...  NaN  NaN  NaN                NaN  NaN  NaN  NaN  NaN  NaN   \n",
       "4     NaN  ...  NaN  NaN  NaN                NaN  NaN  NaN  NaN  NaN  NaN   \n",
       "...   ...  ...  ...  ...  ...                ...  ...  ...  ...  ...  ...   \n",
       "2900  NaN  ...  NaN  NaN  NaN                NaN  NaN  NaN  NaN  NaN  NaN   \n",
       "2901  NaN  ...  NaN  NaN  NaN                NaN  NaN  NaN  NaN  NaN  NaN   \n",
       "2902  NaN  ...  NaN  NaN  NaN                NaN  NaN  NaN  NaN  NaN  NaN   \n",
       "2903  NaN  ...  NaN  NaN  NaN  [[2022-06-05, 1]]  NaN  NaN  NaN  NaN  NaN   \n",
       "2904  NaN  ...  NaN  NaN  NaN                NaN  NaN  NaN  NaN  NaN  NaN   \n",
       "\n",
       "                   l_47  \n",
       "0     [[2022-06-09, 1]]  \n",
       "1                   NaN  \n",
       "2                   NaN  \n",
       "3                   NaN  \n",
       "4                   NaN  \n",
       "...                 ...  \n",
       "2900                NaN  \n",
       "2901                NaN  \n",
       "2902                NaN  \n",
       "2903                NaN  \n",
       "2904                NaN  \n",
       "\n",
       "[2905 rows x 50 columns]"
      ]
     },
     "execution_count": 235,
     "metadata": {},
     "output_type": "execute_result"
    }
   ],
   "source": [
    "df"
   ]
  },
  {
   "cell_type": "markdown",
   "metadata": {},
   "source": [
    "#### Data processing"
   ]
  },
  {
   "cell_type": "markdown",
   "metadata": {},
   "source": [
    "First of all lets convert lists in cells into real lists (now they are string-lists)."
   ]
  },
  {
   "cell_type": "code",
   "execution_count": 236,
   "metadata": {
    "ExecuteTime": {
     "end_time": "2022-11-28T22:37:36.268780Z",
     "start_time": "2022-11-28T22:37:36.256814Z"
    }
   },
   "outputs": [],
   "source": [
    "def make_normal_list(string_list):\n",
    "    if isinstance(string_list, float):\n",
    "        return None\n",
    "    day_process = lambda x: (pd.to_datetime(x[0], format='%Y-%m-%d').date(), x[1])\n",
    "    \n",
    "    history = [day_process(day) for day in string_list]\n",
    "    return history"
   ]
  },
  {
   "cell_type": "code",
   "execution_count": 237,
   "metadata": {
    "ExecuteTime": {
     "end_time": "2022-11-28T22:37:38.768894Z",
     "start_time": "2022-11-28T22:37:38.761883Z"
    }
   },
   "outputs": [],
   "source": [
    "def make_normal_list_series(series):\n",
    "    return series.apply(make_normal_list)"
   ]
  },
  {
   "cell_type": "code",
   "execution_count": 238,
   "metadata": {
    "ExecuteTime": {
     "end_time": "2022-11-28T22:37:39.690160Z",
     "start_time": "2022-11-28T22:37:39.672176Z"
    }
   },
   "outputs": [],
   "source": [
    "df.RETRO_DT = pd.to_datetime(df.RETRO_DT, format='%Y%m%d').dt.date"
   ]
  },
  {
   "cell_type": "code",
   "execution_count": 239,
   "metadata": {
    "ExecuteTime": {
     "end_time": "2022-11-28T22:38:30.411662Z",
     "start_time": "2022-11-28T22:37:42.865722Z"
    }
   },
   "outputs": [],
   "source": [
    "df[groups_columns] = df[groups_columns].apply(make_normal_list_series)"
   ]
  },
  {
   "cell_type": "code",
   "execution_count": null,
   "metadata": {
    "ExecuteTime": {
     "end_time": "2022-11-28T22:38:39.062215Z",
     "start_time": "2022-11-28T22:38:38.912615Z"
    }
   },
   "outputs": [],
   "source": []
  },
  {
   "cell_type": "markdown",
   "metadata": {},
   "source": [
    "#### Feature engineering"
   ]
  },
  {
   "cell_type": "markdown",
   "metadata": {},
   "source": [
    "- User activities within two previous weeks\n",
    "    - total visits of all sites (inside of domain)\n",
    "    - total visits for every group\n",
    "    - total visits for every link\n",
    "    - number of active days within period (two weeks)\n",
    "    - number of active days for every group\n",
    "    - average visits per active day (for domain and groups)\n",
    "    - number of visits on previous (or 2, 3) day"
   ]
  },
  {
   "cell_type": "markdown",
   "metadata": {},
   "source": [
    "1. total visits of all sites (inside of domain)"
   ]
  },
  {
   "cell_type": "code",
   "execution_count": 240,
   "metadata": {
    "ExecuteTime": {
     "end_time": "2022-11-28T22:38:46.180526Z",
     "start_time": "2022-11-28T22:38:45.242069Z"
    }
   },
   "outputs": [],
   "source": [
    "def get_total_visits(history_list):\n",
    "    all_sum = 0\n",
    "    for history in history_list:\n",
    "        if isinstance(history, list):\n",
    "            all_sum += sum(info[1] for info in history)\n",
    "    return all_sum\n",
    "    \n",
    "\n",
    "df['total_visits_domain'] = df.apply(lambda x: get_total_visits([x[col] for col in groups_columns]), axis=1)"
   ]
  },
  {
   "cell_type": "code",
   "execution_count": 241,
   "metadata": {},
   "outputs": [
    {
     "data": {
      "text/plain": [
       "0     1\n",
       "1     5\n",
       "2     3\n",
       "3    13\n",
       "4     1\n",
       "Name: total_visits_domain, dtype: int64"
      ]
     },
     "execution_count": 241,
     "metadata": {},
     "output_type": "execute_result"
    }
   ],
   "source": [
    "df['total_visits_domain'].head()"
   ]
  },
  {
   "cell_type": "markdown",
   "metadata": {},
   "source": [
    "4. number of active days within period (two weeks) for domain"
   ]
  },
  {
   "cell_type": "code",
   "execution_count": 242,
   "metadata": {
    "ExecuteTime": {
     "end_time": "2022-11-28T22:38:56.190881Z",
     "start_time": "2022-11-28T22:38:53.328992Z"
    }
   },
   "outputs": [],
   "source": [
    "def get_active_days(history_list, activity_thr=1):\n",
    "    # calculate unique days with visits during history\n",
    "    # activity_thr - number of days to make day active\n",
    "    all_sum = 0\n",
    "    for history in history_list:\n",
    "        if isinstance(history, list):\n",
    "            all_sum += len(set(day for (day, visits) in history if visits > activity_thr))\n",
    "    return all_sum\n",
    "\n",
    "            \n",
    "df['n1_active_days_domain'] = df.apply(lambda x: get_active_days([x[col] for col in groups_columns], 1), axis=1)\n",
    "df['n2_active_days_domain'] = df.apply(lambda x: get_active_days([x[col] for col in groups_columns], 2), axis=1)\n",
    "df['n3_active_days_domain'] = df.apply(lambda x: get_active_days([x[col] for col in groups_columns], 3), axis=1)"
   ]
  },
  {
   "cell_type": "code",
   "execution_count": 243,
   "metadata": {},
   "outputs": [
    {
     "data": {
      "text/html": [
       "<div>\n",
       "<style scoped>\n",
       "    .dataframe tbody tr th:only-of-type {\n",
       "        vertical-align: middle;\n",
       "    }\n",
       "\n",
       "    .dataframe tbody tr th {\n",
       "        vertical-align: top;\n",
       "    }\n",
       "\n",
       "    .dataframe thead th {\n",
       "        text-align: right;\n",
       "    }\n",
       "</style>\n",
       "<table border=\"1\" class=\"dataframe\">\n",
       "  <thead>\n",
       "    <tr style=\"text-align: right;\">\n",
       "      <th></th>\n",
       "      <th>n1_active_days_domain</th>\n",
       "      <th>n2_active_days_domain</th>\n",
       "      <th>n3_active_days_domain</th>\n",
       "    </tr>\n",
       "  </thead>\n",
       "  <tbody>\n",
       "    <tr>\n",
       "      <th>0</th>\n",
       "      <td>0</td>\n",
       "      <td>0</td>\n",
       "      <td>0</td>\n",
       "    </tr>\n",
       "    <tr>\n",
       "      <th>1</th>\n",
       "      <td>2</td>\n",
       "      <td>1</td>\n",
       "      <td>0</td>\n",
       "    </tr>\n",
       "    <tr>\n",
       "      <th>2</th>\n",
       "      <td>1</td>\n",
       "      <td>0</td>\n",
       "      <td>0</td>\n",
       "    </tr>\n",
       "    <tr>\n",
       "      <th>3</th>\n",
       "      <td>2</td>\n",
       "      <td>1</td>\n",
       "      <td>1</td>\n",
       "    </tr>\n",
       "    <tr>\n",
       "      <th>4</th>\n",
       "      <td>0</td>\n",
       "      <td>0</td>\n",
       "      <td>0</td>\n",
       "    </tr>\n",
       "  </tbody>\n",
       "</table>\n",
       "</div>"
      ],
      "text/plain": [
       "   n1_active_days_domain  n2_active_days_domain  n3_active_days_domain\n",
       "0                      0                      0                      0\n",
       "1                      2                      1                      0\n",
       "2                      1                      0                      0\n",
       "3                      2                      1                      1\n",
       "4                      0                      0                      0"
      ]
     },
     "execution_count": 243,
     "metadata": {},
     "output_type": "execute_result"
    }
   ],
   "source": [
    "df[['n1_active_days_domain', 'n2_active_days_domain', 'n3_active_days_domain']].head()"
   ]
  },
  {
   "cell_type": "markdown",
   "metadata": {},
   "source": [
    "6. average visits per active day (for domain and groups)\n",
    "\n",
    "considering days with at least one visit"
   ]
  },
  {
   "cell_type": "code",
   "execution_count": 244,
   "metadata": {
    "ExecuteTime": {
     "end_time": "2022-11-28T22:39:08.079970Z",
     "start_time": "2022-11-28T22:39:05.313170Z"
    }
   },
   "outputs": [
    {
     "name": "stderr",
     "output_type": "stream",
     "text": [
      "c:\\users\\ppv\\appdata\\local\\programs\\python\\python38\\lib\\site-packages\\numpy\\core\\fromnumeric.py:3440: RuntimeWarning: Mean of empty slice.\n",
      "  return _methods._mean(a, axis=axis, dtype=dtype,\n",
      "c:\\users\\ppv\\appdata\\local\\programs\\python\\python38\\lib\\site-packages\\numpy\\core\\_methods.py:189: RuntimeWarning: invalid value encountered in double_scalars\n",
      "  ret = ret.dtype.type(ret / rcount)\n"
     ]
    }
   ],
   "source": [
    "def get_av_visits_per_active_day(history_list, activity_thr=1):\n",
    "    visits = list()\n",
    "    for history in history_list:\n",
    "        if isinstance(history, list):\n",
    "            visits.extend([visits for (day, visits) in history if visits > activity_thr])\n",
    "    return np.mean(visits)\n",
    "\n",
    "df['average_visits_per_day_domain'] = df.apply(lambda x: get_av_visits_per_active_day([x[col] for col in groups_columns], 1), axis=1)"
   ]
  },
  {
   "cell_type": "code",
   "execution_count": 245,
   "metadata": {},
   "outputs": [
    {
     "data": {
      "text/plain": [
       "0    NaN\n",
       "1    2.5\n",
       "2    2.0\n",
       "3    5.0\n",
       "4    NaN\n",
       "Name: average_visits_per_day_domain, dtype: float64"
      ]
     },
     "execution_count": 245,
     "metadata": {},
     "output_type": "execute_result"
    }
   ],
   "source": [
    "df['average_visits_per_day_domain'].head()"
   ]
  },
  {
   "cell_type": "markdown",
   "metadata": {
    "ExecuteTime": {
     "end_time": "2022-11-28T22:14:52.052239Z",
     "start_time": "2022-11-28T22:14:51.970458Z"
    }
   },
   "source": [
    "7. number of visits on previous (or 2, 3) day"
   ]
  },
  {
   "cell_type": "code",
   "execution_count": 246,
   "metadata": {
    "ExecuteTime": {
     "end_time": "2022-11-28T22:39:18.537794Z",
     "start_time": "2022-11-28T22:39:10.449612Z"
    }
   },
   "outputs": [],
   "source": [
    "def get_visits_K_days_ago(history_list, retrodate, lag=1):\n",
    "    visits = list()\n",
    "    for history in history_list:\n",
    "        if isinstance(history, list):\n",
    "            visits.extend(visits for (day, visits) in history if (retrodate - day).days == lag)\n",
    "    return sum(visits)\n",
    "\n",
    "df['visits_1_day_ago_domain'] = df.apply(lambda x: get_visits_K_days_ago([x[col] for col in groups_columns], x.RETRO_DT, 1), axis=1)\n",
    "df['visits_2_day_ago_domain'] = df.apply(lambda x: get_visits_K_days_ago([x[col] for col in groups_columns], x.RETRO_DT, 2), axis=1)\n",
    "df['visits_3_day_ago_domain'] = df.apply(lambda x: get_visits_K_days_ago([x[col] for col in groups_columns], x.RETRO_DT, 3), axis=1)"
   ]
  },
  {
   "cell_type": "code",
   "execution_count": 247,
   "metadata": {},
   "outputs": [
    {
     "data": {
      "text/html": [
       "<div>\n",
       "<style scoped>\n",
       "    .dataframe tbody tr th:only-of-type {\n",
       "        vertical-align: middle;\n",
       "    }\n",
       "\n",
       "    .dataframe tbody tr th {\n",
       "        vertical-align: top;\n",
       "    }\n",
       "\n",
       "    .dataframe thead th {\n",
       "        text-align: right;\n",
       "    }\n",
       "</style>\n",
       "<table border=\"1\" class=\"dataframe\">\n",
       "  <thead>\n",
       "    <tr style=\"text-align: right;\">\n",
       "      <th></th>\n",
       "      <th>visits_1_day_ago_domain</th>\n",
       "      <th>visits_2_day_ago_domain</th>\n",
       "      <th>visits_3_day_ago_domain</th>\n",
       "    </tr>\n",
       "  </thead>\n",
       "  <tbody>\n",
       "    <tr>\n",
       "      <th>0</th>\n",
       "      <td>0</td>\n",
       "      <td>0</td>\n",
       "      <td>1</td>\n",
       "    </tr>\n",
       "    <tr>\n",
       "      <th>1</th>\n",
       "      <td>2</td>\n",
       "      <td>0</td>\n",
       "      <td>0</td>\n",
       "    </tr>\n",
       "    <tr>\n",
       "      <th>2</th>\n",
       "      <td>0</td>\n",
       "      <td>2</td>\n",
       "      <td>0</td>\n",
       "    </tr>\n",
       "    <tr>\n",
       "      <th>3</th>\n",
       "      <td>0</td>\n",
       "      <td>1</td>\n",
       "      <td>0</td>\n",
       "    </tr>\n",
       "    <tr>\n",
       "      <th>4</th>\n",
       "      <td>0</td>\n",
       "      <td>0</td>\n",
       "      <td>0</td>\n",
       "    </tr>\n",
       "  </tbody>\n",
       "</table>\n",
       "</div>"
      ],
      "text/plain": [
       "   visits_1_day_ago_domain  visits_2_day_ago_domain  visits_3_day_ago_domain\n",
       "0                        0                        0                        1\n",
       "1                        2                        0                        0\n",
       "2                        0                        2                        0\n",
       "3                        0                        1                        0\n",
       "4                        0                        0                        0"
      ]
     },
     "execution_count": 247,
     "metadata": {},
     "output_type": "execute_result"
    }
   ],
   "source": [
    "df[['visits_1_day_ago_domain', 'visits_2_day_ago_domain', 'visits_3_day_ago_domain']].head()"
   ]
  },
  {
   "cell_type": "markdown",
   "metadata": {},
   "source": [
    "#### Save data for models"
   ]
  },
  {
   "cell_type": "code",
   "execution_count": 248,
   "metadata": {
    "ExecuteTime": {
     "end_time": "2022-11-28T22:39:54.050135Z",
     "start_time": "2022-11-28T22:39:54.034150Z"
    }
   },
   "outputs": [
    {
     "data": {
      "text/plain": [
       "10"
      ]
     },
     "execution_count": 248,
     "metadata": {},
     "output_type": "execute_result"
    }
   ],
   "source": [
    "ignore_columns = groups_columns + ['RETRO_DT']\n",
    "important_columns = [c for c in df.columns if c not in ignore_columns]\n",
    "len(important_columns)"
   ]
  },
  {
   "cell_type": "code",
   "execution_count": 249,
   "metadata": {
    "ExecuteTime": {
     "end_time": "2022-11-28T22:39:57.499998Z",
     "start_time": "2022-11-28T22:39:57.449002Z"
    }
   },
   "outputs": [],
   "source": [
    "df[important_columns].to_csv('sample_processed.csv', index=False)"
   ]
  },
  {
   "cell_type": "code",
   "execution_count": null,
   "metadata": {},
   "outputs": [],
   "source": []
  },
  {
   "cell_type": "code",
   "execution_count": null,
   "metadata": {},
   "outputs": [],
   "source": []
  },
  {
   "cell_type": "code",
   "execution_count": null,
   "metadata": {},
   "outputs": [],
   "source": []
  },
  {
   "cell_type": "markdown",
   "metadata": {},
   "source": [
    "#### Future work"
   ]
  },
  {
   "cell_type": "markdown",
   "metadata": {},
   "source": [
    "Можно визуализировать посчитанные статистики, должны получаться понятные гистограммы + возможно будут видны отличия по таргету."
   ]
  },
  {
   "cell_type": "markdown",
   "metadata": {},
   "source": [
    "-----"
   ]
  },
  {
   "cell_type": "markdown",
   "metadata": {},
   "source": [
    "что еще можно попробовать"
   ]
  },
  {
   "cell_type": "markdown",
   "metadata": {},
   "source": [
    "Ideas and brainstorming:"
   ]
  },
  {
   "cell_type": "markdown",
   "metadata": {},
   "source": [
    "Нужно придумывать признаки, которые бы коррелировали с типичным поведением пользователя и его мотивами, настроением. Возможно следует посмотреть в сторону поведения пользователя не внутри одного домена, а кросс-доменное поведение. Например, кто-то смотрит объявления про машины, хочет купить авто, значит скоро возьмет кредит. Подсовываем ему кредитную рекламу. \n",
    "\n",
    "Нужно найти такие близкие домены. Возможно опять же нужно кластеризовать домены по поведениям пользователей. Необходимы данные по одним и тем же пользователям в разных доменах в течение +- одного времени. "
   ]
  },
  {
   "cell_type": "markdown",
   "metadata": {},
   "source": [
    "- кластеризация пользователей на группы (возможно есть активные, средние, пассивные, для каждой группы свои модели)\n",
    "- добавить к датам еще время посещения, чтобы можно было учитывать время суток\n",
    "- отсутствие интереса в начале двух недель, появление интереса к концу недель к ретродате\n",
    "- среднее время между соседними посещениями (также для всех сайтов, групп и всего домена)\n",
    "- количество дней между первым и последним заходом\n",
    "- is retrodate the same weekday as one of active days\n",
    "- is retrodate the next (1, 2, 3 days) after active day\n",
    "- increasing of interest within two weeks (number of visits goes up)- "
   ]
  },
  {
   "cell_type": "code",
   "execution_count": null,
   "metadata": {},
   "outputs": [],
   "source": []
  },
  {
   "cell_type": "code",
   "execution_count": null,
   "metadata": {},
   "outputs": [],
   "source": []
  },
  {
   "cell_type": "code",
   "execution_count": null,
   "metadata": {},
   "outputs": [],
   "source": []
  }
 ],
 "metadata": {
  "kernelspec": {
   "display_name": "Python 3 (ipykernel)",
   "language": "python",
   "name": "python3"
  },
  "language_info": {
   "codemirror_mode": {
    "name": "ipython",
    "version": 3
   },
   "file_extension": ".py",
   "mimetype": "text/x-python",
   "name": "python",
   "nbconvert_exporter": "python",
   "pygments_lexer": "ipython3",
   "version": "3.8.10"
  }
 },
 "nbformat": 4,
 "nbformat_minor": 4
}
