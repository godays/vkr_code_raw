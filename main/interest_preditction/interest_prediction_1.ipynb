{
 "cells": [
  {
   "cell_type": "code",
   "execution_count": 48,
   "id": "f04688f1",
   "metadata": {},
   "outputs": [],
   "source": [
    "import pandas as pd\n",
    "from collections import Counter\n",
    "\n",
    "import matplotlib.pyplot as plt\n",
    "import seaborn as sns\n",
    "\n",
    "from sklearn.model_selection import train_test_split\n",
    "from sklearn.metrics import classification_report, confusion_matrix, roc_curve, precision_recall_curve, roc_auc_score\n",
    "\n",
    "from sklearn.linear_model import LogisticRegression\n",
    "from sklearn.tree import DecisionTreeClassifier\n",
    "from sklearn.ensemble import RandomForestClassifier\n",
    "from imblearn.ensemble import BalancedRandomForestClassifier\n",
    "from xgboost import XGBRFClassifier\n",
    "from imblearn.ensemble import RUSBoostClassifier\n"
   ]
  },
  {
   "cell_type": "code",
   "execution_count": 34,
   "id": "a606f1e0",
   "metadata": {},
   "outputs": [
    {
     "data": {
      "text/html": [
       "<div>\n",
       "<style scoped>\n",
       "    .dataframe tbody tr th:only-of-type {\n",
       "        vertical-align: middle;\n",
       "    }\n",
       "\n",
       "    .dataframe tbody tr th {\n",
       "        vertical-align: top;\n",
       "    }\n",
       "\n",
       "    .dataframe thead th {\n",
       "        text-align: right;\n",
       "    }\n",
       "</style>\n",
       "<table border=\"1\" class=\"dataframe\">\n",
       "  <thead>\n",
       "    <tr style=\"text-align: right;\">\n",
       "      <th></th>\n",
       "      <th>CLIENT_ID</th>\n",
       "      <th>TARGET</th>\n",
       "      <th>l_1</th>\n",
       "      <th>l_2</th>\n",
       "      <th>l_3</th>\n",
       "      <th>l_4</th>\n",
       "      <th>l_5</th>\n",
       "      <th>l_6</th>\n",
       "      <th>l_7</th>\n",
       "      <th>l_8</th>\n",
       "      <th>...</th>\n",
       "      <th>l_46</th>\n",
       "      <th>l_47</th>\n",
       "      <th>total_visits_domain</th>\n",
       "      <th>n1_active_days_domain</th>\n",
       "      <th>n2_active_days_domain</th>\n",
       "      <th>n3_active_days_domain</th>\n",
       "      <th>average_visits_per_day_domain</th>\n",
       "      <th>visits_1_day_ago_domain</th>\n",
       "      <th>visits_2_day_ago_domain</th>\n",
       "      <th>visits_3_day_ago_domain</th>\n",
       "    </tr>\n",
       "  </thead>\n",
       "  <tbody>\n",
       "    <tr>\n",
       "      <th>0</th>\n",
       "      <td>u_1</td>\n",
       "      <td>0</td>\n",
       "      <td>0</td>\n",
       "      <td>0</td>\n",
       "      <td>0</td>\n",
       "      <td>0</td>\n",
       "      <td>0</td>\n",
       "      <td>0</td>\n",
       "      <td>0</td>\n",
       "      <td>0</td>\n",
       "      <td>...</td>\n",
       "      <td>0</td>\n",
       "      <td>1</td>\n",
       "      <td>1</td>\n",
       "      <td>0</td>\n",
       "      <td>0</td>\n",
       "      <td>0</td>\n",
       "      <td>NaN</td>\n",
       "      <td>0</td>\n",
       "      <td>0</td>\n",
       "      <td>1</td>\n",
       "    </tr>\n",
       "    <tr>\n",
       "      <th>1</th>\n",
       "      <td>u_2</td>\n",
       "      <td>0</td>\n",
       "      <td>0</td>\n",
       "      <td>0</td>\n",
       "      <td>0</td>\n",
       "      <td>0</td>\n",
       "      <td>0</td>\n",
       "      <td>0</td>\n",
       "      <td>0</td>\n",
       "      <td>0</td>\n",
       "      <td>...</td>\n",
       "      <td>0</td>\n",
       "      <td>0</td>\n",
       "      <td>5</td>\n",
       "      <td>2</td>\n",
       "      <td>1</td>\n",
       "      <td>0</td>\n",
       "      <td>2.5</td>\n",
       "      <td>2</td>\n",
       "      <td>0</td>\n",
       "      <td>0</td>\n",
       "    </tr>\n",
       "    <tr>\n",
       "      <th>2</th>\n",
       "      <td>u_3</td>\n",
       "      <td>0</td>\n",
       "      <td>0</td>\n",
       "      <td>0</td>\n",
       "      <td>0</td>\n",
       "      <td>0</td>\n",
       "      <td>0</td>\n",
       "      <td>0</td>\n",
       "      <td>0</td>\n",
       "      <td>0</td>\n",
       "      <td>...</td>\n",
       "      <td>0</td>\n",
       "      <td>0</td>\n",
       "      <td>3</td>\n",
       "      <td>1</td>\n",
       "      <td>0</td>\n",
       "      <td>0</td>\n",
       "      <td>2.0</td>\n",
       "      <td>0</td>\n",
       "      <td>2</td>\n",
       "      <td>0</td>\n",
       "    </tr>\n",
       "    <tr>\n",
       "      <th>3</th>\n",
       "      <td>u_4</td>\n",
       "      <td>0</td>\n",
       "      <td>0</td>\n",
       "      <td>0</td>\n",
       "      <td>0</td>\n",
       "      <td>0</td>\n",
       "      <td>0</td>\n",
       "      <td>0</td>\n",
       "      <td>0</td>\n",
       "      <td>0</td>\n",
       "      <td>...</td>\n",
       "      <td>0</td>\n",
       "      <td>0</td>\n",
       "      <td>13</td>\n",
       "      <td>2</td>\n",
       "      <td>1</td>\n",
       "      <td>1</td>\n",
       "      <td>5.0</td>\n",
       "      <td>0</td>\n",
       "      <td>1</td>\n",
       "      <td>0</td>\n",
       "    </tr>\n",
       "    <tr>\n",
       "      <th>4</th>\n",
       "      <td>u_5</td>\n",
       "      <td>0</td>\n",
       "      <td>0</td>\n",
       "      <td>0</td>\n",
       "      <td>0</td>\n",
       "      <td>0</td>\n",
       "      <td>0</td>\n",
       "      <td>0</td>\n",
       "      <td>0</td>\n",
       "      <td>0</td>\n",
       "      <td>...</td>\n",
       "      <td>0</td>\n",
       "      <td>0</td>\n",
       "      <td>1</td>\n",
       "      <td>0</td>\n",
       "      <td>0</td>\n",
       "      <td>0</td>\n",
       "      <td>NaN</td>\n",
       "      <td>0</td>\n",
       "      <td>0</td>\n",
       "      <td>0</td>\n",
       "    </tr>\n",
       "  </tbody>\n",
       "</table>\n",
       "<p>5 rows × 57 columns</p>\n",
       "</div>"
      ],
      "text/plain": [
       "  CLIENT_ID  TARGET  l_1  l_2  l_3  l_4  l_5  l_6  l_7  l_8  ...  l_46  l_47  \\\n",
       "0       u_1       0    0    0    0    0    0    0    0    0  ...     0     1   \n",
       "1       u_2       0    0    0    0    0    0    0    0    0  ...     0     0   \n",
       "2       u_3       0    0    0    0    0    0    0    0    0  ...     0     0   \n",
       "3       u_4       0    0    0    0    0    0    0    0    0  ...     0     0   \n",
       "4       u_5       0    0    0    0    0    0    0    0    0  ...     0     0   \n",
       "\n",
       "   total_visits_domain  n1_active_days_domain  n2_active_days_domain  \\\n",
       "0                    1                      0                      0   \n",
       "1                    5                      2                      1   \n",
       "2                    3                      1                      0   \n",
       "3                   13                      2                      1   \n",
       "4                    1                      0                      0   \n",
       "\n",
       "   n3_active_days_domain  average_visits_per_day_domain  \\\n",
       "0                      0                            NaN   \n",
       "1                      0                            2.5   \n",
       "2                      0                            2.0   \n",
       "3                      1                            5.0   \n",
       "4                      0                            NaN   \n",
       "\n",
       "   visits_1_day_ago_domain  visits_2_day_ago_domain  visits_3_day_ago_domain  \n",
       "0                        0                        0                        1  \n",
       "1                        2                        0                        0  \n",
       "2                        0                        2                        0  \n",
       "3                        0                        1                        0  \n",
       "4                        0                        0                        0  \n",
       "\n",
       "[5 rows x 57 columns]"
      ]
     },
     "execution_count": 34,
     "metadata": {},
     "output_type": "execute_result"
    }
   ],
   "source": [
    "df = pd.read_csv('sample_processed.csv')\n",
    "df.head()"
   ]
  },
  {
   "cell_type": "code",
   "execution_count": 35,
   "id": "732f61a1",
   "metadata": {},
   "outputs": [
    {
     "name": "stdout",
     "output_type": "stream",
     "text": [
      "df shape:  (2905, 57)\n"
     ]
    },
    {
     "data": {
      "text/plain": [
       "average_visits_per_day_domain    1244\n",
       "CLIENT_ID                           0\n",
       "l_41                                0\n",
       "l_30                                0\n",
       "l_31                                0\n",
       "dtype: int64"
      ]
     },
     "execution_count": 35,
     "metadata": {},
     "output_type": "execute_result"
    }
   ],
   "source": [
    "print('df shape: ', df.shape)\n",
    "df.isna().sum().sort_values(ascending=False)[:5]"
   ]
  },
  {
   "cell_type": "markdown",
   "id": "9a46bfc6",
   "metadata": {},
   "source": [
    "Только в одном столбце много НаНов. Причем это столбец по среднему числу визитов. Непонятно, чем его заполнять, заполним 0, чтобы отличать таких пользователей (все остальные значения в этом столбце больше 0)."
   ]
  },
  {
   "cell_type": "code",
   "execution_count": 36,
   "id": "6f452df9",
   "metadata": {},
   "outputs": [],
   "source": [
    "df.average_visits_per_day_domain.fillna(0, inplace=True)"
   ]
  },
  {
   "cell_type": "markdown",
   "id": "696c783b",
   "metadata": {},
   "source": [
    "#### Train-Test-Split"
   ]
  },
  {
   "cell_type": "code",
   "execution_count": 37,
   "id": "044033f3",
   "metadata": {},
   "outputs": [],
   "source": [
    "X = df.drop(['CLIENT_ID', 'TARGET'], axis=1).values\n",
    "y = df.TARGET.values"
   ]
  },
  {
   "cell_type": "code",
   "execution_count": 38,
   "id": "9fefecce",
   "metadata": {},
   "outputs": [],
   "source": [
    "X_train, X_test, y_train, y_test = train_test_split(X, y, stratify=y, test_size=0.3)"
   ]
  },
  {
   "cell_type": "code",
   "execution_count": 39,
   "id": "53bd17d9",
   "metadata": {},
   "outputs": [
    {
     "name": "stdout",
     "output_type": "stream",
     "text": [
      "(2033, 55) (872, 55)\n",
      "Counter({0: 1994, 1: 39})\n",
      "Counter({0: 855, 1: 17})\n"
     ]
    }
   ],
   "source": [
    "print(X_train.shape, X_test.shape)\n",
    "print(Counter(y_train))\n",
    "print(Counter(y_test))"
   ]
  },
  {
   "cell_type": "markdown",
   "id": "c7fadcb9",
   "metadata": {},
   "source": [
    "#### Очень маленький процент Target=1 "
   ]
  },
  {
   "cell_type": "code",
   "execution_count": 40,
   "id": "e23d186d",
   "metadata": {},
   "outputs": [
    {
     "name": "stdout",
     "output_type": "stream",
     "text": [
      "********************\n",
      "Logistic Regression\n",
      "********************\n",
      "              precision    recall  f1-score   support\n",
      "\n",
      "           0       0.98      1.00      0.99       855\n",
      "           1       0.00      0.00      0.00        17\n",
      "\n",
      "    accuracy                           0.98       872\n",
      "   macro avg       0.49      0.50      0.49       872\n",
      "weighted avg       0.96      0.98      0.97       872\n",
      "\n"
     ]
    },
    {
     "data": {
      "image/png": "[encoded data removed]",
      "text/plain": [
       "<Figure size 432x288 with 1 Axes>"
      ]
     },
     "metadata": {
      "needs_background": "light"
     },
     "output_type": "display_data"
    }
   ],
   "source": [
    "model_LR = LogisticRegression().fit(X_train, y_train)\n",
    "preds_LR = model_LR.predict(X_test)\n",
    "prob_preds_LR = model_LR.predict_proba(X_test)[::,1]\n",
    "\n",
    "print('*'*20)\n",
    "print(\"Logistic Regression\")\n",
    "print('*'*20)\n",
    "print(classification_report(y_test, preds_LR,zero_division=1))\n",
    "sns.heatmap(confusion_matrix(y_test, preds_LR), annot=True, annot_kws={\"size\": 12}, fmt='g', cbar=False);"
   ]
  },
  {
   "cell_type": "code",
   "execution_count": null,
   "id": "861f79c1",
   "metadata": {},
   "outputs": [],
   "source": []
  },
  {
   "cell_type": "code",
   "execution_count": null,
   "id": "df22a7cf",
   "metadata": {},
   "outputs": [],
   "source": []
  },
  {
   "cell_type": "code",
   "execution_count": 41,
   "id": "e648d861",
   "metadata": {},
   "outputs": [
    {
     "name": "stdout",
     "output_type": "stream",
     "text": [
      "********************\n",
      "Balanced Random Forest\n",
      "********************\n",
      "              precision    recall  f1-score   support\n",
      "\n",
      "           0       0.99      0.51      0.67       855\n",
      "           1       0.03      0.65      0.05        17\n",
      "\n",
      "    accuracy                           0.51       872\n",
      "   macro avg       0.51      0.58      0.36       872\n",
      "weighted avg       0.97      0.51      0.66       872\n",
      "\n"
     ]
    },
    {
     "data": {
      "image/png": "[encoded data removed]",
      "text/plain": [
       "<Figure size 432x288 with 1 Axes>"
      ]
     },
     "metadata": {
      "needs_background": "light"
     },
     "output_type": "display_data"
    }
   ],
   "source": [
    "model_BRF = BalancedRandomForestClassifier().fit(X_train, y_train)\n",
    "preds_BRF = model_BRF.predict(X_test)\n",
    "prob_preds_BRF = model_BRF.predict_proba(X_test)[::,1]\n",
    "\n",
    "print('*'*20)\n",
    "print(\"Balanced Random Forest\")\n",
    "print('*'*20)\n",
    "print(classification_report(y_test, preds_BRF, zero_division=1))\n",
    "sns.heatmap(confusion_matrix(y_test, preds_BRF), annot=True, annot_kws={\"size\": 12}, fmt='g', cbar=False);"
   ]
  },
  {
   "cell_type": "code",
   "execution_count": null,
   "id": "7b739105",
   "metadata": {},
   "outputs": [],
   "source": []
  },
  {
   "cell_type": "code",
   "execution_count": 42,
   "id": "4fe13f4b",
   "metadata": {},
   "outputs": [
    {
     "name": "stdout",
     "output_type": "stream",
     "text": [
      "********************\n",
      "Imblearn RUSBoost\n",
      "********************\n",
      "              precision    recall  f1-score   support\n",
      "\n",
      "           0       0.99      0.56      0.72       855\n",
      "           1       0.03      0.76      0.06        17\n",
      "\n",
      "    accuracy                           0.56       872\n",
      "   macro avg       0.51      0.66      0.39       872\n",
      "weighted avg       0.97      0.56      0.70       872\n",
      "\n"
     ]
    },
    {
     "data": {
      "image/png": "[encoded data removed]",
      "text/plain": [
       "<Figure size 432x288 with 1 Axes>"
      ]
     },
     "metadata": {
      "needs_background": "light"
     },
     "output_type": "display_data"
    }
   ],
   "source": [
    "model_RUSBoost = RUSBoostClassifier(n_estimators=200, algorithm='SAMME.R',\n",
    "                                    random_state=0).fit(X_train, y_train)\n",
    "\n",
    "preds_RUSBoost = model_RUSBoost.predict(X_test)\n",
    "prob_preds_RUSBoost = model_RUSBoost.predict_proba(X_test)[::,1]\n",
    "\n",
    "print('*'*20)\n",
    "print(\"Imblearn RUSBoost\")\n",
    "print('*'*20)\n",
    "print(classification_report(y_test, preds_RUSBoost, zero_division=1))\n",
    "sns.heatmap(confusion_matrix(y_test, preds_RUSBoost), annot=True, annot_kws={\"size\": 12}, fmt='g', cbar=False);"
   ]
  },
  {
   "cell_type": "code",
   "execution_count": null,
   "id": "de1cb86b",
   "metadata": {},
   "outputs": [],
   "source": []
  },
  {
   "cell_type": "code",
   "execution_count": 43,
   "id": "a3343f47",
   "metadata": {},
   "outputs": [
    {
     "data": {
      "text/plain": [
       "52.128205128205124"
      ]
     },
     "execution_count": 43,
     "metadata": {},
     "output_type": "execute_result"
    }
   ],
   "source": [
    "1 / y_train.mean()"
   ]
  },
  {
   "cell_type": "code",
   "execution_count": 44,
   "id": "df1199e2",
   "metadata": {},
   "outputs": [
    {
     "name": "stdout",
     "output_type": "stream",
     "text": [
      "[17:38:24] WARNING: C:/Users/Administrator/workspace/xgboost-win64_release_1.4.0/src/learner.cc:1095: Starting in XGBoost 1.3.0, the default evaluation metric used with the objective 'binary:logistic' was changed from 'error' to 'logloss'. Explicitly set eval_metric if you'd like to restore the old behavior.\n",
      "********************\n",
      "Random Forest\n",
      "********************\n",
      "              precision    recall  f1-score   support\n",
      "\n",
      "           0       0.99      0.67      0.80       855\n",
      "           1       0.03      0.59      0.07        17\n",
      "\n",
      "    accuracy                           0.67       872\n",
      "   macro avg       0.51      0.63      0.43       872\n",
      "weighted avg       0.97      0.67      0.79       872\n",
      "\n"
     ]
    },
    {
     "data": {
      "image/png": "[encoded data removed]",
      "text/plain": [
       "<Figure size 432x288 with 1 Axes>"
      ]
     },
     "metadata": {
      "needs_background": "light"
     },
     "output_type": "display_data"
    }
   ],
   "source": [
    "model_XGB = XGBRFClassifier(scale_pos_weight=50, use_label_encoder=False).fit(X_train, y_train)\n",
    "preds_XGB = model_XGB.predict(X_test)\n",
    "prob_preds_XGB = model_XGB.predict_proba(X_test)[::,1]\n",
    "\n",
    "print('*'*20)\n",
    "print(\"XGB Classifier\")\n",
    "print('*'*20)\n",
    "print(classification_report(y_test, preds_XGB, zero_division=1))\n",
    "sns.heatmap(confusion_matrix(y_test, preds_XGB), annot=True, annot_kws={\"size\": 12}, fmt='g', cbar=False);"
   ]
  },
  {
   "cell_type": "code",
   "execution_count": null,
   "id": "d8c71c34",
   "metadata": {},
   "outputs": [],
   "source": []
  },
  {
   "cell_type": "code",
   "execution_count": 46,
   "id": "d58c5bf1",
   "metadata": {},
   "outputs": [
    {
     "name": "stdout",
     "output_type": "stream",
     "text": [
      "********************\n",
      "RF Classifier\n",
      "********************\n",
      "              precision    recall  f1-score   support\n",
      "\n",
      "           0       0.98      0.83      0.90       855\n",
      "           1       0.03      0.29      0.06        17\n",
      "\n",
      "    accuracy                           0.82       872\n",
      "   macro avg       0.51      0.56      0.48       872\n",
      "weighted avg       0.96      0.82      0.88       872\n",
      "\n"
     ]
    },
    {
     "data": {
      "image/png": "[encoded data removed]",
      "text/plain": [
       "<Figure size 432x288 with 1 Axes>"
      ]
     },
     "metadata": {
      "needs_background": "light"
     },
     "output_type": "display_data"
    }
   ],
   "source": [
    "model_RF = RandomForestClassifier(class_weight=\"balanced_subsample\").fit(X_train, y_train)\n",
    "preds_RF = model_RF.predict(X_test)\n",
    "prob_preds_RF = model_RF.predict_proba(X_test)[::,1]\n",
    "\n",
    "print('*'*20)\n",
    "print(\"RF Classifier\")\n",
    "print('*'*20)\n",
    "print(classification_report(y_test, preds_RF, zero_division=1))\n",
    "sns.heatmap(confusion_matrix(y_test, preds_RF), annot=True, annot_kws={\"size\": 12}, fmt='g', cbar=False);"
   ]
  },
  {
   "cell_type": "code",
   "execution_count": null,
   "id": "3c393f19",
   "metadata": {},
   "outputs": [],
   "source": []
  },
  {
   "cell_type": "code",
   "execution_count": null,
   "id": "b7f9ef19",
   "metadata": {},
   "outputs": [],
   "source": []
  },
  {
   "cell_type": "code",
   "execution_count": 51,
   "id": "7428cf79",
   "metadata": {},
   "outputs": [
    {
     "name": "stdout",
     "output_type": "stream",
     "text": [
      "               model ROC_AUC\n",
      "    LinearRegression 0.6424148606811145\n",
      "BalancedRandomForest 0.6158582731338149\n",
      "        RandomForest 0.6543171654626763\n",
      "             XGBoost 0.6858617131062952\n",
      " Imbalanced RUSBoost 0.6542139662882697\n"
     ]
    },
    {
     "data": {
      "text/plain": [
       "<matplotlib.legend.Legend at 0x2dbcc850>"
      ]
     },
     "execution_count": 51,
     "metadata": {},
     "output_type": "execute_result"
    },
    {
     "data": {
      "image/png": "[encoded data removed]",
      "text/plain": [
       "<Figure size 1152x360 with 2 Axes>"
      ]
     },
     "metadata": {
      "needs_background": "light"
     },
     "output_type": "display_data"
    }
   ],
   "source": [
    "_, ax = plt.subplots(1, 2, figsize=(16, 5))\n",
    "\n",
    "models = ['LinearRegression', 'BalancedRandomForest', 'RandomForest', 'XGBoost', 'Imbalanced RUSBoost']\n",
    "preds = [prob_preds_LR, prob_preds_BRF, prob_preds_RF, prob_preds_XGB, prob_preds_RUSBoost]\n",
    "colors = 'rcbgm'\n",
    "\n",
    "ax[0].plot([0, 1], [0, 1], ls='--', label='Random', c='k')\n",
    "\n",
    "print(f\"{'model':>20} {'ROC_AUC'}\")\n",
    "for model, pred, c in zip(models, preds, colors):\n",
    "    print(f\"{model:>20} {roc_auc_score(y_test, pred)}\")\n",
    "    fpr, tpr, _ = roc_curve(y_test, pred)\n",
    "    ax[0].plot(fpr, tpr, label=model, c=c)\n",
    "    \n",
    "    precision, recall, thresholds = precision_recall_curve(y_test, pred)\n",
    "    ax[1].plot(recall, precision, label=model, c=c)\n",
    "\n",
    "\n",
    "ax[0].set_ylabel('True Positive Rate')\n",
    "ax[0].set_xlabel('False Positive Rate')\n",
    "ax[1].set_ylabel('Precision')\n",
    "ax[1].set_xlabel('Recall')\n",
    "\n",
    "ax[0].legend(ncol=2)\n",
    "ax[1].legend()"
   ]
  },
  {
   "cell_type": "code",
   "execution_count": 62,
   "id": "ad8e6b73",
   "metadata": {},
   "outputs": [],
   "source": [
    "plt.rcParams.update({'font.size': 12})\n"
   ]
  },
  {
   "cell_type": "code",
   "execution_count": 63,
   "id": "8fba45d4",
   "metadata": {},
   "outputs": [
    {
     "data": {
      "text/plain": [
       "<AxesSubplot:>"
      ]
     },
     "execution_count": 63,
     "metadata": {},
     "output_type": "execute_result"
    },
    {
     "data": {
      "image/png": "[encoded data removed]",
      "text/plain": [
       "<Figure size 432x288 with 1 Axes>"
      ]
     },
     "metadata": {
      "needs_background": "light"
     },
     "output_type": "display_data"
    }
   ],
   "source": [
    "sns.heatmap(confusion_matrix(y_test, preds_RUSBoost), annot=True, annot_kws={\"fontsize\": 14}, fmt='g', cbar=False)\n"
   ]
  },
  {
   "cell_type": "code",
   "execution_count": null,
   "id": "9cf23454",
   "metadata": {},
   "outputs": [],
   "source": []
  },
  {
   "cell_type": "code",
   "execution_count": null,
   "id": "b5144e1a",
   "metadata": {},
   "outputs": [],
   "source": []
  },
  {
   "cell_type": "code",
   "execution_count": null,
   "id": "88b322b1",
   "metadata": {},
   "outputs": [],
   "source": []
  },
  {
   "cell_type": "code",
   "execution_count": null,
   "id": "2a93d130",
   "metadata": {},
   "outputs": [],
   "source": []
  },
  {
   "cell_type": "code",
   "execution_count": null,
   "id": "f604caa8",
   "metadata": {},
   "outputs": [],
   "source": []
  }
 ],
 "metadata": {
  "kernelspec": {
   "display_name": "Python 3 (ipykernel)",
   "language": "python",
   "name": "python3"
  },
  "language_info": {
   "codemirror_mode": {
    "name": "ipython",
    "version": 3
   },
   "file_extension": ".py",
   "mimetype": "text/x-python",
   "name": "python",
   "nbconvert_exporter": "python",
   "pygments_lexer": "ipython3",
   "version": "3.8.10"
  }
 },
 "nbformat": 4,
 "nbformat_minor": 5
}
