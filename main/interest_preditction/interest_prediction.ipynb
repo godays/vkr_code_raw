{
 "cells": [
  {
   "cell_type": "code",
   "execution_count": 27,
   "id": "f04688f1",
   "metadata": {},
   "outputs": [],
   "source": [
    "import pandas as pd\n",
    "from collections import Counter\n",
    "\n",
    "import matplotlib.pyplot as plt\n",
    "import seaborn as sns\n",
    "\n",
    "from sklearn.model_selection import train_test_split\n",
    "from sklearn.metrics import classification_report, confusion_matrix, roc_curve, precision_recall_curve\n",
    "\n",
    "from sklearn.linear_model import LogisticRegression\n",
    "from sklearn.tree import DecisionTreeClassifier\n",
    "from sklearn.ensemble import RandomForestClassifier\n",
    "from imblearn.ensemble import BalancedRandomForestClassifier\n",
    "from xgboost import XGBRFClassifier"
   ]
  },
  {
   "cell_type": "code",
   "execution_count": 28,
   "id": "a606f1e0",
   "metadata": {},
   "outputs": [
    {
     "data": {
      "text/html": [
       "<div>\n",
       "<style scoped>\n",
       "    .dataframe tbody tr th:only-of-type {\n",
       "        vertical-align: middle;\n",
       "    }\n",
       "\n",
       "    .dataframe tbody tr th {\n",
       "        vertical-align: top;\n",
       "    }\n",
       "\n",
       "    .dataframe thead th {\n",
       "        text-align: right;\n",
       "    }\n",
       "</style>\n",
       "<table border=\"1\" class=\"dataframe\">\n",
       "  <thead>\n",
       "    <tr style=\"text-align: right;\">\n",
       "      <th></th>\n",
       "      <th>CLIENT_ID</th>\n",
       "      <th>TARGET</th>\n",
       "      <th>total_visits_domain</th>\n",
       "      <th>n1_active_days_domain</th>\n",
       "      <th>n2_active_days_domain</th>\n",
       "      <th>n3_active_days_domain</th>\n",
       "      <th>average_visits_per_day_domain</th>\n",
       "      <th>visits_1_day_ago_domain</th>\n",
       "      <th>visits_2_day_ago_domain</th>\n",
       "      <th>visits_3_day_ago_domain</th>\n",
       "    </tr>\n",
       "  </thead>\n",
       "  <tbody>\n",
       "    <tr>\n",
       "      <th>0</th>\n",
       "      <td>u_1</td>\n",
       "      <td>0</td>\n",
       "      <td>1</td>\n",
       "      <td>0</td>\n",
       "      <td>0</td>\n",
       "      <td>0</td>\n",
       "      <td>NaN</td>\n",
       "      <td>0</td>\n",
       "      <td>0</td>\n",
       "      <td>1</td>\n",
       "    </tr>\n",
       "    <tr>\n",
       "      <th>1</th>\n",
       "      <td>u_2</td>\n",
       "      <td>0</td>\n",
       "      <td>5</td>\n",
       "      <td>2</td>\n",
       "      <td>1</td>\n",
       "      <td>0</td>\n",
       "      <td>2.5</td>\n",
       "      <td>2</td>\n",
       "      <td>0</td>\n",
       "      <td>0</td>\n",
       "    </tr>\n",
       "    <tr>\n",
       "      <th>2</th>\n",
       "      <td>u_3</td>\n",
       "      <td>0</td>\n",
       "      <td>3</td>\n",
       "      <td>1</td>\n",
       "      <td>0</td>\n",
       "      <td>0</td>\n",
       "      <td>2.0</td>\n",
       "      <td>0</td>\n",
       "      <td>2</td>\n",
       "      <td>0</td>\n",
       "    </tr>\n",
       "    <tr>\n",
       "      <th>3</th>\n",
       "      <td>u_4</td>\n",
       "      <td>0</td>\n",
       "      <td>13</td>\n",
       "      <td>2</td>\n",
       "      <td>1</td>\n",
       "      <td>1</td>\n",
       "      <td>5.0</td>\n",
       "      <td>0</td>\n",
       "      <td>1</td>\n",
       "      <td>0</td>\n",
       "    </tr>\n",
       "    <tr>\n",
       "      <th>4</th>\n",
       "      <td>u_5</td>\n",
       "      <td>0</td>\n",
       "      <td>1</td>\n",
       "      <td>0</td>\n",
       "      <td>0</td>\n",
       "      <td>0</td>\n",
       "      <td>NaN</td>\n",
       "      <td>0</td>\n",
       "      <td>0</td>\n",
       "      <td>0</td>\n",
       "    </tr>\n",
       "  </tbody>\n",
       "</table>\n",
       "</div>"
      ],
      "text/plain": [
       "  CLIENT_ID  TARGET  total_visits_domain  n1_active_days_domain  \\\n",
       "0       u_1       0                    1                      0   \n",
       "1       u_2       0                    5                      2   \n",
       "2       u_3       0                    3                      1   \n",
       "3       u_4       0                   13                      2   \n",
       "4       u_5       0                    1                      0   \n",
       "\n",
       "   n2_active_days_domain  n3_active_days_domain  \\\n",
       "0                      0                      0   \n",
       "1                      1                      0   \n",
       "2                      0                      0   \n",
       "3                      1                      1   \n",
       "4                      0                      0   \n",
       "\n",
       "   average_visits_per_day_domain  visits_1_day_ago_domain  \\\n",
       "0                            NaN                        0   \n",
       "1                            2.5                        2   \n",
       "2                            2.0                        0   \n",
       "3                            5.0                        0   \n",
       "4                            NaN                        0   \n",
       "\n",
       "   visits_2_day_ago_domain  visits_3_day_ago_domain  \n",
       "0                        0                        1  \n",
       "1                        0                        0  \n",
       "2                        2                        0  \n",
       "3                        1                        0  \n",
       "4                        0                        0  "
      ]
     },
     "execution_count": 28,
     "metadata": {},
     "output_type": "execute_result"
    }
   ],
   "source": [
    "df = pd.read_csv('sample_processed.csv')\n",
    "df.head()"
   ]
  },
  {
   "cell_type": "code",
   "execution_count": 29,
   "id": "22b14aba",
   "metadata": {},
   "outputs": [
    {
     "data": {
      "text/html": [
       "<div>\n",
       "<style scoped>\n",
       "    .dataframe tbody tr th:only-of-type {\n",
       "        vertical-align: middle;\n",
       "    }\n",
       "\n",
       "    .dataframe tbody tr th {\n",
       "        vertical-align: top;\n",
       "    }\n",
       "\n",
       "    .dataframe thead th {\n",
       "        text-align: right;\n",
       "    }\n",
       "</style>\n",
       "<table border=\"1\" class=\"dataframe\">\n",
       "  <thead>\n",
       "    <tr style=\"text-align: right;\">\n",
       "      <th></th>\n",
       "      <th>TARGET</th>\n",
       "      <th>total_visits_domain</th>\n",
       "      <th>n1_active_days_domain</th>\n",
       "      <th>n2_active_days_domain</th>\n",
       "      <th>n3_active_days_domain</th>\n",
       "      <th>average_visits_per_day_domain</th>\n",
       "      <th>visits_1_day_ago_domain</th>\n",
       "      <th>visits_2_day_ago_domain</th>\n",
       "      <th>visits_3_day_ago_domain</th>\n",
       "    </tr>\n",
       "  </thead>\n",
       "  <tbody>\n",
       "    <tr>\n",
       "      <th>TARGET</th>\n",
       "      <td>1.000000</td>\n",
       "      <td>-0.014827</td>\n",
       "      <td>-0.021227</td>\n",
       "      <td>-0.017718</td>\n",
       "      <td>-0.017014</td>\n",
       "      <td>0.005642</td>\n",
       "      <td>-0.006802</td>\n",
       "      <td>0.040554</td>\n",
       "      <td>-0.024247</td>\n",
       "    </tr>\n",
       "    <tr>\n",
       "      <th>total_visits_domain</th>\n",
       "      <td>-0.014827</td>\n",
       "      <td>1.000000</td>\n",
       "      <td>0.861424</td>\n",
       "      <td>0.862826</td>\n",
       "      <td>0.837921</td>\n",
       "      <td>0.486361</td>\n",
       "      <td>0.491758</td>\n",
       "      <td>0.338130</td>\n",
       "      <td>0.316803</td>\n",
       "    </tr>\n",
       "    <tr>\n",
       "      <th>n1_active_days_domain</th>\n",
       "      <td>-0.021227</td>\n",
       "      <td>0.861424</td>\n",
       "      <td>1.000000</td>\n",
       "      <td>0.795448</td>\n",
       "      <td>0.683506</td>\n",
       "      <td>0.046781</td>\n",
       "      <td>0.406348</td>\n",
       "      <td>0.272830</td>\n",
       "      <td>0.252466</td>\n",
       "    </tr>\n",
       "    <tr>\n",
       "      <th>n2_active_days_domain</th>\n",
       "      <td>-0.017718</td>\n",
       "      <td>0.862826</td>\n",
       "      <td>0.795448</td>\n",
       "      <td>1.000000</td>\n",
       "      <td>0.851031</td>\n",
       "      <td>0.403410</td>\n",
       "      <td>0.422085</td>\n",
       "      <td>0.297669</td>\n",
       "      <td>0.273187</td>\n",
       "    </tr>\n",
       "    <tr>\n",
       "      <th>n3_active_days_domain</th>\n",
       "      <td>-0.017014</td>\n",
       "      <td>0.837921</td>\n",
       "      <td>0.683506</td>\n",
       "      <td>0.851031</td>\n",
       "      <td>1.000000</td>\n",
       "      <td>0.524340</td>\n",
       "      <td>0.441018</td>\n",
       "      <td>0.288884</td>\n",
       "      <td>0.232643</td>\n",
       "    </tr>\n",
       "    <tr>\n",
       "      <th>average_visits_per_day_domain</th>\n",
       "      <td>0.005642</td>\n",
       "      <td>0.486361</td>\n",
       "      <td>0.046781</td>\n",
       "      <td>0.403410</td>\n",
       "      <td>0.524340</td>\n",
       "      <td>1.000000</td>\n",
       "      <td>0.259239</td>\n",
       "      <td>0.177420</td>\n",
       "      <td>0.116665</td>\n",
       "    </tr>\n",
       "    <tr>\n",
       "      <th>visits_1_day_ago_domain</th>\n",
       "      <td>-0.006802</td>\n",
       "      <td>0.491758</td>\n",
       "      <td>0.406348</td>\n",
       "      <td>0.422085</td>\n",
       "      <td>0.441018</td>\n",
       "      <td>0.259239</td>\n",
       "      <td>1.000000</td>\n",
       "      <td>0.038736</td>\n",
       "      <td>-0.017881</td>\n",
       "    </tr>\n",
       "    <tr>\n",
       "      <th>visits_2_day_ago_domain</th>\n",
       "      <td>0.040554</td>\n",
       "      <td>0.338130</td>\n",
       "      <td>0.272830</td>\n",
       "      <td>0.297669</td>\n",
       "      <td>0.288884</td>\n",
       "      <td>0.177420</td>\n",
       "      <td>0.038736</td>\n",
       "      <td>1.000000</td>\n",
       "      <td>0.077436</td>\n",
       "    </tr>\n",
       "    <tr>\n",
       "      <th>visits_3_day_ago_domain</th>\n",
       "      <td>-0.024247</td>\n",
       "      <td>0.316803</td>\n",
       "      <td>0.252466</td>\n",
       "      <td>0.273187</td>\n",
       "      <td>0.232643</td>\n",
       "      <td>0.116665</td>\n",
       "      <td>-0.017881</td>\n",
       "      <td>0.077436</td>\n",
       "      <td>1.000000</td>\n",
       "    </tr>\n",
       "  </tbody>\n",
       "</table>\n",
       "</div>"
      ],
      "text/plain": [
       "                                 TARGET  total_visits_domain  \\\n",
       "TARGET                         1.000000            -0.014827   \n",
       "total_visits_domain           -0.014827             1.000000   \n",
       "n1_active_days_domain         -0.021227             0.861424   \n",
       "n2_active_days_domain         -0.017718             0.862826   \n",
       "n3_active_days_domain         -0.017014             0.837921   \n",
       "average_visits_per_day_domain  0.005642             0.486361   \n",
       "visits_1_day_ago_domain       -0.006802             0.491758   \n",
       "visits_2_day_ago_domain        0.040554             0.338130   \n",
       "visits_3_day_ago_domain       -0.024247             0.316803   \n",
       "\n",
       "                               n1_active_days_domain  n2_active_days_domain  \\\n",
       "TARGET                                     -0.021227              -0.017718   \n",
       "total_visits_domain                         0.861424               0.862826   \n",
       "n1_active_days_domain                       1.000000               0.795448   \n",
       "n2_active_days_domain                       0.795448               1.000000   \n",
       "n3_active_days_domain                       0.683506               0.851031   \n",
       "average_visits_per_day_domain               0.046781               0.403410   \n",
       "visits_1_day_ago_domain                     0.406348               0.422085   \n",
       "visits_2_day_ago_domain                     0.272830               0.297669   \n",
       "visits_3_day_ago_domain                     0.252466               0.273187   \n",
       "\n",
       "                               n3_active_days_domain  \\\n",
       "TARGET                                     -0.017014   \n",
       "total_visits_domain                         0.837921   \n",
       "n1_active_days_domain                       0.683506   \n",
       "n2_active_days_domain                       0.851031   \n",
       "n3_active_days_domain                       1.000000   \n",
       "average_visits_per_day_domain               0.524340   \n",
       "visits_1_day_ago_domain                     0.441018   \n",
       "visits_2_day_ago_domain                     0.288884   \n",
       "visits_3_day_ago_domain                     0.232643   \n",
       "\n",
       "                               average_visits_per_day_domain  \\\n",
       "TARGET                                              0.005642   \n",
       "total_visits_domain                                 0.486361   \n",
       "n1_active_days_domain                               0.046781   \n",
       "n2_active_days_domain                               0.403410   \n",
       "n3_active_days_domain                               0.524340   \n",
       "average_visits_per_day_domain                       1.000000   \n",
       "visits_1_day_ago_domain                             0.259239   \n",
       "visits_2_day_ago_domain                             0.177420   \n",
       "visits_3_day_ago_domain                             0.116665   \n",
       "\n",
       "                               visits_1_day_ago_domain  \\\n",
       "TARGET                                       -0.006802   \n",
       "total_visits_domain                           0.491758   \n",
       "n1_active_days_domain                         0.406348   \n",
       "n2_active_days_domain                         0.422085   \n",
       "n3_active_days_domain                         0.441018   \n",
       "average_visits_per_day_domain                 0.259239   \n",
       "visits_1_day_ago_domain                       1.000000   \n",
       "visits_2_day_ago_domain                       0.038736   \n",
       "visits_3_day_ago_domain                      -0.017881   \n",
       "\n",
       "                               visits_2_day_ago_domain  \\\n",
       "TARGET                                        0.040554   \n",
       "total_visits_domain                           0.338130   \n",
       "n1_active_days_domain                         0.272830   \n",
       "n2_active_days_domain                         0.297669   \n",
       "n3_active_days_domain                         0.288884   \n",
       "average_visits_per_day_domain                 0.177420   \n",
       "visits_1_day_ago_domain                       0.038736   \n",
       "visits_2_day_ago_domain                       1.000000   \n",
       "visits_3_day_ago_domain                       0.077436   \n",
       "\n",
       "                               visits_3_day_ago_domain  \n",
       "TARGET                                       -0.024247  \n",
       "total_visits_domain                           0.316803  \n",
       "n1_active_days_domain                         0.252466  \n",
       "n2_active_days_domain                         0.273187  \n",
       "n3_active_days_domain                         0.232643  \n",
       "average_visits_per_day_domain                 0.116665  \n",
       "visits_1_day_ago_domain                      -0.017881  \n",
       "visits_2_day_ago_domain                       0.077436  \n",
       "visits_3_day_ago_domain                       1.000000  "
      ]
     },
     "execution_count": 29,
     "metadata": {},
     "output_type": "execute_result"
    }
   ],
   "source": [
    "df.corr()"
   ]
  },
  {
   "cell_type": "code",
   "execution_count": 30,
   "id": "732f61a1",
   "metadata": {},
   "outputs": [
    {
     "name": "stdout",
     "output_type": "stream",
     "text": [
      "df shape:  (2905, 10)\n"
     ]
    },
    {
     "data": {
      "text/plain": [
       "average_visits_per_day_domain    1244\n",
       "CLIENT_ID                           0\n",
       "TARGET                              0\n",
       "total_visits_domain                 0\n",
       "n1_active_days_domain               0\n",
       "dtype: int64"
      ]
     },
     "execution_count": 30,
     "metadata": {},
     "output_type": "execute_result"
    }
   ],
   "source": [
    "print('df shape: ', df.shape)\n",
    "df.isna().sum().sort_values(ascending=False)[:5]"
   ]
  },
  {
   "cell_type": "markdown",
   "id": "9a46bfc6",
   "metadata": {},
   "source": [
    "Только в одном столбце много НаНов. Причем это столбец по среднему числу визитов. Непонятно, чем его заполнять, заполним 0, чтобы отличать таких пользователей (все остальные значения в этом столбце больше 0)."
   ]
  },
  {
   "cell_type": "code",
   "execution_count": 31,
   "id": "6f452df9",
   "metadata": {},
   "outputs": [],
   "source": [
    "df.average_visits_per_day_domain.fillna(0, inplace=True)"
   ]
  },
  {
   "cell_type": "markdown",
   "id": "696c783b",
   "metadata": {},
   "source": [
    "#### Train-Test-Split"
   ]
  },
  {
   "cell_type": "code",
   "execution_count": 32,
   "id": "044033f3",
   "metadata": {},
   "outputs": [],
   "source": [
    "X = df.drop(['CLIENT_ID', 'TARGET'], axis=1).values\n",
    "y = df.TARGET.values"
   ]
  },
  {
   "cell_type": "code",
   "execution_count": 33,
   "id": "9fefecce",
   "metadata": {},
   "outputs": [],
   "source": [
    "X_train, X_test, y_train, y_test = train_test_split(X, y, stratify=y, test_size=0.3)"
   ]
  },
  {
   "cell_type": "code",
   "execution_count": 34,
   "id": "53bd17d9",
   "metadata": {},
   "outputs": [
    {
     "name": "stdout",
     "output_type": "stream",
     "text": [
      "(2033, 8) (872, 8)\n",
      "Counter({0: 1994, 1: 39})\n",
      "Counter({0: 855, 1: 17})\n"
     ]
    }
   ],
   "source": [
    "print(X_train.shape, X_test.shape)\n",
    "print(Counter(y_train))\n",
    "print(Counter(y_test))"
   ]
  },
  {
   "cell_type": "markdown",
   "id": "c7fadcb9",
   "metadata": {},
   "source": [
    "#### Очень маленький процент Target=1 "
   ]
  },
  {
   "cell_type": "code",
   "execution_count": 35,
   "id": "e23d186d",
   "metadata": {},
   "outputs": [
    {
     "name": "stdout",
     "output_type": "stream",
     "text": [
      "********************\n",
      "Logistic Regression\n",
      "********************\n",
      "              precision    recall  f1-score   support\n",
      "\n",
      "           0       0.98      1.00      0.99       855\n",
      "           1       1.00      0.00      0.00        17\n",
      "\n",
      "    accuracy                           0.98       872\n",
      "   macro avg       0.99      0.50      0.50       872\n",
      "weighted avg       0.98      0.98      0.97       872\n",
      "\n"
     ]
    },
    {
     "data": {
      "image/png": "[encoded data removed]",
      "text/plain": [
       "<Figure size 432x288 with 1 Axes>"
      ]
     },
     "metadata": {
      "needs_background": "light"
     },
     "output_type": "display_data"
    }
   ],
   "source": [
    "model_LR = LogisticRegression().fit(X_train, y_train)\n",
    "preds_LR = model_LR.predict(X_test)\n",
    "prob_preds_LR = model_LR.predict_proba(X_test)[::,1]\n",
    "\n",
    "print('*'*20)\n",
    "print(\"Logistic Regression\")\n",
    "print('*'*20)\n",
    "print(classification_report(y_test, preds_LR,zero_division=1))\n",
    "sns.heatmap(confusion_matrix(y_test, preds_LR), annot=True, annot_kws={\"size\": 12}, fmt='g', cbar=False);"
   ]
  },
  {
   "cell_type": "code",
   "execution_count": null,
   "id": "861f79c1",
   "metadata": {},
   "outputs": [],
   "source": []
  },
  {
   "cell_type": "code",
   "execution_count": 36,
   "id": "1dfd6590",
   "metadata": {},
   "outputs": [
    {
     "name": "stdout",
     "output_type": "stream",
     "text": [
      "********************\n",
      "Random Forest\n",
      "********************\n",
      "              precision    recall  f1-score   support\n",
      "\n",
      "           0       0.98      1.00      0.99       855\n",
      "           1       0.00      0.00      0.00        17\n",
      "\n",
      "    accuracy                           0.98       872\n",
      "   macro avg       0.49      0.50      0.49       872\n",
      "weighted avg       0.96      0.98      0.97       872\n",
      "\n"
     ]
    },
    {
     "data": {
      "image/png": "[encoded data removed]",
      "text/plain": [
       "<Figure size 432x288 with 1 Axes>"
      ]
     },
     "metadata": {
      "needs_background": "light"
     },
     "output_type": "display_data"
    }
   ],
   "source": [
    "model_RF = RandomForestClassifier().fit(X_train, y_train)\n",
    "preds_RF = model_RF.predict(X_test)\n",
    "prob_preds_RF = model_RF.predict_proba(X_test)[::,1]\n",
    "\n",
    "print('*'*20)\n",
    "print(\"Random Forest\")\n",
    "print('*'*20)\n",
    "print(classification_report(y_test, preds_RF, zero_division=1))\n",
    "sns.heatmap(confusion_matrix(y_test, preds_RF), annot=True, annot_kws={\"size\": 12}, fmt='g', cbar=False);"
   ]
  },
  {
   "cell_type": "code",
   "execution_count": null,
   "id": "df22a7cf",
   "metadata": {},
   "outputs": [],
   "source": []
  },
  {
   "cell_type": "code",
   "execution_count": 37,
   "id": "e648d861",
   "metadata": {},
   "outputs": [
    {
     "name": "stdout",
     "output_type": "stream",
     "text": [
      "********************\n",
      "Balanced Random Forest\n",
      "********************\n",
      "              precision    recall  f1-score   support\n",
      "\n",
      "           0       0.98      1.00      0.99       855\n",
      "           1       0.00      0.00      0.00        17\n",
      "\n",
      "    accuracy                           0.98       872\n",
      "   macro avg       0.49      0.50      0.49       872\n",
      "weighted avg       0.96      0.98      0.97       872\n",
      "\n"
     ]
    },
    {
     "data": {
      "image/png": "[encoded data removed]",
      "text/plain": [
       "<Figure size 432x288 with 1 Axes>"
      ]
     },
     "metadata": {
      "needs_background": "light"
     },
     "output_type": "display_data"
    }
   ],
   "source": [
    "model_BRF = BalancedRandomForestClassifier().fit(X_train, y_train)\n",
    "preds_BRF = model_RF.predict(X_test)\n",
    "prob_preds_BRF = model_BRF.predict_proba(X_test)[::,1]\n",
    "\n",
    "print('*'*20)\n",
    "print(\"Balanced Random Forest\")\n",
    "print('*'*20)\n",
    "print(classification_report(y_test, preds_BRF, zero_division=1))\n",
    "sns.heatmap(confusion_matrix(y_test, preds_BRF), annot=True, annot_kws={\"size\": 12}, fmt='g', cbar=False);"
   ]
  },
  {
   "cell_type": "code",
   "execution_count": null,
   "id": "7b739105",
   "metadata": {},
   "outputs": [],
   "source": []
  },
  {
   "cell_type": "code",
   "execution_count": 38,
   "id": "a3343f47",
   "metadata": {},
   "outputs": [
    {
     "data": {
      "text/plain": [
       "52.128205128205124"
      ]
     },
     "execution_count": 38,
     "metadata": {},
     "output_type": "execute_result"
    }
   ],
   "source": [
    "1 / y_train.mean()"
   ]
  },
  {
   "cell_type": "code",
   "execution_count": 39,
   "id": "df1199e2",
   "metadata": {},
   "outputs": [
    {
     "name": "stdout",
     "output_type": "stream",
     "text": [
      "[13:06:42] WARNING: C:/Users/Administrator/workspace/xgboost-win64_release_1.4.0/src/learner.cc:1095: Starting in XGBoost 1.3.0, the default evaluation metric used with the objective 'binary:logistic' was changed from 'error' to 'logloss'. Explicitly set eval_metric if you'd like to restore the old behavior.\n",
      "********************\n",
      "Random Forest\n",
      "********************\n",
      "              precision    recall  f1-score   support\n",
      "\n",
      "           0       0.99      0.62      0.76       855\n",
      "           1       0.03      0.53      0.05        17\n",
      "\n",
      "    accuracy                           0.62       872\n",
      "   macro avg       0.51      0.58      0.41       872\n",
      "weighted avg       0.97      0.62      0.75       872\n",
      "\n"
     ]
    },
    {
     "data": {
      "image/png": "[encoded data removed]",
      "text/plain": [
       "<Figure size 432x288 with 1 Axes>"
      ]
     },
     "metadata": {
      "needs_background": "light"
     },
     "output_type": "display_data"
    }
   ],
   "source": [
    "model_XGB = XGBRFClassifier(scale_pos_weight=50, use_label_encoder=False).fit(X_train, y_train)\n",
    "preds_XGB = model_XGB.predict(X_test)\n",
    "prob_preds_XGB = model_XGB.predict_proba(X_test)[::,1]\n",
    "\n",
    "print('*'*20)\n",
    "print(\"Random Forest\")\n",
    "print('*'*20)\n",
    "print(classification_report(y_test, preds_XGB, zero_division=1))\n",
    "sns.heatmap(confusion_matrix(y_test, preds_XGB), annot=True, annot_kws={\"size\": 12}, fmt='g', cbar=False);"
   ]
  },
  {
   "cell_type": "code",
   "execution_count": null,
   "id": "d8c71c34",
   "metadata": {},
   "outputs": [],
   "source": []
  },
  {
   "cell_type": "code",
   "execution_count": 40,
   "id": "7428cf79",
   "metadata": {},
   "outputs": [
    {
     "data": {
      "text/plain": [
       "<matplotlib.legend.Legend at 0x31ab4280>"
      ]
     },
     "execution_count": 40,
     "metadata": {},
     "output_type": "execute_result"
    },
    {
     "data": {
      "image/png": "[encoded data removed]",
      "text/plain": [
       "<Figure size 1152x360 with 2 Axes>"
      ]
     },
     "metadata": {
      "needs_background": "light"
     },
     "output_type": "display_data"
    }
   ],
   "source": [
    "_, ax = plt.subplots(1, 2, figsize=(16, 5))\n",
    "\n",
    "models = ['LinearRegression', 'RandomForest', 'BalancedRandomForest', 'XGBoost']\n",
    "preds = [prob_preds_LR, prob_preds_BRF, prob_preds_RF, prob_preds_XGB]\n",
    "colors = 'rcbg'\n",
    "\n",
    "ax[0].plot([0, 1], [0, 1], ls='--', label='Random', c='k')\n",
    "\n",
    "for model, pred, c in zip(models, preds, colors):\n",
    "    fpr, tpr, _ = roc_curve(y_test, pred)\n",
    "    ax[0].plot(fpr, tpr, label=model, c=c)\n",
    "    \n",
    "    precision, recall, thresholds = precision_recall_curve(y_test, pred)\n",
    "    ax[1].plot(recall, precision, label=model, c=c)\n",
    "\n",
    "\n",
    "ax[0].set_ylabel('True Positive Rate')\n",
    "ax[0].set_xlabel('False Positive Rate')\n",
    "ax[1].set_ylabel('Precision')\n",
    "ax[1].set_xlabel('Recall')\n",
    "\n",
    "ax[0].legend()\n",
    "ax[1].legend()"
   ]
  },
  {
   "cell_type": "code",
   "execution_count": null,
   "id": "ad8e6b73",
   "metadata": {},
   "outputs": [],
   "source": []
  },
  {
   "cell_type": "code",
   "execution_count": null,
   "id": "8fba45d4",
   "metadata": {},
   "outputs": [],
   "source": []
  },
  {
   "cell_type": "code",
   "execution_count": null,
   "id": "9cf23454",
   "metadata": {},
   "outputs": [],
   "source": []
  },
  {
   "cell_type": "code",
   "execution_count": null,
   "id": "b5144e1a",
   "metadata": {},
   "outputs": [],
   "source": []
  },
  {
   "cell_type": "code",
   "execution_count": null,
   "id": "88b322b1",
   "metadata": {},
   "outputs": [],
   "source": []
  },
  {
   "cell_type": "code",
   "execution_count": null,
   "id": "2a93d130",
   "metadata": {},
   "outputs": [],
   "source": []
  },
  {
   "cell_type": "code",
   "execution_count": null,
   "id": "f604caa8",
   "metadata": {},
   "outputs": [],
   "source": []
  }
 ],
 "metadata": {
  "kernelspec": {
   "display_name": "Python 3 (ipykernel)",
   "language": "python",
   "name": "python3"
  },
  "language_info": {
   "codemirror_mode": {
    "name": "ipython",
    "version": 3
   },
   "file_extension": ".py",
   "mimetype": "text/x-python",
   "name": "python",
   "nbconvert_exporter": "python",
   "pygments_lexer": "ipython3",
   "version": "3.8.10"
  }
 },
 "nbformat": 4,
 "nbformat_minor": 5
}
